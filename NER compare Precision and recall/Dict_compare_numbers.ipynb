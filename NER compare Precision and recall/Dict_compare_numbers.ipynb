{
 "cells": [
  {
   "cell_type": "code",
   "execution_count": 26,
   "metadata": {},
   "outputs": [],
   "source": [
    "import json\n",
    "import numpy as np\n",
    "import pandas as pd"
   ]
  },
  {
   "cell_type": "code",
   "execution_count": 3,
   "metadata": {},
   "outputs": [],
   "source": [
    "data_ent = json.load(open(\"first_50_sayan.json\"))"
   ]
  },
  {
   "cell_type": "code",
   "execution_count": 5,
   "metadata": {},
   "outputs": [],
   "source": [
    "data_ner = json.load(open(\"JSON_Spacy.json\"))"
   ]
  },
  {
   "cell_type": "code",
   "execution_count": 6,
   "metadata": {},
   "outputs": [],
   "source": [
    "data_ner = data_ner[\"All_sp\"][:50]"
   ]
  },
  {
   "cell_type": "code",
   "execution_count": 9,
   "metadata": {},
   "outputs": [
    {
     "data": {
      "text/plain": [
       "50"
      ]
     },
     "execution_count": 9,
     "metadata": {},
     "output_type": "execute_result"
    }
   ],
   "source": [
    "len(data_html)"
   ]
  },
  {
   "cell_type": "code",
   "execution_count": 19,
   "metadata": {},
   "outputs": [],
   "source": [
    "ent_=[]\n",
    "ner_=[]\n",
    "html_=[]"
   ]
  },
  {
   "cell_type": "code",
   "execution_count": 43,
   "metadata": {},
   "outputs": [],
   "source": [
    "for i in range(50):\n",
    "    ner_.append(len(data_ner[i].keys())-1)"
   ]
  },
  {
   "cell_type": "code",
   "execution_count": 52,
   "metadata": {},
   "outputs": [],
   "source": [
    "data_comp = pd.DataFrame(data=list(zip(ent_,ner_,html_)),columns=['Entity','Spacy','Html'])"
   ]
  },
  {
   "cell_type": "code",
   "execution_count": 54,
   "metadata": {},
   "outputs": [
    {
     "data": {
      "text/html": [
       "<div>\n",
       "<style scoped>\n",
       "    .dataframe tbody tr th:only-of-type {\n",
       "        vertical-align: middle;\n",
       "    }\n",
       "\n",
       "    .dataframe tbody tr th {\n",
       "        vertical-align: top;\n",
       "    }\n",
       "\n",
       "    .dataframe thead th {\n",
       "        text-align: right;\n",
       "    }\n",
       "</style>\n",
       "<table border=\"1\" class=\"dataframe\">\n",
       "  <thead>\n",
       "    <tr style=\"text-align: right;\">\n",
       "      <th></th>\n",
       "      <th>Entity</th>\n",
       "      <th>Spacy</th>\n",
       "      <th>Html</th>\n",
       "    </tr>\n",
       "  </thead>\n",
       "  <tbody>\n",
       "    <tr>\n",
       "      <th>0</th>\n",
       "      <td>10</td>\n",
       "      <td>14</td>\n",
       "      <td>3</td>\n",
       "    </tr>\n",
       "    <tr>\n",
       "      <th>1</th>\n",
       "      <td>6</td>\n",
       "      <td>8</td>\n",
       "      <td>4</td>\n",
       "    </tr>\n",
       "    <tr>\n",
       "      <th>2</th>\n",
       "      <td>7</td>\n",
       "      <td>6</td>\n",
       "      <td>4</td>\n",
       "    </tr>\n",
       "    <tr>\n",
       "      <th>3</th>\n",
       "      <td>5</td>\n",
       "      <td>10</td>\n",
       "      <td>4</td>\n",
       "    </tr>\n",
       "    <tr>\n",
       "      <th>4</th>\n",
       "      <td>7</td>\n",
       "      <td>7</td>\n",
       "      <td>4</td>\n",
       "    </tr>\n",
       "  </tbody>\n",
       "</table>\n",
       "</div>"
      ],
      "text/plain": [
       "   Entity  Spacy  Html\n",
       "0      10     14     3\n",
       "1       6      8     4\n",
       "2       7      6     4\n",
       "3       5     10     4\n",
       "4       7      7     4"
      ]
     },
     "execution_count": 54,
     "metadata": {},
     "output_type": "execute_result"
    }
   ],
   "source": [
    "data_comp.head()"
   ]
  },
  {
   "cell_type": "code",
   "execution_count": 98,
   "metadata": {},
   "outputs": [],
   "source": [
    "ent_count=[]\n",
    "ner_count=[]\n",
    "html_count=[]"
   ]
  },
  {
   "cell_type": "code",
   "execution_count": 99,
   "metadata": {},
   "outputs": [],
   "source": [
    "for j in range(50): \n",
    "    count=0\n",
    "    for i in (list(data_ent[j].keys())[1:]):\n",
    "        count+=len(data_ent[j][i])\n",
    "    ent_count.append(count)"
   ]
  },
  {
   "cell_type": "code",
   "execution_count": 102,
   "metadata": {},
   "outputs": [],
   "source": [
    "for j in range(50): \n",
    "    count=0\n",
    "    for i in (list(data_ner[j].keys())[1:]):\n",
    "        count+=len(data_ner[j][i])\n",
    "    ner_count.append(count)"
   ]
  },
  {
   "cell_type": "code",
   "execution_count": 101,
   "metadata": {},
   "outputs": [],
   "source": [
    "for j in range(50): \n",
    "    count=0\n",
    "    for i in (list(data_html[j].keys())[1:]):\n",
    "        count+=len(data_html[j][i])\n",
    "    html_count.append(count)"
   ]
  },
  {
   "cell_type": "code",
   "execution_count": 104,
   "metadata": {},
   "outputs": [
    {
     "data": {
      "text/plain": [
       "50"
      ]
     },
     "execution_count": 104,
     "metadata": {},
     "output_type": "execute_result"
    }
   ],
   "source": [
    "len(html_count)"
   ]
  },
  {
   "cell_type": "code",
   "execution_count": 90,
   "metadata": {},
   "outputs": [
    {
     "data": {
      "text/plain": [
       "'id'"
      ]
     },
     "execution_count": 90,
     "metadata": {},
     "output_type": "execute_result"
    }
   ],
   "source": [
    "a=data_ent[0].keys()\n",
    "list(a)[0]"
   ]
  },
  {
   "cell_type": "code",
   "execution_count": 105,
   "metadata": {},
   "outputs": [],
   "source": [
    "data_comp[\"ent_count\"]=ent_count"
   ]
  },
  {
   "cell_type": "code",
   "execution_count": 107,
   "metadata": {},
   "outputs": [],
   "source": [
    "data_comp[\"spacy_count\"]=ner_count"
   ]
  },
  {
   "cell_type": "code",
   "execution_count": 108,
   "metadata": {},
   "outputs": [],
   "source": [
    "data_comp[\"html_count\"]=html_count"
   ]
  },
  {
   "cell_type": "code",
   "execution_count": 316,
   "metadata": {},
   "outputs": [
    {
     "data": {
      "text/html": [
       "<div>\n",
       "<style scoped>\n",
       "    .dataframe tbody tr th:only-of-type {\n",
       "        vertical-align: middle;\n",
       "    }\n",
       "\n",
       "    .dataframe tbody tr th {\n",
       "        vertical-align: top;\n",
       "    }\n",
       "\n",
       "    .dataframe thead th {\n",
       "        text-align: right;\n",
       "    }\n",
       "</style>\n",
       "<table border=\"1\" class=\"dataframe\">\n",
       "  <thead>\n",
       "    <tr style=\"text-align: right;\">\n",
       "      <th></th>\n",
       "      <th>Entity</th>\n",
       "      <th>Spacy</th>\n",
       "      <th>Html</th>\n",
       "      <th>ent_count</th>\n",
       "      <th>spacy_count</th>\n",
       "      <th>html_count</th>\n",
       "    </tr>\n",
       "  </thead>\n",
       "  <tbody>\n",
       "    <tr>\n",
       "      <th>0</th>\n",
       "      <td>10</td>\n",
       "      <td>14</td>\n",
       "      <td>3</td>\n",
       "      <td>47</td>\n",
       "      <td>139</td>\n",
       "      <td>33</td>\n",
       "    </tr>\n",
       "    <tr>\n",
       "      <th>1</th>\n",
       "      <td>6</td>\n",
       "      <td>8</td>\n",
       "      <td>4</td>\n",
       "      <td>10</td>\n",
       "      <td>22</td>\n",
       "      <td>12</td>\n",
       "    </tr>\n",
       "    <tr>\n",
       "      <th>2</th>\n",
       "      <td>7</td>\n",
       "      <td>6</td>\n",
       "      <td>4</td>\n",
       "      <td>26</td>\n",
       "      <td>38</td>\n",
       "      <td>16</td>\n",
       "    </tr>\n",
       "    <tr>\n",
       "      <th>3</th>\n",
       "      <td>5</td>\n",
       "      <td>10</td>\n",
       "      <td>4</td>\n",
       "      <td>43</td>\n",
       "      <td>79</td>\n",
       "      <td>31</td>\n",
       "    </tr>\n",
       "    <tr>\n",
       "      <th>4</th>\n",
       "      <td>7</td>\n",
       "      <td>7</td>\n",
       "      <td>4</td>\n",
       "      <td>16</td>\n",
       "      <td>28</td>\n",
       "      <td>8</td>\n",
       "    </tr>\n",
       "  </tbody>\n",
       "</table>\n",
       "</div>"
      ],
      "text/plain": [
       "   Entity  Spacy  Html  ent_count  spacy_count  html_count\n",
       "0      10     14     3         47          139          33\n",
       "1       6      8     4         10           22          12\n",
       "2       7      6     4         26           38          16\n",
       "3       5     10     4         43           79          31\n",
       "4       7      7     4         16           28           8"
      ]
     },
     "execution_count": 316,
     "metadata": {},
     "output_type": "execute_result"
    }
   ],
   "source": [
    "data_comp.head()"
   ]
  },
  {
   "cell_type": "code",
   "execution_count": 426,
   "metadata": {},
   "outputs": [
    {
     "data": {
      "text/plain": [
       "Entity          5\n",
       "Spacy           8\n",
       "Html            3\n",
       "ent_count      20\n",
       "spacy_count    45\n",
       "html_count     16\n",
       "dtype: int64"
      ]
     },
     "execution_count": 426,
     "metadata": {},
     "output_type": "execute_result"
    }
   ],
   "source": [
    "data_comp.sum()//50"
   ]
  },
  {
   "cell_type": "markdown",
   "metadata": {},
   "source": [
    "# Creating Dataframe for Data_ent"
   ]
  },
  {
   "cell_type": "code",
   "execution_count": 127,
   "metadata": {},
   "outputs": [],
   "source": [
    "entity_type=['Location',\n",
    " 'Person',\n",
    " 'Organization',\n",
    " 'JobTitle',\n",
    " 'Company',\n",
    " 'Quantity',\n",
    " 'Facility',\n",
    " 'GeographicFeature',\n",
    " 'EmailAddress',\n",
    " 'PrintMedia',\n",
    " 'HealthCondition',\n",
    " 'Crime',\n",
    " 'Sport',\n",
    " 'Drug',\n",
    " 'TwitterHandle',\n",
    " 'Hashtag',\n",
    " 'Broadcaster',\n",
    " 'Movie',\n",
    " 'Vehicle',\n",
    " 'Award',\n",
    " 'Anatomy',\n",
    " 'NaturalEvent',\n",
    " 'TelevisionShow',\n",
    " 'SportingEvent',\n",
    " 'MusicGroup',\n",
    " 'IPAddress']"
   ]
  },
  {
   "cell_type": "code",
   "execution_count": 139,
   "metadata": {},
   "outputs": [],
   "source": [
    "df_ent_type = pd.DataFrame(columns=entity_type)"
   ]
  },
  {
   "cell_type": "code",
   "execution_count": 140,
   "metadata": {},
   "outputs": [
    {
     "data": {
      "text/html": [
       "<div>\n",
       "<style scoped>\n",
       "    .dataframe tbody tr th:only-of-type {\n",
       "        vertical-align: middle;\n",
       "    }\n",
       "\n",
       "    .dataframe tbody tr th {\n",
       "        vertical-align: top;\n",
       "    }\n",
       "\n",
       "    .dataframe thead th {\n",
       "        text-align: right;\n",
       "    }\n",
       "</style>\n",
       "<table border=\"1\" class=\"dataframe\">\n",
       "  <thead>\n",
       "    <tr style=\"text-align: right;\">\n",
       "      <th></th>\n",
       "      <th>Location</th>\n",
       "      <th>Person</th>\n",
       "      <th>Organization</th>\n",
       "      <th>JobTitle</th>\n",
       "      <th>Company</th>\n",
       "      <th>Quantity</th>\n",
       "      <th>Facility</th>\n",
       "      <th>GeographicFeature</th>\n",
       "      <th>EmailAddress</th>\n",
       "      <th>PrintMedia</th>\n",
       "      <th>...</th>\n",
       "      <th>Broadcaster</th>\n",
       "      <th>Movie</th>\n",
       "      <th>Vehicle</th>\n",
       "      <th>Award</th>\n",
       "      <th>Anatomy</th>\n",
       "      <th>NaturalEvent</th>\n",
       "      <th>TelevisionShow</th>\n",
       "      <th>SportingEvent</th>\n",
       "      <th>MusicGroup</th>\n",
       "      <th>IPAddress</th>\n",
       "    </tr>\n",
       "  </thead>\n",
       "  <tbody>\n",
       "  </tbody>\n",
       "</table>\n",
       "<p>0 rows × 26 columns</p>\n",
       "</div>"
      ],
      "text/plain": [
       "Empty DataFrame\n",
       "Columns: [Location, Person, Organization, JobTitle, Company, Quantity, Facility, GeographicFeature, EmailAddress, PrintMedia, HealthCondition, Crime, Sport, Drug, TwitterHandle, Hashtag, Broadcaster, Movie, Vehicle, Award, Anatomy, NaturalEvent, TelevisionShow, SportingEvent, MusicGroup, IPAddress]\n",
       "Index: []\n",
       "\n",
       "[0 rows x 26 columns]"
      ]
     },
     "execution_count": 140,
     "metadata": {},
     "output_type": "execute_result"
    }
   ],
   "source": [
    "df_ent_type"
   ]
  },
  {
   "cell_type": "code",
   "execution_count": 141,
   "metadata": {},
   "outputs": [],
   "source": [
    "for j in range(50):\n",
    "    row=[]\n",
    "    for type in entity_type:\n",
    "        if type in data_ent[j].keys():\n",
    "            row.append(len(data_ent[j][type]))\n",
    "        else:\n",
    "            row.append(0)\n",
    "    df_ent_type.loc[j]=row"
   ]
  },
  {
   "cell_type": "code",
   "execution_count": 143,
   "metadata": {},
   "outputs": [
    {
     "data": {
      "text/html": [
       "<div>\n",
       "<style scoped>\n",
       "    .dataframe tbody tr th:only-of-type {\n",
       "        vertical-align: middle;\n",
       "    }\n",
       "\n",
       "    .dataframe tbody tr th {\n",
       "        vertical-align: top;\n",
       "    }\n",
       "\n",
       "    .dataframe thead th {\n",
       "        text-align: right;\n",
       "    }\n",
       "</style>\n",
       "<table border=\"1\" class=\"dataframe\">\n",
       "  <thead>\n",
       "    <tr style=\"text-align: right;\">\n",
       "      <th></th>\n",
       "      <th>Location</th>\n",
       "      <th>Person</th>\n",
       "      <th>Organization</th>\n",
       "      <th>JobTitle</th>\n",
       "      <th>Company</th>\n",
       "      <th>Quantity</th>\n",
       "      <th>Facility</th>\n",
       "      <th>GeographicFeature</th>\n",
       "      <th>EmailAddress</th>\n",
       "      <th>PrintMedia</th>\n",
       "      <th>...</th>\n",
       "      <th>Broadcaster</th>\n",
       "      <th>Movie</th>\n",
       "      <th>Vehicle</th>\n",
       "      <th>Award</th>\n",
       "      <th>Anatomy</th>\n",
       "      <th>NaturalEvent</th>\n",
       "      <th>TelevisionShow</th>\n",
       "      <th>SportingEvent</th>\n",
       "      <th>MusicGroup</th>\n",
       "      <th>IPAddress</th>\n",
       "    </tr>\n",
       "  </thead>\n",
       "  <tbody>\n",
       "    <tr>\n",
       "      <th>0</th>\n",
       "      <td>3</td>\n",
       "      <td>19</td>\n",
       "      <td>13</td>\n",
       "      <td>1</td>\n",
       "      <td>1</td>\n",
       "      <td>6</td>\n",
       "      <td>0</td>\n",
       "      <td>1</td>\n",
       "      <td>0</td>\n",
       "      <td>0</td>\n",
       "      <td>...</td>\n",
       "      <td>1</td>\n",
       "      <td>0</td>\n",
       "      <td>0</td>\n",
       "      <td>0</td>\n",
       "      <td>0</td>\n",
       "      <td>0</td>\n",
       "      <td>1</td>\n",
       "      <td>0</td>\n",
       "      <td>0</td>\n",
       "      <td>0</td>\n",
       "    </tr>\n",
       "    <tr>\n",
       "      <th>1</th>\n",
       "      <td>3</td>\n",
       "      <td>1</td>\n",
       "      <td>3</td>\n",
       "      <td>0</td>\n",
       "      <td>0</td>\n",
       "      <td>1</td>\n",
       "      <td>1</td>\n",
       "      <td>1</td>\n",
       "      <td>0</td>\n",
       "      <td>0</td>\n",
       "      <td>...</td>\n",
       "      <td>0</td>\n",
       "      <td>0</td>\n",
       "      <td>0</td>\n",
       "      <td>0</td>\n",
       "      <td>0</td>\n",
       "      <td>0</td>\n",
       "      <td>0</td>\n",
       "      <td>0</td>\n",
       "      <td>0</td>\n",
       "      <td>0</td>\n",
       "    </tr>\n",
       "    <tr>\n",
       "      <th>2</th>\n",
       "      <td>4</td>\n",
       "      <td>4</td>\n",
       "      <td>4</td>\n",
       "      <td>2</td>\n",
       "      <td>0</td>\n",
       "      <td>10</td>\n",
       "      <td>1</td>\n",
       "      <td>1</td>\n",
       "      <td>0</td>\n",
       "      <td>0</td>\n",
       "      <td>...</td>\n",
       "      <td>0</td>\n",
       "      <td>0</td>\n",
       "      <td>0</td>\n",
       "      <td>0</td>\n",
       "      <td>0</td>\n",
       "      <td>0</td>\n",
       "      <td>0</td>\n",
       "      <td>0</td>\n",
       "      <td>0</td>\n",
       "      <td>0</td>\n",
       "    </tr>\n",
       "    <tr>\n",
       "      <th>3</th>\n",
       "      <td>5</td>\n",
       "      <td>18</td>\n",
       "      <td>11</td>\n",
       "      <td>0</td>\n",
       "      <td>0</td>\n",
       "      <td>8</td>\n",
       "      <td>1</td>\n",
       "      <td>0</td>\n",
       "      <td>0</td>\n",
       "      <td>0</td>\n",
       "      <td>...</td>\n",
       "      <td>0</td>\n",
       "      <td>0</td>\n",
       "      <td>0</td>\n",
       "      <td>0</td>\n",
       "      <td>0</td>\n",
       "      <td>0</td>\n",
       "      <td>0</td>\n",
       "      <td>0</td>\n",
       "      <td>0</td>\n",
       "      <td>0</td>\n",
       "    </tr>\n",
       "    <tr>\n",
       "      <th>4</th>\n",
       "      <td>3</td>\n",
       "      <td>5</td>\n",
       "      <td>0</td>\n",
       "      <td>1</td>\n",
       "      <td>1</td>\n",
       "      <td>2</td>\n",
       "      <td>2</td>\n",
       "      <td>0</td>\n",
       "      <td>0</td>\n",
       "      <td>0</td>\n",
       "      <td>...</td>\n",
       "      <td>0</td>\n",
       "      <td>0</td>\n",
       "      <td>0</td>\n",
       "      <td>0</td>\n",
       "      <td>0</td>\n",
       "      <td>0</td>\n",
       "      <td>0</td>\n",
       "      <td>0</td>\n",
       "      <td>0</td>\n",
       "      <td>0</td>\n",
       "    </tr>\n",
       "  </tbody>\n",
       "</table>\n",
       "<p>5 rows × 26 columns</p>\n",
       "</div>"
      ],
      "text/plain": [
       "  Location Person Organization JobTitle Company Quantity Facility  \\\n",
       "0        3     19           13        1       1        6        0   \n",
       "1        3      1            3        0       0        1        1   \n",
       "2        4      4            4        2       0       10        1   \n",
       "3        5     18           11        0       0        8        1   \n",
       "4        3      5            0        1       1        2        2   \n",
       "\n",
       "  GeographicFeature EmailAddress PrintMedia  ... Broadcaster Movie Vehicle  \\\n",
       "0                 1            0          0  ...           1     0       0   \n",
       "1                 1            0          0  ...           0     0       0   \n",
       "2                 1            0          0  ...           0     0       0   \n",
       "3                 0            0          0  ...           0     0       0   \n",
       "4                 0            0          0  ...           0     0       0   \n",
       "\n",
       "  Award Anatomy NaturalEvent TelevisionShow SportingEvent MusicGroup IPAddress  \n",
       "0     0       0            0              1             0          0         0  \n",
       "1     0       0            0              0             0          0         0  \n",
       "2     0       0            0              0             0          0         0  \n",
       "3     0       0            0              0             0          0         0  \n",
       "4     0       0            0              0             0          0         0  \n",
       "\n",
       "[5 rows x 26 columns]"
      ]
     },
     "execution_count": 143,
     "metadata": {},
     "output_type": "execute_result"
    }
   ],
   "source": [
    "df_ent_type.head()"
   ]
  },
  {
   "cell_type": "code",
   "execution_count": 427,
   "metadata": {},
   "outputs": [
    {
     "data": {
      "text/plain": [
       "Location             203.0\n",
       "Person               274.0\n",
       "Organization         180.0\n",
       "JobTitle              50.0\n",
       "Company               47.0\n",
       "Quantity             159.0\n",
       "Facility              67.0\n",
       "GeographicFeature     10.0\n",
       "EmailAddress           2.0\n",
       "PrintMedia             8.0\n",
       "HealthCondition        8.0\n",
       "Crime                  3.0\n",
       "Sport                 11.0\n",
       "Drug                   0.0\n",
       "TwitterHandle          1.0\n",
       "Hashtag                1.0\n",
       "Broadcaster            3.0\n",
       "Movie                  0.0\n",
       "Vehicle                1.0\n",
       "Award                  0.0\n",
       "Anatomy                0.0\n",
       "NaturalEvent           0.0\n",
       "TelevisionShow         1.0\n",
       "SportingEvent          0.0\n",
       "MusicGroup             0.0\n",
       "IPAddress              0.0\n",
       "dtype: float64"
      ]
     },
     "execution_count": 427,
     "metadata": {},
     "output_type": "execute_result"
    }
   ],
   "source": [
    "df_ent_type.sum()"
   ]
  },
  {
   "cell_type": "markdown",
   "metadata": {},
   "source": [
    "# Creating Dataframe for Data_spacy"
   ]
  },
  {
   "cell_type": "code",
   "execution_count": 150,
   "metadata": {},
   "outputs": [],
   "source": [
    "entity_type_2=[]"
   ]
  },
  {
   "cell_type": "code",
   "execution_count": 151,
   "metadata": {},
   "outputs": [],
   "source": [
    "for i in range(50):\n",
    "    l=list(data_ner[i].keys())\n",
    "    for j in l:\n",
    "        if j not in entity_type_2:\n",
    "            entity_type_2.append(j)"
   ]
  },
  {
   "cell_type": "code",
   "execution_count": 164,
   "metadata": {},
   "outputs": [],
   "source": [
    "entity_type_2=entity_type_2[1:]"
   ]
  },
  {
   "cell_type": "code",
   "execution_count": 171,
   "metadata": {},
   "outputs": [],
   "source": [
    "df_ner_type = pd.DataFrame(columns=entity_type_2)"
   ]
  },
  {
   "cell_type": "code",
   "execution_count": 172,
   "metadata": {},
   "outputs": [
    {
     "data": {
      "text/html": [
       "<div>\n",
       "<style scoped>\n",
       "    .dataframe tbody tr th:only-of-type {\n",
       "        vertical-align: middle;\n",
       "    }\n",
       "\n",
       "    .dataframe tbody tr th {\n",
       "        vertical-align: top;\n",
       "    }\n",
       "\n",
       "    .dataframe thead th {\n",
       "        text-align: right;\n",
       "    }\n",
       "</style>\n",
       "<table border=\"1\" class=\"dataframe\">\n",
       "  <thead>\n",
       "    <tr style=\"text-align: right;\">\n",
       "      <th></th>\n",
       "      <th>CARDINAL</th>\n",
       "      <th>ORG</th>\n",
       "      <th>DATE</th>\n",
       "      <th>FAC</th>\n",
       "      <th>PERSON</th>\n",
       "      <th>WORK_OF_ART</th>\n",
       "      <th>LOC</th>\n",
       "      <th>ORDINAL</th>\n",
       "      <th>GPE</th>\n",
       "      <th>NORP</th>\n",
       "      <th>PERCENT</th>\n",
       "      <th>QUANTITY</th>\n",
       "      <th>PRODUCT</th>\n",
       "      <th>MONEY</th>\n",
       "      <th>EVENT</th>\n",
       "      <th>TIME</th>\n",
       "      <th>LAW</th>\n",
       "      <th>LANGUAGE</th>\n",
       "    </tr>\n",
       "  </thead>\n",
       "  <tbody>\n",
       "  </tbody>\n",
       "</table>\n",
       "</div>"
      ],
      "text/plain": [
       "Empty DataFrame\n",
       "Columns: [CARDINAL, ORG, DATE, FAC, PERSON, WORK_OF_ART, LOC, ORDINAL, GPE, NORP, PERCENT, QUANTITY, PRODUCT, MONEY, EVENT, TIME, LAW, LANGUAGE]\n",
       "Index: []"
      ]
     },
     "execution_count": 172,
     "metadata": {},
     "output_type": "execute_result"
    }
   ],
   "source": [
    "df_ner_type"
   ]
  },
  {
   "cell_type": "code",
   "execution_count": 173,
   "metadata": {},
   "outputs": [],
   "source": [
    "for j in range(50):\n",
    "    row=[]\n",
    "    for type in entity_type_2:\n",
    "        if type in data_ner[j].keys():\n",
    "            row.append(len(data_ner[j][type]))\n",
    "        else:\n",
    "            row.append(0)\n",
    "    df_ner_type.loc[j]=row"
   ]
  },
  {
   "cell_type": "code",
   "execution_count": 175,
   "metadata": {},
   "outputs": [
    {
     "data": {
      "text/html": [
       "<div>\n",
       "<style scoped>\n",
       "    .dataframe tbody tr th:only-of-type {\n",
       "        vertical-align: middle;\n",
       "    }\n",
       "\n",
       "    .dataframe tbody tr th {\n",
       "        vertical-align: top;\n",
       "    }\n",
       "\n",
       "    .dataframe thead th {\n",
       "        text-align: right;\n",
       "    }\n",
       "</style>\n",
       "<table border=\"1\" class=\"dataframe\">\n",
       "  <thead>\n",
       "    <tr style=\"text-align: right;\">\n",
       "      <th></th>\n",
       "      <th>CARDINAL</th>\n",
       "      <th>ORG</th>\n",
       "      <th>DATE</th>\n",
       "      <th>FAC</th>\n",
       "      <th>PERSON</th>\n",
       "      <th>WORK_OF_ART</th>\n",
       "      <th>LOC</th>\n",
       "      <th>ORDINAL</th>\n",
       "      <th>GPE</th>\n",
       "      <th>NORP</th>\n",
       "      <th>PERCENT</th>\n",
       "      <th>QUANTITY</th>\n",
       "      <th>PRODUCT</th>\n",
       "      <th>MONEY</th>\n",
       "      <th>EVENT</th>\n",
       "      <th>TIME</th>\n",
       "      <th>LAW</th>\n",
       "      <th>LANGUAGE</th>\n",
       "    </tr>\n",
       "  </thead>\n",
       "  <tbody>\n",
       "    <tr>\n",
       "      <th>0</th>\n",
       "      <td>31</td>\n",
       "      <td>22</td>\n",
       "      <td>27</td>\n",
       "      <td>1</td>\n",
       "      <td>31</td>\n",
       "      <td>3</td>\n",
       "      <td>1</td>\n",
       "      <td>5</td>\n",
       "      <td>6</td>\n",
       "      <td>2</td>\n",
       "      <td>5</td>\n",
       "      <td>2</td>\n",
       "      <td>1</td>\n",
       "      <td>2</td>\n",
       "      <td>0</td>\n",
       "      <td>0</td>\n",
       "      <td>0</td>\n",
       "      <td>0</td>\n",
       "    </tr>\n",
       "    <tr>\n",
       "      <th>1</th>\n",
       "      <td>2</td>\n",
       "      <td>4</td>\n",
       "      <td>7</td>\n",
       "      <td>3</td>\n",
       "      <td>2</td>\n",
       "      <td>0</td>\n",
       "      <td>0</td>\n",
       "      <td>1</td>\n",
       "      <td>2</td>\n",
       "      <td>0</td>\n",
       "      <td>0</td>\n",
       "      <td>0</td>\n",
       "      <td>0</td>\n",
       "      <td>0</td>\n",
       "      <td>1</td>\n",
       "      <td>0</td>\n",
       "      <td>0</td>\n",
       "      <td>0</td>\n",
       "    </tr>\n",
       "    <tr>\n",
       "      <th>2</th>\n",
       "      <td>0</td>\n",
       "      <td>7</td>\n",
       "      <td>9</td>\n",
       "      <td>0</td>\n",
       "      <td>7</td>\n",
       "      <td>0</td>\n",
       "      <td>0</td>\n",
       "      <td>0</td>\n",
       "      <td>5</td>\n",
       "      <td>0</td>\n",
       "      <td>3</td>\n",
       "      <td>0</td>\n",
       "      <td>0</td>\n",
       "      <td>7</td>\n",
       "      <td>0</td>\n",
       "      <td>0</td>\n",
       "      <td>0</td>\n",
       "      <td>0</td>\n",
       "    </tr>\n",
       "    <tr>\n",
       "      <th>3</th>\n",
       "      <td>14</td>\n",
       "      <td>12</td>\n",
       "      <td>11</td>\n",
       "      <td>1</td>\n",
       "      <td>24</td>\n",
       "      <td>0</td>\n",
       "      <td>0</td>\n",
       "      <td>1</td>\n",
       "      <td>8</td>\n",
       "      <td>0</td>\n",
       "      <td>0</td>\n",
       "      <td>4</td>\n",
       "      <td>0</td>\n",
       "      <td>0</td>\n",
       "      <td>2</td>\n",
       "      <td>2</td>\n",
       "      <td>0</td>\n",
       "      <td>0</td>\n",
       "    </tr>\n",
       "    <tr>\n",
       "      <th>4</th>\n",
       "      <td>2</td>\n",
       "      <td>4</td>\n",
       "      <td>10</td>\n",
       "      <td>0</td>\n",
       "      <td>6</td>\n",
       "      <td>0</td>\n",
       "      <td>1</td>\n",
       "      <td>0</td>\n",
       "      <td>3</td>\n",
       "      <td>0</td>\n",
       "      <td>0</td>\n",
       "      <td>0</td>\n",
       "      <td>0</td>\n",
       "      <td>0</td>\n",
       "      <td>0</td>\n",
       "      <td>2</td>\n",
       "      <td>0</td>\n",
       "      <td>0</td>\n",
       "    </tr>\n",
       "  </tbody>\n",
       "</table>\n",
       "</div>"
      ],
      "text/plain": [
       "  CARDINAL ORG DATE FAC PERSON WORK_OF_ART LOC ORDINAL GPE NORP PERCENT  \\\n",
       "0       31  22   27   1     31           3   1       5   6    2       5   \n",
       "1        2   4    7   3      2           0   0       1   2    0       0   \n",
       "2        0   7    9   0      7           0   0       0   5    0       3   \n",
       "3       14  12   11   1     24           0   0       1   8    0       0   \n",
       "4        2   4   10   0      6           0   1       0   3    0       0   \n",
       "\n",
       "  QUANTITY PRODUCT MONEY EVENT TIME LAW LANGUAGE  \n",
       "0        2       1     2     0    0   0        0  \n",
       "1        0       0     0     1    0   0        0  \n",
       "2        0       0     7     0    0   0        0  \n",
       "3        4       0     0     2    2   0        0  \n",
       "4        0       0     0     0    2   0        0  "
      ]
     },
     "execution_count": 175,
     "metadata": {},
     "output_type": "execute_result"
    }
   ],
   "source": [
    "df_ner_type.head()"
   ]
  },
  {
   "cell_type": "code",
   "execution_count": 428,
   "metadata": {},
   "outputs": [
    {
     "data": {
      "text/plain": [
       "CARDINAL       298.0\n",
       "ORG            437.0\n",
       "DATE           407.0\n",
       "FAC             34.0\n",
       "PERSON         410.0\n",
       "WORK_OF_ART     31.0\n",
       "LOC             20.0\n",
       "ORDINAL         36.0\n",
       "GPE            248.0\n",
       "NORP            39.0\n",
       "PERCENT         40.0\n",
       "QUANTITY       114.0\n",
       "PRODUCT         14.0\n",
       "MONEY           58.0\n",
       "EVENT           12.0\n",
       "TIME            47.0\n",
       "LAW              9.0\n",
       "LANGUAGE         6.0\n",
       "dtype: float64"
      ]
     },
     "execution_count": 428,
     "metadata": {},
     "output_type": "execute_result"
    }
   ],
   "source": [
    "df_ner_type.sum()"
   ]
  },
  {
   "cell_type": "markdown",
   "metadata": {},
   "source": [
    "# Creating Dataframe for Html"
   ]
  },
  {
   "cell_type": "code",
   "execution_count": 176,
   "metadata": {},
   "outputs": [],
   "source": [
    "entity_type_3 = []"
   ]
  },
  {
   "cell_type": "code",
   "execution_count": 177,
   "metadata": {},
   "outputs": [],
   "source": [
    "for i in range(50):\n",
    "    l=list(data_html[i].keys())\n",
    "    for j in l:\n",
    "        if j not in entity_type_3:\n",
    "            entity_type_3.append(j)"
   ]
  },
  {
   "cell_type": "code",
   "execution_count": 179,
   "metadata": {},
   "outputs": [],
   "source": [
    "entity_type_3=entity_type_3[1:]"
   ]
  },
  {
   "cell_type": "code",
   "execution_count": 180,
   "metadata": {},
   "outputs": [],
   "source": [
    "df_html_type = pd.DataFrame(columns=entity_type_3)"
   ]
  },
  {
   "cell_type": "code",
   "execution_count": 181,
   "metadata": {},
   "outputs": [
    {
     "data": {
      "text/html": [
       "<div>\n",
       "<style scoped>\n",
       "    .dataframe tbody tr th:only-of-type {\n",
       "        vertical-align: middle;\n",
       "    }\n",
       "\n",
       "    .dataframe tbody tr th {\n",
       "        vertical-align: top;\n",
       "    }\n",
       "\n",
       "    .dataframe thead th {\n",
       "        text-align: right;\n",
       "    }\n",
       "</style>\n",
       "<table border=\"1\" class=\"dataframe\">\n",
       "  <thead>\n",
       "    <tr style=\"text-align: right;\">\n",
       "      <th></th>\n",
       "      <th>person</th>\n",
       "      <th>org</th>\n",
       "      <th>location</th>\n",
       "      <th>chron</th>\n",
       "      <th>money</th>\n",
       "      <th>a</th>\n",
       "    </tr>\n",
       "  </thead>\n",
       "  <tbody>\n",
       "  </tbody>\n",
       "</table>\n",
       "</div>"
      ],
      "text/plain": [
       "Empty DataFrame\n",
       "Columns: [person, org, location, chron, money, a]\n",
       "Index: []"
      ]
     },
     "execution_count": 181,
     "metadata": {},
     "output_type": "execute_result"
    }
   ],
   "source": [
    "df_html_type"
   ]
  },
  {
   "cell_type": "code",
   "execution_count": 182,
   "metadata": {},
   "outputs": [],
   "source": [
    "for j in range(50):\n",
    "    row=[]\n",
    "    for type in entity_type_3:\n",
    "        if type in data_html[j].keys():\n",
    "            row.append(len(data_html[j][type]))\n",
    "        else:\n",
    "            row.append(0)\n",
    "    df_html_type.loc[j]=row"
   ]
  },
  {
   "cell_type": "code",
   "execution_count": 184,
   "metadata": {},
   "outputs": [
    {
     "data": {
      "text/html": [
       "<div>\n",
       "<style scoped>\n",
       "    .dataframe tbody tr th:only-of-type {\n",
       "        vertical-align: middle;\n",
       "    }\n",
       "\n",
       "    .dataframe tbody tr th {\n",
       "        vertical-align: top;\n",
       "    }\n",
       "\n",
       "    .dataframe thead th {\n",
       "        text-align: right;\n",
       "    }\n",
       "</style>\n",
       "<table border=\"1\" class=\"dataframe\">\n",
       "  <thead>\n",
       "    <tr style=\"text-align: right;\">\n",
       "      <th></th>\n",
       "      <th>person</th>\n",
       "      <th>org</th>\n",
       "      <th>location</th>\n",
       "      <th>chron</th>\n",
       "      <th>money</th>\n",
       "      <th>a</th>\n",
       "    </tr>\n",
       "  </thead>\n",
       "  <tbody>\n",
       "    <tr>\n",
       "      <th>0</th>\n",
       "      <td>22</td>\n",
       "      <td>9</td>\n",
       "      <td>2</td>\n",
       "      <td>0</td>\n",
       "      <td>0</td>\n",
       "      <td>0</td>\n",
       "    </tr>\n",
       "    <tr>\n",
       "      <th>1</th>\n",
       "      <td>1</td>\n",
       "      <td>2</td>\n",
       "      <td>6</td>\n",
       "      <td>3</td>\n",
       "      <td>0</td>\n",
       "      <td>0</td>\n",
       "    </tr>\n",
       "    <tr>\n",
       "      <th>2</th>\n",
       "      <td>3</td>\n",
       "      <td>0</td>\n",
       "      <td>5</td>\n",
       "      <td>1</td>\n",
       "      <td>7</td>\n",
       "      <td>0</td>\n",
       "    </tr>\n",
       "    <tr>\n",
       "      <th>3</th>\n",
       "      <td>18</td>\n",
       "      <td>8</td>\n",
       "      <td>4</td>\n",
       "      <td>0</td>\n",
       "      <td>0</td>\n",
       "      <td>1</td>\n",
       "    </tr>\n",
       "    <tr>\n",
       "      <th>4</th>\n",
       "      <td>3</td>\n",
       "      <td>1</td>\n",
       "      <td>2</td>\n",
       "      <td>2</td>\n",
       "      <td>0</td>\n",
       "      <td>0</td>\n",
       "    </tr>\n",
       "  </tbody>\n",
       "</table>\n",
       "</div>"
      ],
      "text/plain": [
       "  person org location chron money  a\n",
       "0     22   9        2     0     0  0\n",
       "1      1   2        6     3     0  0\n",
       "2      3   0        5     1     7  0\n",
       "3     18   8        4     0     0  1\n",
       "4      3   1        2     2     0  0"
      ]
     },
     "execution_count": 184,
     "metadata": {},
     "output_type": "execute_result"
    }
   ],
   "source": [
    "df_html_type.head()"
   ]
  },
  {
   "cell_type": "code",
   "execution_count": 429,
   "metadata": {},
   "outputs": [
    {
     "data": {
      "text/plain": [
       "person      214.0\n",
       "org         199.0\n",
       "location    266.0\n",
       "chron        89.0\n",
       "money        51.0\n",
       "a            20.0\n",
       "dtype: float64"
      ]
     },
     "execution_count": 429,
     "metadata": {},
     "output_type": "execute_result"
    }
   ],
   "source": [
    "df_html_type.sum()"
   ]
  },
  {
   "cell_type": "markdown",
   "metadata": {},
   "source": [
    "# Comparing Location"
   ]
  },
  {
   "cell_type": "code",
   "execution_count": 190,
   "metadata": {},
   "outputs": [],
   "source": [
    "df_loc = pd.DataFrame(df_ent_type[\"Location\"])"
   ]
  },
  {
   "cell_type": "code",
   "execution_count": 192,
   "metadata": {},
   "outputs": [],
   "source": [
    "df_loc[\"Html_Loc\"]=df_html_type[\"location\"]"
   ]
  },
  {
   "cell_type": "code",
   "execution_count": 194,
   "metadata": {},
   "outputs": [],
   "source": [
    "df_loc[\"Spacy_loc\"]=df_ner_type[\"LOC\"]"
   ]
  },
  {
   "cell_type": "code",
   "execution_count": 195,
   "metadata": {},
   "outputs": [],
   "source": [
    "df_loc[\"Spacy_gpe\"]=df_ner_type[\"GPE\"]"
   ]
  },
  {
   "cell_type": "code",
   "execution_count": 313,
   "metadata": {},
   "outputs": [
    {
     "data": {
      "text/html": [
       "<div>\n",
       "<style scoped>\n",
       "    .dataframe tbody tr th:only-of-type {\n",
       "        vertical-align: middle;\n",
       "    }\n",
       "\n",
       "    .dataframe tbody tr th {\n",
       "        vertical-align: top;\n",
       "    }\n",
       "\n",
       "    .dataframe thead th {\n",
       "        text-align: right;\n",
       "    }\n",
       "</style>\n",
       "<table border=\"1\" class=\"dataframe\">\n",
       "  <thead>\n",
       "    <tr style=\"text-align: right;\">\n",
       "      <th></th>\n",
       "      <th>Location</th>\n",
       "      <th>Html_Loc</th>\n",
       "      <th>Spacy_loc</th>\n",
       "      <th>Spacy_gpe</th>\n",
       "    </tr>\n",
       "  </thead>\n",
       "  <tbody>\n",
       "    <tr>\n",
       "      <th>0</th>\n",
       "      <td>3</td>\n",
       "      <td>2</td>\n",
       "      <td>1</td>\n",
       "      <td>6</td>\n",
       "    </tr>\n",
       "    <tr>\n",
       "      <th>1</th>\n",
       "      <td>3</td>\n",
       "      <td>6</td>\n",
       "      <td>0</td>\n",
       "      <td>2</td>\n",
       "    </tr>\n",
       "    <tr>\n",
       "      <th>2</th>\n",
       "      <td>4</td>\n",
       "      <td>5</td>\n",
       "      <td>0</td>\n",
       "      <td>5</td>\n",
       "    </tr>\n",
       "    <tr>\n",
       "      <th>3</th>\n",
       "      <td>5</td>\n",
       "      <td>4</td>\n",
       "      <td>0</td>\n",
       "      <td>8</td>\n",
       "    </tr>\n",
       "    <tr>\n",
       "      <th>4</th>\n",
       "      <td>3</td>\n",
       "      <td>2</td>\n",
       "      <td>1</td>\n",
       "      <td>3</td>\n",
       "    </tr>\n",
       "  </tbody>\n",
       "</table>\n",
       "</div>"
      ],
      "text/plain": [
       "  Location Html_Loc Spacy_loc Spacy_gpe\n",
       "0        3        2         1         6\n",
       "1        3        6         0         2\n",
       "2        4        5         0         5\n",
       "3        5        4         0         8\n",
       "4        3        2         1         3"
      ]
     },
     "execution_count": 313,
     "metadata": {},
     "output_type": "execute_result"
    }
   ],
   "source": [
    "df_loc.head()"
   ]
  },
  {
   "cell_type": "code",
   "execution_count": 314,
   "metadata": {},
   "outputs": [
    {
     "data": {
      "text/plain": [
       "Location     203.0\n",
       "Html_Loc     266.0\n",
       "Spacy_loc     20.0\n",
       "Spacy_gpe    248.0\n",
       "dtype: float64"
      ]
     },
     "execution_count": 314,
     "metadata": {},
     "output_type": "execute_result"
    }
   ],
   "source": [
    "df_loc.sum()"
   ]
  },
  {
   "cell_type": "code",
   "execution_count": 447,
   "metadata": {},
   "outputs": [],
   "source": [
    "def comp1(da,db,dc,doc_num):\n",
    "    print(\"Data ent location :\")\n",
    "    try:\n",
    "        print(da[doc_num][\"Location\"])\n",
    "    except:\n",
    "        pass\n",
    "    print(\"--\"*50)\n",
    "    \n",
    "    print(\"Data ent Geographic Feature :\")\n",
    "    try:\n",
    "        print(da[doc_num][\"GeographicFeature\"])\n",
    "    except:\n",
    "        pass\n",
    "    print(\"--\"*50)\n",
    "    \n",
    "    try:\n",
    "        print(\"Data ner location :\")\n",
    "        print(db[doc_num][\"LOC\"])\n",
    "    except:\n",
    "        pass\n",
    "    print(\"--\"*50)\n",
    "    print(\"Data ner GPE :\")\n",
    "    \n",
    "    try:\n",
    "        print(db[doc_num][\"GPE\"])\n",
    "    except:\n",
    "        pass\n",
    "    \n",
    "    print(\"--\"*50)\n",
    "    print(\"Data Html location :\")\n",
    "    try:\n",
    "        print(dc[doc_num][\"location\"])\n",
    "    except:\n",
    "        pass"
   ]
  },
  {
   "cell_type": "code",
   "execution_count": 448,
   "metadata": {},
   "outputs": [],
   "source": [
    "def comp2(da,db,dc,doc_num):\n",
    "    print(\"Data ent Quantity :\")\n",
    "    try:\n",
    "        print(da[doc_num][\"Quantity\"])\n",
    "    except:\n",
    "        pass\n",
    "    print(\"--\"*50)\n",
    "    \n",
    "    print(\"Data ner cardinal :\")\n",
    "    try:\n",
    "        print(db[doc_num][\"CARDINAL\"])\n",
    "    except:\n",
    "        pass\n",
    "    print(\"--\"*50)\n",
    "    \n",
    "    try:\n",
    "        print(\"Data ner ordinal :\")\n",
    "        print(db[doc_num][\"ORDINAL\"])\n",
    "    except:\n",
    "        pass\n",
    "    print(\"--\"*50)\n",
    "    print(\"Data ner Quantity :\")\n",
    "    \n",
    "    try:\n",
    "        print(db[doc_num][\"QUANTITY\"])\n",
    "    except:\n",
    "        pass\n",
    "    \n",
    "    print(\"--\"*50)\n",
    "    print(\"Data ner Money :\")\n",
    "    \n",
    "    try:\n",
    "        print(db[doc_num][\"MONEY\"])\n",
    "    except:\n",
    "        pass\n",
    "    \n",
    "    print(\"--\"*50)\n",
    "    \n",
    "    \n",
    "    print(\"Data ner percent:\")\n",
    "    \n",
    "    try:\n",
    "        print(db[doc_num][\"PERCENT\"])\n",
    "    except:\n",
    "        pass\n",
    "    \n",
    "    print(\"--\"*50)\n",
    "    \n",
    "    print(\"Data Html money :\")\n",
    "    try:\n",
    "        print(dc[doc_num][\"money\"])\n",
    "    except:\n",
    "        pass"
   ]
  },
  {
   "cell_type": "code",
   "execution_count": 449,
   "metadata": {},
   "outputs": [],
   "source": [
    "# Conclusion : Data_html has highest entites for location among 3 and has found to be most accurate"
   ]
  },
  {
   "cell_type": "code",
   "execution_count": 452,
   "metadata": {},
   "outputs": [
    {
     "name": "stdout",
     "output_type": "stream",
     "text": [
      "Data ent location :\n",
      "['Texas', 'Gregg County', 'Longview', 'Houston']\n",
      "----------------------------------------------------------------------------------------------------\n",
      "Data ent Geographic Feature :\n",
      "['Spring Hill']\n",
      "----------------------------------------------------------------------------------------------------\n",
      "Data ner location :\n",
      "----------------------------------------------------------------------------------------------------\n",
      "Data ner GPE :\n",
      "['Longview', 'Gregg County', 'U.S.', 'Abbott', 'Texas']\n",
      "----------------------------------------------------------------------------------------------------\n",
      "Data Html location :\n",
      "['Gregg County', 'Texas', 'Longview', 'U.S.', \"Texas'\"]\n"
     ]
    }
   ],
   "source": [
    "comp1(data_ent,data_ner,data_html,2)"
   ]
  },
  {
   "cell_type": "code",
   "execution_count": 440,
   "metadata": {},
   "outputs": [
    {
     "name": "stdout",
     "output_type": "stream",
     "text": [
      "Data ent Quantity :\n",
      "['50%', 'five months', 'eight year', '13 years', '10-year', '13-year']\n",
      "----------------------------------------------------------------------------------------------------\n",
      "Data ner cardinal :\n",
      "['138', 'three', 'nine', '27.1', '20', '100', '2020', 'eight', '6', '50\\x9640\\x9690', '30', '9', 'One', 'five', '12', '146', 'one', 'six', 'seven', '33', '5', '10', '38,387', 'two', 'four', 'one half', '19.5', '50.4', '11', '181', '25.68']\n",
      "----------------------------------------------------------------------------------------------------\n",
      "Data ner ordinal :\n",
      "['second', 'first', 'third', 'sixth', 'fourth']\n",
      "----------------------------------------------------------------------------------------------------\n",
      "Data ner Quantity :\n",
      "['11.2 apg', '7.4 apg']\n",
      "----------------------------------------------------------------------------------------------------\n",
      "Data ner Money :\n",
      "['7.4 rpg', '25.7 rpg']\n",
      "----------------------------------------------------------------------------------------------------\n",
      "Data ner percent:\n",
      "['90%', 'Birdshot 50%', '33%', '50%', '40%']\n",
      "----------------------------------------------------------------------------------------------------\n",
      "Data Html money :\n"
     ]
    }
   ],
   "source": [
    "comp2(data_ent,data_ner,data_html,0)"
   ]
  },
  {
   "cell_type": "code",
   "execution_count": 439,
   "metadata": {},
   "outputs": [
    {
     "data": {
      "text/plain": [
       "{'id': '00078de5-ce16-4158-945c-4e620c046298',\n",
       " 'Location': ['Meriwether Counties', 'Alabama', 'Georgia'],\n",
       " 'Facility': ['Clay'],\n",
       " 'Person': ['Webster', 'Barbour', 'Lee'],\n",
       " 'Quantity': ['One inch']}"
      ]
     },
     "execution_count": 439,
     "metadata": {},
     "output_type": "execute_result"
    }
   ],
   "source": [
    "data_ent[32]"
   ]
  },
  {
   "cell_type": "code",
   "execution_count": 348,
   "metadata": {},
   "outputs": [
    {
     "data": {
      "text/plain": [
       "{'id': 'fb936514-3376-4f45-aabe-1688b1fd569f',\n",
       " 'CARDINAL': ['37', 'one', 'three', '2020', 'two'],\n",
       " 'NORP': ['North Middlesex'],\n",
       " 'PERSON': ['Lowell', 'Martina Nkwantah', 'Nkwantah', 'John Caouette'],\n",
       " 'DATE': ['this year',\n",
       "  'the season',\n",
       "  'winter',\n",
       "  'her second year',\n",
       "  'the fall',\n",
       "  'Last year',\n",
       "  'last outdoor season',\n",
       "  'next season',\n",
       "  'the next week',\n",
       "  'this past winter',\n",
       "  'decade ago',\n",
       "  'just last season',\n",
       "  'this spring'],\n",
       " 'ORG': ['Nkwantah',\n",
       "  \"the River Hawks'\",\n",
       "  'Patriots',\n",
       "  'Division 1',\n",
       "  'MIAA',\n",
       "  'NM'],\n",
       " 'QUANTITY': ['11 inches', 'around 124 feet', '118 feet'],\n",
       " 'ORDINAL': ['second', 'first', 'fourth'],\n",
       " 'LOC': [\"New England's\", 'New England'],\n",
       " 'GPE': ['North Middlesex', 'District']}"
      ]
     },
     "execution_count": 348,
     "metadata": {},
     "output_type": "execute_result"
    }
   ],
   "source": [
    "data_ner[48]"
   ]
  },
  {
   "cell_type": "code",
   "execution_count": 329,
   "metadata": {},
   "outputs": [
    {
     "data": {
      "text/plain": [
       "{'id': '000a7580-281f-40bc-9960-0fa6f2c6ac11',\n",
       " 'Person': ['Fred Krull', 'Joan Piper Krull', 'John Swallow', 'Brendan'],\n",
       " 'Organization': ['Carthage College',\n",
       "  'EY',\n",
       "  'Leadership Council',\n",
       "  'Los Angeles',\n",
       "  'PLC',\n",
       "  'Illinois University'],\n",
       " 'Location': ['Carthage', 'Carthage', 'Los Angeles', 'Kenosha'],\n",
       " 'Facility': ['Carthage College', 'The Tower Residence Hall'],\n",
       " 'JobTitle': ['President',\n",
       "  'principal',\n",
       "  'fiduciary',\n",
       "  'advisory board',\n",
       "  'chairman',\n",
       "  'professional services'],\n",
       " 'Company': ['Ernst & Young'],\n",
       " 'Quantity': ['three years', 'six years']}"
      ]
     },
     "execution_count": 329,
     "metadata": {},
     "output_type": "execute_result"
    }
   ],
   "source": [
    "data_ent[47]"
   ]
  },
  {
   "cell_type": "code",
   "execution_count": 415,
   "metadata": {},
   "outputs": [
    {
     "data": {
      "text/plain": [
       "{'id': '70ebe48c-a75d-4236-9ed6-4af0d8e1a421',\n",
       " 'location': ['EL PASO, Texas', 'El Paso'],\n",
       " 'person': ['Rosie Soria', 'Bonnie Soria Najera', \"Leo Soria's\"],\n",
       " 'chron': ['Friday, May 15', 'Memorial Day'],\n",
       " 'org': ['University Medical Center']}"
      ]
     },
     "execution_count": 415,
     "metadata": {},
     "output_type": "execute_result"
    }
   ],
   "source": [
    "data_html[4]"
   ]
  },
  {
   "cell_type": "code",
   "execution_count": 360,
   "metadata": {},
   "outputs": [
    {
     "data": {
      "text/plain": [
       "{'id': '00010c62-58cb-4b26-a3ef-3db32b243243',\n",
       " 'Person': ['Bonnie Soria Najera',\n",
       "  'Rosie Soria',\n",
       "  'Leo Soria',\n",
       "  'KTSM',\n",
       "  'remdesivir'],\n",
       " 'Facility': ['Soria family', 'Medical Center'],\n",
       " 'Location': ['EL PASO', 'Texas', '47-years'],\n",
       " 'Company': ['El Paso'],\n",
       " 'JobTitle': ['Trustee'],\n",
       " 'HealthCondition': ['pandemic', 'fever'],\n",
       " 'Quantity': ['two days', '47-years']}"
      ]
     },
     "execution_count": 360,
     "metadata": {},
     "output_type": "execute_result"
    }
   ],
   "source": [
    "data_ent[4]"
   ]
  },
  {
   "cell_type": "code",
   "execution_count": 417,
   "metadata": {},
   "outputs": [
    {
     "data": {
      "text/plain": [
       "{'id': '92123e9a-a03a-48f1-9f57-59319648b9a0',\n",
       " 'DATE': ['2018',\n",
       "  '1966',\n",
       "  'last Wednesday',\n",
       "  'Nov. 6, 2018',\n",
       "  'many years',\n",
       "  'years ago',\n",
       "  'more than a year and a half'],\n",
       " 'GPE': ['Vermont', 'Montpelier', 'U.S.', 'Vietnam'],\n",
       " 'PERSON': ['Lyndon Johnson',\n",
       "  'George Aiken',\n",
       "  'Michael Sherman',\n",
       "  'Montpelier',\n",
       "  'Bashara'],\n",
       " 'ORG': ['the Montpelier City Council', 'Aiken', 'the Vermont Supreme Court'],\n",
       " 'CARDINAL': ['2,459', '1,877'],\n",
       " 'QUANTITY': ['27 feet'],\n",
       " 'NORP': ['Hallelujah']}"
      ]
     },
     "execution_count": 417,
     "metadata": {},
     "output_type": "execute_result"
    }
   ],
   "source": [
    "data_ner[6]"
   ]
  },
  {
   "cell_type": "code",
   "execution_count": null,
   "metadata": {},
   "outputs": [],
   "source": []
  }
 ],
 "metadata": {
  "kernelspec": {
   "display_name": "Python3",
   "language": "python",
   "name": "python3"
  },
  "language_info": {
   "codemirror_mode": {
    "name": "ipython",
    "version": 3
   },
   "file_extension": ".py",
   "mimetype": "text/x-python",
   "name": "python",
   "nbconvert_exporter": "python",
   "pygments_lexer": "ipython3",
   "version": "3.6.8"
  }
 },
 "nbformat": 4,
 "nbformat_minor": 2
}
