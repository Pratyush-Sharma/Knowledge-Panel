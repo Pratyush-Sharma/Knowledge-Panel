{
 "cells": [
  {
   "cell_type": "code",
   "execution_count": 1,
   "metadata": {},
   "outputs": [],
   "source": [
    "import json\n",
    "import numpy as np\n",
    "import pandas as pd\n",
    "from openpyxl import Workbook"
   ]
  },
  {
   "cell_type": "code",
   "execution_count": 2,
   "metadata": {
    "collapsed": true
   },
   "outputs": [
    {
     "ename": "ModuleNotFoundError",
     "evalue": "No module named 'matplotlib'",
     "output_type": "error",
     "traceback": [
      "\u001b[0;31m---------------------------------------------------------------------------\u001b[0m",
      "\u001b[0;31mModuleNotFoundError\u001b[0m                       Traceback (most recent call last)",
      "\u001b[0;32m<ipython-input-2-9fd15c04b78f>\u001b[0m in \u001b[0;36m<module>\u001b[0;34m\u001b[0m\n\u001b[0;32m----> 1\u001b[0;31m \u001b[0;32mimport\u001b[0m \u001b[0mmatplotlib\u001b[0m\u001b[0;34m.\u001b[0m\u001b[0mpyplot\u001b[0m \u001b[0;32mas\u001b[0m \u001b[0mplt\u001b[0m\u001b[0;34m\u001b[0m\u001b[0;34m\u001b[0m\u001b[0m\n\u001b[0m\u001b[1;32m      2\u001b[0m \u001b[0;32mimport\u001b[0m \u001b[0mseaborn\u001b[0m \u001b[0;32mas\u001b[0m \u001b[0msn\u001b[0m\u001b[0;34m\u001b[0m\u001b[0;34m\u001b[0m\u001b[0m\n",
      "\u001b[0;31mModuleNotFoundError\u001b[0m: No module named 'matplotlib'"
     ]
    }
   ],
   "source": [
    "import matplotlib.pyplot as plt\n",
    "import seaborn as sn"
   ]
  },
  {
   "cell_type": "code",
   "execution_count": 2,
   "metadata": {},
   "outputs": [
    {
     "data": {
      "text/plain": [
       "2125"
      ]
     },
     "execution_count": 2,
     "metadata": {},
     "output_type": "execute_result"
    }
   ],
   "source": [
    "data = pd.read_excel('Ground_truth_V3.xlsx')\n",
    "data = pd.DataFrame(data)\n",
    "data[\"ground truth\"].count()"
   ]
  },
  {
   "cell_type": "code",
   "execution_count": 3,
   "metadata": {},
   "outputs": [],
   "source": [
    "Total_GT = 2125"
   ]
  },
  {
   "cell_type": "code",
   "execution_count": 4,
   "metadata": {},
   "outputs": [],
   "source": [
    "data = pd.read_excel('Ground_truth_V2.xlsx')\n",
    "data = pd.DataFrame(data)\n",
    "data = data.fillna(\"\")"
   ]
  },
  {
   "cell_type": "code",
   "execution_count": 5,
   "metadata": {},
   "outputs": [],
   "source": [
    "for i in range(len(data)):\n",
    "    count_Y = 0\n",
    "    for k in [\"Discovery\",\"Spacy\",\"Html\"]:\n",
    "        if (data.loc[i,k] != \"\"):\n",
    "            for j in [\"P_\"+k,\"J_\"+k,\"S_\"+k]:\n",
    "                if (data.loc[i,j] == \"Y\"):\n",
    "                    count_Y+=1\n",
    "            if (count_Y >=2):\n",
    "                if (len(data.loc[i,\"ground truth\"])==0):\n",
    "                    data.loc[i,\"ground truth\"] += data.loc[i,k]\n",
    "                else:\n",
    "                    data.loc[i,\"ground truth\"] += \"/\"+data.loc[i,k]\n",
    "        count_Y = 0"
   ]
  },
  {
   "cell_type": "code",
   "execution_count": 6,
   "metadata": {},
   "outputs": [],
   "source": [
    "for i in range(len(data)):\n",
    "    \n",
    "    lists = data.loc[i,\"ground truth\"].split(\"/\")\n",
    "    \n",
    "    for k in [\"Discovery\",\"Spacy\",\"Html\"]:\n",
    "            \n",
    "        if (data.loc[i,k] in lists and len(data.loc[i,k])!=0 and len(data.loc[i,\"ground truth\"])!=0):\n",
    "            data.loc[i,k+\"_vote\"] = \"TP\"\n",
    "        \n",
    "        if (data.loc[i,k] not in lists and len(data.loc[i,k])!=0 and len(data.loc[i,\"ground truth\"])!=0):\n",
    "            data.loc[i,k+\"_vote\"] = \"FP\""
   ]
  },
  {
   "cell_type": "code",
   "execution_count": 7,
   "metadata": {},
   "outputs": [
    {
     "data": {
      "text/plain": [
       "      1960\n",
       "TP     858\n",
       "FP      30\n",
       "Name: Discovery_vote, dtype: int64"
      ]
     },
     "execution_count": 7,
     "metadata": {},
     "output_type": "execute_result"
    }
   ],
   "source": [
    "data[\"Discovery_vote\"].value_counts()"
   ]
  },
  {
   "cell_type": "code",
   "execution_count": 8,
   "metadata": {},
   "outputs": [],
   "source": [
    "Precision = 858/(858+30)\n",
    "Recall = 858/Total_GT\n",
    "\n",
    "Stats_disc = {\"Precision\": Precision,\"Recall\":Recall}"
   ]
  },
  {
   "cell_type": "code",
   "execution_count": 9,
   "metadata": {},
   "outputs": [
    {
     "data": {
      "text/plain": [
       "TP    1507\n",
       "      1243\n",
       "FP      98\n",
       "Name: Spacy_vote, dtype: int64"
      ]
     },
     "execution_count": 9,
     "metadata": {},
     "output_type": "execute_result"
    }
   ],
   "source": [
    "data[\"Spacy_vote\"].value_counts()"
   ]
  },
  {
   "cell_type": "code",
   "execution_count": 10,
   "metadata": {},
   "outputs": [],
   "source": [
    "Precision = 1507/(1507+98)\n",
    "Recall = 1507/Total_GT\n",
    "\n",
    "Stats_spac = {\"Precision\": Precision,\"Recall\":Recall}"
   ]
  },
  {
   "cell_type": "code",
   "execution_count": 11,
   "metadata": {},
   "outputs": [
    {
     "data": {
      "text/plain": [
       "      2035\n",
       "TP     799\n",
       "FP      14\n",
       "Name: Html_vote, dtype: int64"
      ]
     },
     "execution_count": 11,
     "metadata": {},
     "output_type": "execute_result"
    }
   ],
   "source": [
    "data[\"Html_vote\"].value_counts()"
   ]
  },
  {
   "cell_type": "code",
   "execution_count": 12,
   "metadata": {},
   "outputs": [],
   "source": [
    "Precision = 799/(799+14)\n",
    "Recall = 799/Total_GT\n",
    "\n",
    "Stats_Html = {\"Precision\": Precision,\"Recall\":Recall}"
   ]
  },
  {
   "cell_type": "code",
   "execution_count": 13,
   "metadata": {},
   "outputs": [
    {
     "name": "stdout",
     "output_type": "stream",
     "text": [
      "Discovery\n",
      "{'Precision': 0.9662162162162162, 'Recall': 0.4037647058823529}\n",
      "----------------------------------------------------------------------------------------------------\n",
      "Spacy\n",
      "{'Precision': 0.9389408099688473, 'Recall': 0.7091764705882353}\n",
      "----------------------------------------------------------------------------------------------------\n",
      "HTML\n",
      "{'Precision': 0.982779827798278, 'Recall': 0.376}\n",
      "----------------------------------------------------------------------------------------------------\n"
     ]
    }
   ],
   "source": [
    "print(\"Discovery\")\n",
    "print(Stats_disc)\n",
    "print(\"--\"*50)\n",
    "print(\"Spacy\")\n",
    "print(Stats_spac)\n",
    "print(\"--\"*50)\n",
    "print(\"HTML\")\n",
    "print(Stats_Html)\n",
    "print(\"--\"*50)"
   ]
  },
  {
   "cell_type": "markdown",
   "metadata": {},
   "source": [
    "# Visualization"
   ]
  },
  {
   "cell_type": "code",
   "execution_count": 14,
   "metadata": {},
   "outputs": [
    {
     "data": {
      "text/plain": [
       "0                   \n",
       "1                   \n",
       "2            ORDINAL\n",
       "3                   \n",
       "4                org\n",
       "            ...     \n",
       "2843                \n",
       "2844    LOC/location\n",
       "2845                \n",
       "2846                \n",
       "2847        Quantity\n",
       "Name: ground truth, Length: 2848, dtype: object"
      ]
     },
     "execution_count": 14,
     "metadata": {},
     "output_type": "execute_result"
    }
   ],
   "source": [
    "data[\"ground truth\"]"
   ]
  },
  {
   "cell_type": "code",
   "execution_count": 16,
   "metadata": {},
   "outputs": [],
   "source": [
    "entity_type=['Location',\n",
    " 'Person',\n",
    " 'Organization',\n",
    " 'JobTitle',\n",
    " 'Company',\n",
    " 'Quantity',\n",
    " 'Facility',\n",
    " 'GeographicFeature',\n",
    " 'EmailAddress',\n",
    " 'PrintMedia',\n",
    " 'HealthCondition',\n",
    " 'Crime',\n",
    " 'Sport',\n",
    " 'Drug',\n",
    " 'TwitterHandle',\n",
    " 'Hashtag',\n",
    " 'Broadcaster',\n",
    " 'Movie',\n",
    " 'Vehicle',\n",
    " 'Award',\n",
    " 'Anatomy',\n",
    " 'NaturalEvent',\n",
    " 'TelevisionShow',\n",
    " 'SportingEvent',\n",
    " 'MusicGroup',\n",
    " 'IPAddress']"
   ]
  },
  {
   "cell_type": "code",
   "execution_count": 33,
   "metadata": {},
   "outputs": [],
   "source": [
    "entity_type_2=['CARDINAL',\n",
    " 'ORG',\n",
    " 'DATE',\n",
    " 'FAC',\n",
    " 'PERSON',\n",
    " 'WORK_OF_ART',\n",
    " 'LOC',\n",
    " 'ORDINAL',\n",
    " 'GPE',\n",
    " 'NORP',\n",
    " 'PERCENT',\n",
    " 'QUANTITY',\n",
    " 'PRODUCT',\n",
    " 'MONEY',\n",
    " 'EVENT',\n",
    " 'TIME',\n",
    " 'LAW',\n",
    " 'LANGUAGE']"
   ]
  },
  {
   "cell_type": "code",
   "execution_count": 34,
   "metadata": {},
   "outputs": [],
   "source": [
    "entity_type_3=['person', 'org', 'location', 'chron', 'money', 'a']"
   ]
  },
  {
   "cell_type": "code",
   "execution_count": 19,
   "metadata": {},
   "outputs": [],
   "source": [
    "a={}\n",
    "for i in range(len(data)):\n",
    "    lists = data.loc[i,\"ground truth\"].split(\"/\")\n",
    "    for item in lists:\n",
    "        if item in a:\n",
    "            a[item]+=1\n",
    "        else:\n",
    "            a[item]=1"
   ]
  },
  {
   "cell_type": "code",
   "execution_count": 44,
   "metadata": {},
   "outputs": [
    {
     "data": {
      "image/png": "[encoded data removed]",
      "text/plain": [
       "<Figure size 864x576 with 1 Axes>"
      ]
     },
     "metadata": {
      "needs_background": "light"
     },
     "output_type": "display_data"
    },
    {
     "data": {
      "image/png": "[encoded data removed]",
      "text/plain": [
       "<Figure size 864x576 with 1 Axes>"
      ]
     },
     "metadata": {
      "needs_background": "light"
     },
     "output_type": "display_data"
    },
    {
     "data": {
      "image/png": "[encoded data removed]",
      "text/plain": [
       "<Figure size 864x576 with 1 Axes>"
      ]
     },
     "metadata": {
      "needs_background": "light"
     },
     "output_type": "display_data"
    }
   ],
   "source": [
    "for entity in [entity_type,entity_type_2,entity_type_3]:\n",
    "    l=[]\n",
    "    for i in entity:\n",
    "        if i in a:\n",
    "            l.append(a[i])\n",
    "        else:\n",
    "            l.append(0)\n",
    "    plt.figure(figsize=(12,8))\n",
    "    sn.barplot(y=entity,x=l,orient=0)\n",
    "#     for p,q in zip(entity,l):\n",
    "#         print(p,q)\n",
    "    plt.show()"
   ]
  },
  {
   "cell_type": "code",
   "execution_count": null,
   "metadata": {},
   "outputs": [],
   "source": []
  }
 ],
 "metadata": {
  "kernelspec": {
   "display_name": "discovery",
   "language": "python",
   "name": "discovery"
  },
  "language_info": {
   "codemirror_mode": {
    "name": "ipython",
    "version": 3
   },
   "file_extension": ".py",
   "mimetype": "text/x-python",
   "name": "python",
   "nbconvert_exporter": "python",
   "pygments_lexer": "ipython3",
   "version": "3.6.9"
  }
 },
 "nbformat": 4,
 "nbformat_minor": 2
}
