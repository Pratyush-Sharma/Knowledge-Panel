{
 "cells": [
  {
   "cell_type": "code",
   "execution_count": 1,
   "metadata": {},
   "outputs": [],
   "source": [
    "import pandas as pd"
   ]
  },
  {
   "cell_type": "code",
   "execution_count": 2,
   "metadata": {},
   "outputs": [],
   "source": [
    "df_1=pd.read_excel(\"Naviga_part_1.xlsx\")\n",
    "df_2=pd.read_excel(\"Naviga_part_2.xlsx\")\n",
    "df_3=pd.read_excel(\"Naviga_part_3.xlsx\")\n",
    "df_4=pd.read_excel(\"Naviga_part_4.xlsx\")"
   ]
  },
  {
   "cell_type": "code",
   "execution_count": 115,
   "metadata": {},
   "outputs": [
    {
     "data": {
      "text/plain": [
       "Index(['Dis_Person', 'Doc_id_disc_per', 'corpus_id_disc_per',\n",
       "       'provider_id_disc_per', 'Dis_Company', 'Doc_id_disc_com',\n",
       "       'corpus_id_disc_com', 'provider_id_disc_com', 'Dis_location',\n",
       "       'Doc_id_disc_loc', 'corpus_id_disc_loc', 'provider_id_disc_loc'],\n",
       "      dtype='object')"
      ]
     },
     "execution_count": 115,
     "metadata": {},
     "output_type": "execute_result"
    }
   ],
   "source": [
    "df_1.columns"
   ]
  },
  {
   "cell_type": "markdown",
   "metadata": {},
   "source": [
    "### Person "
   ]
  },
  {
   "cell_type": "code",
   "execution_count": 92,
   "metadata": {},
   "outputs": [],
   "source": [
    "Person=[]\n",
    "Doc_id_Disc_per=[]\n",
    "corpus_Doc_id_Disc_per=[]\n",
    "pro_id_Disc_per=[]"
   ]
  },
  {
   "cell_type": "code",
   "execution_count": 102,
   "metadata": {},
   "outputs": [],
   "source": [
    "i=0\n",
    "for l in [Person,Doc_id_Disc_per,corpus_Doc_id_Disc_per,pro_id_Disc_per]:\n",
    "        l.extend(df_4.iloc[:,i].dropna().values)\n",
    "        i+=1"
   ]
  },
  {
   "cell_type": "code",
   "execution_count": 103,
   "metadata": {},
   "outputs": [
    {
     "data": {
      "text/plain": [
       "257130"
      ]
     },
     "execution_count": 103,
     "metadata": {},
     "output_type": "execute_result"
    }
   ],
   "source": [
    "len(Person)"
   ]
  },
  {
   "cell_type": "code",
   "execution_count": 105,
   "metadata": {},
   "outputs": [],
   "source": [
    "uni_Person=dict()\n",
    "for i in range(len(Person)):\n",
    "    if Person[i] in uni_Person:\n",
    "        uni_Person[Person[i]].append(Doc_id_Disc_per[i])\n",
    "    else:\n",
    "        uni_Person[Person[i]]=[]\n",
    "        uni_Person[Person[i]].append(Doc_id_Disc_per[i])\n",
    "Doc_id_Disc_per=list((uni_Person.values()))\n",
    "\n",
    "uni_Person=dict()\n",
    "for i in range(len(Person)):\n",
    "    if Person[i] in uni_Person:\n",
    "        uni_Person[Person[i]].append(corpus_Doc_id_Disc_per[i])\n",
    "    else:\n",
    "        uni_Person[Person[i]]=[]\n",
    "        uni_Person[Person[i]].append(corpus_Doc_id_Disc_per[i])\n",
    "corpus_Doc_id_Disc_per=list((uni_Person.values()))\n",
    "\n",
    "uni_Person=dict()\n",
    "for i in range(len(Person)):\n",
    "    if Person[i] in uni_Person:\n",
    "        uni_Person[Person[i]].append(pro_id_Disc_per[i])\n",
    "    else:\n",
    "        uni_Person[Person[i]]=[]\n",
    "        uni_Person[Person[i]].append(pro_id_Disc_per[i])\n",
    "pro_id_Disc_per=list((uni_Person.values()))\n",
    "Person=list((uni_Person.keys()))"
   ]
  },
  {
   "cell_type": "markdown",
   "metadata": {},
   "source": [
    "### Company"
   ]
  },
  {
   "cell_type": "code",
   "execution_count": 125,
   "metadata": {},
   "outputs": [],
   "source": [
    "Company=[]\n",
    "Doc_id_Disc_com=[]\n",
    "corpus_Doc_id_Disc_com=[]\n",
    "pro_id_Disc_com=[]"
   ]
  },
  {
   "cell_type": "code",
   "execution_count": 126,
   "metadata": {},
   "outputs": [],
   "source": [
    "for df in [df_1,df_2,df_3,df_4]:\n",
    "    i=4\n",
    "    for l in [Company,Doc_id_Disc_com,corpus_Doc_id_Disc_com,pro_id_Disc_com]:\n",
    "            l.extend(df.iloc[:,i].dropna().values)\n",
    "            i+=1"
   ]
  },
  {
   "cell_type": "code",
   "execution_count": 134,
   "metadata": {},
   "outputs": [
    {
     "data": {
      "text/plain": [
       "76058"
      ]
     },
     "execution_count": 134,
     "metadata": {},
     "output_type": "execute_result"
    }
   ],
   "source": [
    "len(Company)"
   ]
  },
  {
   "cell_type": "code",
   "execution_count": 138,
   "metadata": {},
   "outputs": [],
   "source": [
    "uni_Company=dict()\n",
    "for i in range(len(Company)):\n",
    "    if Company[i] in uni_Company:\n",
    "        uni_Company[Company[i]].append(Doc_id_Disc_com[i])\n",
    "    else:\n",
    "        uni_Company[Company[i]]=[]\n",
    "        uni_Company[Company[i]].append(Doc_id_Disc_com[i])\n",
    "Doc_id_Disc_com=list((uni_Company.values()))\n",
    "\n",
    "uni_Company=dict()\n",
    "for i in range(len(Company)):\n",
    "    if Company[i] in uni_Company:\n",
    "        uni_Company[Company[i]].append(corpus_Doc_id_Disc_com[i])\n",
    "    else:\n",
    "        uni_Company[Company[i]]=[]\n",
    "        uni_Company[Company[i]].append(corpus_Doc_id_Disc_com[i])\n",
    "corpus_Doc_id_Disc_com=list((uni_Company.values()))\n",
    "\n",
    "uni_Company=dict()\n",
    "for i in range(len(Company)):\n",
    "    if Company[i] in uni_Company:\n",
    "        uni_Company[Company[i]].append(pro_id_Disc_com[i])\n",
    "    else:\n",
    "        uni_Company[Company[i]]=[]\n",
    "        uni_Company[Company[i]].append(pro_id_Disc_com[i])\n",
    "pro_id_Disc_com=list((uni_Company.values()))\n",
    "Company=list((uni_Company.keys()))"
   ]
  },
  {
   "cell_type": "code",
   "execution_count": 139,
   "metadata": {},
   "outputs": [
    {
     "data": {
      "text/plain": [
       "41411"
      ]
     },
     "execution_count": 139,
     "metadata": {},
     "output_type": "execute_result"
    }
   ],
   "source": [
    "len(Company)"
   ]
  },
  {
   "cell_type": "markdown",
   "metadata": {},
   "source": [
    "### Location"
   ]
  },
  {
   "cell_type": "code",
   "execution_count": 149,
   "metadata": {},
   "outputs": [],
   "source": [
    "Location=[]\n",
    "Doc_id_Disc_loc=[]\n",
    "corpus_Doc_id_Disc_loc=[]\n",
    "pro_id_Disc_loc=[]"
   ]
  },
  {
   "cell_type": "code",
   "execution_count": 150,
   "metadata": {},
   "outputs": [],
   "source": [
    "for df in [df_1,df_2,df_3,df_4]:\n",
    "    i=8\n",
    "    for l in [Location,Doc_id_Disc_loc,corpus_Doc_id_Disc_loc,pro_id_Disc_loc]:\n",
    "            l.extend(df.iloc[:,i].dropna().values)\n",
    "            i+=1"
   ]
  },
  {
   "cell_type": "code",
   "execution_count": 151,
   "metadata": {},
   "outputs": [
    {
     "data": {
      "text/plain": [
       "219521"
      ]
     },
     "execution_count": 151,
     "metadata": {},
     "output_type": "execute_result"
    }
   ],
   "source": [
    "len(Location)"
   ]
  },
  {
   "cell_type": "code",
   "execution_count": 152,
   "metadata": {},
   "outputs": [],
   "source": [
    "uni_Location=dict()\n",
    "for i in range(len(Location)):\n",
    "    if Location[i] in uni_Location:\n",
    "        uni_Location[Location[i]].append(Doc_id_Disc_loc[i])\n",
    "    else:\n",
    "        uni_Location[Location[i]]=[]\n",
    "        uni_Location[Location[i]].append(Doc_id_Disc_loc[i])\n",
    "Doc_id_Disc_loc=list((uni_Location.values()))\n",
    "\n",
    "uni_Location=dict()\n",
    "for i in range(len(Location)):\n",
    "    if Location[i] in uni_Location:\n",
    "        uni_Location[Location[i]].append(corpus_Doc_id_Disc_loc[i])\n",
    "    else:\n",
    "        uni_Location[Location[i]]=[]\n",
    "        uni_Location[Location[i]].append(corpus_Doc_id_Disc_loc[i])\n",
    "corpus_Doc_id_Disc_loc=list((uni_Location.values()))\n",
    "\n",
    "uni_Location=dict()\n",
    "for i in range(len(Location)):\n",
    "    if Location[i] in uni_Location:\n",
    "        uni_Location[Location[i]].append(pro_id_Disc_loc[i])\n",
    "    else:\n",
    "        uni_Location[Location[i]]=[]\n",
    "        uni_Location[Location[i]].append(pro_id_Disc_loc[i])\n",
    "pro_id_Disc_loc=list((uni_Location.values()))\n",
    "Location=list((uni_Location.keys()))"
   ]
  },
  {
   "cell_type": "code",
   "execution_count": 154,
   "metadata": {},
   "outputs": [
    {
     "data": {
      "text/plain": [
       "33492"
      ]
     },
     "execution_count": 154,
     "metadata": {},
     "output_type": "execute_result"
    }
   ],
   "source": [
    "len(Location)"
   ]
  },
  {
   "cell_type": "code",
   "execution_count": 155,
   "metadata": {},
   "outputs": [],
   "source": [
    "df=pd.DataFrame({'Dis_Person': pd.Series(Person), 'Doc_id_disc_per': pd.Series(Doc_id_Disc_per), 'corpus_id_disc_per': pd.Series(corpus_Doc_id_Disc_per), 'provider_id_disc_per': pd.Series(pro_id_Disc_per),'Dis_Company': pd.Series(Company), 'Doc_id_disc_com': pd.Series(Doc_id_Disc_com), 'corpus_id_disc_com': pd.Series(corpus_Doc_id_Disc_com), 'provider_id_disc_com': pd.Series(pro_id_Disc_com),'Dis_location': pd.Series(Location), 'Doc_id_disc_loc': pd.Series(Doc_id_Disc_loc), 'corpus_id_disc_loc': pd.Series(corpus_Doc_id_Disc_loc), 'provider_id_disc_loc': pd.Series(pro_id_Disc_loc)})"
   ]
  },
  {
   "cell_type": "code",
   "execution_count": 156,
   "metadata": {},
   "outputs": [
    {
     "data": {
      "text/html": [
       "<div>\n",
       "<style scoped>\n",
       "    .dataframe tbody tr th:only-of-type {\n",
       "        vertical-align: middle;\n",
       "    }\n",
       "\n",
       "    .dataframe tbody tr th {\n",
       "        vertical-align: top;\n",
       "    }\n",
       "\n",
       "    .dataframe thead th {\n",
       "        text-align: right;\n",
       "    }\n",
       "</style>\n",
       "<table border=\"1\" class=\"dataframe\">\n",
       "  <thead>\n",
       "    <tr style=\"text-align: right;\">\n",
       "      <th></th>\n",
       "      <th>Dis_Person</th>\n",
       "      <th>Doc_id_disc_per</th>\n",
       "      <th>corpus_id_disc_per</th>\n",
       "      <th>provider_id_disc_per</th>\n",
       "      <th>Dis_Company</th>\n",
       "      <th>Doc_id_disc_com</th>\n",
       "      <th>corpus_id_disc_com</th>\n",
       "      <th>provider_id_disc_com</th>\n",
       "      <th>Dis_location</th>\n",
       "      <th>Doc_id_disc_loc</th>\n",
       "      <th>corpus_id_disc_loc</th>\n",
       "      <th>provider_id_disc_loc</th>\n",
       "    </tr>\n",
       "  </thead>\n",
       "  <tbody>\n",
       "    <tr>\n",
       "      <th>0</th>\n",
       "      <td>MADELEINE McCann</td>\n",
       "      <td>[453767b1-2a6e-4f6b-9ba2-438fbd6a7ba2, 4d5f7fe...</td>\n",
       "      <td>[85851332710865434673, 2215458325564593760]</td>\n",
       "      <td>[Independent News and Media, Independent News ...</td>\n",
       "      <td>Sumitomo Electric Industries</td>\n",
       "      <td>[76a1183d-0ca2-4e4d-8803-29171abf70b4]</td>\n",
       "      <td>[10001391534406458388]</td>\n",
       "      <td>[Pedia Content Solutions]</td>\n",
       "      <td>Alexandria</td>\n",
       "      <td>[76a1183d-0ca2-4e4d-8803-29171abf70b4, 32c75a9...</td>\n",
       "      <td>[10001391534406458388, 10194743879020890416, 1...</td>\n",
       "      <td>[Pedia Content Solutions, Pedia Content Soluti...</td>\n",
       "    </tr>\n",
       "    <tr>\n",
       "      <th>1</th>\n",
       "      <td>Jim Gamble</td>\n",
       "      <td>[453767b1-2a6e-4f6b-9ba2-438fbd6a7ba2, 4d5f7fe...</td>\n",
       "      <td>[85851332710865434673, 2215458325564593760, 36...</td>\n",
       "      <td>[Independent News and Media, Independent News ...</td>\n",
       "      <td>Sumitomo Wiring Systems</td>\n",
       "      <td>[76a1183d-0ca2-4e4d-8803-29171abf70b4]</td>\n",
       "      <td>[10001391534406458388]</td>\n",
       "      <td>[Pedia Content Solutions]</td>\n",
       "      <td>U.S.</td>\n",
       "      <td>[76a1183d-0ca2-4e4d-8803-29171abf70b4, 1517cf8...</td>\n",
       "      <td>[10001391534406458388, 1003697364868800988, 10...</td>\n",
       "      <td>[Pedia Content Solutions, ProQuest Information...</td>\n",
       "    </tr>\n",
       "    <tr>\n",
       "      <th>2</th>\n",
       "      <td>Autonetworks Technolgies</td>\n",
       "      <td>[76a1183d-0ca2-4e4d-8803-29171abf70b4]</td>\n",
       "      <td>[10001391534406458388]</td>\n",
       "      <td>[Pedia Content Solutions]</td>\n",
       "      <td>MTU Aero Engines</td>\n",
       "      <td>[6ab2e378-25fc-49f7-9839-90a09c00f9c6, 4b8eadc...</td>\n",
       "      <td>[10003418367518724122, 49600777431065420103]</td>\n",
       "      <td>[NewsRx.com, Pedia Content Solutions]</td>\n",
       "      <td>CT</td>\n",
       "      <td>[6ab2e378-25fc-49f7-9839-90a09c00f9c6, 0026ec4...</td>\n",
       "      <td>[10003418367518724122, 12368024355344441648, 1...</td>\n",
       "      <td>[NewsRx.com, NewsBank, NewsBank, NewsBank, Pro...</td>\n",
       "    </tr>\n",
       "    <tr>\n",
       "      <th>3</th>\n",
       "      <td>Yasunori Hiromichi</td>\n",
       "      <td>[76a1183d-0ca2-4e4d-8803-29171abf70b4]</td>\n",
       "      <td>[10001391534406458388]</td>\n",
       "      <td>[Pedia Content Solutions]</td>\n",
       "      <td>StubHub</td>\n",
       "      <td>[2445ad2f-b016-4491-8ed0-9a84a1cff617]</td>\n",
       "      <td>[10008808802366576791]</td>\n",
       "      <td>[Gale Group]</td>\n",
       "      <td>Washington</td>\n",
       "      <td>[6ab2e378-25fc-49f7-9839-90a09c00f9c6, 55df529...</td>\n",
       "      <td>[10003418367518724122, 1001901594516879210, 10...</td>\n",
       "      <td>[NewsRx.com, SyndiGate Media Inc., Gale Group,...</td>\n",
       "    </tr>\n",
       "    <tr>\n",
       "      <th>4</th>\n",
       "      <td>Sato Shinichiro</td>\n",
       "      <td>[76a1183d-0ca2-4e4d-8803-29171abf70b4]</td>\n",
       "      <td>[10001391534406458388]</td>\n",
       "      <td>[Pedia Content Solutions]</td>\n",
       "      <td>Ringgold, Inc.</td>\n",
       "      <td>[b1363018-046e-4101-8ffd-5e95cfbcacc6, 497a241...</td>\n",
       "      <td>[10008927411708462458, 13574131528489418835, 1...</td>\n",
       "      <td>[Gale Group, Gale Group, Gale Group, Gale Grou...</td>\n",
       "      <td>Germany</td>\n",
       "      <td>[6ab2e378-25fc-49f7-9839-90a09c00f9c6, a3e71bf...</td>\n",
       "      <td>[10003418367518724122, 10058313731089319651, 1...</td>\n",
       "      <td>[NewsRx.com, Tribune Content Agency, Tenders, ...</td>\n",
       "    </tr>\n",
       "    <tr>\n",
       "      <th>...</th>\n",
       "      <td>...</td>\n",
       "      <td>...</td>\n",
       "      <td>...</td>\n",
       "      <td>...</td>\n",
       "      <td>...</td>\n",
       "      <td>...</td>\n",
       "      <td>...</td>\n",
       "      <td>...</td>\n",
       "      <td>...</td>\n",
       "      <td>...</td>\n",
       "      <td>...</td>\n",
       "      <td>...</td>\n",
       "    </tr>\n",
       "    <tr>\n",
       "      <th>154951</th>\n",
       "      <td>Robert J. Lynn</td>\n",
       "      <td>[f538d3e8-7ce4-4015-8050-af3b68be52ed]</td>\n",
       "      <td>[53990071484871970283]</td>\n",
       "      <td>[NewsBank]</td>\n",
       "      <td>NaN</td>\n",
       "      <td>NaN</td>\n",
       "      <td>NaN</td>\n",
       "      <td>NaN</td>\n",
       "      <td>NaN</td>\n",
       "      <td>NaN</td>\n",
       "      <td>NaN</td>\n",
       "      <td>NaN</td>\n",
       "    </tr>\n",
       "    <tr>\n",
       "      <th>154952</th>\n",
       "      <td>Governor Sununu</td>\n",
       "      <td>[f538d3e8-7ce4-4015-8050-af3b68be52ed]</td>\n",
       "      <td>[53990071484871970283]</td>\n",
       "      <td>[NewsBank]</td>\n",
       "      <td>NaN</td>\n",
       "      <td>NaN</td>\n",
       "      <td>NaN</td>\n",
       "      <td>NaN</td>\n",
       "      <td>NaN</td>\n",
       "      <td>NaN</td>\n",
       "      <td>NaN</td>\n",
       "      <td>NaN</td>\n",
       "    </tr>\n",
       "    <tr>\n",
       "      <th>154953</th>\n",
       "      <td>Gov. John Lynch</td>\n",
       "      <td>[f538d3e8-7ce4-4015-8050-af3b68be52ed]</td>\n",
       "      <td>[53990071484871970283]</td>\n",
       "      <td>[NewsBank]</td>\n",
       "      <td>NaN</td>\n",
       "      <td>NaN</td>\n",
       "      <td>NaN</td>\n",
       "      <td>NaN</td>\n",
       "      <td>NaN</td>\n",
       "      <td>NaN</td>\n",
       "      <td>NaN</td>\n",
       "      <td>NaN</td>\n",
       "    </tr>\n",
       "    <tr>\n",
       "      <th>154954</th>\n",
       "      <td>Gov. Judd</td>\n",
       "      <td>[f538d3e8-7ce4-4015-8050-af3b68be52ed]</td>\n",
       "      <td>[53990071484871970283]</td>\n",
       "      <td>[NewsBank]</td>\n",
       "      <td>NaN</td>\n",
       "      <td>NaN</td>\n",
       "      <td>NaN</td>\n",
       "      <td>NaN</td>\n",
       "      <td>NaN</td>\n",
       "      <td>NaN</td>\n",
       "      <td>NaN</td>\n",
       "      <td>NaN</td>\n",
       "    </tr>\n",
       "    <tr>\n",
       "      <th>154955</th>\n",
       "      <td>Gov. Craig</td>\n",
       "      <td>[f538d3e8-7ce4-4015-8050-af3b68be52ed]</td>\n",
       "      <td>[53990071484871970283]</td>\n",
       "      <td>[NewsBank]</td>\n",
       "      <td>NaN</td>\n",
       "      <td>NaN</td>\n",
       "      <td>NaN</td>\n",
       "      <td>NaN</td>\n",
       "      <td>NaN</td>\n",
       "      <td>NaN</td>\n",
       "      <td>NaN</td>\n",
       "      <td>NaN</td>\n",
       "    </tr>\n",
       "  </tbody>\n",
       "</table>\n",
       "<p>154956 rows × 12 columns</p>\n",
       "</div>"
      ],
      "text/plain": [
       "                      Dis_Person  \\\n",
       "0               MADELEINE McCann   \n",
       "1                     Jim Gamble   \n",
       "2       Autonetworks Technolgies   \n",
       "3             Yasunori Hiromichi   \n",
       "4                Sato Shinichiro   \n",
       "...                          ...   \n",
       "154951            Robert J. Lynn   \n",
       "154952           Governor Sununu   \n",
       "154953           Gov. John Lynch   \n",
       "154954                 Gov. Judd   \n",
       "154955                Gov. Craig   \n",
       "\n",
       "                                          Doc_id_disc_per  \\\n",
       "0       [453767b1-2a6e-4f6b-9ba2-438fbd6a7ba2, 4d5f7fe...   \n",
       "1       [453767b1-2a6e-4f6b-9ba2-438fbd6a7ba2, 4d5f7fe...   \n",
       "2                  [76a1183d-0ca2-4e4d-8803-29171abf70b4]   \n",
       "3                  [76a1183d-0ca2-4e4d-8803-29171abf70b4]   \n",
       "4                  [76a1183d-0ca2-4e4d-8803-29171abf70b4]   \n",
       "...                                                   ...   \n",
       "154951             [f538d3e8-7ce4-4015-8050-af3b68be52ed]   \n",
       "154952             [f538d3e8-7ce4-4015-8050-af3b68be52ed]   \n",
       "154953             [f538d3e8-7ce4-4015-8050-af3b68be52ed]   \n",
       "154954             [f538d3e8-7ce4-4015-8050-af3b68be52ed]   \n",
       "154955             [f538d3e8-7ce4-4015-8050-af3b68be52ed]   \n",
       "\n",
       "                                       corpus_id_disc_per  \\\n",
       "0             [85851332710865434673, 2215458325564593760]   \n",
       "1       [85851332710865434673, 2215458325564593760, 36...   \n",
       "2                                  [10001391534406458388]   \n",
       "3                                  [10001391534406458388]   \n",
       "4                                  [10001391534406458388]   \n",
       "...                                                   ...   \n",
       "154951                             [53990071484871970283]   \n",
       "154952                             [53990071484871970283]   \n",
       "154953                             [53990071484871970283]   \n",
       "154954                             [53990071484871970283]   \n",
       "154955                             [53990071484871970283]   \n",
       "\n",
       "                                     provider_id_disc_per  \\\n",
       "0       [Independent News and Media, Independent News ...   \n",
       "1       [Independent News and Media, Independent News ...   \n",
       "2                               [Pedia Content Solutions]   \n",
       "3                               [Pedia Content Solutions]   \n",
       "4                               [Pedia Content Solutions]   \n",
       "...                                                   ...   \n",
       "154951                                         [NewsBank]   \n",
       "154952                                         [NewsBank]   \n",
       "154953                                         [NewsBank]   \n",
       "154954                                         [NewsBank]   \n",
       "154955                                         [NewsBank]   \n",
       "\n",
       "                         Dis_Company  \\\n",
       "0       Sumitomo Electric Industries   \n",
       "1            Sumitomo Wiring Systems   \n",
       "2                   MTU Aero Engines   \n",
       "3                            StubHub   \n",
       "4                     Ringgold, Inc.   \n",
       "...                              ...   \n",
       "154951                           NaN   \n",
       "154952                           NaN   \n",
       "154953                           NaN   \n",
       "154954                           NaN   \n",
       "154955                           NaN   \n",
       "\n",
       "                                          Doc_id_disc_com  \\\n",
       "0                  [76a1183d-0ca2-4e4d-8803-29171abf70b4]   \n",
       "1                  [76a1183d-0ca2-4e4d-8803-29171abf70b4]   \n",
       "2       [6ab2e378-25fc-49f7-9839-90a09c00f9c6, 4b8eadc...   \n",
       "3                  [2445ad2f-b016-4491-8ed0-9a84a1cff617]   \n",
       "4       [b1363018-046e-4101-8ffd-5e95cfbcacc6, 497a241...   \n",
       "...                                                   ...   \n",
       "154951                                                NaN   \n",
       "154952                                                NaN   \n",
       "154953                                                NaN   \n",
       "154954                                                NaN   \n",
       "154955                                                NaN   \n",
       "\n",
       "                                       corpus_id_disc_com  \\\n",
       "0                                  [10001391534406458388]   \n",
       "1                                  [10001391534406458388]   \n",
       "2            [10003418367518724122, 49600777431065420103]   \n",
       "3                                  [10008808802366576791]   \n",
       "4       [10008927411708462458, 13574131528489418835, 1...   \n",
       "...                                                   ...   \n",
       "154951                                                NaN   \n",
       "154952                                                NaN   \n",
       "154953                                                NaN   \n",
       "154954                                                NaN   \n",
       "154955                                                NaN   \n",
       "\n",
       "                                     provider_id_disc_com Dis_location  \\\n",
       "0                               [Pedia Content Solutions]   Alexandria   \n",
       "1                               [Pedia Content Solutions]         U.S.   \n",
       "2                   [NewsRx.com, Pedia Content Solutions]           CT   \n",
       "3                                            [Gale Group]   Washington   \n",
       "4       [Gale Group, Gale Group, Gale Group, Gale Grou...      Germany   \n",
       "...                                                   ...          ...   \n",
       "154951                                                NaN          NaN   \n",
       "154952                                                NaN          NaN   \n",
       "154953                                                NaN          NaN   \n",
       "154954                                                NaN          NaN   \n",
       "154955                                                NaN          NaN   \n",
       "\n",
       "                                          Doc_id_disc_loc  \\\n",
       "0       [76a1183d-0ca2-4e4d-8803-29171abf70b4, 32c75a9...   \n",
       "1       [76a1183d-0ca2-4e4d-8803-29171abf70b4, 1517cf8...   \n",
       "2       [6ab2e378-25fc-49f7-9839-90a09c00f9c6, 0026ec4...   \n",
       "3       [6ab2e378-25fc-49f7-9839-90a09c00f9c6, 55df529...   \n",
       "4       [6ab2e378-25fc-49f7-9839-90a09c00f9c6, a3e71bf...   \n",
       "...                                                   ...   \n",
       "154951                                                NaN   \n",
       "154952                                                NaN   \n",
       "154953                                                NaN   \n",
       "154954                                                NaN   \n",
       "154955                                                NaN   \n",
       "\n",
       "                                       corpus_id_disc_loc  \\\n",
       "0       [10001391534406458388, 10194743879020890416, 1...   \n",
       "1       [10001391534406458388, 1003697364868800988, 10...   \n",
       "2       [10003418367518724122, 12368024355344441648, 1...   \n",
       "3       [10003418367518724122, 1001901594516879210, 10...   \n",
       "4       [10003418367518724122, 10058313731089319651, 1...   \n",
       "...                                                   ...   \n",
       "154951                                                NaN   \n",
       "154952                                                NaN   \n",
       "154953                                                NaN   \n",
       "154954                                                NaN   \n",
       "154955                                                NaN   \n",
       "\n",
       "                                     provider_id_disc_loc  \n",
       "0       [Pedia Content Solutions, Pedia Content Soluti...  \n",
       "1       [Pedia Content Solutions, ProQuest Information...  \n",
       "2       [NewsRx.com, NewsBank, NewsBank, NewsBank, Pro...  \n",
       "3       [NewsRx.com, SyndiGate Media Inc., Gale Group,...  \n",
       "4       [NewsRx.com, Tribune Content Agency, Tenders, ...  \n",
       "...                                                   ...  \n",
       "154951                                                NaN  \n",
       "154952                                                NaN  \n",
       "154953                                                NaN  \n",
       "154954                                                NaN  \n",
       "154955                                                NaN  \n",
       "\n",
       "[154956 rows x 12 columns]"
      ]
     },
     "execution_count": 156,
     "metadata": {},
     "output_type": "execute_result"
    }
   ],
   "source": [
    "df"
   ]
  },
  {
   "cell_type": "code",
   "execution_count": 157,
   "metadata": {},
   "outputs": [],
   "source": [
    "df.to_excel(\"Naviga5_all_part.xlsx\",index=False)"
   ]
  },
  {
   "cell_type": "code",
   "execution_count": null,
   "metadata": {},
   "outputs": [],
   "source": []
  }
 ],
 "metadata": {
  "kernelspec": {
   "display_name": "Python3",
   "language": "python",
   "name": "python3"
  },
  "language_info": {
   "codemirror_mode": {
    "name": "ipython",
    "version": 3
   },
   "file_extension": ".py",
   "mimetype": "text/x-python",
   "name": "python",
   "nbconvert_exporter": "python",
   "pygments_lexer": "ipython3",
   "version": "3.6.8"
  }
 },
 "nbformat": 4,
 "nbformat_minor": 2
}
