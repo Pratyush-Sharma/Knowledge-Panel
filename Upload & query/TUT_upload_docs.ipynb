{
 "cells": [
  {
   "cell_type": "code",
   "execution_count": 10,
   "metadata": {},
   "outputs": [],
   "source": [
    "import requests\n",
    "import json\n",
    "import os\n",
    "from time import sleep\n",
    "from requests.auth import HTTPBasicAuth\n",
    "from ibm_watson import DiscoveryV1\n",
    "from pprint import pprint\n",
    "import modules.discovery_helper as dh_help "
   ]
  },
  {
   "cell_type": "code",
   "execution_count": 11,
   "metadata": {},
   "outputs": [],
   "source": [
    "COLLECTION_NAME = 'Pratyush_Test'\n",
    "DIRECTORY_NAME = \"corpus\""
   ]
  },
  {
   "cell_type": "code",
   "execution_count": 12,
   "metadata": {},
   "outputs": [
    {
     "name": "stdout",
     "output_type": "stream",
     "text": [
      "'upload from corpus to Pratyush_Test'\n",
      "Discovery instance loaded a1\n",
      "COLLECTION ID: 1e6d49f8-3378-436e-887b-147657ea3ac9 COLLECTION NAME: Pratyush_Test\n",
      "'attempt no 0'\n",
      "\n",
      "Processing dir corpus with 1 files\n",
      "\n",
      "'attempt no 1'\n",
      "\n",
      "Processing dir corpus with 0 files\n",
      "\n"
     ]
    }
   ],
   "source": [
    "pprint(\"upload from \"+DIRECTORY_NAME+\" to \"+COLLECTION_NAME)\n",
    "discovery_data = dh_help.discovery_init(COLLECTION_NAME=COLLECTION_NAME)\n",
    "dh_help.processDirectory(DIRECTORY_NAME,discovery_data)"
   ]
  },
  {
   "cell_type": "code",
   "execution_count": null,
   "metadata": {},
   "outputs": [],
   "source": []
  }
 ],
 "metadata": {
  "kernelspec": {
   "display_name": "discovery",
   "language": "python",
   "name": "discovery"
  },
  "language_info": {
   "codemirror_mode": {
    "name": "ipython",
    "version": 3
   },
   "file_extension": ".py",
   "mimetype": "text/x-python",
   "name": "python",
   "nbconvert_exporter": "python",
   "pygments_lexer": "ipython3",
   "version": "3.6.9"
  }
 },
 "nbformat": 4,
 "nbformat_minor": 2
}
