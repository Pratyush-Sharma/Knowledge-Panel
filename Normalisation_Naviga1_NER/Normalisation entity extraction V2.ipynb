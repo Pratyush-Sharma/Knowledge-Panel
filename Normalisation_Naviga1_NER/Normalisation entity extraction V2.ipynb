{
 "cells": [
  {
   "cell_type": "code",
   "execution_count": 1,
   "metadata": {},
   "outputs": [],
   "source": [
    "__author__ = 'pratyush'\n",
    "import requests\n",
    "import json\n",
    "import os\n",
    "import modules.config as config\n",
    "from time import sleep\n",
    "from requests.auth import HTTPBasicAuth\n",
    "from ibm_watson import DiscoveryV1\n",
    "from pprint import pprint\n",
    "import modules.discovery_helper as dh_help\n",
    "import modules.common_helper as cm_help\n",
    "import sys\n",
    "import pandas as pd\n",
    "import modules.config as config\n",
    "import math\n",
    "import re\n",
    "import hashlib\n",
    "import unicodedata\n",
    "from bs4 import BeautifulSoup \n",
    "from ibm_cloud_sdk_core.authenticators import IAMAuthenticator"
   ]
  },
  {
   "cell_type": "code",
   "execution_count": 32,
   "metadata": {},
   "outputs": [],
   "source": [
    "nav = pd.read_excel(\"Naviga_Entity_Extraction_v001.xlsx\", sheet_name=\"Naviga\")\n",
    "nav = pd.DataFrame(nav)"
   ]
  },
  {
   "cell_type": "code",
   "execution_count": 33,
   "metadata": {},
   "outputs": [
    {
     "data": {
      "text/html": [
       "<div>\n",
       "<style scoped>\n",
       "    .dataframe tbody tr th:only-of-type {\n",
       "        vertical-align: middle;\n",
       "    }\n",
       "\n",
       "    .dataframe tbody tr th {\n",
       "        vertical-align: top;\n",
       "    }\n",
       "\n",
       "    .dataframe thead th {\n",
       "        text-align: right;\n",
       "    }\n",
       "</style>\n",
       "<table border=\"1\" class=\"dataframe\">\n",
       "  <thead>\n",
       "    <tr style=\"text-align: right;\">\n",
       "      <th></th>\n",
       "      <th>Person_Naviga</th>\n",
       "      <th>Person_ID</th>\n",
       "      <th>Company_Naviga</th>\n",
       "      <th>Company_ID</th>\n",
       "      <th>Location_Naviga</th>\n",
       "      <th>Location_ID</th>\n",
       "    </tr>\n",
       "  </thead>\n",
       "  <tbody>\n",
       "    <tr>\n",
       "      <th>0</th>\n",
       "      <td>Kobe Bryant</td>\n",
       "      <td>167424f8-ca7f-4224-a00b-a54a5a7766c7</td>\n",
       "      <td>Chicago Bulls'</td>\n",
       "      <td>167424f8-ca7f-4224-a00b-a54a5a7766c7</td>\n",
       "      <td>Mount Rushmore</td>\n",
       "      <td>167424f8-ca7f-4224-a00b-a54a5a7766c7</td>\n",
       "    </tr>\n",
       "    <tr>\n",
       "      <th>1</th>\n",
       "      <td>LeBron James</td>\n",
       "      <td>167424f8-ca7f-4224-a00b-a54a5a7766c7</td>\n",
       "      <td>ESPN's</td>\n",
       "      <td>167424f8-ca7f-4224-a00b-a54a5a7766c7</td>\n",
       "      <td>Los Angeles</td>\n",
       "      <td>167424f8-ca7f-4224-a00b-a54a5a7766c7</td>\n",
       "    </tr>\n",
       "    <tr>\n",
       "      <th>2</th>\n",
       "      <td>Michael Jordan</td>\n",
       "      <td>167424f8-ca7f-4224-a00b-a54a5a7766c7</td>\n",
       "      <td>Boston Celtics</td>\n",
       "      <td>167424f8-ca7f-4224-a00b-a54a5a7766c7</td>\n",
       "      <td>Des Plaines American Legion Post 36</td>\n",
       "      <td>7185ebf3-fa27-4fdc-a9fd-2011165a8603</td>\n",
       "    </tr>\n",
       "    <tr>\n",
       "      <th>3</th>\n",
       "      <td>Bill Russel</td>\n",
       "      <td>167424f8-ca7f-4224-a00b-a54a5a7766c7</td>\n",
       "      <td>Houston Rockets</td>\n",
       "      <td>167424f8-ca7f-4224-a00b-a54a5a7766c7</td>\n",
       "      <td>Edward Hotel</td>\n",
       "      <td>7185ebf3-fa27-4fdc-a9fd-2011165a8603</td>\n",
       "    </tr>\n",
       "    <tr>\n",
       "      <th>4</th>\n",
       "      <td>Robert Horry</td>\n",
       "      <td>167424f8-ca7f-4224-a00b-a54a5a7766c7</td>\n",
       "      <td>Orlando Magic</td>\n",
       "      <td>167424f8-ca7f-4224-a00b-a54a5a7766c7</td>\n",
       "      <td>Mannheim Road</td>\n",
       "      <td>7185ebf3-fa27-4fdc-a9fd-2011165a8603</td>\n",
       "    </tr>\n",
       "  </tbody>\n",
       "</table>\n",
       "</div>"
      ],
      "text/plain": [
       "    Person_Naviga                             Person_ID   Company_Naviga  \\\n",
       "0     Kobe Bryant  167424f8-ca7f-4224-a00b-a54a5a7766c7   Chicago Bulls'   \n",
       "1    LeBron James  167424f8-ca7f-4224-a00b-a54a5a7766c7           ESPN's   \n",
       "2  Michael Jordan  167424f8-ca7f-4224-a00b-a54a5a7766c7   Boston Celtics   \n",
       "3     Bill Russel  167424f8-ca7f-4224-a00b-a54a5a7766c7  Houston Rockets   \n",
       "4    Robert Horry  167424f8-ca7f-4224-a00b-a54a5a7766c7    Orlando Magic   \n",
       "\n",
       "                             Company_ID                      Location_Naviga  \\\n",
       "0  167424f8-ca7f-4224-a00b-a54a5a7766c7                       Mount Rushmore   \n",
       "1  167424f8-ca7f-4224-a00b-a54a5a7766c7                          Los Angeles   \n",
       "2  167424f8-ca7f-4224-a00b-a54a5a7766c7  Des Plaines American Legion Post 36   \n",
       "3  167424f8-ca7f-4224-a00b-a54a5a7766c7                         Edward Hotel   \n",
       "4  167424f8-ca7f-4224-a00b-a54a5a7766c7                        Mannheim Road   \n",
       "\n",
       "                            Location_ID  \n",
       "0  167424f8-ca7f-4224-a00b-a54a5a7766c7  \n",
       "1  167424f8-ca7f-4224-a00b-a54a5a7766c7  \n",
       "2  7185ebf3-fa27-4fdc-a9fd-2011165a8603  \n",
       "3  7185ebf3-fa27-4fdc-a9fd-2011165a8603  \n",
       "4  7185ebf3-fa27-4fdc-a9fd-2011165a8603  "
      ]
     },
     "execution_count": 33,
     "metadata": {},
     "output_type": "execute_result"
    }
   ],
   "source": [
    "nav.head()"
   ]
  },
  {
   "cell_type": "code",
   "execution_count": 34,
   "metadata": {},
   "outputs": [
    {
     "data": {
      "text/plain": [
       "27906"
      ]
     },
     "execution_count": 34,
     "metadata": {},
     "output_type": "execute_result"
    }
   ],
   "source": [
    "len(nav[\"Company_Naviga\"])"
   ]
  },
  {
   "cell_type": "code",
   "execution_count": 17,
   "metadata": {},
   "outputs": [],
   "source": [
    "df1 = pd.DataFrame(nav[[\"Person_Naviga\",\"Person_ID\"]])"
   ]
  },
  {
   "cell_type": "code",
   "execution_count": 10,
   "metadata": {},
   "outputs": [
    {
     "data": {
      "text/html": [
       "<div>\n",
       "<style scoped>\n",
       "    .dataframe tbody tr th:only-of-type {\n",
       "        vertical-align: middle;\n",
       "    }\n",
       "\n",
       "    .dataframe tbody tr th {\n",
       "        vertical-align: top;\n",
       "    }\n",
       "\n",
       "    .dataframe thead th {\n",
       "        text-align: right;\n",
       "    }\n",
       "</style>\n",
       "<table border=\"1\" class=\"dataframe\">\n",
       "  <thead>\n",
       "    <tr style=\"text-align: right;\">\n",
       "      <th></th>\n",
       "      <th>Person_Naviga</th>\n",
       "      <th>Person_ID</th>\n",
       "    </tr>\n",
       "  </thead>\n",
       "  <tbody>\n",
       "    <tr>\n",
       "      <th>0</th>\n",
       "      <td>Kobe Bryant</td>\n",
       "      <td>167424f8-ca7f-4224-a00b-a54a5a7766c7</td>\n",
       "    </tr>\n",
       "    <tr>\n",
       "      <th>1</th>\n",
       "      <td>LeBron James</td>\n",
       "      <td>167424f8-ca7f-4224-a00b-a54a5a7766c7</td>\n",
       "    </tr>\n",
       "    <tr>\n",
       "      <th>2</th>\n",
       "      <td>Michael Jordan</td>\n",
       "      <td>167424f8-ca7f-4224-a00b-a54a5a7766c7</td>\n",
       "    </tr>\n",
       "    <tr>\n",
       "      <th>3</th>\n",
       "      <td>Bill Russel</td>\n",
       "      <td>167424f8-ca7f-4224-a00b-a54a5a7766c7</td>\n",
       "    </tr>\n",
       "    <tr>\n",
       "      <th>4</th>\n",
       "      <td>Robert Horry</td>\n",
       "      <td>167424f8-ca7f-4224-a00b-a54a5a7766c7</td>\n",
       "    </tr>\n",
       "  </tbody>\n",
       "</table>\n",
       "</div>"
      ],
      "text/plain": [
       "    Person_Naviga                             Person_ID\n",
       "0     Kobe Bryant  167424f8-ca7f-4224-a00b-a54a5a7766c7\n",
       "1    LeBron James  167424f8-ca7f-4224-a00b-a54a5a7766c7\n",
       "2  Michael Jordan  167424f8-ca7f-4224-a00b-a54a5a7766c7\n",
       "3     Bill Russel  167424f8-ca7f-4224-a00b-a54a5a7766c7\n",
       "4    Robert Horry  167424f8-ca7f-4224-a00b-a54a5a7766c7"
      ]
     },
     "execution_count": 10,
     "metadata": {},
     "output_type": "execute_result"
    }
   ],
   "source": [
    "df1.head()"
   ]
  },
  {
   "cell_type": "code",
   "execution_count": 18,
   "metadata": {},
   "outputs": [],
   "source": [
    "df2 = df1.duplicated(subset=\"Person_Naviga\", keep='first')"
   ]
  },
  {
   "cell_type": "code",
   "execution_count": 15,
   "metadata": {},
   "outputs": [
    {
     "data": {
      "text/plain": [
       "0        False\n",
       "1        False\n",
       "2        False\n",
       "3        False\n",
       "4        False\n",
       "         ...  \n",
       "27901    False\n",
       "27902    False\n",
       "27903    False\n",
       "27904    False\n",
       "27905    False\n",
       "Length: 27906, dtype: bool"
      ]
     },
     "execution_count": 15,
     "metadata": {},
     "output_type": "execute_result"
    }
   ],
   "source": [
    "df2"
   ]
  },
  {
   "cell_type": "code",
   "execution_count": 19,
   "metadata": {},
   "outputs": [
    {
     "data": {
      "text/plain": [
       "False    27730\n",
       "True       176\n",
       "dtype: int64"
      ]
     },
     "execution_count": 19,
     "metadata": {},
     "output_type": "execute_result"
    }
   ],
   "source": [
    "df2.value_counts()"
   ]
  },
  {
   "cell_type": "code",
   "execution_count": 20,
   "metadata": {},
   "outputs": [],
   "source": [
    "for i in range(27906):\n",
    "    df1.loc[i,\"Person_ID\"] = [df1.loc[i,\"Person_ID\"]]"
   ]
  },
  {
   "cell_type": "code",
   "execution_count": 21,
   "metadata": {},
   "outputs": [],
   "source": [
    "for i in range(27906):\n",
    "    if(df2[i]==True):\n",
    "        lists=[]\n",
    "        flag =0\n",
    "        for j in range(27906):\n",
    "            if df1.loc[j,\"Person_Naviga\"] == df1.loc[i,\"Person_Naviga\"] and i!=j:\n",
    "                if flag==0:\n",
    "                    first = j\n",
    "                    flag=1\n",
    "                lists.append(df1.loc[j,\"Person_ID\"][0])\n",
    "        df1.loc[first,\"Person_ID\"].extend(lists)\n",
    "        "
   ]
  },
  {
   "cell_type": "code",
   "execution_count": 22,
   "metadata": {},
   "outputs": [],
   "source": [
    "for i in range(27906):\n",
    "    if df2[i] == True and len(df1.loc[i,\"Person_ID\"])==1:\n",
    "        df1.loc[i,\"Person_Naviga\"] = 0\n",
    "\n",
    "        "
   ]
  },
  {
   "cell_type": "code",
   "execution_count": 23,
   "metadata": {},
   "outputs": [],
   "source": [
    "\n",
    "df1 = df1[df1['Person_Naviga'] != 0]"
   ]
  },
  {
   "cell_type": "code",
   "execution_count": 24,
   "metadata": {},
   "outputs": [
    {
     "data": {
      "text/html": [
       "<div>\n",
       "<style scoped>\n",
       "    .dataframe tbody tr th:only-of-type {\n",
       "        vertical-align: middle;\n",
       "    }\n",
       "\n",
       "    .dataframe tbody tr th {\n",
       "        vertical-align: top;\n",
       "    }\n",
       "\n",
       "    .dataframe thead th {\n",
       "        text-align: right;\n",
       "    }\n",
       "</style>\n",
       "<table border=\"1\" class=\"dataframe\">\n",
       "  <thead>\n",
       "    <tr style=\"text-align: right;\">\n",
       "      <th></th>\n",
       "      <th>Person_Naviga</th>\n",
       "      <th>Person_ID</th>\n",
       "    </tr>\n",
       "  </thead>\n",
       "  <tbody>\n",
       "    <tr>\n",
       "      <th>0</th>\n",
       "      <td>Kobe Bryant</td>\n",
       "      <td>[167424f8-ca7f-4224-a00b-a54a5a7766c7]</td>\n",
       "    </tr>\n",
       "    <tr>\n",
       "      <th>1</th>\n",
       "      <td>LeBron James</td>\n",
       "      <td>[167424f8-ca7f-4224-a00b-a54a5a7766c7]</td>\n",
       "    </tr>\n",
       "    <tr>\n",
       "      <th>2</th>\n",
       "      <td>Michael Jordan</td>\n",
       "      <td>[167424f8-ca7f-4224-a00b-a54a5a7766c7]</td>\n",
       "    </tr>\n",
       "    <tr>\n",
       "      <th>3</th>\n",
       "      <td>Bill Russel</td>\n",
       "      <td>[167424f8-ca7f-4224-a00b-a54a5a7766c7]</td>\n",
       "    </tr>\n",
       "    <tr>\n",
       "      <th>4</th>\n",
       "      <td>Robert Horry</td>\n",
       "      <td>[167424f8-ca7f-4224-a00b-a54a5a7766c7]</td>\n",
       "    </tr>\n",
       "  </tbody>\n",
       "</table>\n",
       "</div>"
      ],
      "text/plain": [
       "    Person_Naviga                               Person_ID\n",
       "0     Kobe Bryant  [167424f8-ca7f-4224-a00b-a54a5a7766c7]\n",
       "1    LeBron James  [167424f8-ca7f-4224-a00b-a54a5a7766c7]\n",
       "2  Michael Jordan  [167424f8-ca7f-4224-a00b-a54a5a7766c7]\n",
       "3     Bill Russel  [167424f8-ca7f-4224-a00b-a54a5a7766c7]\n",
       "4    Robert Horry  [167424f8-ca7f-4224-a00b-a54a5a7766c7]"
      ]
     },
     "execution_count": 24,
     "metadata": {},
     "output_type": "execute_result"
    }
   ],
   "source": [
    "df1.head()"
   ]
  },
  {
   "cell_type": "code",
   "execution_count": 28,
   "metadata": {},
   "outputs": [
    {
     "data": {
      "text/plain": [
       "27730"
      ]
     },
     "execution_count": 28,
     "metadata": {},
     "output_type": "execute_result"
    }
   ],
   "source": [
    "len(df1[\"Person_ID\"])"
   ]
  },
  {
   "cell_type": "code",
   "execution_count": 49,
   "metadata": {},
   "outputs": [],
   "source": [
    "df3 = pd.DataFrame(nav[[\"Company_Naviga\",\"Company_ID\"]])\n",
    "df3 = df3.dropna()"
   ]
  },
  {
   "cell_type": "code",
   "execution_count": 50,
   "metadata": {},
   "outputs": [
    {
     "data": {
      "text/plain": [
       "15095"
      ]
     },
     "execution_count": 50,
     "metadata": {},
     "output_type": "execute_result"
    }
   ],
   "source": [
    "len(df3)"
   ]
  },
  {
   "cell_type": "code",
   "execution_count": 51,
   "metadata": {},
   "outputs": [],
   "source": [
    "df2 = df3.duplicated(subset=\"Company_Naviga\", keep='first')"
   ]
  },
  {
   "cell_type": "code",
   "execution_count": 52,
   "metadata": {},
   "outputs": [],
   "source": [
    "for i in range(15095):\n",
    "    df3.loc[i,\"Company_ID\"] = [df3.loc[i,\"Company_ID\"]]"
   ]
  },
  {
   "cell_type": "code",
   "execution_count": 53,
   "metadata": {},
   "outputs": [],
   "source": [
    "for i in range(15095):\n",
    "    if(df2[i]==True):\n",
    "        lists=[]\n",
    "        flag =0\n",
    "        for j in range(15095):\n",
    "            if df3.loc[j,\"Company_Naviga\"] == df3.loc[i,\"Company_Naviga\"] and i!=j:\n",
    "                if flag==0:\n",
    "                    first = j\n",
    "                    flag=1\n",
    "                lists.append(df3.loc[j,\"Company_ID\"])\n",
    "        df3.loc[first,\"Company_ID\"].extend(lists)"
   ]
  },
  {
   "cell_type": "code",
   "execution_count": 54,
   "metadata": {},
   "outputs": [],
   "source": [
    "for i in range(15095):\n",
    "    if df2[i] == True and len(df3.loc[i,\"Company_ID\"])==1:\n",
    "        df3.loc[i,\"Company_Naviga\"] = 0"
   ]
  },
  {
   "cell_type": "code",
   "execution_count": 55,
   "metadata": {},
   "outputs": [],
   "source": [
    "df3 = df3[df3['Company_Naviga'] != 0]"
   ]
  },
  {
   "cell_type": "code",
   "execution_count": 56,
   "metadata": {},
   "outputs": [
    {
     "data": {
      "text/plain": [
       "14677"
      ]
     },
     "execution_count": 56,
     "metadata": {},
     "output_type": "execute_result"
    }
   ],
   "source": [
    "len(df3)"
   ]
  },
  {
   "cell_type": "code",
   "execution_count": 59,
   "metadata": {},
   "outputs": [
    {
     "data": {
      "text/plain": [
       "13979"
      ]
     },
     "execution_count": 59,
     "metadata": {},
     "output_type": "execute_result"
    }
   ],
   "source": [
    "df4 = pd.DataFrame(nav[[\"Location_Naviga\",\"Location_ID\"]])\n",
    "df4 = df4.dropna()\n",
    "len(df4)"
   ]
  },
  {
   "cell_type": "code",
   "execution_count": 60,
   "metadata": {},
   "outputs": [],
   "source": [
    "df2 = df4.duplicated(subset=\"Location_Naviga\", keep='first')"
   ]
  },
  {
   "cell_type": "code",
   "execution_count": 61,
   "metadata": {},
   "outputs": [],
   "source": [
    "for i in range(13979):\n",
    "    df4.loc[i,\"Location_ID\"] = [df4.loc[i,\"Location_ID\"]]"
   ]
  },
  {
   "cell_type": "code",
   "execution_count": 62,
   "metadata": {},
   "outputs": [],
   "source": [
    "for i in range(13979):\n",
    "    if(df2[i]==True):\n",
    "        lists=[]\n",
    "        flag =0\n",
    "        for j in range(13979):\n",
    "            if df4.loc[j,\"Location_Naviga\"] == df4.loc[i,\"Location_Naviga\"] and i!=j:\n",
    "                if flag==0:\n",
    "                    first = j\n",
    "                    flag=1\n",
    "                lists.append(df4.loc[j,\"Location_ID\"])\n",
    "        df4.loc[first,\"Location_ID\"].extend(lists)"
   ]
  },
  {
   "cell_type": "code",
   "execution_count": 63,
   "metadata": {},
   "outputs": [],
   "source": [
    "for i in range(13979):\n",
    "    if df2[i] == True and len(df4.loc[i,\"Location_ID\"])==1:\n",
    "        df4.loc[i,\"Location_Naviga\"] = 0"
   ]
  },
  {
   "cell_type": "code",
   "execution_count": 64,
   "metadata": {},
   "outputs": [],
   "source": [
    "df4 = df4[df4['Location_Naviga'] != 0]"
   ]
  },
  {
   "cell_type": "code",
   "execution_count": 65,
   "metadata": {},
   "outputs": [
    {
     "data": {
      "text/plain": [
       "13314"
      ]
     },
     "execution_count": 65,
     "metadata": {},
     "output_type": "execute_result"
    }
   ],
   "source": [
    "len(df4)"
   ]
  },
  {
   "cell_type": "code",
   "execution_count": 66,
   "metadata": {},
   "outputs": [],
   "source": [
    "df_doc = pd.concat([df1,df3,df4], ignore_index=True, axis=1)\n",
    "# nav = nav.append(df_doc)"
   ]
  },
  {
   "cell_type": "code",
   "execution_count": 67,
   "metadata": {},
   "outputs": [
    {
     "data": {
      "text/html": [
       "<div>\n",
       "<style scoped>\n",
       "    .dataframe tbody tr th:only-of-type {\n",
       "        vertical-align: middle;\n",
       "    }\n",
       "\n",
       "    .dataframe tbody tr th {\n",
       "        vertical-align: top;\n",
       "    }\n",
       "\n",
       "    .dataframe thead th {\n",
       "        text-align: right;\n",
       "    }\n",
       "</style>\n",
       "<table border=\"1\" class=\"dataframe\">\n",
       "  <thead>\n",
       "    <tr style=\"text-align: right;\">\n",
       "      <th></th>\n",
       "      <th>0</th>\n",
       "      <th>1</th>\n",
       "      <th>2</th>\n",
       "      <th>3</th>\n",
       "      <th>4</th>\n",
       "      <th>5</th>\n",
       "    </tr>\n",
       "  </thead>\n",
       "  <tbody>\n",
       "    <tr>\n",
       "      <th>0</th>\n",
       "      <td>Kobe Bryant</td>\n",
       "      <td>[167424f8-ca7f-4224-a00b-a54a5a7766c7]</td>\n",
       "      <td>Chicago Bulls'</td>\n",
       "      <td>[167424f8-ca7f-4224-a00b-a54a5a7766c7]</td>\n",
       "      <td>Mount Rushmore</td>\n",
       "      <td>[167424f8-ca7f-4224-a00b-a54a5a7766c7]</td>\n",
       "    </tr>\n",
       "    <tr>\n",
       "      <th>1</th>\n",
       "      <td>LeBron James</td>\n",
       "      <td>[167424f8-ca7f-4224-a00b-a54a5a7766c7]</td>\n",
       "      <td>ESPN's</td>\n",
       "      <td>[167424f8-ca7f-4224-a00b-a54a5a7766c7]</td>\n",
       "      <td>Los Angeles</td>\n",
       "      <td>[167424f8-ca7f-4224-a00b-a54a5a7766c7, [167424...</td>\n",
       "    </tr>\n",
       "    <tr>\n",
       "      <th>2</th>\n",
       "      <td>Michael Jordan</td>\n",
       "      <td>[167424f8-ca7f-4224-a00b-a54a5a7766c7]</td>\n",
       "      <td>Boston Celtics</td>\n",
       "      <td>[167424f8-ca7f-4224-a00b-a54a5a7766c7]</td>\n",
       "      <td>Des Plaines American Legion Post 36</td>\n",
       "      <td>[7185ebf3-fa27-4fdc-a9fd-2011165a8603]</td>\n",
       "    </tr>\n",
       "    <tr>\n",
       "      <th>3</th>\n",
       "      <td>Bill Russel</td>\n",
       "      <td>[167424f8-ca7f-4224-a00b-a54a5a7766c7]</td>\n",
       "      <td>Houston Rockets</td>\n",
       "      <td>[167424f8-ca7f-4224-a00b-a54a5a7766c7]</td>\n",
       "      <td>Edward Hotel</td>\n",
       "      <td>[7185ebf3-fa27-4fdc-a9fd-2011165a8603]</td>\n",
       "    </tr>\n",
       "    <tr>\n",
       "      <th>4</th>\n",
       "      <td>Robert Horry</td>\n",
       "      <td>[167424f8-ca7f-4224-a00b-a54a5a7766c7]</td>\n",
       "      <td>Orlando Magic</td>\n",
       "      <td>[167424f8-ca7f-4224-a00b-a54a5a7766c7]</td>\n",
       "      <td>Mannheim Road</td>\n",
       "      <td>[7185ebf3-fa27-4fdc-a9fd-2011165a8603]</td>\n",
       "    </tr>\n",
       "  </tbody>\n",
       "</table>\n",
       "</div>"
      ],
      "text/plain": [
       "                0                                       1                2  \\\n",
       "0     Kobe Bryant  [167424f8-ca7f-4224-a00b-a54a5a7766c7]   Chicago Bulls'   \n",
       "1    LeBron James  [167424f8-ca7f-4224-a00b-a54a5a7766c7]           ESPN's   \n",
       "2  Michael Jordan  [167424f8-ca7f-4224-a00b-a54a5a7766c7]   Boston Celtics   \n",
       "3     Bill Russel  [167424f8-ca7f-4224-a00b-a54a5a7766c7]  Houston Rockets   \n",
       "4    Robert Horry  [167424f8-ca7f-4224-a00b-a54a5a7766c7]    Orlando Magic   \n",
       "\n",
       "                                        3  \\\n",
       "0  [167424f8-ca7f-4224-a00b-a54a5a7766c7]   \n",
       "1  [167424f8-ca7f-4224-a00b-a54a5a7766c7]   \n",
       "2  [167424f8-ca7f-4224-a00b-a54a5a7766c7]   \n",
       "3  [167424f8-ca7f-4224-a00b-a54a5a7766c7]   \n",
       "4  [167424f8-ca7f-4224-a00b-a54a5a7766c7]   \n",
       "\n",
       "                                     4  \\\n",
       "0                       Mount Rushmore   \n",
       "1                          Los Angeles   \n",
       "2  Des Plaines American Legion Post 36   \n",
       "3                         Edward Hotel   \n",
       "4                        Mannheim Road   \n",
       "\n",
       "                                                   5  \n",
       "0             [167424f8-ca7f-4224-a00b-a54a5a7766c7]  \n",
       "1  [167424f8-ca7f-4224-a00b-a54a5a7766c7, [167424...  \n",
       "2             [7185ebf3-fa27-4fdc-a9fd-2011165a8603]  \n",
       "3             [7185ebf3-fa27-4fdc-a9fd-2011165a8603]  \n",
       "4             [7185ebf3-fa27-4fdc-a9fd-2011165a8603]  "
      ]
     },
     "execution_count": 67,
     "metadata": {},
     "output_type": "execute_result"
    }
   ],
   "source": [
    "df_doc.head()"
   ]
  },
  {
   "cell_type": "code",
   "execution_count": 68,
   "metadata": {},
   "outputs": [],
   "source": [
    "df_doc = df_doc.fillna(\"\")\n",
    "df_doc = df_doc.rename(columns={0: \"Person_Naviga\", 1: \"Person_ID\", 2:\"Company_Naviga\", 3:\"Company_ID\", 4:\"Location_Naviga\",5:\"Location_ID\"})"
   ]
  },
  {
   "cell_type": "code",
   "execution_count": 69,
   "metadata": {},
   "outputs": [
    {
     "data": {
      "text/html": [
       "<div>\n",
       "<style scoped>\n",
       "    .dataframe tbody tr th:only-of-type {\n",
       "        vertical-align: middle;\n",
       "    }\n",
       "\n",
       "    .dataframe tbody tr th {\n",
       "        vertical-align: top;\n",
       "    }\n",
       "\n",
       "    .dataframe thead th {\n",
       "        text-align: right;\n",
       "    }\n",
       "</style>\n",
       "<table border=\"1\" class=\"dataframe\">\n",
       "  <thead>\n",
       "    <tr style=\"text-align: right;\">\n",
       "      <th></th>\n",
       "      <th>Person_Naviga</th>\n",
       "      <th>Person_ID</th>\n",
       "      <th>Company_Naviga</th>\n",
       "      <th>Company_ID</th>\n",
       "      <th>Location_Naviga</th>\n",
       "      <th>Location_ID</th>\n",
       "    </tr>\n",
       "  </thead>\n",
       "  <tbody>\n",
       "    <tr>\n",
       "      <th>0</th>\n",
       "      <td>Kobe Bryant</td>\n",
       "      <td>[167424f8-ca7f-4224-a00b-a54a5a7766c7]</td>\n",
       "      <td>Chicago Bulls'</td>\n",
       "      <td>[167424f8-ca7f-4224-a00b-a54a5a7766c7]</td>\n",
       "      <td>Mount Rushmore</td>\n",
       "      <td>[167424f8-ca7f-4224-a00b-a54a5a7766c7]</td>\n",
       "    </tr>\n",
       "    <tr>\n",
       "      <th>1</th>\n",
       "      <td>LeBron James</td>\n",
       "      <td>[167424f8-ca7f-4224-a00b-a54a5a7766c7]</td>\n",
       "      <td>ESPN's</td>\n",
       "      <td>[167424f8-ca7f-4224-a00b-a54a5a7766c7]</td>\n",
       "      <td>Los Angeles</td>\n",
       "      <td>[167424f8-ca7f-4224-a00b-a54a5a7766c7, [167424...</td>\n",
       "    </tr>\n",
       "    <tr>\n",
       "      <th>2</th>\n",
       "      <td>Michael Jordan</td>\n",
       "      <td>[167424f8-ca7f-4224-a00b-a54a5a7766c7]</td>\n",
       "      <td>Boston Celtics</td>\n",
       "      <td>[167424f8-ca7f-4224-a00b-a54a5a7766c7]</td>\n",
       "      <td>Des Plaines American Legion Post 36</td>\n",
       "      <td>[7185ebf3-fa27-4fdc-a9fd-2011165a8603]</td>\n",
       "    </tr>\n",
       "    <tr>\n",
       "      <th>3</th>\n",
       "      <td>Bill Russel</td>\n",
       "      <td>[167424f8-ca7f-4224-a00b-a54a5a7766c7]</td>\n",
       "      <td>Houston Rockets</td>\n",
       "      <td>[167424f8-ca7f-4224-a00b-a54a5a7766c7]</td>\n",
       "      <td>Edward Hotel</td>\n",
       "      <td>[7185ebf3-fa27-4fdc-a9fd-2011165a8603]</td>\n",
       "    </tr>\n",
       "    <tr>\n",
       "      <th>4</th>\n",
       "      <td>Robert Horry</td>\n",
       "      <td>[167424f8-ca7f-4224-a00b-a54a5a7766c7]</td>\n",
       "      <td>Orlando Magic</td>\n",
       "      <td>[167424f8-ca7f-4224-a00b-a54a5a7766c7]</td>\n",
       "      <td>Mannheim Road</td>\n",
       "      <td>[7185ebf3-fa27-4fdc-a9fd-2011165a8603]</td>\n",
       "    </tr>\n",
       "  </tbody>\n",
       "</table>\n",
       "</div>"
      ],
      "text/plain": [
       "    Person_Naviga                               Person_ID   Company_Naviga  \\\n",
       "0     Kobe Bryant  [167424f8-ca7f-4224-a00b-a54a5a7766c7]   Chicago Bulls'   \n",
       "1    LeBron James  [167424f8-ca7f-4224-a00b-a54a5a7766c7]           ESPN's   \n",
       "2  Michael Jordan  [167424f8-ca7f-4224-a00b-a54a5a7766c7]   Boston Celtics   \n",
       "3     Bill Russel  [167424f8-ca7f-4224-a00b-a54a5a7766c7]  Houston Rockets   \n",
       "4    Robert Horry  [167424f8-ca7f-4224-a00b-a54a5a7766c7]    Orlando Magic   \n",
       "\n",
       "                               Company_ID  \\\n",
       "0  [167424f8-ca7f-4224-a00b-a54a5a7766c7]   \n",
       "1  [167424f8-ca7f-4224-a00b-a54a5a7766c7]   \n",
       "2  [167424f8-ca7f-4224-a00b-a54a5a7766c7]   \n",
       "3  [167424f8-ca7f-4224-a00b-a54a5a7766c7]   \n",
       "4  [167424f8-ca7f-4224-a00b-a54a5a7766c7]   \n",
       "\n",
       "                       Location_Naviga  \\\n",
       "0                       Mount Rushmore   \n",
       "1                          Los Angeles   \n",
       "2  Des Plaines American Legion Post 36   \n",
       "3                         Edward Hotel   \n",
       "4                        Mannheim Road   \n",
       "\n",
       "                                         Location_ID  \n",
       "0             [167424f8-ca7f-4224-a00b-a54a5a7766c7]  \n",
       "1  [167424f8-ca7f-4224-a00b-a54a5a7766c7, [167424...  \n",
       "2             [7185ebf3-fa27-4fdc-a9fd-2011165a8603]  \n",
       "3             [7185ebf3-fa27-4fdc-a9fd-2011165a8603]  \n",
       "4             [7185ebf3-fa27-4fdc-a9fd-2011165a8603]  "
      ]
     },
     "execution_count": 69,
     "metadata": {},
     "output_type": "execute_result"
    }
   ],
   "source": [
    "df_doc.head()"
   ]
  },
  {
   "cell_type": "code",
   "execution_count": 70,
   "metadata": {},
   "outputs": [
    {
     "data": {
      "text/plain": [
       "Index(['Person_Naviga', 'Person_ID', 'Company_Naviga', 'Company_ID',\n",
       "       'Location_Naviga', 'Location_ID'],\n",
       "      dtype='object')"
      ]
     },
     "execution_count": 70,
     "metadata": {},
     "output_type": "execute_result"
    }
   ],
   "source": [
    "df_doc.columns"
   ]
  },
  {
   "cell_type": "code",
   "execution_count": 71,
   "metadata": {},
   "outputs": [],
   "source": [
    "df_doc.to_excel(\"Naviga_Entity_Extraction_v002.xlsx\", sheet_name=\"Naviga\",index=False)"
   ]
  },
  {
   "cell_type": "code",
   "execution_count": null,
   "metadata": {},
   "outputs": [],
   "source": []
  }
 ],
 "metadata": {
  "kernelspec": {
   "display_name": "discovery",
   "language": "python",
   "name": "discovery"
  },
  "language_info": {
   "codemirror_mode": {
    "name": "ipython",
    "version": 3
   },
   "file_extension": ".py",
   "mimetype": "text/x-python",
   "name": "python",
   "nbconvert_exporter": "python",
   "pygments_lexer": "ipython3",
   "version": "3.6.9"
  }
 },
 "nbformat": 4,
 "nbformat_minor": 2
}
