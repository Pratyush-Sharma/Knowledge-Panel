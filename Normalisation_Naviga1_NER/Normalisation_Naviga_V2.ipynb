{
 "cells": [
  {
   "cell_type": "markdown",
   "metadata": {},
   "source": [
    "## Summary \n",
    "\n",
    "- DATA USED - Naviga_Entity_Extraction_v002.xlsx\n",
    "\n",
    "\n",
    "- FILES CREATED - location_norm2raw2, location_raw2norm2, company_norm2raw2, company_raw2norm2, persons_norm2raw2, persons_raw2norm2\n",
    "               \n",
    "\n",
    "- Matching algorithms of notebook 'entity_normalization_ver_0_3_6' were combined in a script file Normalization_Helper.py and used, Co Document Ratio was not used. DKE-Intervention/Post-processing was done for all 3 types of entities manually.\n",
    "\n"
   ]
  },
  {
   "cell_type": "code",
   "execution_count": 1,
   "metadata": {},
   "outputs": [],
   "source": [
    "import numpy as np\n",
    "import pandas as pd\n",
    "from scipy.sparse import csr_matrix\n",
    "import json\n",
    "import math\n",
    "import copy\n",
    "import random\n",
    "from collections import defaultdict, Counter, OrderedDict\n",
    "from itertools import combinations\n",
    "import unicodedata\n",
    "import re\n",
    "import matplotlib.pyplot as plt\n",
    "import pickle"
   ]
  },
  {
   "cell_type": "code",
   "execution_count": 2,
   "metadata": {},
   "outputs": [],
   "source": [
    "from sklearn.feature_extraction.text import TfidfTransformer\n",
    "from sklearn.feature_extraction.text import TfidfVectorizer"
   ]
  },
  {
   "cell_type": "code",
   "execution_count": 3,
   "metadata": {},
   "outputs": [],
   "source": [
    "import Levenshtein as lvst\n",
    "from metaphone import doublemetaphone as dmt_phone\n",
    "import networkx as nx\n",
    "import nxviz as nv"
   ]
  },
  {
   "cell_type": "code",
   "execution_count": 4,
   "metadata": {},
   "outputs": [],
   "source": [
    "from sparse_dot_topn import awesome_cossim_topn as cossim_topn"
   ]
  },
  {
   "cell_type": "code",
   "execution_count": 5,
   "metadata": {},
   "outputs": [],
   "source": [
    "from Normalisation_Helper import get_df_match,add_match_score,cut_off,get_connected_comp,get_postProcessigUnits\n",
    "from Normalisation_Helper import choose_normalized,get_comp_final,make_norm_dict,normalize_unicode_to_ascii"
   ]
  },
  {
   "cell_type": "code",
   "execution_count": 6,
   "metadata": {},
   "outputs": [],
   "source": [
    "df=pd.read_excel(\"Naviga_Entity_Extraction_v002.xlsx\")\n",
    "df = df.fillna(\"\")"
   ]
  },
  {
   "cell_type": "code",
   "execution_count": 7,
   "metadata": {},
   "outputs": [],
   "source": [
    "persons= df[\"Person_Naviga\"]\n",
    "company = df[\"Company_Naviga\"]\n",
    "location = df[\"Location_Naviga\"]"
   ]
  },
  {
   "cell_type": "markdown",
   "metadata": {},
   "source": [
    "## Persons\n"
   ]
  },
  {
   "cell_type": "code",
   "execution_count": 22,
   "metadata": {},
   "outputs": [
    {
     "name": "stdout",
     "output_type": "stream",
     "text": [
      "# of candidate pairs: 2588\n"
     ]
    }
   ],
   "source": [
    "df_persons = get_df_match(persons, 'Person', wiki_match=False, sorting_1st_letters=True)"
   ]
  },
  {
   "cell_type": "code",
   "execution_count": 23,
   "metadata": {},
   "outputs": [],
   "source": [
    "weights_person = [4,2,1,1,1]\n",
    "add_match_score(df_persons, weights=weights_person)"
   ]
  },
  {
   "cell_type": "code",
   "execution_count": 24,
   "metadata": {},
   "outputs": [],
   "source": [
    "df_persons = cut_off(df_persons)"
   ]
  },
  {
   "cell_type": "code",
   "execution_count": 25,
   "metadata": {},
   "outputs": [
    {
     "data": {
      "text/plain": [
       "(69, 8)"
      ]
     },
     "execution_count": 25,
     "metadata": {},
     "output_type": "execute_result"
    }
   ],
   "source": [
    "df_persons.shape"
   ]
  },
  {
   "cell_type": "code",
   "execution_count": 26,
   "metadata": {},
   "outputs": [
    {
     "data": {
      "text/html": [
       "<div>\n",
       "<style scoped>\n",
       "    .dataframe tbody tr th:only-of-type {\n",
       "        vertical-align: middle;\n",
       "    }\n",
       "\n",
       "    .dataframe tbody tr th {\n",
       "        vertical-align: top;\n",
       "    }\n",
       "\n",
       "    .dataframe thead th {\n",
       "        text-align: right;\n",
       "    }\n",
       "</style>\n",
       "<table border=\"1\" class=\"dataframe\">\n",
       "  <thead>\n",
       "    <tr style=\"text-align: right;\">\n",
       "      <th></th>\n",
       "      <th>in_text</th>\n",
       "      <th>matched</th>\n",
       "      <th>similarity</th>\n",
       "      <th>first_letter_match</th>\n",
       "      <th>dmtph_match</th>\n",
       "      <th>inv_lvst_dist</th>\n",
       "      <th>jw_sim</th>\n",
       "      <th>match_score</th>\n",
       "    </tr>\n",
       "  </thead>\n",
       "  <tbody>\n",
       "    <tr>\n",
       "      <th>0</th>\n",
       "      <td>Beaver Dam</td>\n",
       "      <td>BEAVER DAM</td>\n",
       "      <td>1.0</td>\n",
       "      <td>True</td>\n",
       "      <td>0.997527</td>\n",
       "      <td>1.0</td>\n",
       "      <td>1.0</td>\n",
       "      <td>0.999725</td>\n",
       "    </tr>\n",
       "    <tr>\n",
       "      <th>1</th>\n",
       "      <td>Ms. Jones</td>\n",
       "      <td>Mrs. Jones</td>\n",
       "      <td>1.0</td>\n",
       "      <td>True</td>\n",
       "      <td>0.997527</td>\n",
       "      <td>1.0</td>\n",
       "      <td>1.0</td>\n",
       "      <td>0.999725</td>\n",
       "    </tr>\n",
       "    <tr>\n",
       "      <th>2</th>\n",
       "      <td>Brian Mahoney</td>\n",
       "      <td>BRIAN MAHONEY</td>\n",
       "      <td>1.0</td>\n",
       "      <td>True</td>\n",
       "      <td>0.997527</td>\n",
       "      <td>1.0</td>\n",
       "      <td>1.0</td>\n",
       "      <td>0.999725</td>\n",
       "    </tr>\n",
       "    <tr>\n",
       "      <th>3</th>\n",
       "      <td>Kim Jong-un</td>\n",
       "      <td>Kim Jong Un</td>\n",
       "      <td>1.0</td>\n",
       "      <td>True</td>\n",
       "      <td>0.997527</td>\n",
       "      <td>1.0</td>\n",
       "      <td>1.0</td>\n",
       "      <td>0.999725</td>\n",
       "    </tr>\n",
       "    <tr>\n",
       "      <th>4</th>\n",
       "      <td>NADIA BOULANGER</td>\n",
       "      <td>Nadia Boulanger</td>\n",
       "      <td>1.0</td>\n",
       "      <td>True</td>\n",
       "      <td>0.997527</td>\n",
       "      <td>1.0</td>\n",
       "      <td>1.0</td>\n",
       "      <td>0.999725</td>\n",
       "    </tr>\n",
       "    <tr>\n",
       "      <th>5</th>\n",
       "      <td>Gov DeWine</td>\n",
       "      <td>Gov. DeWine</td>\n",
       "      <td>1.0</td>\n",
       "      <td>True</td>\n",
       "      <td>0.997527</td>\n",
       "      <td>1.0</td>\n",
       "      <td>1.0</td>\n",
       "      <td>0.999725</td>\n",
       "    </tr>\n",
       "    <tr>\n",
       "      <th>6</th>\n",
       "      <td>PLANT SALE</td>\n",
       "      <td>Plant Sale</td>\n",
       "      <td>1.0</td>\n",
       "      <td>True</td>\n",
       "      <td>0.997527</td>\n",
       "      <td>1.0</td>\n",
       "      <td>1.0</td>\n",
       "      <td>0.999725</td>\n",
       "    </tr>\n",
       "    <tr>\n",
       "      <th>7</th>\n",
       "      <td>DEAR ABBY</td>\n",
       "      <td>Dear Abby</td>\n",
       "      <td>1.0</td>\n",
       "      <td>True</td>\n",
       "      <td>0.997527</td>\n",
       "      <td>1.0</td>\n",
       "      <td>1.0</td>\n",
       "      <td>0.999725</td>\n",
       "    </tr>\n",
       "    <tr>\n",
       "      <th>8</th>\n",
       "      <td>President Carter</td>\n",
       "      <td>Mr. Carter</td>\n",
       "      <td>1.0</td>\n",
       "      <td>True</td>\n",
       "      <td>0.997527</td>\n",
       "      <td>1.0</td>\n",
       "      <td>1.0</td>\n",
       "      <td>0.999725</td>\n",
       "    </tr>\n",
       "    <tr>\n",
       "      <th>9</th>\n",
       "      <td>President Trump's</td>\n",
       "      <td>Mrs. Trump's</td>\n",
       "      <td>1.0</td>\n",
       "      <td>True</td>\n",
       "      <td>0.997527</td>\n",
       "      <td>1.0</td>\n",
       "      <td>1.0</td>\n",
       "      <td>0.999725</td>\n",
       "    </tr>\n",
       "  </tbody>\n",
       "</table>\n",
       "</div>"
      ],
      "text/plain": [
       "             in_text          matched  similarity  first_letter_match  \\\n",
       "0         Beaver Dam       BEAVER DAM         1.0                True   \n",
       "1          Ms. Jones       Mrs. Jones         1.0                True   \n",
       "2      Brian Mahoney    BRIAN MAHONEY         1.0                True   \n",
       "3        Kim Jong-un      Kim Jong Un         1.0                True   \n",
       "4    NADIA BOULANGER  Nadia Boulanger         1.0                True   \n",
       "5         Gov DeWine      Gov. DeWine         1.0                True   \n",
       "6         PLANT SALE       Plant Sale         1.0                True   \n",
       "7          DEAR ABBY        Dear Abby         1.0                True   \n",
       "8   President Carter       Mr. Carter         1.0                True   \n",
       "9  President Trump's     Mrs. Trump's         1.0                True   \n",
       "\n",
       "   dmtph_match  inv_lvst_dist  jw_sim  match_score  \n",
       "0     0.997527            1.0     1.0     0.999725  \n",
       "1     0.997527            1.0     1.0     0.999725  \n",
       "2     0.997527            1.0     1.0     0.999725  \n",
       "3     0.997527            1.0     1.0     0.999725  \n",
       "4     0.997527            1.0     1.0     0.999725  \n",
       "5     0.997527            1.0     1.0     0.999725  \n",
       "6     0.997527            1.0     1.0     0.999725  \n",
       "7     0.997527            1.0     1.0     0.999725  \n",
       "8     0.997527            1.0     1.0     0.999725  \n",
       "9     0.997527            1.0     1.0     0.999725  "
      ]
     },
     "execution_count": 26,
     "metadata": {},
     "output_type": "execute_result"
    }
   ],
   "source": [
    "df_persons.head(10)"
   ]
  },
  {
   "cell_type": "code",
   "execution_count": 27,
   "metadata": {},
   "outputs": [
    {
     "data": {
      "text/html": [
       "<div>\n",
       "<style scoped>\n",
       "    .dataframe tbody tr th:only-of-type {\n",
       "        vertical-align: middle;\n",
       "    }\n",
       "\n",
       "    .dataframe tbody tr th {\n",
       "        vertical-align: top;\n",
       "    }\n",
       "\n",
       "    .dataframe thead th {\n",
       "        text-align: right;\n",
       "    }\n",
       "</style>\n",
       "<table border=\"1\" class=\"dataframe\">\n",
       "  <thead>\n",
       "    <tr style=\"text-align: right;\">\n",
       "      <th></th>\n",
       "      <th>in_text</th>\n",
       "      <th>matched</th>\n",
       "      <th>similarity</th>\n",
       "      <th>first_letter_match</th>\n",
       "      <th>dmtph_match</th>\n",
       "      <th>inv_lvst_dist</th>\n",
       "      <th>jw_sim</th>\n",
       "      <th>match_score</th>\n",
       "    </tr>\n",
       "  </thead>\n",
       "  <tbody>\n",
       "    <tr>\n",
       "      <th>59</th>\n",
       "      <td>William Lesh</td>\n",
       "      <td>William Leslie</td>\n",
       "      <td>0.711813</td>\n",
       "      <td>True</td>\n",
       "      <td>8.315280e-07</td>\n",
       "      <td>0.333333</td>\n",
       "      <td>1.000000</td>\n",
       "      <td>0.686732</td>\n",
       "    </tr>\n",
       "    <tr>\n",
       "      <th>60</th>\n",
       "      <td>Kenny Porterfield</td>\n",
       "      <td>Kady Porterfield</td>\n",
       "      <td>0.762040</td>\n",
       "      <td>True</td>\n",
       "      <td>1.233946e-04</td>\n",
       "      <td>0.333333</td>\n",
       "      <td>0.791702</td>\n",
       "      <td>0.685924</td>\n",
       "    </tr>\n",
       "    <tr>\n",
       "      <th>61</th>\n",
       "      <td>Tod von George Floyd</td>\n",
       "      <td>von George Floyds Tod</td>\n",
       "      <td>0.819859</td>\n",
       "      <td>True</td>\n",
       "      <td>8.315280e-07</td>\n",
       "      <td>0.111111</td>\n",
       "      <td>0.752381</td>\n",
       "      <td>0.682547</td>\n",
       "    </tr>\n",
       "    <tr>\n",
       "      <th>62</th>\n",
       "      <td>Mar&amp;#237;a Blanco</td>\n",
       "      <td>Mar&amp;#237;a Brenes</td>\n",
       "      <td>0.712363</td>\n",
       "      <td>True</td>\n",
       "      <td>1.233946e-04</td>\n",
       "      <td>0.250000</td>\n",
       "      <td>1.000000</td>\n",
       "      <td>0.677730</td>\n",
       "    </tr>\n",
       "    <tr>\n",
       "      <th>63</th>\n",
       "      <td>Garret Smith</td>\n",
       "      <td>Garrett Smithley</td>\n",
       "      <td>0.723815</td>\n",
       "      <td>True</td>\n",
       "      <td>8.315280e-07</td>\n",
       "      <td>0.250000</td>\n",
       "      <td>0.938889</td>\n",
       "      <td>0.676016</td>\n",
       "    </tr>\n",
       "    <tr>\n",
       "      <th>64</th>\n",
       "      <td>Calais Campbell</td>\n",
       "      <td>Chris Campbell</td>\n",
       "      <td>0.711167</td>\n",
       "      <td>True</td>\n",
       "      <td>1.233946e-04</td>\n",
       "      <td>0.333333</td>\n",
       "      <td>0.834643</td>\n",
       "      <td>0.668085</td>\n",
       "    </tr>\n",
       "    <tr>\n",
       "      <th>65</th>\n",
       "      <td>Ben Crump</td>\n",
       "      <td>Benjamin Crump</td>\n",
       "      <td>0.735444</td>\n",
       "      <td>True</td>\n",
       "      <td>1.233946e-04</td>\n",
       "      <td>0.200000</td>\n",
       "      <td>0.851852</td>\n",
       "      <td>0.665972</td>\n",
       "    </tr>\n",
       "    <tr>\n",
       "      <th>66</th>\n",
       "      <td>Valerie Arkoosh</td>\n",
       "      <td>Valerie A. Arkoosh</td>\n",
       "      <td>0.935304</td>\n",
       "      <td>False</td>\n",
       "      <td>7.310586e-01</td>\n",
       "      <td>0.500000</td>\n",
       "      <td>0.996078</td>\n",
       "      <td>0.663150</td>\n",
       "    </tr>\n",
       "    <tr>\n",
       "      <th>67</th>\n",
       "      <td>James Phillips</td>\n",
       "      <td>J. Phillips</td>\n",
       "      <td>0.710630</td>\n",
       "      <td>True</td>\n",
       "      <td>8.315280e-07</td>\n",
       "      <td>0.250000</td>\n",
       "      <td>0.779286</td>\n",
       "      <td>0.652423</td>\n",
       "    </tr>\n",
       "    <tr>\n",
       "      <th>68</th>\n",
       "      <td>William Bryan</td>\n",
       "      <td>Bryan Williams</td>\n",
       "      <td>0.776557</td>\n",
       "      <td>True</td>\n",
       "      <td>8.315280e-07</td>\n",
       "      <td>0.083333</td>\n",
       "      <td>0.614850</td>\n",
       "      <td>0.644935</td>\n",
       "    </tr>\n",
       "  </tbody>\n",
       "</table>\n",
       "</div>"
      ],
      "text/plain": [
       "                 in_text                matched  similarity  \\\n",
       "59          William Lesh         William Leslie    0.711813   \n",
       "60     Kenny Porterfield       Kady Porterfield    0.762040   \n",
       "61  Tod von George Floyd  von George Floyds Tod    0.819859   \n",
       "62     Mar&#237;a Blanco      Mar&#237;a Brenes    0.712363   \n",
       "63          Garret Smith       Garrett Smithley    0.723815   \n",
       "64       Calais Campbell         Chris Campbell    0.711167   \n",
       "65             Ben Crump         Benjamin Crump    0.735444   \n",
       "66       Valerie Arkoosh     Valerie A. Arkoosh    0.935304   \n",
       "67        James Phillips            J. Phillips    0.710630   \n",
       "68         William Bryan         Bryan Williams    0.776557   \n",
       "\n",
       "    first_letter_match   dmtph_match  inv_lvst_dist    jw_sim  match_score  \n",
       "59                True  8.315280e-07       0.333333  1.000000     0.686732  \n",
       "60                True  1.233946e-04       0.333333  0.791702     0.685924  \n",
       "61                True  8.315280e-07       0.111111  0.752381     0.682547  \n",
       "62                True  1.233946e-04       0.250000  1.000000     0.677730  \n",
       "63                True  8.315280e-07       0.250000  0.938889     0.676016  \n",
       "64                True  1.233946e-04       0.333333  0.834643     0.668085  \n",
       "65                True  1.233946e-04       0.200000  0.851852     0.665972  \n",
       "66               False  7.310586e-01       0.500000  0.996078     0.663150  \n",
       "67                True  8.315280e-07       0.250000  0.779286     0.652423  \n",
       "68                True  8.315280e-07       0.083333  0.614850     0.644935  "
      ]
     },
     "execution_count": 27,
     "metadata": {},
     "output_type": "execute_result"
    }
   ],
   "source": [
    "df_persons.tail(10)"
   ]
  },
  {
   "cell_type": "code",
   "execution_count": 28,
   "metadata": {},
   "outputs": [],
   "source": [
    "persons_connected = get_connected_comp(df_persons)\n",
    "connected_comp = persons_connected"
   ]
  },
  {
   "cell_type": "code",
   "execution_count": 29,
   "metadata": {},
   "outputs": [],
   "source": [
    "connected_comp_short, connected_comp_long, connected_comp_all = get_postProcessigUnits(connected_comp)"
   ]
  },
  {
   "cell_type": "code",
   "execution_count": 30,
   "metadata": {},
   "outputs": [
    {
     "name": "stdout",
     "output_type": "stream",
     "text": [
      "63\n",
      "3\n",
      "66\n"
     ]
    }
   ],
   "source": [
    "print(len(connected_comp_short))\n",
    "print(len(connected_comp_long))\n",
    "print(len(connected_comp_all))"
   ]
  },
  {
   "cell_type": "code",
   "execution_count": 31,
   "metadata": {},
   "outputs": [
    {
     "data": {
      "text/plain": [
       "[(0, ['Adirondack Wine', 'ADIRONDACK WINE']),\n",
       " (1, ['Alma Mahler', 'ALMA MAHLER']),\n",
       " (2, ['Antonio Guterres', 'Antnio Guterres']),\n",
       " (3, ['BEETHOVEN', 'Beethoven']),\n",
       " (4, ['BRENDA BETHUNE', 'Brenda Bethune']),\n",
       " (5, ['BRIAN MAHONEY', 'Brian Mahoney']),\n",
       " (6, ['Baker MG', 'Mr Baker']),\n",
       " (7, ['Beaver Dam', 'BEAVER DAM']),\n",
       " (8, ['Beekman Street Art Fair', 'BEEKMAN STREET ART FAIR']),\n",
       " (9, ['Ben Crump', 'Benjamin Crump']),\n",
       " (10, ['Ben Warpup', 'Brian Warpup']),\n",
       " (11, ['Benjamin Harris', 'Benjamin Hardin']),\n",
       " (12, [\"Bill De Blasio's\", \"Bill de Blasio's\"]),\n",
       " (13, ['Breonne Taylor', 'Breonna Taylor']),\n",
       " (14, ['Brian Douglass', 'Brian Douglas']),\n",
       " (15, ['Bruce Winters', 'Bruce Winten']),\n",
       " (16, ['Chris Campbell', 'Calais Campbell']),\n",
       " (17, ['Christiano Ronaldo', 'Cristiano Ronaldo']),\n",
       " (18, ['Dan Nelson', 'Don Nelson']),\n",
       " (19, ['Dave Robertson', 'Dave Roberts'])]"
      ]
     },
     "execution_count": 31,
     "metadata": {},
     "output_type": "execute_result"
    }
   ],
   "source": [
    "connected_comp_short[:20]"
   ]
  },
  {
   "cell_type": "code",
   "execution_count": 32,
   "metadata": {},
   "outputs": [
    {
     "data": {
      "text/plain": [
       "3"
      ]
     },
     "execution_count": 32,
     "metadata": {},
     "output_type": "execute_result"
    }
   ],
   "source": [
    "len(connected_comp_long)"
   ]
  },
  {
   "cell_type": "code",
   "execution_count": 33,
   "metadata": {},
   "outputs": [
    {
     "data": {
      "text/plain": [
       "[(0, ['Mr. Jones', 'Mrs. Jones', 'Ms. Jones']),\n",
       " (1, [\"Mrs. Trump's\", \"Mr. Trump's\", \"President Trump's\"]),\n",
       " (2, ['President Trump', 'Mrs. Trump', 'Mr. Trump'])]"
      ]
     },
     "execution_count": 33,
     "metadata": {},
     "output_type": "execute_result"
    }
   ],
   "source": [
    "connected_comp_long"
   ]
  },
  {
   "cell_type": "code",
   "execution_count": 34,
   "metadata": {},
   "outputs": [],
   "source": [
    "# manual insepction to excude, connect & add\n",
    "index2exclude = []\n",
    "index2connect = [(1,2)]\n",
    "comp2add = []"
   ]
  },
  {
   "cell_type": "code",
   "execution_count": 35,
   "metadata": {},
   "outputs": [],
   "source": [
    "connected_comp_final = get_comp_final(connected_comp_long, connected_comp_short, is_all=False\n",
    "                                     , index2connect=index2connect\n",
    "                                     , index2exclude=index2exclude\n",
    "                                     , comp2add=comp2add\n",
    "                                     )"
   ]
  },
  {
   "cell_type": "code",
   "execution_count": 36,
   "metadata": {},
   "outputs": [
    {
     "name": "stdout",
     "output_type": "stream",
     "text": [
      "66\n",
      "65\n"
     ]
    }
   ],
   "source": [
    "print(len(connected_comp))\n",
    "print(len(connected_comp_final))"
   ]
  },
  {
   "cell_type": "code",
   "execution_count": 37,
   "metadata": {},
   "outputs": [],
   "source": [
    "persons_connected = connected_comp_final"
   ]
  },
  {
   "cell_type": "code",
   "execution_count": 38,
   "metadata": {},
   "outputs": [],
   "source": [
    "normalized_terms = choose_normalized(persons_connected, choice='long')"
   ]
  },
  {
   "cell_type": "code",
   "execution_count": 39,
   "metadata": {},
   "outputs": [],
   "source": [
    "raw2normalized, normalized2raw = make_norm_dict(persons_connected, normalized_terms)"
   ]
  },
  {
   "cell_type": "code",
   "execution_count": 40,
   "metadata": {},
   "outputs": [
    {
     "name": "stdout",
     "output_type": "stream",
     "text": [
      "# of raw (in-snippet) entiteis normalized: 135\n",
      "# of normalized keys: 65\n"
     ]
    }
   ],
   "source": [
    "print(\"# of raw (in-snippet) entiteis normalized: {}\".format(len(raw2normalized)))\n",
    "print(\"# of normalized keys: {}\".format(len(normalized2raw)))"
   ]
  },
  {
   "cell_type": "code",
   "execution_count": null,
   "metadata": {},
   "outputs": [],
   "source": [
    "ver_string=\"2\"\n",
    "f_name = 'persons_matching' + ver_string\n",
    "df_persons.to_csv(\"corpus/\" + f_name + \".csv\")"
   ]
  },
  {
   "cell_type": "code",
   "execution_count": 41,
   "metadata": {},
   "outputs": [],
   "source": [
    "persons_raw2norm = raw2normalized\n",
    "persons_norm2raw = normalized2raw"
   ]
  },
  {
   "cell_type": "code",
   "execution_count": 42,
   "metadata": {},
   "outputs": [
    {
     "data": {
      "text/plain": [
       "[('Mr. Jones', 'Mrs. Jones'),\n",
       " ('Mrs. Jones', 'Mrs. Jones'),\n",
       " ('Ms. Jones', 'Mrs. Jones'),\n",
       " (\"Mrs. Trump's\", \"President Trump's\"),\n",
       " (\"Mr. Trump's\", \"President Trump's\")]"
      ]
     },
     "execution_count": 42,
     "metadata": {},
     "output_type": "execute_result"
    }
   ],
   "source": [
    "list(persons_raw2norm.items())[:5]"
   ]
  },
  {
   "cell_type": "code",
   "execution_count": 43,
   "metadata": {},
   "outputs": [
    {
     "data": {
      "text/plain": [
       "[('Mrs. Jones', ['Mr. Jones', 'Mrs. Jones', 'Ms. Jones']),\n",
       " (\"President Trump's\",\n",
       "  [\"Mrs. Trump's\",\n",
       "   \"Mr. Trump's\",\n",
       "   \"President Trump's\",\n",
       "   'President Trump',\n",
       "   'Mrs. Trump',\n",
       "   'Mr. Trump']),\n",
       " ('ADIRONDACK WINE', ['Adirondack Wine', 'ADIRONDACK WINE']),\n",
       " ('ALMA MAHLER', ['Alma Mahler', 'ALMA MAHLER']),\n",
       " ('Antonio Guterres', ['Antonio Guterres', 'Antnio Guterres'])]"
      ]
     },
     "execution_count": 43,
     "metadata": {},
     "output_type": "execute_result"
    }
   ],
   "source": [
    "list(persons_norm2raw.items())[:5]"
   ]
  },
  {
   "cell_type": "code",
   "execution_count": null,
   "metadata": {},
   "outputs": [],
   "source": [
    "data_path=\"corpus/\""
   ]
  },
  {
   "cell_type": "code",
   "execution_count": null,
   "metadata": {},
   "outputs": [],
   "source": [
    "f_name = 'persons_raw2norm' + ver_string\n",
    "json_dp = json.dumps(persons_raw2norm)\n",
    "with open(data_path + f_name + \".json\",\"w\") as f:\n",
    "    f.write(json_dp)\n",
    "\n",
    "f_name = 'persons_norm2raw' + ver_string\n",
    "json_dp = json.dumps(persons_norm2raw)\n",
    "with open(data_path + f_name + \".json\",\"w\") as f:\n",
    "    f.write(json_dp)"
   ]
  },
  {
   "cell_type": "markdown",
   "metadata": {},
   "source": [
    "## Company"
   ]
  },
  {
   "cell_type": "code",
   "execution_count": 44,
   "metadata": {},
   "outputs": [
    {
     "name": "stdout",
     "output_type": "stream",
     "text": [
      "# of candidate pairs: 3774\n"
     ]
    }
   ],
   "source": [
    "df_company = get_df_match(company, 'Company', wiki_match=False, sorting_1st_letters=True)"
   ]
  },
  {
   "cell_type": "code",
   "execution_count": 45,
   "metadata": {},
   "outputs": [],
   "source": [
    "weights_company = [4,2,1,1,1]\n",
    "add_match_score(df_company, weights=weights_company)"
   ]
  },
  {
   "cell_type": "code",
   "execution_count": 46,
   "metadata": {},
   "outputs": [],
   "source": [
    "df_company = cut_off(df_company)"
   ]
  },
  {
   "cell_type": "code",
   "execution_count": 47,
   "metadata": {},
   "outputs": [
    {
     "data": {
      "text/plain": [
       "(210, 8)"
      ]
     },
     "execution_count": 47,
     "metadata": {},
     "output_type": "execute_result"
    }
   ],
   "source": [
    "df_company.shape"
   ]
  },
  {
   "cell_type": "code",
   "execution_count": 48,
   "metadata": {},
   "outputs": [
    {
     "data": {
      "text/html": [
       "<div>\n",
       "<style scoped>\n",
       "    .dataframe tbody tr th:only-of-type {\n",
       "        vertical-align: middle;\n",
       "    }\n",
       "\n",
       "    .dataframe tbody tr th {\n",
       "        vertical-align: top;\n",
       "    }\n",
       "\n",
       "    .dataframe thead th {\n",
       "        text-align: right;\n",
       "    }\n",
       "</style>\n",
       "<table border=\"1\" class=\"dataframe\">\n",
       "  <thead>\n",
       "    <tr style=\"text-align: right;\">\n",
       "      <th></th>\n",
       "      <th>in_text</th>\n",
       "      <th>matched</th>\n",
       "      <th>similarity</th>\n",
       "      <th>first_letter_match</th>\n",
       "      <th>dmtph_match</th>\n",
       "      <th>inv_lvst_dist</th>\n",
       "      <th>jw_sim</th>\n",
       "      <th>match_score</th>\n",
       "    </tr>\n",
       "  </thead>\n",
       "  <tbody>\n",
       "    <tr>\n",
       "      <th>0</th>\n",
       "      <td>Senate Judiciary Committee</td>\n",
       "      <td>Senate Judiciary committee</td>\n",
       "      <td>1.0</td>\n",
       "      <td>True</td>\n",
       "      <td>0.997527</td>\n",
       "      <td>1.0</td>\n",
       "      <td>1.0</td>\n",
       "      <td>0.999725</td>\n",
       "    </tr>\n",
       "    <tr>\n",
       "      <th>1</th>\n",
       "      <td>Cdc</td>\n",
       "      <td>cdc</td>\n",
       "      <td>1.0</td>\n",
       "      <td>True</td>\n",
       "      <td>0.997527</td>\n",
       "      <td>1.0</td>\n",
       "      <td>1.0</td>\n",
       "      <td>0.999725</td>\n",
       "    </tr>\n",
       "    <tr>\n",
       "      <th>2</th>\n",
       "      <td>Justice Department</td>\n",
       "      <td>Justice, Department</td>\n",
       "      <td>1.0</td>\n",
       "      <td>True</td>\n",
       "      <td>0.997527</td>\n",
       "      <td>1.0</td>\n",
       "      <td>1.0</td>\n",
       "      <td>0.999725</td>\n",
       "    </tr>\n",
       "    <tr>\n",
       "      <th>3</th>\n",
       "      <td>Department of General Medicine</td>\n",
       "      <td>Department of Medicine</td>\n",
       "      <td>1.0</td>\n",
       "      <td>True</td>\n",
       "      <td>0.997527</td>\n",
       "      <td>1.0</td>\n",
       "      <td>1.0</td>\n",
       "      <td>0.999725</td>\n",
       "    </tr>\n",
       "    <tr>\n",
       "      <th>4</th>\n",
       "      <td>African-American</td>\n",
       "      <td>African American</td>\n",
       "      <td>1.0</td>\n",
       "      <td>True</td>\n",
       "      <td>0.997527</td>\n",
       "      <td>1.0</td>\n",
       "      <td>1.0</td>\n",
       "      <td>0.999725</td>\n",
       "    </tr>\n",
       "    <tr>\n",
       "      <th>5</th>\n",
       "      <td>Red Cross</td>\n",
       "      <td>RED CROSS</td>\n",
       "      <td>1.0</td>\n",
       "      <td>True</td>\n",
       "      <td>0.997527</td>\n",
       "      <td>1.0</td>\n",
       "      <td>1.0</td>\n",
       "      <td>0.999725</td>\n",
       "    </tr>\n",
       "    <tr>\n",
       "      <th>6</th>\n",
       "      <td>M.-G</td>\n",
       "      <td>M. G</td>\n",
       "      <td>1.0</td>\n",
       "      <td>True</td>\n",
       "      <td>0.997527</td>\n",
       "      <td>1.0</td>\n",
       "      <td>1.0</td>\n",
       "      <td>0.999725</td>\n",
       "    </tr>\n",
       "    <tr>\n",
       "      <th>7</th>\n",
       "      <td>Grubhub</td>\n",
       "      <td>GrubHub</td>\n",
       "      <td>1.0</td>\n",
       "      <td>True</td>\n",
       "      <td>0.997527</td>\n",
       "      <td>1.0</td>\n",
       "      <td>1.0</td>\n",
       "      <td>0.999725</td>\n",
       "    </tr>\n",
       "    <tr>\n",
       "      <th>8</th>\n",
       "      <td>The New York Times</td>\n",
       "      <td>the New York Times</td>\n",
       "      <td>1.0</td>\n",
       "      <td>True</td>\n",
       "      <td>0.997527</td>\n",
       "      <td>1.0</td>\n",
       "      <td>1.0</td>\n",
       "      <td>0.999725</td>\n",
       "    </tr>\n",
       "    <tr>\n",
       "      <th>9</th>\n",
       "      <td>UniCredit</td>\n",
       "      <td>Unicredit</td>\n",
       "      <td>1.0</td>\n",
       "      <td>True</td>\n",
       "      <td>0.997527</td>\n",
       "      <td>1.0</td>\n",
       "      <td>1.0</td>\n",
       "      <td>0.999725</td>\n",
       "    </tr>\n",
       "  </tbody>\n",
       "</table>\n",
       "</div>"
      ],
      "text/plain": [
       "                          in_text                     matched  similarity  \\\n",
       "0      Senate Judiciary Committee  Senate Judiciary committee         1.0   \n",
       "1                             Cdc                         cdc         1.0   \n",
       "2              Justice Department         Justice, Department         1.0   \n",
       "3  Department of General Medicine      Department of Medicine         1.0   \n",
       "4                African-American            African American         1.0   \n",
       "5                       Red Cross                   RED CROSS         1.0   \n",
       "6                            M.-G                        M. G         1.0   \n",
       "7                         Grubhub                     GrubHub         1.0   \n",
       "8              The New York Times          the New York Times         1.0   \n",
       "9                       UniCredit                   Unicredit         1.0   \n",
       "\n",
       "   first_letter_match  dmtph_match  inv_lvst_dist  jw_sim  match_score  \n",
       "0                True     0.997527            1.0     1.0     0.999725  \n",
       "1                True     0.997527            1.0     1.0     0.999725  \n",
       "2                True     0.997527            1.0     1.0     0.999725  \n",
       "3                True     0.997527            1.0     1.0     0.999725  \n",
       "4                True     0.997527            1.0     1.0     0.999725  \n",
       "5                True     0.997527            1.0     1.0     0.999725  \n",
       "6                True     0.997527            1.0     1.0     0.999725  \n",
       "7                True     0.997527            1.0     1.0     0.999725  \n",
       "8                True     0.997527            1.0     1.0     0.999725  \n",
       "9                True     0.997527            1.0     1.0     0.999725  "
      ]
     },
     "execution_count": 48,
     "metadata": {},
     "output_type": "execute_result"
    }
   ],
   "source": [
    "df_company.head(10)"
   ]
  },
  {
   "cell_type": "code",
   "execution_count": 49,
   "metadata": {},
   "outputs": [
    {
     "data": {
      "text/html": [
       "<div>\n",
       "<style scoped>\n",
       "    .dataframe tbody tr th:only-of-type {\n",
       "        vertical-align: middle;\n",
       "    }\n",
       "\n",
       "    .dataframe tbody tr th {\n",
       "        vertical-align: top;\n",
       "    }\n",
       "\n",
       "    .dataframe thead th {\n",
       "        text-align: right;\n",
       "    }\n",
       "</style>\n",
       "<table border=\"1\" class=\"dataframe\">\n",
       "  <thead>\n",
       "    <tr style=\"text-align: right;\">\n",
       "      <th></th>\n",
       "      <th>in_text</th>\n",
       "      <th>matched</th>\n",
       "      <th>similarity</th>\n",
       "      <th>first_letter_match</th>\n",
       "      <th>dmtph_match</th>\n",
       "      <th>inv_lvst_dist</th>\n",
       "      <th>jw_sim</th>\n",
       "      <th>match_score</th>\n",
       "    </tr>\n",
       "  </thead>\n",
       "  <tbody>\n",
       "    <tr>\n",
       "      <th>200</th>\n",
       "      <td>Huawei's</td>\n",
       "      <td>Huawei</td>\n",
       "      <td>0.933443</td>\n",
       "      <td>False</td>\n",
       "      <td>1.233946e-04</td>\n",
       "      <td>0.5</td>\n",
       "      <td>0.966667</td>\n",
       "      <td>0.577840</td>\n",
       "    </tr>\n",
       "    <tr>\n",
       "      <th>201</th>\n",
       "      <td>Disney</td>\n",
       "      <td>Disney's</td>\n",
       "      <td>0.932658</td>\n",
       "      <td>False</td>\n",
       "      <td>1.233946e-04</td>\n",
       "      <td>0.5</td>\n",
       "      <td>0.966667</td>\n",
       "      <td>0.577491</td>\n",
       "    </tr>\n",
       "    <tr>\n",
       "      <th>202</th>\n",
       "      <td>ESPN's</td>\n",
       "      <td>ESPN</td>\n",
       "      <td>0.938830</td>\n",
       "      <td>False</td>\n",
       "      <td>1.233946e-04</td>\n",
       "      <td>0.5</td>\n",
       "      <td>0.933333</td>\n",
       "      <td>0.576531</td>\n",
       "    </tr>\n",
       "    <tr>\n",
       "      <th>203</th>\n",
       "      <td>NASCAR</td>\n",
       "      <td>NASCAR's</td>\n",
       "      <td>0.927331</td>\n",
       "      <td>False</td>\n",
       "      <td>1.233946e-04</td>\n",
       "      <td>0.5</td>\n",
       "      <td>0.966667</td>\n",
       "      <td>0.575124</td>\n",
       "    </tr>\n",
       "    <tr>\n",
       "      <th>204</th>\n",
       "      <td>Atlantic</td>\n",
       "      <td>Atlantic's</td>\n",
       "      <td>0.917149</td>\n",
       "      <td>False</td>\n",
       "      <td>1.233946e-04</td>\n",
       "      <td>0.5</td>\n",
       "      <td>0.986667</td>\n",
       "      <td>0.572821</td>\n",
       "    </tr>\n",
       "    <tr>\n",
       "      <th>205</th>\n",
       "      <td>Rotary</td>\n",
       "      <td>Rotary's</td>\n",
       "      <td>0.918949</td>\n",
       "      <td>False</td>\n",
       "      <td>1.233946e-04</td>\n",
       "      <td>0.5</td>\n",
       "      <td>0.966667</td>\n",
       "      <td>0.571399</td>\n",
       "    </tr>\n",
       "    <tr>\n",
       "      <th>206</th>\n",
       "      <td>Engie</td>\n",
       "      <td>ENGIE's</td>\n",
       "      <td>0.919571</td>\n",
       "      <td>False</td>\n",
       "      <td>8.315280e-07</td>\n",
       "      <td>0.5</td>\n",
       "      <td>0.952381</td>\n",
       "      <td>0.570074</td>\n",
       "    </tr>\n",
       "    <tr>\n",
       "      <th>207</th>\n",
       "      <td>NCAA</td>\n",
       "      <td>NCAA's</td>\n",
       "      <td>0.924051</td>\n",
       "      <td>False</td>\n",
       "      <td>1.233946e-04</td>\n",
       "      <td>0.5</td>\n",
       "      <td>0.933333</td>\n",
       "      <td>0.569962</td>\n",
       "    </tr>\n",
       "    <tr>\n",
       "      <th>208</th>\n",
       "      <td>UCLA</td>\n",
       "      <td>UCLA's</td>\n",
       "      <td>0.920832</td>\n",
       "      <td>False</td>\n",
       "      <td>1.233946e-04</td>\n",
       "      <td>0.5</td>\n",
       "      <td>0.933333</td>\n",
       "      <td>0.568532</td>\n",
       "    </tr>\n",
       "    <tr>\n",
       "      <th>209</th>\n",
       "      <td>Boeing</td>\n",
       "      <td>Boeing's</td>\n",
       "      <td>0.908895</td>\n",
       "      <td>False</td>\n",
       "      <td>1.233946e-04</td>\n",
       "      <td>0.5</td>\n",
       "      <td>0.966667</td>\n",
       "      <td>0.566930</td>\n",
       "    </tr>\n",
       "  </tbody>\n",
       "</table>\n",
       "</div>"
      ],
      "text/plain": [
       "      in_text     matched  similarity  first_letter_match   dmtph_match  \\\n",
       "200  Huawei's      Huawei    0.933443               False  1.233946e-04   \n",
       "201    Disney    Disney's    0.932658               False  1.233946e-04   \n",
       "202    ESPN's        ESPN    0.938830               False  1.233946e-04   \n",
       "203    NASCAR    NASCAR's    0.927331               False  1.233946e-04   \n",
       "204  Atlantic  Atlantic's    0.917149               False  1.233946e-04   \n",
       "205    Rotary    Rotary's    0.918949               False  1.233946e-04   \n",
       "206     Engie     ENGIE's    0.919571               False  8.315280e-07   \n",
       "207      NCAA      NCAA's    0.924051               False  1.233946e-04   \n",
       "208      UCLA      UCLA's    0.920832               False  1.233946e-04   \n",
       "209    Boeing    Boeing's    0.908895               False  1.233946e-04   \n",
       "\n",
       "     inv_lvst_dist    jw_sim  match_score  \n",
       "200            0.5  0.966667     0.577840  \n",
       "201            0.5  0.966667     0.577491  \n",
       "202            0.5  0.933333     0.576531  \n",
       "203            0.5  0.966667     0.575124  \n",
       "204            0.5  0.986667     0.572821  \n",
       "205            0.5  0.966667     0.571399  \n",
       "206            0.5  0.952381     0.570074  \n",
       "207            0.5  0.933333     0.569962  \n",
       "208            0.5  0.933333     0.568532  \n",
       "209            0.5  0.966667     0.566930  "
      ]
     },
     "execution_count": 49,
     "metadata": {},
     "output_type": "execute_result"
    }
   ],
   "source": [
    "df_company.tail(10)"
   ]
  },
  {
   "cell_type": "code",
   "execution_count": 50,
   "metadata": {},
   "outputs": [],
   "source": [
    "company_connected = get_connected_comp(df_company)\n",
    "connected_comp = company_connected"
   ]
  },
  {
   "cell_type": "code",
   "execution_count": 51,
   "metadata": {},
   "outputs": [],
   "source": [
    "connected_comp_short, connected_comp_long, connected_comp_all = get_postProcessigUnits(connected_comp)"
   ]
  },
  {
   "cell_type": "code",
   "execution_count": 52,
   "metadata": {},
   "outputs": [
    {
     "name": "stdout",
     "output_type": "stream",
     "text": [
      "183\n",
      "11\n",
      "194\n"
     ]
    }
   ],
   "source": [
    "print(len(connected_comp_short))\n",
    "print(len(connected_comp_long))\n",
    "print(len(connected_comp_all))"
   ]
  },
  {
   "cell_type": "code",
   "execution_count": 53,
   "metadata": {},
   "outputs": [
    {
     "data": {
      "text/plain": [
       "[(0, ['AFSCME Local 391', 'AFSCME Local 387']),\n",
       " (1, ['Ace Speedway', 'ACE Speedway']),\n",
       " (2, ['African American', 'African-American']),\n",
       " (3, ['African Development Bank', 'Asian Development Bank']),\n",
       " (4, ['Air Force', \"Air Force's\"]),\n",
       " (5, [\"Air France-KLM's\", 'Air France-KLM']),\n",
       " (6, [\"Airfinance Journal's\", 'Airfinance Journal']),\n",
       " (7, ['Aldi', 'ALDI']),\n",
       " (8, ['Alligator Farm', \"Alligator Farm's\"]),\n",
       " (9, ['AmedisysAmedisys, Inc', 'Amedisys Inc']),\n",
       " (10, ['American Airlines', \"American Airlines'\"]),\n",
       " (11, ['American Civil Liberties Union', \"American Civil Liberties Union's\"]),\n",
       " (12, ['American Legion', 'Genoa American Legion']),\n",
       " (13, [\"Atlantic's\", 'Atlantic']),\n",
       " (14, ['Ball State University', \"Ball State University's\"]),\n",
       " (15, [\"Ballad Health's\", 'Ballad Health']),\n",
       " (16, ['Ballou High School', \"Ballou High School's\"]),\n",
       " (17, ['Bank of America Merril Lynch', 'Bank of America Merrill Lynch']),\n",
       " (18, ['Baylor University', 'Taylor University']),\n",
       " (19, [\"Boeing's\", 'Boeing'])]"
      ]
     },
     "execution_count": 53,
     "metadata": {},
     "output_type": "execute_result"
    }
   ],
   "source": [
    "connected_comp_short[:20]"
   ]
  },
  {
   "cell_type": "code",
   "execution_count": 54,
   "metadata": {},
   "outputs": [
    {
     "data": {
      "text/plain": [
       "11"
      ]
     },
     "execution_count": 54,
     "metadata": {},
     "output_type": "execute_result"
    }
   ],
   "source": [
    "len(connected_comp_long)"
   ]
  },
  {
   "cell_type": "code",
   "execution_count": 55,
   "metadata": {},
   "outputs": [
    {
     "data": {
      "text/plain": [
       "[(0, ['Carnival Corporation', 'Carnival Corp.', 'Carnival Corp']),\n",
       " (1,\n",
       "  ['Centers for Disease Control and Prevention',\n",
       "   \"Center for Disease Control and Prevention's\",\n",
       "   \"Centers for Disease Control and Prevention's\"]),\n",
       " (2,\n",
       "  ['Department of Defence',\n",
       "   'Department of Defense',\n",
       "   'Department of Treasury']),\n",
       " (3,\n",
       "  [\"Department of Social Service's\",\n",
       "   'Department of Social Services',\n",
       "   'Dept. of Social Services']),\n",
       " (4, ['GRUBHUB', 'Grubhub', 'GrubHub']),\n",
       " (5, ['M G', 'M. G', 'M.-G']),\n",
       " (6, ['Republicans', 'Republican Party', \"Republicans'\"]),\n",
       " (7, ['Un', 'UN', 'un']),\n",
       " (8, ['WHO', 'who', 'Who']),\n",
       " (9,\n",
       "  ['World Health Organisation',\n",
       "   'World Health  Organization',\n",
       "   'World Health Organization',\n",
       "   \"World Health Organization's\"]),\n",
       " (10, ['cdc', 'Cdc', 'CDC'])]"
      ]
     },
     "execution_count": 55,
     "metadata": {},
     "output_type": "execute_result"
    }
   ],
   "source": [
    "connected_comp_long"
   ]
  },
  {
   "cell_type": "code",
   "execution_count": 56,
   "metadata": {},
   "outputs": [],
   "source": [
    "# manual insepction to excude, connect & add\n",
    "index2exclude = [2]\n",
    "index2connect = [(8,9)]\n",
    "comp2add = ['Department of Defence',\n",
    "   'Department of Defense']"
   ]
  },
  {
   "cell_type": "code",
   "execution_count": 57,
   "metadata": {},
   "outputs": [],
   "source": [
    "connected_comp_final = get_comp_final(connected_comp_long, connected_comp_short, is_all=False\n",
    "                                     , index2connect=index2connect\n",
    "                                     , index2exclude=index2exclude\n",
    "                                     , comp2add=comp2add\n",
    "                                     )"
   ]
  },
  {
   "cell_type": "code",
   "execution_count": 58,
   "metadata": {},
   "outputs": [
    {
     "name": "stdout",
     "output_type": "stream",
     "text": [
      "194\n",
      "194\n"
     ]
    }
   ],
   "source": [
    "print(len(connected_comp))\n",
    "print(len(connected_comp_final))"
   ]
  },
  {
   "cell_type": "code",
   "execution_count": 59,
   "metadata": {},
   "outputs": [],
   "source": [
    "company_connected = connected_comp_final"
   ]
  },
  {
   "cell_type": "code",
   "execution_count": 60,
   "metadata": {},
   "outputs": [],
   "source": [
    "normalized_terms = choose_normalized(company_connected, choice='long')"
   ]
  },
  {
   "cell_type": "code",
   "execution_count": 61,
   "metadata": {},
   "outputs": [],
   "source": [
    "raw2normalized, normalized2raw = make_norm_dict(company_connected, normalized_terms)"
   ]
  },
  {
   "cell_type": "code",
   "execution_count": 62,
   "metadata": {},
   "outputs": [
    {
     "name": "stdout",
     "output_type": "stream",
     "text": [
      "# of raw (in-snippet) entiteis normalized: 410\n",
      "# of normalized keys: 193\n"
     ]
    }
   ],
   "source": [
    "print(\"# of raw (in-snippet) entiteis normalized: {}\".format(len(raw2normalized)))\n",
    "print(\"# of normalized keys: {}\".format(len(normalized2raw)))"
   ]
  },
  {
   "cell_type": "code",
   "execution_count": null,
   "metadata": {},
   "outputs": [],
   "source": [
    "ver_string=\"2\"\n",
    "f_name = 'company_matching' + ver_string\n",
    "df_company.to_csv(\"corpus/\" + f_name + \".csv\")"
   ]
  },
  {
   "cell_type": "code",
   "execution_count": 65,
   "metadata": {},
   "outputs": [],
   "source": [
    "company_raw2norm = raw2normalized\n",
    "company_norm2raw = normalized2raw"
   ]
  },
  {
   "cell_type": "code",
   "execution_count": 66,
   "metadata": {},
   "outputs": [
    {
     "data": {
      "text/plain": [
       "[('Carnival Corporation', 'Carnival Corporation'),\n",
       " ('Carnival Corp.', 'Carnival Corporation'),\n",
       " ('Carnival Corp', 'Carnival Corporation'),\n",
       " ('Centers for Disease Control and Prevention',\n",
       "  \"Centers for Disease Control and Prevention's\"),\n",
       " (\"Center for Disease Control and Prevention's\",\n",
       "  \"Centers for Disease Control and Prevention's\")]"
      ]
     },
     "execution_count": 66,
     "metadata": {},
     "output_type": "execute_result"
    }
   ],
   "source": [
    "list(company_raw2norm.items())[:5]"
   ]
  },
  {
   "cell_type": "code",
   "execution_count": 67,
   "metadata": {},
   "outputs": [
    {
     "data": {
      "text/plain": [
       "[('Carnival Corporation',\n",
       "  ['Carnival Corporation', 'Carnival Corp.', 'Carnival Corp']),\n",
       " (\"Centers for Disease Control and Prevention's\",\n",
       "  ['Centers for Disease Control and Prevention',\n",
       "   \"Center for Disease Control and Prevention's\",\n",
       "   \"Centers for Disease Control and Prevention's\"]),\n",
       " (\"Department of Social Service's\",\n",
       "  [\"Department of Social Service's\",\n",
       "   'Department of Social Services',\n",
       "   'Dept. of Social Services']),\n",
       " ('GrubHub', ['GRUBHUB', 'Grubhub', 'GrubHub']),\n",
       " ('M. G', ['M G', 'M. G', 'M.-G'])]"
      ]
     },
     "execution_count": 67,
     "metadata": {},
     "output_type": "execute_result"
    }
   ],
   "source": [
    "list(company_norm2raw.items())[:5]"
   ]
  },
  {
   "cell_type": "code",
   "execution_count": null,
   "metadata": {},
   "outputs": [],
   "source": [
    "data_path=\"corpus/\"\n",
    "\n",
    "f_name = 'company_raw2norm' + ver_string\n",
    "json_dp = json.dumps(company_raw2norm)\n",
    "with open(data_path + f_name + \".json\",\"w\") as f:\n",
    "    f.write(json_dp)\n",
    "\n",
    "f_name = 'company_norm2raw' + ver_string\n",
    "json_dp = json.dumps(company_norm2raw)\n",
    "with open(data_path + f_name + \".json\",\"w\") as f:\n",
    "    f.write(json_dp)"
   ]
  },
  {
   "cell_type": "markdown",
   "metadata": {},
   "source": [
    "## Location"
   ]
  },
  {
   "cell_type": "code",
   "execution_count": 68,
   "metadata": {},
   "outputs": [
    {
     "name": "stdout",
     "output_type": "stream",
     "text": [
      "# of candidate pairs: 4622\n"
     ]
    }
   ],
   "source": [
    "df_location = get_df_match(location, 'Location', wiki_match=False, sorting_1st_letters=True)"
   ]
  },
  {
   "cell_type": "code",
   "execution_count": 69,
   "metadata": {},
   "outputs": [],
   "source": [
    "weights_location = [4,2,1,1,1]\n",
    "add_match_score(df_location, weights=weights_location)"
   ]
  },
  {
   "cell_type": "code",
   "execution_count": 70,
   "metadata": {},
   "outputs": [],
   "source": [
    "df_location = cut_off(df_location)"
   ]
  },
  {
   "cell_type": "code",
   "execution_count": 71,
   "metadata": {},
   "outputs": [
    {
     "data": {
      "text/plain": [
       "(379, 8)"
      ]
     },
     "execution_count": 71,
     "metadata": {},
     "output_type": "execute_result"
    }
   ],
   "source": [
    "df_location.shape"
   ]
  },
  {
   "cell_type": "code",
   "execution_count": 72,
   "metadata": {},
   "outputs": [],
   "source": [
    "location_connected = get_connected_comp(df_location)\n",
    "connected_comp = location_connected"
   ]
  },
  {
   "cell_type": "code",
   "execution_count": 73,
   "metadata": {},
   "outputs": [
    {
     "data": {
      "text/html": [
       "<div>\n",
       "<style scoped>\n",
       "    .dataframe tbody tr th:only-of-type {\n",
       "        vertical-align: middle;\n",
       "    }\n",
       "\n",
       "    .dataframe tbody tr th {\n",
       "        vertical-align: top;\n",
       "    }\n",
       "\n",
       "    .dataframe thead th {\n",
       "        text-align: right;\n",
       "    }\n",
       "</style>\n",
       "<table border=\"1\" class=\"dataframe\">\n",
       "  <thead>\n",
       "    <tr style=\"text-align: right;\">\n",
       "      <th></th>\n",
       "      <th>in_text</th>\n",
       "      <th>matched</th>\n",
       "      <th>similarity</th>\n",
       "      <th>first_letter_match</th>\n",
       "      <th>dmtph_match</th>\n",
       "      <th>inv_lvst_dist</th>\n",
       "      <th>jw_sim</th>\n",
       "      <th>match_score</th>\n",
       "    </tr>\n",
       "  </thead>\n",
       "  <tbody>\n",
       "    <tr>\n",
       "      <th>0</th>\n",
       "      <td>Senate Judiciary Committee</td>\n",
       "      <td>Senate Judiciary committee</td>\n",
       "      <td>1.0</td>\n",
       "      <td>True</td>\n",
       "      <td>0.997527</td>\n",
       "      <td>1.0</td>\n",
       "      <td>1.0</td>\n",
       "      <td>0.999725</td>\n",
       "    </tr>\n",
       "    <tr>\n",
       "      <th>1</th>\n",
       "      <td>Cdc</td>\n",
       "      <td>cdc</td>\n",
       "      <td>1.0</td>\n",
       "      <td>True</td>\n",
       "      <td>0.997527</td>\n",
       "      <td>1.0</td>\n",
       "      <td>1.0</td>\n",
       "      <td>0.999725</td>\n",
       "    </tr>\n",
       "    <tr>\n",
       "      <th>2</th>\n",
       "      <td>Justice Department</td>\n",
       "      <td>Justice, Department</td>\n",
       "      <td>1.0</td>\n",
       "      <td>True</td>\n",
       "      <td>0.997527</td>\n",
       "      <td>1.0</td>\n",
       "      <td>1.0</td>\n",
       "      <td>0.999725</td>\n",
       "    </tr>\n",
       "    <tr>\n",
       "      <th>3</th>\n",
       "      <td>Department of General Medicine</td>\n",
       "      <td>Department of Medicine</td>\n",
       "      <td>1.0</td>\n",
       "      <td>True</td>\n",
       "      <td>0.997527</td>\n",
       "      <td>1.0</td>\n",
       "      <td>1.0</td>\n",
       "      <td>0.999725</td>\n",
       "    </tr>\n",
       "    <tr>\n",
       "      <th>4</th>\n",
       "      <td>African-American</td>\n",
       "      <td>African American</td>\n",
       "      <td>1.0</td>\n",
       "      <td>True</td>\n",
       "      <td>0.997527</td>\n",
       "      <td>1.0</td>\n",
       "      <td>1.0</td>\n",
       "      <td>0.999725</td>\n",
       "    </tr>\n",
       "    <tr>\n",
       "      <th>5</th>\n",
       "      <td>Red Cross</td>\n",
       "      <td>RED CROSS</td>\n",
       "      <td>1.0</td>\n",
       "      <td>True</td>\n",
       "      <td>0.997527</td>\n",
       "      <td>1.0</td>\n",
       "      <td>1.0</td>\n",
       "      <td>0.999725</td>\n",
       "    </tr>\n",
       "    <tr>\n",
       "      <th>6</th>\n",
       "      <td>M.-G</td>\n",
       "      <td>M. G</td>\n",
       "      <td>1.0</td>\n",
       "      <td>True</td>\n",
       "      <td>0.997527</td>\n",
       "      <td>1.0</td>\n",
       "      <td>1.0</td>\n",
       "      <td>0.999725</td>\n",
       "    </tr>\n",
       "    <tr>\n",
       "      <th>7</th>\n",
       "      <td>Grubhub</td>\n",
       "      <td>GrubHub</td>\n",
       "      <td>1.0</td>\n",
       "      <td>True</td>\n",
       "      <td>0.997527</td>\n",
       "      <td>1.0</td>\n",
       "      <td>1.0</td>\n",
       "      <td>0.999725</td>\n",
       "    </tr>\n",
       "    <tr>\n",
       "      <th>8</th>\n",
       "      <td>The New York Times</td>\n",
       "      <td>the New York Times</td>\n",
       "      <td>1.0</td>\n",
       "      <td>True</td>\n",
       "      <td>0.997527</td>\n",
       "      <td>1.0</td>\n",
       "      <td>1.0</td>\n",
       "      <td>0.999725</td>\n",
       "    </tr>\n",
       "    <tr>\n",
       "      <th>9</th>\n",
       "      <td>UniCredit</td>\n",
       "      <td>Unicredit</td>\n",
       "      <td>1.0</td>\n",
       "      <td>True</td>\n",
       "      <td>0.997527</td>\n",
       "      <td>1.0</td>\n",
       "      <td>1.0</td>\n",
       "      <td>0.999725</td>\n",
       "    </tr>\n",
       "  </tbody>\n",
       "</table>\n",
       "</div>"
      ],
      "text/plain": [
       "                          in_text                     matched  similarity  \\\n",
       "0      Senate Judiciary Committee  Senate Judiciary committee         1.0   \n",
       "1                             Cdc                         cdc         1.0   \n",
       "2              Justice Department         Justice, Department         1.0   \n",
       "3  Department of General Medicine      Department of Medicine         1.0   \n",
       "4                African-American            African American         1.0   \n",
       "5                       Red Cross                   RED CROSS         1.0   \n",
       "6                            M.-G                        M. G         1.0   \n",
       "7                         Grubhub                     GrubHub         1.0   \n",
       "8              The New York Times          the New York Times         1.0   \n",
       "9                       UniCredit                   Unicredit         1.0   \n",
       "\n",
       "   first_letter_match  dmtph_match  inv_lvst_dist  jw_sim  match_score  \n",
       "0                True     0.997527            1.0     1.0     0.999725  \n",
       "1                True     0.997527            1.0     1.0     0.999725  \n",
       "2                True     0.997527            1.0     1.0     0.999725  \n",
       "3                True     0.997527            1.0     1.0     0.999725  \n",
       "4                True     0.997527            1.0     1.0     0.999725  \n",
       "5                True     0.997527            1.0     1.0     0.999725  \n",
       "6                True     0.997527            1.0     1.0     0.999725  \n",
       "7                True     0.997527            1.0     1.0     0.999725  \n",
       "8                True     0.997527            1.0     1.0     0.999725  \n",
       "9                True     0.997527            1.0     1.0     0.999725  "
      ]
     },
     "execution_count": 73,
     "metadata": {},
     "output_type": "execute_result"
    }
   ],
   "source": [
    "df_company.head(10)"
   ]
  },
  {
   "cell_type": "code",
   "execution_count": 74,
   "metadata": {},
   "outputs": [
    {
     "data": {
      "text/html": [
       "<div>\n",
       "<style scoped>\n",
       "    .dataframe tbody tr th:only-of-type {\n",
       "        vertical-align: middle;\n",
       "    }\n",
       "\n",
       "    .dataframe tbody tr th {\n",
       "        vertical-align: top;\n",
       "    }\n",
       "\n",
       "    .dataframe thead th {\n",
       "        text-align: right;\n",
       "    }\n",
       "</style>\n",
       "<table border=\"1\" class=\"dataframe\">\n",
       "  <thead>\n",
       "    <tr style=\"text-align: right;\">\n",
       "      <th></th>\n",
       "      <th>in_text</th>\n",
       "      <th>matched</th>\n",
       "      <th>similarity</th>\n",
       "      <th>first_letter_match</th>\n",
       "      <th>dmtph_match</th>\n",
       "      <th>inv_lvst_dist</th>\n",
       "      <th>jw_sim</th>\n",
       "      <th>match_score</th>\n",
       "    </tr>\n",
       "  </thead>\n",
       "  <tbody>\n",
       "    <tr>\n",
       "      <th>0</th>\n",
       "      <td>Senate Judiciary Committee</td>\n",
       "      <td>Senate Judiciary committee</td>\n",
       "      <td>1.0</td>\n",
       "      <td>True</td>\n",
       "      <td>0.997527</td>\n",
       "      <td>1.0</td>\n",
       "      <td>1.0</td>\n",
       "      <td>0.999725</td>\n",
       "    </tr>\n",
       "    <tr>\n",
       "      <th>1</th>\n",
       "      <td>Cdc</td>\n",
       "      <td>cdc</td>\n",
       "      <td>1.0</td>\n",
       "      <td>True</td>\n",
       "      <td>0.997527</td>\n",
       "      <td>1.0</td>\n",
       "      <td>1.0</td>\n",
       "      <td>0.999725</td>\n",
       "    </tr>\n",
       "    <tr>\n",
       "      <th>2</th>\n",
       "      <td>Justice Department</td>\n",
       "      <td>Justice, Department</td>\n",
       "      <td>1.0</td>\n",
       "      <td>True</td>\n",
       "      <td>0.997527</td>\n",
       "      <td>1.0</td>\n",
       "      <td>1.0</td>\n",
       "      <td>0.999725</td>\n",
       "    </tr>\n",
       "    <tr>\n",
       "      <th>3</th>\n",
       "      <td>Department of General Medicine</td>\n",
       "      <td>Department of Medicine</td>\n",
       "      <td>1.0</td>\n",
       "      <td>True</td>\n",
       "      <td>0.997527</td>\n",
       "      <td>1.0</td>\n",
       "      <td>1.0</td>\n",
       "      <td>0.999725</td>\n",
       "    </tr>\n",
       "    <tr>\n",
       "      <th>4</th>\n",
       "      <td>African-American</td>\n",
       "      <td>African American</td>\n",
       "      <td>1.0</td>\n",
       "      <td>True</td>\n",
       "      <td>0.997527</td>\n",
       "      <td>1.0</td>\n",
       "      <td>1.0</td>\n",
       "      <td>0.999725</td>\n",
       "    </tr>\n",
       "    <tr>\n",
       "      <th>5</th>\n",
       "      <td>Red Cross</td>\n",
       "      <td>RED CROSS</td>\n",
       "      <td>1.0</td>\n",
       "      <td>True</td>\n",
       "      <td>0.997527</td>\n",
       "      <td>1.0</td>\n",
       "      <td>1.0</td>\n",
       "      <td>0.999725</td>\n",
       "    </tr>\n",
       "    <tr>\n",
       "      <th>6</th>\n",
       "      <td>M.-G</td>\n",
       "      <td>M. G</td>\n",
       "      <td>1.0</td>\n",
       "      <td>True</td>\n",
       "      <td>0.997527</td>\n",
       "      <td>1.0</td>\n",
       "      <td>1.0</td>\n",
       "      <td>0.999725</td>\n",
       "    </tr>\n",
       "    <tr>\n",
       "      <th>7</th>\n",
       "      <td>Grubhub</td>\n",
       "      <td>GrubHub</td>\n",
       "      <td>1.0</td>\n",
       "      <td>True</td>\n",
       "      <td>0.997527</td>\n",
       "      <td>1.0</td>\n",
       "      <td>1.0</td>\n",
       "      <td>0.999725</td>\n",
       "    </tr>\n",
       "    <tr>\n",
       "      <th>8</th>\n",
       "      <td>The New York Times</td>\n",
       "      <td>the New York Times</td>\n",
       "      <td>1.0</td>\n",
       "      <td>True</td>\n",
       "      <td>0.997527</td>\n",
       "      <td>1.0</td>\n",
       "      <td>1.0</td>\n",
       "      <td>0.999725</td>\n",
       "    </tr>\n",
       "    <tr>\n",
       "      <th>9</th>\n",
       "      <td>UniCredit</td>\n",
       "      <td>Unicredit</td>\n",
       "      <td>1.0</td>\n",
       "      <td>True</td>\n",
       "      <td>0.997527</td>\n",
       "      <td>1.0</td>\n",
       "      <td>1.0</td>\n",
       "      <td>0.999725</td>\n",
       "    </tr>\n",
       "  </tbody>\n",
       "</table>\n",
       "</div>"
      ],
      "text/plain": [
       "                          in_text                     matched  similarity  \\\n",
       "0      Senate Judiciary Committee  Senate Judiciary committee         1.0   \n",
       "1                             Cdc                         cdc         1.0   \n",
       "2              Justice Department         Justice, Department         1.0   \n",
       "3  Department of General Medicine      Department of Medicine         1.0   \n",
       "4                African-American            African American         1.0   \n",
       "5                       Red Cross                   RED CROSS         1.0   \n",
       "6                            M.-G                        M. G         1.0   \n",
       "7                         Grubhub                     GrubHub         1.0   \n",
       "8              The New York Times          the New York Times         1.0   \n",
       "9                       UniCredit                   Unicredit         1.0   \n",
       "\n",
       "   first_letter_match  dmtph_match  inv_lvst_dist  jw_sim  match_score  \n",
       "0                True     0.997527            1.0     1.0     0.999725  \n",
       "1                True     0.997527            1.0     1.0     0.999725  \n",
       "2                True     0.997527            1.0     1.0     0.999725  \n",
       "3                True     0.997527            1.0     1.0     0.999725  \n",
       "4                True     0.997527            1.0     1.0     0.999725  \n",
       "5                True     0.997527            1.0     1.0     0.999725  \n",
       "6                True     0.997527            1.0     1.0     0.999725  \n",
       "7                True     0.997527            1.0     1.0     0.999725  \n",
       "8                True     0.997527            1.0     1.0     0.999725  \n",
       "9                True     0.997527            1.0     1.0     0.999725  "
      ]
     },
     "execution_count": 74,
     "metadata": {},
     "output_type": "execute_result"
    }
   ],
   "source": [
    "df_company.head(10)"
   ]
  },
  {
   "cell_type": "code",
   "execution_count": 75,
   "metadata": {},
   "outputs": [],
   "source": [
    "connected_comp_short, connected_comp_long, connected_comp_all = get_postProcessigUnits(connected_comp)"
   ]
  },
  {
   "cell_type": "code",
   "execution_count": 76,
   "metadata": {},
   "outputs": [
    {
     "name": "stdout",
     "output_type": "stream",
     "text": [
      "333\n",
      "19\n",
      "352\n"
     ]
    }
   ],
   "source": [
    "print(len(connected_comp_short))\n",
    "print(len(connected_comp_long))\n",
    "print(len(connected_comp_all))"
   ]
  },
  {
   "cell_type": "code",
   "execution_count": 77,
   "metadata": {},
   "outputs": [
    {
     "data": {
      "text/plain": [
       "[(0, ['12th Street', '12th St.']),\n",
       " (1, ['13th Street', '13th St.']),\n",
       " (2, ['42nd District', '2nd District']),\n",
       " (3, ['4314 39th Avenue', '4314 39th Ave.']),\n",
       " (4, ['5th Avenue', '75th Avenue']),\n",
       " (5, ['ALABAMA', 'Alabama']),\n",
       " (6, ['ALASKA', 'Alaska']),\n",
       " (7, ['ARMENIA', 'Armenia']),\n",
       " (8, ['Albany', 'ALBANY']),\n",
       " (9, ['American Legion Post 10', 'American Legion Post 1']),\n",
       " (10, ['American Legion Post 366', 'American Legion Post 333']),\n",
       " (11, ['American Legion Post 552', 'American Legion Post 502']),\n",
       " (12, ['Antwerp', 'Antwerpen']),\n",
       " (13, ['Arizona', 'ARIZONA']),\n",
       " (14, ['Arlington', 'ARLINGTON']),\n",
       " (15, ['Asia', 'ASIA']),\n",
       " (16, ['Asia Pacific', 'Asia-Pacific']),\n",
       " (17, ['Atlanta', 'ATLANTA']),\n",
       " (18, ['Austin', 'AUSTIN']),\n",
       " (19, ['Austin, TX.', 'Austin TX.'])]"
      ]
     },
     "execution_count": 77,
     "metadata": {},
     "output_type": "execute_result"
    }
   ],
   "source": [
    "connected_comp_short[:20]"
   ]
  },
  {
   "cell_type": "code",
   "execution_count": 78,
   "metadata": {},
   "outputs": [
    {
     "data": {
      "text/plain": [
       "19"
      ]
     },
     "execution_count": 78,
     "metadata": {},
     "output_type": "execute_result"
    }
   ],
   "source": [
    "len(connected_comp_long)"
   ]
  },
  {
   "cell_type": "code",
   "execution_count": 80,
   "metadata": {},
   "outputs": [
    {
     "data": {
      "text/plain": [
       "[(0, ['12th Ave. N', '12th Ave. North', '12th Avenue North']),\n",
       " (1, ['12th Street', '12th St.']),\n",
       " (2, ['13th Street', '13th St.']),\n",
       " (3, ['42nd District', '2nd District']),\n",
       " (4, ['4314 39th Avenue', '4314 39th Ave.']),\n",
       " (5, ['5th Avenue', '75th Avenue']),\n",
       " (6, ['ALABAMA', 'Alabama']),\n",
       " (7, ['ALASKA', 'Alaska']),\n",
       " (8, ['ARMENIA', 'Armenia']),\n",
       " (9, ['Albany', 'ALBANY']),\n",
       " (10, ['American Legion Post 10', 'American Legion Post 1']),\n",
       " (11, ['American Legion Post 366', 'American Legion Post 333']),\n",
       " (12, ['American Legion Post 552', 'American Legion Post 502']),\n",
       " (13, ['Antwerp', 'Antwerpen']),\n",
       " (14, ['Arizona', 'ARIZONA']),\n",
       " (15, ['Arlington', 'ARLINGTON']),\n",
       " (16, ['Asia', 'ASIA']),\n",
       " (17, ['Asia Pacific', 'Asia-Pacific']),\n",
       " (18, ['Atlanta', 'ATLANTA']),\n",
       " (19, ['Austin', 'AUSTIN']),\n",
       " (20, ['Austin, TX.', 'Austin TX.']),\n",
       " (21, ['BERKELEY', 'Berkeley']),\n",
       " (22, ['BOONE, N.C.', 'Boone, N.C.']),\n",
       " (23, ['BRAZIL', 'Brazil']),\n",
       " (24, ['Bangkok', 'BANGKOK']),\n",
       " (25, ['Bangladesh', 'BANGLADESH']),\n",
       " (26, ['Beijing', 'BEIJING']),\n",
       " (27, ['Berlin', 'BERLIN']),\n",
       " (28, ['Billings, Montana', 'Billings, Mont.']),\n",
       " (29, ['Birmingham', 'BIRMINGHAM']),\n",
       " (30, ['Boston', 'BOSTON']),\n",
       " (31, ['Brooklyn', 'BROOKLYN']),\n",
       " (32, ['Brussels', 'BRUSSELS']),\n",
       " (33, ['Bruxelles', 'BRUXELLES']),\n",
       " (34, ['Buckeye state', 'Buckeye State']),\n",
       " (35, ['Buena Vista City', 'Buena Vista County']),\n",
       " (36, ['Buffalo', 'BUFFALO']),\n",
       " (37, ['Bulls Gap', 'BULLS GAP']),\n",
       " (38, ['Burlington', 'BURLINGTON']),\n",
       " (39, ['CALHOUN COUNTY', 'Calhoun County']),\n",
       " (40, ['CALIFORNIA', 'California']),\n",
       " (41, ['CANADA', 'Canada']),\n",
       " (42, ['CHENGDU', 'Chengdu']),\n",
       " (43, ['CHESTERFIELD COUNTY, VA', 'CHESTERFIELD COUNTY, Va.']),\n",
       " (44, ['CHILE', 'Chile']),\n",
       " (45, ['CINCINNATI, Ohio', 'Cincinnati, OH']),\n",
       " (46, ['COLOMBO, Sri Lanka', 'Colombo, Sri Lanka']),\n",
       " (47, ['COLORADO', 'Colorado']),\n",
       " (48, ['COLUMBUS', \"Columbus'\", 'Columbus']),\n",
       " (49, ['CONNECTICUT', 'Connecticut']),\n",
       " (50, ['CUBA', 'Cuba']),\n",
       " (51, ['CULPEPER', 'Culpeper']),\n",
       " (52, ['Cambridge, MA', 'Cambridge, Maryland']),\n",
       " (53, ['Cameron', 'Cameroon']),\n",
       " (54, ['Cassopolis', 'CASSOPOLIS']),\n",
       " (55, ['Charlotte county', 'Charlotte County']),\n",
       " (56, ['Chestnut St.', 'Chestnut Street']),\n",
       " (57, ['Chicago', 'CHICAGO']),\n",
       " (58, ['China', 'CHINA']),\n",
       " (59, ['Cleveland', 'CLEVELAND']),\n",
       " (60, ['Clinton Township', 'Canton Township']),\n",
       " (61, ['Colchester', 'COLCHESTER']),\n",
       " (62, ['Columbus, Ohio', 'COLUMBUS, Ohio', 'Columbus Ohio']),\n",
       " (63, ['Cook County', 'Cooke County']),\n",
       " (64, ['Cuero', 'CUERO']),\n",
       " (65, ['Cuero, TX.', 'Cuero, TX']),\n",
       " (66, ['DAVENPORT', 'Davenport']),\n",
       " (67, ['DHAKA', 'DHaka', 'Dhaka']),\n",
       " (68, ['Dallas', \"Dallas'\"]),\n",
       " (69, ['Dallas/Fort Worth', 'Dallas-Fort Worth']),\n",
       " (70, ['Daytona Beach, Florida', 'Daytona Beach, FL']),\n",
       " (71, ['DeWitt County', 'Dewitt County']),\n",
       " (72, ['Delaware', 'DELAWARE']),\n",
       " (73, ['Delhi', 'DELHI']),\n",
       " (74, ['Denver', 'DENVER']),\n",
       " (75, ['Detroit, MI', 'Detroit, Mich.']),\n",
       " (76, ['Douglas County', 'Douglas county']),\n",
       " (77, ['Dubai', 'DUBAI']),\n",
       " (78, ['Dublin', 'DUBLIN']),\n",
       " (79, ['Duncanville', 'Duncan']),\n",
       " (80, ['ENGLAND', 'England']),\n",
       " (81, ['East St. Louis', 'East St Louis']),\n",
       " (82, ['Eastern Europe', 'Western Europe']),\n",
       " (83, ['El Paso', 'EL PASO']),\n",
       " (84, ['El Paso, Texas', 'EL PASO, Texas']),\n",
       " (85, ['Emilia-Romagna', 'Emilia Romagna']),\n",
       " (86, ['Empire State', 'EMPIRE STATE']),\n",
       " (87, ['Europe', 'EUROPE']),\n",
       " (88, ['FAYETTEVILLE GEORGIA', 'Fayetteville, Georgia']),\n",
       " (89, ['FIJI', 'Fiji']),\n",
       " (90, ['FLORIDA', 'Florida']),\n",
       " (91, ['FULTON', 'Fultondale', 'Fulton']),\n",
       " (92, ['Fair Haven', 'FAIR HAVEN']),\n",
       " (93, ['Fairfax City', 'Fairfax County']),\n",
       " (94, ['Fayetteville', 'FAYETTEVILLE']),\n",
       " (95, ['Fisher', 'Fishers']),\n",
       " (96, ['Frankfurt', 'FRANKFURT']),\n",
       " (97, ['Franklin Square', '4 Franklin Square']),\n",
       " (98, ['Frederic', 'Frederick']),\n",
       " (99, ['GOA', 'Goa']),\n",
       " (100, ['GREENEVILLE, Tenn.', 'Greeneville, Tenn.']),\n",
       " (101, ['Georgia', 'GEORGIA']),\n",
       " (102, ['Germany', 'GERMANY']),\n",
       " (103, ['Grand Island', 'Grand Isle']),\n",
       " (104, ['Greeneville', 'GREENEVILLE']),\n",
       " (105, ['Greensboro, N.C.', 'GREENSBORO, N.C.']),\n",
       " (106, ['Greenville', 'Greenville, Miss.']),\n",
       " (107, ['Gulf coast', 'Gulf Coast']),\n",
       " (108, ['Gulf-of-Mexico', 'Gulf of Mexico']),\n",
       " (109, ['HANOVER', 'Hanover']),\n",
       " (110, ['HENRY COUNTY', 'Henry County']),\n",
       " (111, ['HINDS COUNTY, Miss.', 'Hinds County']),\n",
       " (112, ['HORRY COUNTY, SC', \"Horry County's\"]),\n",
       " (113, ['Hamilton', 'HAMILTON']),\n",
       " (114, [\"Hampton Roads'\", 'Hampton Roads']),\n",
       " (115, ['Hartford', 'HARTFORD']),\n",
       " (116, ['Hattiesburg', 'HATTIESBURG, Miss.']),\n",
       " (117, ['Hawaii', 'HAWAII']),\n",
       " (118, ['Hazleton', 'Hazlet']),\n",
       " (119, ['High Point, N.C.', 'HIGH POINT, N.C.']),\n",
       " (120, ['Highland', 'Highlands']),\n",
       " (121, ['Highway 5', 'Highway 58']),\n",
       " (122, ['Hitchcock', 'HITCHCOCK']),\n",
       " (123, ['Holland', 'HOLLAND']),\n",
       " (124, ['Hollister', 'Holliston']),\n",
       " (125, ['Holly Ave.', 'Holly Avenue']),\n",
       " (126, ['Holly Springs', \"Holly Springs'\"]),\n",
       " (127, ['Hollywood CALIFORNIA', 'Hollywood, Calif.']),\n",
       " (128, ['Hong Kong', 'HONG KONG']),\n",
       " (129, ['Houston', 'HOUSTON']),\n",
       " (130, ['Hudsonville', 'Hudson']),\n",
       " (131, ['IDAHO', 'Idaho']),\n",
       " (132, ['ILLINOIS', \"Illinois'\", 'Illinois']),\n",
       " (133, ['INDIANA', 'Indiana']),\n",
       " (134, ['IOWA', 'Iowa']),\n",
       " (135, ['IRVINE, Calif.', 'Irvine, California', 'IRVINE, California']),\n",
       " (136, ['India', 'INDIA']),\n",
       " (137, ['Indianapolis', 'INDIANAPOLIS']),\n",
       " (138, ['Inglewood', 'ENGLEWOOD']),\n",
       " (139, ['Intercoastal Waterway', 'Intracoastal Waterway']),\n",
       " (140, ['Interstate 10', 'Interstate-10']),\n",
       " (141, ['Interstate 55', 'Interstate 555']),\n",
       " (142, ['Interstate 85', 'Interstate 80']),\n",
       " (143, ['Ireland', 'IRELAND']),\n",
       " (144, ['Italy', 'ITALY']),\n",
       " (145, ['JACKSON, Miss.', 'JACKSON', 'Jackson']),\n",
       " (146, ['JAMMU', 'Jammu']),\n",
       " (147, ['JAPAN', 'Japan']),\n",
       " (148, ['JEFFERSON CITY, Mo.', 'JEFFERSON CITY, Mo']),\n",
       " (149, ['JORDAN', 'Jordan']),\n",
       " (150, ['Jacksonville', 'JACKSONVILLE']),\n",
       " (151, ['Jacksonville, Florida', 'JACKSONVILLE, Florida']),\n",
       " (152, ['Johnson City', 'JOHNSON CITY']),\n",
       " (153, ['Johnson City TN', 'Johnson City, TN']),\n",
       " (154, ['KENOSHA COUNTY', 'Kenosha County']),\n",
       " (155, ['KENYA', 'Kenya']),\n",
       " (156, ['Kansas', \"Kansas'\"]),\n",
       " (157, ['Kansas City', 'KANSAS CITY']),\n",
       " (158, ['Karnes County', 'Karnes City']),\n",
       " (159, ['Korea', 'KOREA']),\n",
       " (160, ['Kuala Lumpur', 'KUALA LUMPUR']),\n",
       " (161, ['LAWRENCEVILLE', 'Lawrenceville']),\n",
       " (162, ['LINCOLN', 'Lincoln']),\n",
       " (163, ['LITTLE ROCK', 'Little Rock']),\n",
       " (164, ['LOS ANGELES', 'Los Angeles']),\n",
       " (165, ['Lake George', 'LAKE GEORGE']),\n",
       " (166, ['Lansing', 'LANSING']),\n",
       " (167, ['Las Vegas', 'LAS VEGAS']),\n",
       " (168, ['Latin America', 'LATIN AMERICA']),\n",
       " (169, ['Lexington', 'LEXINGTON']),\n",
       " (170, ['London', 'LONDON']),\n",
       " (171, ['Long Beach', 'LONG BEACH']),\n",
       " (172, ['Long Beach, California', 'LONG BEACH, Calif.']),\n",
       " (173, ['Los Angeles County', 'Los Angeles county']),\n",
       " (174, ['Los Angeles, California', 'LOS ANGELES, CA', 'Los Angeles, Ca.']),\n",
       " (175, ['MADISON', 'Madison']),\n",
       " (176, ['MCDONOUGH', 'McDonough']),\n",
       " (177, ['MINNEAPOLIS', 'Minneapolis']),\n",
       " (178, ['MOLINE', 'Moline']),\n",
       " (179, ['MONTEVALLO', 'Montevallo']),\n",
       " (180, ['MONTICELLO', 'Monticello']),\n",
       " (181, ['MOSCOW', 'Moscow']),\n",
       " (182, ['MYRTLE BEACH, SC', 'Myrtle Beach, SC']),\n",
       " (183, ['Madison County', 'MADISON COUNTY, Miss.']),\n",
       " (184, ['Martin County', 'MARTIN COUNTY']),\n",
       " (185, ['Martinsville', 'MARTINSVILLE']),\n",
       " (186, ['Martinsville, Va.', 'MARTINSVILLE, Va.']),\n",
       " (187, ['Massachusetts', \"Massachusetts'\"]),\n",
       " (188, ['Memphis', \"Memphis'\"]),\n",
       " (189, ['Miami', 'MIAMI']),\n",
       " (190, ['Miami, Fla.', 'MIAMI, Fla.']),\n",
       " (191, ['Michigan', 'MICHIGAN']),\n",
       " (192, ['Middle-East', 'Middle East', 'Middle-east']),\n",
       " (193, ['Middleburg', 'Middlebury']),\n",
       " (194, ['Midland, Texas', 'MIDLAND, Texas']),\n",
       " (195, ['Midlands', 'Midland']),\n",
       " (196, ['Milan', 'MILAN']),\n",
       " (197, [\"Milano Lakes'\", 'Milano Lakes']),\n",
       " (198, ['Milwaukee', 'MILWAUKEE']),\n",
       " (199, ['Minneapolis-St. Paul', 'Minneapolis/St. Paul']),\n",
       " (200, ['Montana', 'MONTANA']),\n",
       " (201, ['Montgomery', 'MONTGOMERY']),\n",
       " (202, ['Montgomery, Ala.', 'MONTGOMERY, Ala.']),\n",
       " (203, ['Mount Pleasant, S.C.', 'MOUNT PLEASANT, S.C.']),\n",
       " (204, ['Myrtle Beach', 'MYRTLE BEACH']),\n",
       " (205, ['Myrtle Beach, S.C.', 'MYRTLE BEACH, S.C.']),\n",
       " (206, ['NASHVILLE, Tenn.', 'Nashville, Tennessee']),\n",
       " (207, ['NAVARRE, Fla.', 'Navarre, Florida']),\n",
       " (208, ['NEBRASKA', 'Nebraska']),\n",
       " (209, ['NEW DELHI', 'New Delhi']),\n",
       " (210, ['NEW JERSEY', 'New Jersey']),\n",
       " (211, ['NEW YORK', 'New-York', 'New York']),\n",
       " (212, ['Nashville', 'NASHVILLE']),\n",
       " (213, ['New Orleans', 'NEW ORLEANS']),\n",
       " (214, [\"New York State's\", \"New York state's\"]),\n",
       " (215, ['New York state', 'New York State']),\n",
       " (216, [\"New York's\", \"NEW York's\"]),\n",
       " (217, ['Newberry', 'Newberg']),\n",
       " (218, ['Norfolk, VA', 'NORFOLK, Va.', 'Norfolk, Virginia']),\n",
       " (219, ['Northeast Arkansas', 'Northwest Arkansas']),\n",
       " (220, ['Northern Ireland', 'NORTHERN Ireland']),\n",
       " (221, ['Nueva York', 'NUEVA YORK']),\n",
       " (222, ['OCONOMOWOC, Wis.', 'Oconomowoc, WI']),\n",
       " (223, ['OGDEN', 'Ogden']),\n",
       " (224, ['OHIO', 'Ohio']),\n",
       " (225, ['OREGON', 'Oregon']),\n",
       " (226, ['ORLANDO', 'Orlando']),\n",
       " (227, ['OTTAWA COUNTY', 'Ottawa County']),\n",
       " (228, ['Oakland County', 'OAKLAND COUNTY']),\n",
       " (229, ['Ocean Blvd.', 'Ocean Blvd']),\n",
       " (230, ['Ogden, Utah', 'OGDEN, Utah']),\n",
       " (231, ['Oklahoma City', 'OKLAHOMA CITY']),\n",
       " (232, ['Omaha', 'OMAHA']),\n",
       " (233, ['PHNOM PENH', 'Phnom Penh']),\n",
       " (234, ['PORT CHARLOTTE', 'Port Charlotte']),\n",
       " (235, ['PUNE', 'Pune']),\n",
       " (236, ['PUNTA GORDA', 'Punta Gorda']),\n",
       " (237, ['Pacific Northwest', 'Pacific northwest']),\n",
       " (238, ['Pan-Borneo Highway', 'Pan Borneo Highway']),\n",
       " (239, ['Paris', 'PARIS']),\n",
       " (240, ['Park Township', 'Polk Township']),\n",
       " (241, ['Pennsylvania', 'PENNSYLVANIA']),\n",
       " (242, ['Philadelphia', 'PHILADELPHIA']),\n",
       " (243, ['Philippines', \"Philippines'\"]),\n",
       " (244, ['Phoenix', 'PHOENIX']),\n",
       " (245, ['Pittsburgh', 'PITTSBURGH']),\n",
       " (246, ['Portland', 'PORTLAND']),\n",
       " (247, ['Portland Street', \"Portland's\"]),\n",
       " (248, ['Powhatan', 'POWHATAN']),\n",
       " (249, ['RALEIGH', 'Raleigh']),\n",
       " (250, ['RICHMOND, Va.', 'Richmond, Va.']),\n",
       " (251, ['RIGA', 'Riga']),\n",
       " (252, ['ROCKINGHAM', 'Rockingham']),\n",
       " (253, ['RUSSIA', 'Russia']),\n",
       " (254, ['Red River', 'RED RIVER']),\n",
       " (255, ['Richmond', 'RICHMOND']),\n",
       " (256, ['Richmond, VA', 'RICHMOND, VA', 'RICHMOND, Va']),\n",
       " (257, ['River Ridge', 'Riveria Ridge']),\n",
       " (258, ['Rock Island', 'ROCK ISLAND']),\n",
       " (259, ['Rockville, MN', 'Rockville, MD']),\n",
       " (260, ['Rosemont', 'Rosemount']),\n",
       " (261, ['Route 103', 'Route 100']),\n",
       " (262, ['SALT LAKE CITY', 'Salt Lake City']),\n",
       " (263, ['SANDY, Utah', 'Sandy, Utah']),\n",
       " (264, ['SARATOGA', 'Saratoga']),\n",
       " (265, ['SAVANNAH, Ga', 'SAVANNAH, Ga.']),\n",
       " (266, ['SCHAGHTICOKE', 'Schaghticoke']),\n",
       " (267, ['SEATTLE', 'Seattle']),\n",
       " (268, ['SHANGHAI', 'Shanghai']),\n",
       " (269, ['SINGAPORE', 'Singapore']),\n",
       " (270, ['SKOPJE', 'Skopje']),\n",
       " (271, ['SPRINGFIELD', 'Springfield']),\n",
       " (272, ['ST. LOUIS', 'St Louis', 'St. Louis']),\n",
       " (273, ['SWITZERLAND', 'Switzerland']),\n",
       " (274, ['Sacramento', 'SACRAMENTO']),\n",
       " (275, ['San Antonio, TX', 'San Antonio, TX.']),\n",
       " (276, ['San Diego', 'SAN DIEGO']),\n",
       " (277, ['San Diego, CA', 'SAN DIEGO, CA']),\n",
       " (278, ['San Francisco', 'SAN FRANCISCO']),\n",
       " (279, ['San Francisco, CA', 'SAN FRANCISCO, Calif.']),\n",
       " (280, ['Santa Fe', 'SANTA FE']),\n",
       " (281, ['Saratoga county', 'SARATOGA COUNTY', 'Saratoga County']),\n",
       " (282, ['Schiphol airport', 'Schiphol Airport']),\n",
       " (283, ['Schuyler', 'Schuylerville']),\n",
       " (284, ['Seattle, Wash.', 'Seattle, Washington']),\n",
       " (285, ['Seoul', 'SEOUL']),\n",
       " (286, ['Shenzhen', 'SHENZHEN']),\n",
       " (287, ['Somalia', 'SOMALIA']),\n",
       " (288, ['Sonoma', 'SONOMA']),\n",
       " (289, ['South Main Street', 'South Main St.']),\n",
       " (290, ['Southeastern District', 'Southern District']),\n",
       " (291, ['Spain', 'SPAIN']),\n",
       " (292, ['Springfield, IL', 'SPRINGFIELD, Ill']),\n",
       " (293, ['Sri Lanka', 'SRI LANKA']),\n",
       " (294, ['St. Louis, Missouri', 'Saint Louis, Missouri']),\n",
       " (295, ['St. Louis, Mo.', 'ST. LOUIS, Mo.']),\n",
       " (296, ['St. Paul', 'ST. PAUL']),\n",
       " (297, ['Starkville', 'STARKVILLE']),\n",
       " (298, ['State Route 28', 'State Route 209']),\n",
       " (299, ['Stephens', 'Stephenson']),\n",
       " (300, ['Sweden', 'SWEDEN']),\n",
       " (301, ['Sydney', 'SYDNEY']),\n",
       " (302, ['TAMPA', 'Tampa']),\n",
       " (303, ['TAOS', 'Taos']),\n",
       " (304, ['Taiwan', 'TAIWAN']),\n",
       " (305, ['Tallahassee', 'TALLAHASSEE']),\n",
       " (306, ['Tanzania', 'TANZANIA']),\n",
       " (307, ['Tempe, Arizona', 'Tempe, Ariz.']),\n",
       " (308, ['Texas', 'TEXAS', \"Texas'\"]),\n",
       " (309, [\"The Netherlands'\", \"the Netherlands'\"]),\n",
       " (310, ['The United States', 'the United States']),\n",
       " (311, ['Tijuana, Mexico', 'TIJUANA, Mexico']),\n",
       " (312, ['Times Square', 'Time Square']),\n",
       " (313, ['Tokio', 'TOKIO']),\n",
       " (314, ['Tokyo', 'TOKYO']),\n",
       " (315, ['Trinidad and Tobago', 'Trinidad &amp; Tobago']),\n",
       " (316, ['Turkey', 'TURKEY']),\n",
       " (317, ['U.S', 'U.S.']),\n",
       " (318, ['UGANDA', 'Uganda']),\n",
       " (319, ['UNITED STATES', 'United States']),\n",
       " (320, ['UTAH', 'Utah']),\n",
       " (321, ['Ukraine', 'UKRAINE']),\n",
       " (322, ['Uruguay', 'URUGUAY']),\n",
       " (323, ['Usa', 'USA']),\n",
       " (324, ['VICTORIA', 'Victoria']),\n",
       " (325, ['VICTORIA COUNTY', 'Victoria County']),\n",
       " (326, ['VIETNAM', 'Vietnam']),\n",
       " (327, ['VIRGINIA BEACH, Va.', 'Virginia Beach, VA']),\n",
       " (328, ['Vatican City', 'VATICAN CITY']),\n",
       " (329, ['Veterans Parkway', 'Veterans Park']),\n",
       " (330, ['Victoria Texas', 'Victoria, Texas']),\n",
       " (331, ['Victoria, TX', 'Victoria TX']),\n",
       " (332, ['Virginia', 'VIRGINIA']),\n",
       " (333, ['WASHINGTON', 'Washington']),\n",
       " (334, ['WASHINGTON COUNTY', 'Washington County']),\n",
       " (335, ['WASHINGTON COUNTY, Tenn.', 'Washington County, Tennessee']),\n",
       " (336,\n",
       "  ['WASHINGTON D.C.',\n",
       "   'WASHINGTON, D.C.',\n",
       "   'Washington D.C.',\n",
       "   'Washington, D.C.']),\n",
       " (337, ['WASHINGTON DC', 'Washington, DC', 'Washington DC', 'WASHINGTON, DC']),\n",
       " (338, ['WISCONSIN', 'Wisconsin']),\n",
       " (339, ['WYOMING', 'Wyoming']),\n",
       " (340, ['Washington State', 'Washington state']),\n",
       " (341, ['Wesson', 'WESSON, Miss.']),\n",
       " (342, ['Western New York', 'West New York']),\n",
       " (343, ['Wichita, Kansas', 'Wichita, Kan.']),\n",
       " (344, ['Winston Salem, North Carolina', 'Winston-Salem, North Carolina']),\n",
       " (345, ['Wuhan, China', 'Wuhan China']),\n",
       " (346, ['ZIMBABWE', 'Zimbabwe']),\n",
       " (347, ['south Pacific', 'South Pacific']),\n",
       " (348, ['the Netherlands', 'The Netherlands']),\n",
       " (349, [\"the Philippines'\", 'the Philippines']),\n",
       " (350, [\"the Twin Cities'\", 'the Twin Cities']),\n",
       " (351,\n",
       "  ['the United States of America',\n",
       "   'The United States of America',\n",
       "   'the United States  of  America'])]"
      ]
     },
     "execution_count": 80,
     "metadata": {},
     "output_type": "execute_result"
    }
   ],
   "source": [
    "connected_comp_all"
   ]
  },
  {
   "cell_type": "code",
   "execution_count": 81,
   "metadata": {},
   "outputs": [],
   "source": [
    "# manual insepction to excude, connect & add\n",
    "index2exclude = [3,5,79,82,91,299,333]\n",
    "index2connect = [(10,11,12),(140,141,142),(313,314),(317,319,323,351),(336,337)]\n",
    "comp2add = ['FULTON','Fulton']"
   ]
  },
  {
   "cell_type": "code",
   "execution_count": 82,
   "metadata": {},
   "outputs": [],
   "source": [
    "connected_comp_final = get_comp_final(connected_comp_all, connected_comp_short, is_all=True\n",
    "                                     , index2connect=index2connect\n",
    "                                     , index2exclude=index2exclude\n",
    "                                     , comp2add=comp2add\n",
    "                                     )"
   ]
  },
  {
   "cell_type": "code",
   "execution_count": 83,
   "metadata": {},
   "outputs": [
    {
     "name": "stdout",
     "output_type": "stream",
     "text": [
      "352\n",
      "338\n"
     ]
    }
   ],
   "source": [
    "print(len(connected_comp))\n",
    "print(len(connected_comp_final))"
   ]
  },
  {
   "cell_type": "code",
   "execution_count": 84,
   "metadata": {},
   "outputs": [],
   "source": [
    "location_connected = connected_comp_final"
   ]
  },
  {
   "cell_type": "code",
   "execution_count": 85,
   "metadata": {},
   "outputs": [],
   "source": [
    "normalized_terms = choose_normalized(location_connected, choice='long')"
   ]
  },
  {
   "cell_type": "code",
   "execution_count": 86,
   "metadata": {},
   "outputs": [],
   "source": [
    "raw2normalized, normalized2raw = make_norm_dict(location_connected, normalized_terms)"
   ]
  },
  {
   "cell_type": "code",
   "execution_count": 87,
   "metadata": {},
   "outputs": [
    {
     "name": "stdout",
     "output_type": "stream",
     "text": [
      "# of raw (in-snippet) entiteis normalized: 721\n",
      "# of normalized keys: 338\n"
     ]
    }
   ],
   "source": [
    "print(\"# of raw (in-snippet) entiteis normalized: {}\".format(len(raw2normalized)))\n",
    "print(\"# of normalized keys: {}\".format(len(normalized2raw)))"
   ]
  },
  {
   "cell_type": "code",
   "execution_count": null,
   "metadata": {},
   "outputs": [],
   "source": [
    "ver_string=\"2\"\n",
    "f_name = 'location_matching' + ver_string\n",
    "df_location.to_csv(\"corpus/\" + f_name + \".csv\")"
   ]
  },
  {
   "cell_type": "code",
   "execution_count": 88,
   "metadata": {},
   "outputs": [],
   "source": [
    "location_raw2norm = raw2normalized\n",
    "location_norm2raw = normalized2raw"
   ]
  },
  {
   "cell_type": "code",
   "execution_count": 89,
   "metadata": {},
   "outputs": [
    {
     "data": {
      "text/plain": [
       "[('12th Ave. N', '12th Avenue North'),\n",
       " ('12th Ave. North', '12th Avenue North'),\n",
       " ('12th Avenue North', '12th Avenue North'),\n",
       " ('12th Street', '12th Street'),\n",
       " ('12th St.', '12th Street')]"
      ]
     },
     "execution_count": 89,
     "metadata": {},
     "output_type": "execute_result"
    }
   ],
   "source": [
    "list(location_raw2norm.items())[:5]"
   ]
  },
  {
   "cell_type": "code",
   "execution_count": 90,
   "metadata": {},
   "outputs": [
    {
     "data": {
      "text/plain": [
       "[('12th Avenue North',\n",
       "  ['12th Ave. N', '12th Ave. North', '12th Avenue North']),\n",
       " ('12th Street', ['12th Street', '12th St.']),\n",
       " ('13th Street', ['13th Street', '13th St.']),\n",
       " ('4314 39th Avenue', ['4314 39th Avenue', '4314 39th Ave.']),\n",
       " ('ALABAMA', ['ALABAMA', 'Alabama'])]"
      ]
     },
     "execution_count": 90,
     "metadata": {},
     "output_type": "execute_result"
    }
   ],
   "source": [
    "list(location_norm2raw.items())[:5]"
   ]
  },
  {
   "cell_type": "code",
   "execution_count": null,
   "metadata": {},
   "outputs": [],
   "source": [
    "data_path=\"corpus/\"\n",
    "\n",
    "f_name = 'location_raw2norm' + ver_string\n",
    "json_dp = json.dumps(location_raw2norm)\n",
    "with open(data_path + f_name + \".json\",\"w\") as f:\n",
    "    f.write(json_dp)\n",
    "\n",
    "f_name = 'location_norm2raw' + ver_string\n",
    "json_dp = json.dumps(location_norm2raw)\n",
    "with open(data_path + f_name + \".json\",\"w\") as f:\n",
    "    f.write(json_dp)"
   ]
  }
 ],
 "metadata": {
  "kernelspec": {
   "display_name": "discovery",
   "language": "python",
   "name": "discovery"
  },
  "language_info": {
   "codemirror_mode": {
    "name": "ipython",
    "version": 3
   },
   "file_extension": ".py",
   "mimetype": "text/x-python",
   "name": "python",
   "nbconvert_exporter": "python",
   "pygments_lexer": "ipython3",
   "version": "3.6.9"
  }
 },
 "nbformat": 4,
 "nbformat_minor": 2
}
