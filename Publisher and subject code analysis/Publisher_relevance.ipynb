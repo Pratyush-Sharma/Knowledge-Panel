{
 "cells": [
  {
   "cell_type": "code",
   "execution_count": 7,
   "metadata": {},
   "outputs": [],
   "source": [
    "import requests\n",
    "import json\n",
    "import os\n",
    "import modules.config as config\n",
    "from time import sleep\n",
    "from requests.auth import HTTPBasicAuth\n",
    "from ibm_watson import DiscoveryV1\n",
    "from pprint import pprint\n",
    "import modules.discovery_helper as dh_help\n",
    "import modules.common_helper as cm_help\n",
    "import sys\n",
    "import pandas as pd\n",
    "import modules.config as config\n",
    "import math\n",
    "import re\n",
    "import hashlib\n",
    "import unicodedata\n",
    "from bs4 import BeautifulSoup \n",
    "from ibm_cloud_sdk_core.authenticators import IAMAuthenticator"
   ]
  },
  {
   "cell_type": "code",
   "execution_count": 8,
   "metadata": {},
   "outputs": [],
   "source": [
    "all_params = cm_help.get_params()\n",
    "# COLLECTION_NAME = config.DISCOVERY_COLLECTION_NAME\n",
    "# print(COLLECTION_NAME)"
   ]
  },
  {
   "cell_type": "code",
   "execution_count": 9,
   "metadata": {},
   "outputs": [],
   "source": [
    "def discovery_init(COLLECTION_NAME=config.DISCOVERY_COLLECTION_NAME,default=all_params['discovery']['default']):\n",
    "    response = {}\n",
    "    \n",
    "    discovery_param = all_params['discovery']\n",
    "    # default = \n",
    "    authenticator = IAMAuthenticator(apikey=discovery_param[default]['apikey'])\n",
    "    endurl = \"https://gateway.watsonplatform.net/discovery/api\"\n",
    "    discovery = DiscoveryV1(\n",
    "        version=discovery_param[default]['version'],\n",
    "        authenticator = authenticator)\n",
    "    iam_apikey=discovery_param[default]['apikey'],\n",
    "    url=discovery_param[default]['url']    \n",
    "    if default ==\"r3\":\n",
    "        discovery.set_service_url(discovery_param[default]['url'])\n",
    "\n",
    "    environments = discovery.list_environments().get_result()\n",
    "    # print(json.dumps(environments, indent=2))\n",
    "    print(\"Discovery instance loaded \"+default)\n",
    "    js = json.dumps(environments)\n",
    "    jres = json.loads(js)\n",
    "    # print(jres['environments'][1]['environment_id'])\n",
    "    env_id = jres['environments'][1]['environment_id']\n",
    "    collections = discovery.list_collections(env_id).get_result()\n",
    "    cols = json.dumps(collections, indent=2)\n",
    "    colres = json.loads(cols)\n",
    "\n",
    "    #print(colres['collections'])\n",
    "    for item in colres['collections']:\n",
    "        if item['name']== COLLECTION_NAME:\n",
    "            print('COLLECTION ID:', item['collection_id'], 'COLLECTION NAME:', item['name'])\n",
    "            col_id = item['collection_id']\n",
    "    response['env_id'] = env_id\n",
    "    response['col_id'] = col_id\n",
    "    response['discovery'] = discovery\n",
    "    return response"
   ]
  },
  {
   "cell_type": "code",
   "execution_count": 10,
   "metadata": {},
   "outputs": [
    {
     "name": "stdout",
     "output_type": "stream",
     "text": [
      "Discovery instance loaded r3\n",
      "COLLECTION ID: ec586f27-f848-40b7-99af-dab80a43b248 COLLECTION NAME: Naviga1\n"
     ]
    }
   ],
   "source": [
    "discovery_config = discovery_init(COLLECTION_NAME='Naviga1',default=\"r3\")"
   ]
  },
  {
   "cell_type": "markdown",
   "metadata": {},
   "source": [
    "# Getting 50 Passages "
   ]
  },
  {
   "cell_type": "code",
   "execution_count": 11,
   "metadata": {},
   "outputs": [],
   "source": [
    "import pandas as pd"
   ]
  },
  {
   "cell_type": "code",
   "execution_count": 19,
   "metadata": {},
   "outputs": [
    {
     "name": "stdout",
     "output_type": "stream",
     "text": [
      "offset in query = 0\n"
     ]
    }
   ],
   "source": [
    "offset = 0\n",
    "count = 1\n",
    "reqparams = {'offset':offset,'count':count}\n",
    "reqparams['q'] = 'Last Dance'\n",
    "discovery_data_subCode = dh.getDiscoveryData(discovery_config,reqparams)"
   ]
  },
  {
   "cell_type": "code",
   "execution_count": 20,
   "metadata": {},
   "outputs": [
    {
     "data": {
      "text/plain": [
       "1"
      ]
     },
     "execution_count": 20,
     "metadata": {},
     "output_type": "execute_result"
    }
   ],
   "source": [
    "len(discovery_data_subCode[\"results\"])"
   ]
  },
  {
   "cell_type": "code",
   "execution_count": 21,
   "metadata": {},
   "outputs": [],
   "source": [
    "doc_id=[]\n",
    "passage_score=[]\n",
    "passage=[]\n",
    "for i in range(len(discovery_data_subCode[\"passages\"])):\n",
    "    doc_id.append(discovery_data_subCode[\"passages\"][i][\"document_id\"])\n",
    "    passage_score.append(discovery_data_subCode[\"passages\"][i][\"passage_score\"])\n",
    "    passage.append(discovery_data_subCode[\"passages\"][i][\"passage_text\"])"
   ]
  },
  {
   "cell_type": "code",
   "execution_count": 22,
   "metadata": {},
   "outputs": [],
   "source": [
    "df=pd.DataFrame(doc_id,columns=[\"Doc_id\"])\n",
    "df[\"Passage_score\"]=passage_score"
   ]
  },
  {
   "cell_type": "code",
   "execution_count": 23,
   "metadata": {},
   "outputs": [],
   "source": [
    "df['Passage']=passage"
   ]
  },
  {
   "cell_type": "code",
   "execution_count": 24,
   "metadata": {},
   "outputs": [
    {
     "name": "stdout",
     "output_type": "stream",
     "text": [
      "offset in query = 0\n",
      "offset in query = 0\n",
      "offset in query = 0\n",
      "offset in query = 0\n",
      "offset in query = 0\n",
      "offset in query = 0\n",
      "offset in query = 0\n",
      "offset in query = 0\n",
      "offset in query = 0\n",
      "offset in query = 0\n"
     ]
    },
    {
     "ename": "IndexError",
     "evalue": "list index out of range",
     "output_type": "error",
     "traceback": [
      "\u001b[0;31m---------------------------------------------------------------------------\u001b[0m",
      "\u001b[0;31mIndexError\u001b[0m                                Traceback (most recent call last)",
      "\u001b[0;32m<ipython-input-24-4d6114b3e196>\u001b[0m in \u001b[0;36m<module>\u001b[0;34m\u001b[0m\n\u001b[1;32m      4\u001b[0m \u001b[0;32mfor\u001b[0m \u001b[0mj\u001b[0m \u001b[0;32min\u001b[0m \u001b[0mrange\u001b[0m\u001b[0;34m(\u001b[0m\u001b[0;36m50\u001b[0m\u001b[0;34m)\u001b[0m\u001b[0;34m:\u001b[0m\u001b[0;34m\u001b[0m\u001b[0;34m\u001b[0m\u001b[0m\n\u001b[1;32m      5\u001b[0m     \u001b[0mreqparams\u001b[0m \u001b[0;34m=\u001b[0m \u001b[0;34m{\u001b[0m\u001b[0;34m'offset'\u001b[0m\u001b[0;34m:\u001b[0m\u001b[0moffset\u001b[0m\u001b[0;34m,\u001b[0m\u001b[0;34m'count'\u001b[0m\u001b[0;34m:\u001b[0m\u001b[0mcount\u001b[0m\u001b[0;34m}\u001b[0m\u001b[0;34m\u001b[0m\u001b[0;34m\u001b[0m\u001b[0m\n\u001b[0;32m----> 6\u001b[0;31m     \u001b[0mreqparams\u001b[0m\u001b[0;34m[\u001b[0m\u001b[0;34m'filters'\u001b[0m\u001b[0;34m]\u001b[0m\u001b[0;34m=\u001b[0m\u001b[0;34m'id::'\u001b[0m\u001b[0;34m+\u001b[0m\u001b[0mdoc_id\u001b[0m\u001b[0;34m[\u001b[0m\u001b[0mj\u001b[0m\u001b[0;34m]\u001b[0m\u001b[0;34m\u001b[0m\u001b[0;34m\u001b[0m\u001b[0m\n\u001b[0m\u001b[1;32m      7\u001b[0m     \u001b[0mdiscovery_data2\u001b[0m \u001b[0;34m=\u001b[0m \u001b[0mdh\u001b[0m\u001b[0;34m.\u001b[0m\u001b[0mgetDiscoveryData\u001b[0m\u001b[0;34m(\u001b[0m\u001b[0mdiscovery_config\u001b[0m\u001b[0;34m,\u001b[0m\u001b[0mreqparams\u001b[0m\u001b[0;34m)\u001b[0m\u001b[0;34m\u001b[0m\u001b[0;34m\u001b[0m\u001b[0m\n\u001b[1;32m      8\u001b[0m     \u001b[0mprovider_name\u001b[0m\u001b[0;34m.\u001b[0m\u001b[0mappend\u001b[0m\u001b[0;34m(\u001b[0m\u001b[0mdiscovery_data2\u001b[0m\u001b[0;34m[\u001b[0m\u001b[0;34m\"results\"\u001b[0m\u001b[0;34m]\u001b[0m\u001b[0;34m[\u001b[0m\u001b[0;36m0\u001b[0m\u001b[0;34m]\u001b[0m\u001b[0;34m[\u001b[0m\u001b[0;34m\"providerName\"\u001b[0m\u001b[0;34m]\u001b[0m\u001b[0;34m)\u001b[0m\u001b[0;34m\u001b[0m\u001b[0;34m\u001b[0m\u001b[0m\n",
      "\u001b[0;31mIndexError\u001b[0m: list index out of range"
     ]
    }
   ],
   "source": [
    "provider_name=[]\n",
    "provider_code=[]\n",
    "publication_time=[]\n",
    "for j in range(50):\n",
    "    reqparams = {'offset':offset,'count':count}\n",
    "    reqparams['filters']='id::'+doc_id[j]\n",
    "    discovery_data2 = dh.getDiscoveryData(discovery_config,reqparams)\n",
    "    provider_name.append(discovery_data2[\"results\"][0][\"providerName\"])\n",
    "    provider_code.append(discovery_data2[\"results\"][0][\"providerCode\"])\n",
    "    publication_time.append(discovery_data2[\"results\"][0][\"publicationTime\"])"
   ]
  },
  {
   "cell_type": "code",
   "execution_count": 25,
   "metadata": {},
   "outputs": [],
   "source": [
    "df[\"Provider_Name\"]=provider_name\n",
    "df[\"Provider_code\"]=provider_code\n",
    "df[\"Publication_time\"]=publication_time"
   ]
  },
  {
   "cell_type": "code",
   "execution_count": 26,
   "metadata": {},
   "outputs": [
    {
     "data": {
      "text/html": [
       "<div>\n",
       "<style scoped>\n",
       "    .dataframe tbody tr th:only-of-type {\n",
       "        vertical-align: middle;\n",
       "    }\n",
       "\n",
       "    .dataframe tbody tr th {\n",
       "        vertical-align: top;\n",
       "    }\n",
       "\n",
       "    .dataframe thead th {\n",
       "        text-align: right;\n",
       "    }\n",
       "</style>\n",
       "<table border=\"1\" class=\"dataframe\">\n",
       "  <thead>\n",
       "    <tr style=\"text-align: right;\">\n",
       "      <th></th>\n",
       "      <th>Doc_id</th>\n",
       "      <th>Passage_score</th>\n",
       "      <th>Passage</th>\n",
       "      <th>Provider_Name</th>\n",
       "      <th>Provider_code</th>\n",
       "      <th>Publication_time</th>\n",
       "    </tr>\n",
       "  </thead>\n",
       "  <tbody>\n",
       "    <tr>\n",
       "      <th>0</th>\n",
       "      <td>03a09a1c-cd3d-4561-9086-6933b7a19386</td>\n",
       "      <td>38.995676</td>\n",
       "      <td>AHS sal speech: If it's the last dance, dance ...</td>\n",
       "      <td>NewsBank</td>\n",
       "      <td>8105</td>\n",
       "      <td>2020-05-23T00:00:00-04:00</td>\n",
       "    </tr>\n",
       "    <tr>\n",
       "      <th>1</th>\n",
       "      <td>50602105-0b9c-42f9-9bd7-01641652a2ba</td>\n",
       "      <td>35.628047</td>\n",
       "      <td>Tune In Tonight: Little League reruns and more...</td>\n",
       "      <td>NewsBank</td>\n",
       "      <td>8105</td>\n",
       "      <td>2020-05-28T00:00:00-04:00</td>\n",
       "    </tr>\n",
       "    <tr>\n",
       "      <th>2</th>\n",
       "      <td>788ed57f-834f-4e5b-949f-7ccddf1d76b5</td>\n",
       "      <td>35.628047</td>\n",
       "      <td>Tune In Tonight: Little League reruns and more...</td>\n",
       "      <td>NewsBank</td>\n",
       "      <td>8105</td>\n",
       "      <td>2020-05-28T00:00:00-04:00</td>\n",
       "    </tr>\n",
       "    <tr>\n",
       "      <th>3</th>\n",
       "      <td>03a09a1c-cd3d-4561-9086-6933b7a19386</td>\n",
       "      <td>29.287775</td>\n",
       "      <td>Sidney Irwin is salutatorian of Abilene High S...</td>\n",
       "      <td>NewsBank</td>\n",
       "      <td>8105</td>\n",
       "      <td>2020-05-23T00:00:00-04:00</td>\n",
       "    </tr>\n",
       "    <tr>\n",
       "      <th>4</th>\n",
       "      <td>03a09a1c-cd3d-4561-9086-6933b7a19386</td>\n",
       "      <td>28.668416</td>\n",
       "      <td>AMX:Story Lead=Sidney Irwin is salutatorian of...</td>\n",
       "      <td>NewsBank</td>\n",
       "      <td>8105</td>\n",
       "      <td>2020-05-23T00:00:00-04:00</td>\n",
       "    </tr>\n",
       "    <tr>\n",
       "      <th>5</th>\n",
       "      <td>50602105-0b9c-42f9-9bd7-01641652a2ba</td>\n",
       "      <td>28.374070</td>\n",
       "      <td>In other sports programming, ABC continues to ...</td>\n",
       "      <td>NewsBank</td>\n",
       "      <td>8105</td>\n",
       "      <td>2020-05-28T00:00:00-04:00</td>\n",
       "    </tr>\n",
       "    <tr>\n",
       "      <th>6</th>\n",
       "      <td>788ed57f-834f-4e5b-949f-7ccddf1d76b5</td>\n",
       "      <td>28.374070</td>\n",
       "      <td>In other sports programming, ABC continues to ...</td>\n",
       "      <td>NewsBank</td>\n",
       "      <td>8105</td>\n",
       "      <td>2020-05-28T00:00:00-04:00</td>\n",
       "    </tr>\n",
       "    <tr>\n",
       "      <th>7</th>\n",
       "      <td>675cac1e-3c73-4c1d-84b3-5a09eb2ce9d2</td>\n",
       "      <td>27.719066</td>\n",
       "      <td>She danced all four of her high-school years a...</td>\n",
       "      <td>NewsBank</td>\n",
       "      <td>8105</td>\n",
       "      <td>2020-06-03T00:00:00-04:00</td>\n",
       "    </tr>\n",
       "    <tr>\n",
       "      <th>8</th>\n",
       "      <td>03a09a1c-cd3d-4561-9086-6933b7a19386</td>\n",
       "      <td>26.763679</td>\n",
       "      <td>&lt;/p&gt;\\n\\n&lt;p&gt;So while we're celebrating, while w...</td>\n",
       "      <td>NewsBank</td>\n",
       "      <td>8105</td>\n",
       "      <td>2020-05-23T00:00:00-04:00</td>\n",
       "    </tr>\n",
       "    <tr>\n",
       "      <th>9</th>\n",
       "      <td>50602105-0b9c-42f9-9bd7-01641652a2ba</td>\n",
       "      <td>26.754829</td>\n",
       "      <td>NEWSBANK:link=https://www.kenoshanews.com/tune...</td>\n",
       "      <td>NewsBank</td>\n",
       "      <td>8105</td>\n",
       "      <td>2020-05-28T00:00:00-04:00</td>\n",
       "    </tr>\n",
       "  </tbody>\n",
       "</table>\n",
       "</div>"
      ],
      "text/plain": [
       "                                 Doc_id  Passage_score  \\\n",
       "0  03a09a1c-cd3d-4561-9086-6933b7a19386      38.995676   \n",
       "1  50602105-0b9c-42f9-9bd7-01641652a2ba      35.628047   \n",
       "2  788ed57f-834f-4e5b-949f-7ccddf1d76b5      35.628047   \n",
       "3  03a09a1c-cd3d-4561-9086-6933b7a19386      29.287775   \n",
       "4  03a09a1c-cd3d-4561-9086-6933b7a19386      28.668416   \n",
       "5  50602105-0b9c-42f9-9bd7-01641652a2ba      28.374070   \n",
       "6  788ed57f-834f-4e5b-949f-7ccddf1d76b5      28.374070   \n",
       "7  675cac1e-3c73-4c1d-84b3-5a09eb2ce9d2      27.719066   \n",
       "8  03a09a1c-cd3d-4561-9086-6933b7a19386      26.763679   \n",
       "9  50602105-0b9c-42f9-9bd7-01641652a2ba      26.754829   \n",
       "\n",
       "                                             Passage Provider_Name  \\\n",
       "0  AHS sal speech: If it's the last dance, dance ...      NewsBank   \n",
       "1  Tune In Tonight: Little League reruns and more...      NewsBank   \n",
       "2  Tune In Tonight: Little League reruns and more...      NewsBank   \n",
       "3  Sidney Irwin is salutatorian of Abilene High S...      NewsBank   \n",
       "4  AMX:Story Lead=Sidney Irwin is salutatorian of...      NewsBank   \n",
       "5  In other sports programming, ABC continues to ...      NewsBank   \n",
       "6  In other sports programming, ABC continues to ...      NewsBank   \n",
       "7  She danced all four of her high-school years a...      NewsBank   \n",
       "8  </p>\\n\\n<p>So while we're celebrating, while w...      NewsBank   \n",
       "9  NEWSBANK:link=https://www.kenoshanews.com/tune...      NewsBank   \n",
       "\n",
       "  Provider_code           Publication_time  \n",
       "0          8105  2020-05-23T00:00:00-04:00  \n",
       "1          8105  2020-05-28T00:00:00-04:00  \n",
       "2          8105  2020-05-28T00:00:00-04:00  \n",
       "3          8105  2020-05-23T00:00:00-04:00  \n",
       "4          8105  2020-05-23T00:00:00-04:00  \n",
       "5          8105  2020-05-28T00:00:00-04:00  \n",
       "6          8105  2020-05-28T00:00:00-04:00  \n",
       "7          8105  2020-06-03T00:00:00-04:00  \n",
       "8          8105  2020-05-23T00:00:00-04:00  \n",
       "9          8105  2020-05-28T00:00:00-04:00  "
      ]
     },
     "execution_count": 26,
     "metadata": {},
     "output_type": "execute_result"
    }
   ],
   "source": [
    "df"
   ]
  },
  {
   "cell_type": "code",
   "execution_count": 27,
   "metadata": {},
   "outputs": [],
   "source": [
    "df_final=df.groupby('Provider_Name',axis=0).sum()"
   ]
  },
  {
   "cell_type": "code",
   "execution_count": 28,
   "metadata": {},
   "outputs": [
    {
     "data": {
      "text/html": [
       "<div>\n",
       "<style scoped>\n",
       "    .dataframe tbody tr th:only-of-type {\n",
       "        vertical-align: middle;\n",
       "    }\n",
       "\n",
       "    .dataframe tbody tr th {\n",
       "        vertical-align: top;\n",
       "    }\n",
       "\n",
       "    .dataframe thead th {\n",
       "        text-align: right;\n",
       "    }\n",
       "</style>\n",
       "<table border=\"1\" class=\"dataframe\">\n",
       "  <thead>\n",
       "    <tr style=\"text-align: right;\">\n",
       "      <th></th>\n",
       "      <th>Passage_score</th>\n",
       "    </tr>\n",
       "    <tr>\n",
       "      <th>Provider_Name</th>\n",
       "      <th></th>\n",
       "    </tr>\n",
       "  </thead>\n",
       "  <tbody>\n",
       "    <tr>\n",
       "      <th>NewsBank</th>\n",
       "      <td>306.193677</td>\n",
       "    </tr>\n",
       "  </tbody>\n",
       "</table>\n",
       "</div>"
      ],
      "text/plain": [
       "               Passage_score\n",
       "Provider_Name               \n",
       "NewsBank          306.193677"
      ]
     },
     "execution_count": 28,
     "metadata": {},
     "output_type": "execute_result"
    }
   ],
   "source": [
    "df_final"
   ]
  },
  {
   "cell_type": "code",
   "execution_count": 30,
   "metadata": {},
   "outputs": [
    {
     "data": {
      "text/plain": [
       "array([10])"
      ]
     },
     "execution_count": 30,
     "metadata": {},
     "output_type": "execute_result"
    }
   ],
   "source": [
    "b=df.groupby('Provider_Name',axis=0).count()[\"Passage_score\"].values\n",
    "b"
   ]
  },
  {
   "cell_type": "code",
   "execution_count": 123,
   "metadata": {},
   "outputs": [],
   "source": [
    "df_final[\"count\"]=b"
   ]
  },
  {
   "cell_type": "code",
   "execution_count": 124,
   "metadata": {},
   "outputs": [],
   "source": [
    "df_final[\"Average_score\"]=df_final[\"Passage_score\"]/df_final[\"count\"]"
   ]
  },
  {
   "cell_type": "code",
   "execution_count": 127,
   "metadata": {},
   "outputs": [],
   "source": [
    "df_final.drop(\"Passage_score\",axis=1,inplace=True)"
   ]
  },
  {
   "cell_type": "code",
   "execution_count": 128,
   "metadata": {},
   "outputs": [
    {
     "data": {
      "text/html": [
       "<div>\n",
       "<style scoped>\n",
       "    .dataframe tbody tr th:only-of-type {\n",
       "        vertical-align: middle;\n",
       "    }\n",
       "\n",
       "    .dataframe tbody tr th {\n",
       "        vertical-align: top;\n",
       "    }\n",
       "\n",
       "    .dataframe thead th {\n",
       "        text-align: right;\n",
       "    }\n",
       "</style>\n",
       "<table border=\"1\" class=\"dataframe\">\n",
       "  <thead>\n",
       "    <tr style=\"text-align: right;\">\n",
       "      <th></th>\n",
       "      <th>count</th>\n",
       "      <th>Average_score</th>\n",
       "    </tr>\n",
       "    <tr>\n",
       "      <th>Provider_Name</th>\n",
       "      <th></th>\n",
       "      <th></th>\n",
       "    </tr>\n",
       "  </thead>\n",
       "  <tbody>\n",
       "    <tr>\n",
       "      <td>NewsBank</td>\n",
       "      <td>40</td>\n",
       "      <td>28.279708</td>\n",
       "    </tr>\n",
       "    <tr>\n",
       "      <td>Gale Group</td>\n",
       "      <td>5</td>\n",
       "      <td>26.674719</td>\n",
       "    </tr>\n",
       "    <tr>\n",
       "      <td>ContentEngine</td>\n",
       "      <td>2</td>\n",
       "      <td>25.574966</td>\n",
       "    </tr>\n",
       "    <tr>\n",
       "      <td>Zinio</td>\n",
       "      <td>2</td>\n",
       "      <td>24.959565</td>\n",
       "    </tr>\n",
       "    <tr>\n",
       "      <td>ProQuest Information &amp; Learning</td>\n",
       "      <td>1</td>\n",
       "      <td>24.674097</td>\n",
       "    </tr>\n",
       "  </tbody>\n",
       "</table>\n",
       "</div>"
      ],
      "text/plain": [
       "                                 count  Average_score\n",
       "Provider_Name                                        \n",
       "NewsBank                            40      28.279708\n",
       "Gale Group                           5      26.674719\n",
       "ContentEngine                        2      25.574966\n",
       "Zinio                                2      24.959565\n",
       "ProQuest Information & Learning      1      24.674097"
      ]
     },
     "execution_count": 128,
     "metadata": {},
     "output_type": "execute_result"
    }
   ],
   "source": [
    "df_final.sort_values(\"Average_score\",ascending=False)"
   ]
  },
  {
   "cell_type": "code",
   "execution_count": 31,
   "metadata": {},
   "outputs": [
    {
     "data": {
      "text/plain": [
       "Index(['NewsBank'], dtype='object', name='Provider_Name')"
      ]
     },
     "execution_count": 31,
     "metadata": {},
     "output_type": "execute_result"
    }
   ],
   "source": [
    "df_final.index"
   ]
  },
  {
   "cell_type": "code",
   "execution_count": 131,
   "metadata": {},
   "outputs": [],
   "source": [
    "import matplotlib.pyplot as plt\n",
    "%matplotlib inline\n",
    "import seaborn as sns"
   ]
  },
  {
   "cell_type": "code",
   "execution_count": 138,
   "metadata": {},
   "outputs": [
    {
     "data": {
      "text/plain": [
       "<matplotlib.axes._subplots.AxesSubplot at 0x199e87dfef0>"
      ]
     },
     "execution_count": 138,
     "metadata": {},
     "output_type": "execute_result"
    },
    {
     "data": {
      "image/png": "[encoded data removed]",
      "text/plain": [
       "<Figure size 432x288 with 1 Axes>"
      ]
     },
     "metadata": {
      "needs_background": "light"
     },
     "output_type": "display_data"
    }
   ],
   "source": [
    "sns.barplot(df_final[\"Average_score\"],df_final.index)"
   ]
  },
  {
   "cell_type": "code",
   "execution_count": 135,
   "metadata": {},
   "outputs": [
    {
     "data": {
      "text/plain": [
       "Index(['ContentEngine', 'Gale Group', 'NewsBank',\n",
       "       'ProQuest Information & Learning', 'Zinio'],\n",
       "      dtype='object', name='Provider_Name')"
      ]
     },
     "execution_count": 135,
     "metadata": {},
     "output_type": "execute_result"
    }
   ],
   "source": [
    "df_final.index"
   ]
  },
  {
   "cell_type": "code",
   "execution_count": null,
   "metadata": {},
   "outputs": [],
   "source": []
  }
 ],
 "metadata": {
  "kernelspec": {
   "display_name": "discovery",
   "language": "python",
   "name": "discovery"
  },
  "language_info": {
   "codemirror_mode": {
    "name": "ipython",
    "version": 3
   },
   "file_extension": ".py",
   "mimetype": "text/x-python",
   "name": "python",
   "nbconvert_exporter": "python",
   "pygments_lexer": "ipython3",
   "version": "3.6.9"
  }
 },
 "nbformat": 4,
 "nbformat_minor": 2
}
