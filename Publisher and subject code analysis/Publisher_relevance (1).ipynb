{
 "cells": [
  {
   "cell_type": "code",
   "execution_count": 1,
   "metadata": {},
   "outputs": [
    {
     "name": "stdout",
     "output_type": "stream",
     "text": [
      "Test\n"
     ]
    },
    {
     "ename": "KeyError",
     "evalue": "'naviga'",
     "output_type": "error",
     "traceback": [
      "\u001b[0;31m---------------------------------------------------------------------------\u001b[0m",
      "\u001b[0;31mKeyError\u001b[0m                                  Traceback (most recent call last)",
      "\u001b[0;32m<ipython-input-1-322976cecba5>\u001b[0m in \u001b[0;36m<module>\u001b[0;34m\u001b[0m\n\u001b[1;32m     55\u001b[0m     \u001b[0;32mreturn\u001b[0m \u001b[0mresponse\u001b[0m\u001b[0;34m\u001b[0m\u001b[0;34m\u001b[0m\u001b[0m\n\u001b[1;32m     56\u001b[0m \u001b[0;34m\u001b[0m\u001b[0m\n\u001b[0;32m---> 57\u001b[0;31m \u001b[0mdiscovery_config\u001b[0m \u001b[0;34m=\u001b[0m \u001b[0mdiscovery_init\u001b[0m\u001b[0;34m(\u001b[0m\u001b[0mCOLLECTION_NAME\u001b[0m\u001b[0;34m,\u001b[0m\u001b[0mdefault\u001b[0m\u001b[0;34m=\u001b[0m\u001b[0;34m\"naviga\"\u001b[0m\u001b[0;34m)\u001b[0m\u001b[0;34m\u001b[0m\u001b[0;34m\u001b[0m\u001b[0m\n\u001b[0m",
      "\u001b[0;32m<ipython-input-1-322976cecba5>\u001b[0m in \u001b[0;36mdiscovery_init\u001b[0;34m(COLLECTION_NAME, default)\u001b[0m\n\u001b[1;32m     24\u001b[0m     \u001b[0mdiscovery_param\u001b[0m \u001b[0;34m=\u001b[0m \u001b[0mall_params\u001b[0m\u001b[0;34m[\u001b[0m\u001b[0;34m'discovery'\u001b[0m\u001b[0;34m]\u001b[0m\u001b[0;34m\u001b[0m\u001b[0;34m\u001b[0m\u001b[0m\n\u001b[1;32m     25\u001b[0m     \u001b[0;31m# default =\u001b[0m\u001b[0;34m\u001b[0m\u001b[0;34m\u001b[0m\u001b[0;34m\u001b[0m\u001b[0m\n\u001b[0;32m---> 26\u001b[0;31m     \u001b[0mauthenticator\u001b[0m \u001b[0;34m=\u001b[0m \u001b[0mIAMAuthenticator\u001b[0m\u001b[0;34m(\u001b[0m\u001b[0mapikey\u001b[0m\u001b[0;34m=\u001b[0m\u001b[0mdiscovery_param\u001b[0m\u001b[0;34m[\u001b[0m\u001b[0mdefault\u001b[0m\u001b[0;34m]\u001b[0m\u001b[0;34m[\u001b[0m\u001b[0;34m'apikey'\u001b[0m\u001b[0;34m]\u001b[0m\u001b[0;34m)\u001b[0m\u001b[0;34m\u001b[0m\u001b[0;34m\u001b[0m\u001b[0m\n\u001b[0m\u001b[1;32m     27\u001b[0m     \u001b[0mendurl\u001b[0m \u001b[0;34m=\u001b[0m \u001b[0;34m\"https://gateway.watsonplatform.net/discovery/api\"\u001b[0m\u001b[0;34m\u001b[0m\u001b[0;34m\u001b[0m\u001b[0m\n\u001b[1;32m     28\u001b[0m     discovery = DiscoveryV1(\n",
      "\u001b[0;31mKeyError\u001b[0m: 'naviga'"
     ]
    }
   ],
   "source": [
    "__author__=\"Jayesh\"\n",
    "import json\n",
    "import os\n",
    "import sys\n",
    "sys.path.append(\"../\")\n",
    "sys.path.append(\"../../\")\n",
    "sys.path.append(\"../modules/\")\n",
    "import modules.common_helper as cm_help\n",
    "from ibm_watson import DiscoveryV1\n",
    "import modules.config as config\n",
    "import modules.discovery_helper as dh\n",
    "import os\n",
    "import time\n",
    "from pprint import pprint\n",
    "from ibm_cloud_sdk_core.authenticators import IAMAuthenticator\n",
    "\n",
    "all_params = cm_help.get_params()\n",
    "COLLECTION_NAME = config.DISCOVERY_COLLECTION_NAME\n",
    "print(COLLECTION_NAME)\n",
    "\n",
    "def discovery_init(COLLECTION_NAME=config.DISCOVERY_COLLECTION_NAME,default=all_params['discovery']['default']):\n",
    "    response = {}\n",
    "    \n",
    "    discovery_param = all_params['discovery']\n",
    "    # default = \n",
    "    authenticator = IAMAuthenticator(apikey=discovery_param[default]['apikey'])\n",
    "    endurl = \"https://gateway.watsonplatform.net/discovery/api\"\n",
    "    discovery = DiscoveryV1(\n",
    "        version=discovery_param[default]['version'],\n",
    "        authenticator = authenticator)\n",
    "    iam_apikey=discovery_param[default]['apikey'],\n",
    "    url=discovery_param[default]['url']    \n",
    "    if default ==\"naviga\":\n",
    "        discovery.set_service_url(discovery_param[default]['url'])\n",
    "\n",
    "    environments = discovery.list_environments().get_result()\n",
    "    # print(json.dumps(environments, indent=2))\n",
    "    print(\"Discovery instance loaded \"+default)\n",
    "    js = json.dumps(environments)\n",
    "    jres = json.loads(js)\n",
    "    # print(jres['environments'][1]['environment_id'])\n",
    "    env_id = jres['environments'][1]['environment_id']\n",
    "    collections = discovery.list_collections(env_id).get_result()\n",
    "    cols = json.dumps(collections, indent=2)\n",
    "    colres = json.loads(cols)\n",
    "\n",
    "    #print(colres['collections'])\n",
    "    for item in colres['collections']:\n",
    "        if item['name']== COLLECTION_NAME:\n",
    "            print('COLLECTION ID:', item['collection_id'], 'COLLECTION NAME:', item['name'])\n",
    "            col_id = item['collection_id']\n",
    "    response['env_id'] = env_id\n",
    "    response['col_id'] = col_id\n",
    "    response['discovery'] = discovery\n",
    "    return response\n",
    "\n",
    "discovery_config = discovery_init(COLLECTION_NAME,default=\"naviga\")"
   ]
  },
  {
   "cell_type": "markdown",
   "metadata": {},
   "source": [
    "# Getting 50 Passages "
   ]
  },
  {
   "cell_type": "code",
   "execution_count": 141,
   "metadata": {},
   "outputs": [],
   "source": [
    "import pandas as pd"
   ]
  },
  {
   "cell_type": "code",
   "execution_count": 184,
   "metadata": {},
   "outputs": [
    {
     "name": "stdout",
     "output_type": "stream",
     "text": [
      "offset in query0\n",
      "offset in query0\n",
      "offset in query0\n",
      "offset in query0\n",
      "offset in query0\n",
      "offset in query0\n",
      "offset in query0\n",
      "offset in query0\n",
      "offset in query0\n",
      "offset in query0\n",
      "offset in query0\n",
      "offset in query0\n",
      "offset in query0\n",
      "offset in query0\n",
      "offset in query0\n",
      "offset in query0\n",
      "offset in query0\n",
      "offset in query0\n",
      "offset in query0\n",
      "offset in query0\n",
      "offset in query0\n",
      "offset in query0\n",
      "offset in query0\n",
      "offset in query0\n",
      "offset in query0\n",
      "offset in query0\n",
      "offset in query0\n",
      "offset in query0\n",
      "offset in query0\n",
      "offset in query0\n",
      "offset in query0\n",
      "offset in query0\n",
      "offset in query0\n",
      "offset in query0\n",
      "offset in query0\n",
      "offset in query0\n",
      "offset in query0\n",
      "offset in query0\n",
      "offset in query0\n",
      "offset in query0\n",
      "offset in query0\n",
      "offset in query0\n",
      "offset in query0\n",
      "offset in query0\n",
      "offset in query0\n",
      "offset in query0\n",
      "offset in query0\n",
      "offset in query0\n",
      "offset in query0\n",
      "offset in query0\n"
     ]
    }
   ],
   "source": [
    "offset = 0\n",
    "count = 1\n",
    "reqparams = {'offset':offset,'count':count}\n",
    "reqparams['q'] = 'Last Dance'\n",
    "discovery_data_subCode = dh.getDiscoveryData(discovery_config,reqparams)\n",
    "\n",
    "doc_id=[]\n",
    "passage=[]\n",
    "for i in range(len(discovery_data_subCode[\"passages\"])):\n",
    "    doc_id.append(discovery_data_subCode[\"passages\"][i][\"document_id\"])\n",
    "    passage.append(discovery_data_subCode[\"passages\"][i][\"passage_text\"])\n",
    "\n",
    "HTM=[]\n",
    "for j in range(50):\n",
    "    reqparams = {'offset':offset,'count':count}\n",
    "    reqparams['filters']='id::'+doc_id[j]\n",
    "    discovery_data2 = dh.getDiscoveryData(discovery_config,reqparams)\n",
    "    HTM.append(discovery_data2[\"results\"][0][\"html\"])"
   ]
  },
  {
   "cell_type": "code",
   "execution_count": 154,
   "metadata": {},
   "outputs": [
    {
     "data": {
      "text/plain": [
       "\"AHS sal speech: If it's the last dance, dance backward, Class of 2020\""
      ]
     },
     "execution_count": 154,
     "metadata": {},
     "output_type": "execute_result"
    }
   ],
   "source": [
    "passage[0]"
   ]
  },
  {
   "cell_type": "code",
   "execution_count": 179,
   "metadata": {},
   "outputs": [],
   "source": [
    "a=HTM[0].replace(\"Class of 2020\",\"<mark><b>Class of 2020</b></mark>\")"
   ]
  },
  {
   "cell_type": "code",
   "execution_count": 180,
   "metadata": {},
   "outputs": [
    {
     "data": {
      "text/html": [
       "\n",
       "<p><person>Sidney Irwin</person> is salutatorian of <org>Abilene High School</org>.</p>\n",
       "<p>'If it's the last dance, dance backwards.'</p>\n",
       "\n",
       "<p>When I first heard this quote, it sounded to me like one of those vague little sayings people write to sound poetic. But when I really thought about it, what it's trying to tell you, it's kind of beautifully true.</p>\n",
       "\n",
       "<p>In the 13 years that we have been going to school, we have gone through a lot of changes in our lives. We've made friends, lost friends, moved schools, joined clubs, aced projects and failed papers and learned more about ourselves along the way.</p>\n",
       "\n",
       "<p>We've felt joy and terror, sadness and hope, we've learned to love and learned to lose and sometimes lost ourselves in the in between.</p>\n",
       "\n",
       "<p>We've grown up.</p>\n",
       "\n",
       "<p>And every time we have these changes, the big ones or the small ones, we look around at all our friends and our first thoughts are not of the future, of what's up ahead, because we don't know what's coming.</p>\n",
       "\n",
       "<p>We can't predict what's going to happen next. I mean, look at right now. Who could have known we'd be having an online graduation in the middle of a worldwide pandemic?</p>\n",
       "\n",
       "<p>The future cannot be predicted, so our first thoughts aren't of the future. Our first thoughts when we look around are to look at where we've been. Look at what we've come from. To remember all the things that make you who you are.</p>\n",
       "\n",
       "<p>Our memories are what give things meaning. They are what makes a friend different from a stranger. It's how each person is unique. Nobody experiences the world like you do, nobody has done exactly what you've done. Our futures are direct reflections of our pasts. In order to change, you have to have something to change from.</p>\n",
       "\n",
       "<p>So as much as we'd sometimes like, we cannot ignore our pasts, we cannot forget all the things that have made us who we are today. It's the very reason why we have history classes, why there are thousands of people across the globe who spend their whole lives learning about what came before.</p>\n",
       "\n",
       "<p>Because our history is who we are, it's what makes us distinct. History is part of what makes us human.</p>\n",
       "\n",
       "<p>So while we're celebrating, while we enjoy the last dances of our high school experience, let's dance backward for just a little bit and remember everything that makes us the <mark><b>Class of 2020</b></mark>.</p>\n"
      ],
      "text/plain": [
       "<IPython.core.display.HTML object>"
      ]
     },
     "metadata": {},
     "output_type": "display_data"
    }
   ],
   "source": [
    "from IPython.core.display import display, HTML\n",
    "display(HTML(a))"
   ]
  },
  {
   "cell_type": "code",
   "execution_count": 172,
   "metadata": {},
   "outputs": [
    {
     "data": {
      "text/plain": [
       "\"Tune In Tonight: Little League reruns and more 'Last Dance'\""
      ]
     },
     "execution_count": 172,
     "metadata": {},
     "output_type": "execute_result"
    }
   ],
   "source": [
    "passage[1]"
   ]
  },
  {
   "cell_type": "code",
   "execution_count": 182,
   "metadata": {},
   "outputs": [],
   "source": [
    "b=HTM[1]"
   ]
  },
  {
   "cell_type": "code",
   "execution_count": 183,
   "metadata": {},
   "outputs": [
    {
     "data": {
      "text/plain": [
       "'\\n<p>In the absence of new baseball games, ESPN2 glances back at the boys of summers past, presenting the <org>Little League World Series</org> from 2014 (<chron>6:30 p.m.</chron>) and 2012 (<chron>8:30 p.m.</chron>).</p>\\n<p>In other sports programming, <org>ABC</org> continues to re-air the acclaimed <org>ESPN</org> documentary series \"The Last Dance\" (7 and <chron>8 p.m.</chron>, <org>ABC</org>).</p>\\n\\n<p>OTHER HIGHLIGHTSThe voice of <person>Steve Carell</person> animates the 2013 sequel \"Despicable Me 2\" (<chron>7 p.m.</chron>, <org>NBC</org>).</p>\\n\\n<p>A live-in childcare provider discovers that her employer\\'s security obsession may be a tad unhealthy in the 2020 shocker \"The Captive Nanny\" (<chron>7 p.m.</chron>, Lifetime).</p>\\n\\n<p><person>Natalie Portman</person> and <person>Jon Hamm</person> star in the 2019 drama \"Lucy in the Sky\" (<chron>7 p.m.</chron>, <org>HBO</org>).</p>\\n\\n<p>A bookstore owner clashes with an ambitious urban planner in the 2020 romance \"The Story of Us\" (<chron>8 p.m.</chron>, Hallmark).</p>\\n\\n<p>SERIES NOTESSingles meet, dance and flirt in the failed reality series \"Flirty Dancing\" (<chron>7 p.m.</chron>, Fox, rerun) ... news stories get the in-depth treatment on \"48 Hours\" (8 and <chron>9 p.m.</chron>, <org>CBS</org>) ... <org>Lego</org> enthusiasts get creative on \"Lego Masters\" (<chron>8 p.m.</chron>, Fox, rerun) ... A vintage helping of \"Saturday <person>Night Live</person>\" (<chron>9 p.m.</chron>, <org>NBC</org>, rerun).</p>\\n\\n<p>STREAMING OVERLOADHBO Max, a premium streaming network offering everything from <org>HBO\\'s</org> past and present catalog as well as a wealth of Warner product, jumped into the crowded steaming universe earlier this week. Like Apple TV+, it promises to launch original shows as well. And like Apple\\'s products, people may or may not notice them.</p>\\n\\n<p>The Disney+ service, which launched last fall, had the advantage of including Marvel and \"Star Wars\" content and the family-friendly vault of <org>Disney</org> and Pixar films.</p>\\n\\n<p>HBO Max hoped to entice people to pony up the roughly <money>$15</money> per month fee by arranging a first-ever \"Friends\" reunion. But that, like so many great plans, has been scuttled by the COVID-19 contagion and the shuttering of production studios.</p>\\n\\n<p>COVID-19 and quarantine has made people more likely to \"binge\" on lots of television. But gloomy economic prospects may also make people less ready to enter into new subscriptions.</p>\\n\\n<p>It hasn\\'t been a good time to launch new services. Just ask the folks behind Quibi, the new service asking people to subscribe for roughly <money>$5</money>/month for a curated service of very short episodes, each ending in a cliffhanger. As if the world weren\\'t already awash with videos from YouTube and TikTok.</p>\\n\\n<p>Old-fashioned TV viewers aren\\'t the only ones confused and uncertain about where all of this is heading. Just last week, <person>Kevin Mayer</person>, the head of streaming at <org>Disney</org>. left the Magic Kingdom to become CEO of TikTok, the Chinese-owned short viral video app that most of us never heard of a year ago. What\\'s he know that we don\\'t?</p>\\n\\n<p>To add to the confusion, <org idsrc=\"xmltag.org\" value=\"ACORN:0293568422\">NBC-Universal</org> will soon launch its streaming service, Peacock.</p>\\n'"
      ]
     },
     "execution_count": 183,
     "metadata": {},
     "output_type": "execute_result"
    }
   ],
   "source": [
    "b"
   ]
  },
  {
   "cell_type": "code",
   "execution_count": 185,
   "metadata": {},
   "outputs": [
    {
     "data": {
      "text/plain": [
       "\"Tune In Tonight: Little League reruns and more 'Last Dance'\""
      ]
     },
     "execution_count": 185,
     "metadata": {},
     "output_type": "execute_result"
    }
   ],
   "source": [
    "passage[2]"
   ]
  },
  {
   "cell_type": "code",
   "execution_count": 193,
   "metadata": {},
   "outputs": [
    {
     "data": {
      "text/plain": [
       "True"
      ]
     },
     "execution_count": 193,
     "metadata": {},
     "output_type": "execute_result"
    }
   ],
   "source": [
    "\"Last Dance\" in HTM[2]"
   ]
  },
  {
   "cell_type": "code",
   "execution_count": 194,
   "metadata": {},
   "outputs": [],
   "source": [
    "# trying different query"
   ]
  },
  {
   "cell_type": "code",
   "execution_count": 358,
   "metadata": {},
   "outputs": [
    {
     "name": "stdout",
     "output_type": "stream",
     "text": [
      "offset in query0\n",
      "offset in query0\n",
      "offset in query0\n",
      "offset in query0\n",
      "offset in query0\n",
      "offset in query0\n"
     ]
    }
   ],
   "source": [
    "offset = 0\n",
    "count = 1\n",
    "reqparams = {'offset':offset,'count':count}\n",
    "reqparams['q'] = 'Inflation'\n",
    "discovery_data_subCode = dh.getDiscoveryData(discovery_config,reqparams)\n",
    "\n",
    "doc_id=[]\n",
    "passage=[]\n",
    "for i in range(len(discovery_data_subCode[\"passages\"])):\n",
    "    doc_id.append(discovery_data_subCode[\"passages\"][i][\"document_id\"])\n",
    "    passage.append(discovery_data_subCode[\"passages\"][i][\"passage_text\"])\n",
    "\n",
    "HTM_2=[]\n",
    "for j in range(5):\n",
    "    reqparams = {'offset':offset,'count':count}\n",
    "    reqparams['filters']='id::'+doc_id[j]\n",
    "    discovery_data2 = dh.getDiscoveryData(discovery_config,reqparams)\n",
    "    HTM_2.append(discovery_data2[\"results\"][0][\"html\"])"
   ]
  },
  {
   "cell_type": "code",
   "execution_count": 616,
   "metadata": {},
   "outputs": [
    {
     "data": {
      "text/plain": [
       "\"The State Bank of Pakistan said that Pakistan's inflation for the year 2020 was not the highest in the world, in a series of tweets on Sunday. While Pakistan did have a relatively elevated inflation rate so far in FY20, it is not true that it was the highest in the world.'. Since January, inflation in Pakistan has fallen sharply and much faster than in most other emerging...\""
      ]
     },
     "execution_count": 616,
     "metadata": {},
     "output_type": "execute_result"
    }
   ],
   "source": [
    "passage[3]"
   ]
  },
  {
   "cell_type": "code",
   "execution_count": 619,
   "metadata": {},
   "outputs": [],
   "source": [
    "def finding_fragment(passage,html,empty=0):\n",
    "    str_=\" \"\n",
    "    i=0\n",
    "    a=passage.split()[empty:]\n",
    "    frag=a[0]\n",
    "    while (frag in html):\n",
    "        i+=1\n",
    "        frag=frag+\" \"+a[i]\n",
    "    str_=str_.join(frag.split()[:-1])\n",
    "    if len(str_)!=0:\n",
    "        html=html.replace(str_,\"<mark><b>\"+ str_ +\"</mark></b>\",1)\n",
    "    passage=passage.replace(str_,\"\")\n",
    "    return (passage,str_,html)"
   ]
  },
  {
   "cell_type": "code",
   "execution_count": 620,
   "metadata": {},
   "outputs": [],
   "source": [
    "p=passage[3]\n",
    "h=HTM_2[3]"
   ]
  },
  {
   "cell_type": "code",
   "execution_count": 621,
   "metadata": {},
   "outputs": [],
   "source": [
    "empty=0"
   ]
  },
  {
   "cell_type": "code",
   "execution_count": 622,
   "metadata": {},
   "outputs": [],
   "source": [
    "while(len(p.split())>empty):\n",
    "    p,s,h=finding_fragment(p,h,empty=empty)\n",
    "    if len(s)==0:\n",
    "        empty+=1"
   ]
  },
  {
   "cell_type": "code",
   "execution_count": 623,
   "metadata": {},
   "outputs": [
    {
     "data": {
      "text/plain": [
       "\"        world.'.    emerging...\""
      ]
     },
     "execution_count": 623,
     "metadata": {},
     "output_type": "execute_result"
    }
   ],
   "source": [
    "p"
   ]
  },
  {
   "cell_type": "code",
   "execution_count": 624,
   "metadata": {},
   "outputs": [
    {
     "data": {
      "text/plain": [
       "[\"world.'.\", 'emerging...']"
      ]
     },
     "execution_count": 624,
     "metadata": {},
     "output_type": "execute_result"
    }
   ],
   "source": [
    "p.split()"
   ]
  },
  {
   "cell_type": "code",
   "execution_count": 625,
   "metadata": {},
   "outputs": [
    {
     "data": {
      "text/html": [
       "\n",
       "<p> <mark><b>The</mark></b> <org idsrc=\"xmltag.org\" value=\"ACORN:0966177357\"><mark><b>State Bank of <mark><b>Pakistan</mark></b></mark></b></org> (SBP) <mark><b>said that</mark></b> <location idsrc=\"xmltag.org\" value=\"LC/pk\"><mark><b>Pakistan's</mark></b></location> <mark><b>inflation for the year 2020 was not the highest in the world, in a series of tweets on Sunday.</mark></b></p>\n",
       "<p>The SBP tweeted: 'A chart from our Inflation Monitor has generated erroneous headlines. It compares <location idsrc=\"xmltag.org\" value=\"LC/pk\">Pakistan's</location> inflation to a few developed and developing countries. <mark><b>While</mark></b> <location idsrc=\"xmltag.org\" value=\"LC/pk\">Pakistan</location> <mark><b>did have a relatively elevated inflation rate so far in FY20, it is not true that it was the highest in the</mark></b> world.'</p>\n",
       "<p>'For instance, <location idsrc=\"xmltag.org\" value=\"LC/ar\">Argentina</location>, <location idsrc=\"xmltag.org\" value=\"LC/ir\">Iran</location>, <location idsrc=\"xmltag.org\" value=\"LC/ng\">Nigeria</location> and <location idsrc=\"xmltag.org\" value=\"LC/tr\">Turkey's</location> inflation has been higher. <mark><b>Since January, inflation in</mark></b> <location idsrc=\"xmltag.org\" value=\"LC/pk\">Pakistan</location> <mark><b>has fallen sharply and much faster than in most other</mark></b> emerging markets,' the SBP added.</p>\n",
       "<p>The clarifying tweets were in reference to the SBP's own Inflation Monitor for April report, which the central bank had released towards the end of May.</p>\n",
       "<p>On page 19 of the report, in a section titled '10. Inflation in Global Context', the authors of the report had stated: 'In global context, <location idsrc=\"xmltag.org\" value=\"LC/pk\">Pakistan</location> witnessed the highest inflation not only in comparison with the developed economies but also with emerging economies.'</p>\n",
       "<p>The text accompanied a chat which compared <location idsrc=\"xmltag.org\" value=\"LC/pk\">Pakistan's</location> inflation with a group of emerging and developing countries.</p>\n",
       "<p>The text and chart together had then led to a series of headlines by different media outlets, stating that <location idsrc=\"xmltag.org\" value=\"LC/pk\">Pakistan</location> had the highest inflation rate in the world, which is what prompted the SBP to tweet the clarification.</p>\n",
       "<p><location idsrc=\"xmltag.org\" value=\"LC/pk\">Pakistan's</location> Consumer Price Inflation (CPI) in January was recorded at 14.56pc, which was the highest it has been in more than a decade. However, the index started falling from February, when it had eased to 12.4pc. It further fell to 10.24pc in March, 8.5pc in April, and then to 8.2pc in May.</p>\n",
       "<p>According to Profit's own analysis, there are approximately 27 other countries that have a higher inflation rate than <location idsrc=\"xmltag.org\" value=\"LC/pk\">Pakistan</location>.</p>\n",
       "<p>Currently, the highest inflation in the world is in <location idsrc=\"xmltag.org\" value=\"LC/ve\">Venezuela</location> with 2431pc in <chron>March 2020</chron>.</p>\n",
       "<p>The average inflation rate around the world is 21.25pc. However, this figure includes not only <location idsrc=\"xmltag.org\" value=\"LC/ve\">Venezuela's</location> inflation rate, but also <location idsrc=\"xmltag.org\" value=\"LC/zw\">Zimbabwe's</location> high inflation rate, at 766pc in <chron>April 2020</chron>. If these two outliers are removed, the average global rate falls to 4.01pc.</p>\n"
      ],
      "text/plain": [
       "<IPython.core.display.HTML object>"
      ]
     },
     "metadata": {},
     "output_type": "display_data"
    }
   ],
   "source": [
    "display(HTML(h))"
   ]
  },
  {
   "cell_type": "code",
   "execution_count": 567,
   "metadata": {},
   "outputs": [
    {
     "data": {
      "text/plain": [
       "'        drop...'"
      ]
     },
     "execution_count": 567,
     "metadata": {},
     "output_type": "execute_result"
    }
   ],
   "source": []
  },
  {
   "cell_type": "code",
   "execution_count": 562,
   "metadata": {},
   "outputs": [
    {
     "data": {
      "text/plain": [
       "'Headline inflation further slid last month as the coronavirus pandemic continued to drag down consumer demand. The rate of increase in consumer prices, or inflation, clocked in at 2.1 percent in April, slightly lower compared with 2.2 percent in the previous month.  \"Slowdown in the headline inflation in May, 2020, was mainly driven by the 5.6 percent annual drop...'"
      ]
     },
     "execution_count": 562,
     "metadata": {},
     "output_type": "execute_result"
    }
   ],
   "source": [
    "p"
   ]
  },
  {
   "cell_type": "code",
   "execution_count": 599,
   "metadata": {},
   "outputs": [
    {
     "data": {
      "text/plain": [
       "False"
      ]
     },
     "execution_count": 599,
     "metadata": {},
     "output_type": "execute_result"
    }
   ],
   "source": [
    "\"India.\" in h"
   ]
  },
  {
   "cell_type": "code",
   "execution_count": 618,
   "metadata": {},
   "outputs": [
    {
     "data": {
      "text/plain": [
       "'\\n<p> The <org idsrc=\"xmltag.org\" value=\"ACORN:0966177357\">State Bank of Pakistan</org> (SBP) said that <location idsrc=\"xmltag.org\" value=\"LC/pk\">Pakistan\\'s</location> inflation for the year 2020 was not the highest in the world, in a series of tweets on Sunday.</p>\\n<p>The SBP tweeted: \\'A chart from our Inflation Monitor has generated erroneous headlines. It compares <location idsrc=\"xmltag.org\" value=\"LC/pk\">Pakistan\\'s</location> inflation to a few developed and developing countries. While <location idsrc=\"xmltag.org\" value=\"LC/pk\">Pakistan</location> did have a relatively elevated inflation rate so far in FY20, it is not true that it was the highest in the world.\\'</p>\\n<p>\\'For instance, <location idsrc=\"xmltag.org\" value=\"LC/ar\">Argentina</location>, <location idsrc=\"xmltag.org\" value=\"LC/ir\">Iran</location>, <location idsrc=\"xmltag.org\" value=\"LC/ng\">Nigeria</location> and <location idsrc=\"xmltag.org\" value=\"LC/tr\">Turkey\\'s</location> inflation has been higher. Since January, inflation in <location idsrc=\"xmltag.org\" value=\"LC/pk\">Pakistan</location> has fallen sharply and much faster than in most other emerging markets,\\' the SBP added.</p>\\n<p>The clarifying tweets were in reference to the SBP\\'s own Inflation Monitor for April report, which the central bank had released towards the end of May.</p>\\n<p>On page 19 of the report, in a section titled \\'10. Inflation in Global Context\\', the authors of the report had stated: \\'In global context, <location idsrc=\"xmltag.org\" value=\"LC/pk\">Pakistan</location> witnessed the highest inflation not only in comparison with the developed economies but also with emerging economies.\\'</p>\\n<p>The text accompanied a chat which compared <location idsrc=\"xmltag.org\" value=\"LC/pk\">Pakistan\\'s</location> inflation with a group of emerging and developing countries.</p>\\n<p>The text and chart together had then led to a series of headlines by different media outlets, stating that <location idsrc=\"xmltag.org\" value=\"LC/pk\">Pakistan</location> had the highest inflation rate in the world, which is what prompted the SBP to tweet the clarification.</p>\\n<p><location idsrc=\"xmltag.org\" value=\"LC/pk\">Pakistan\\'s</location> Consumer Price Inflation (CPI) in January was recorded at 14.56pc, which was the highest it has been in more than a decade. However, the index started falling from February, when it had eased to 12.4pc. It further fell to 10.24pc in March, 8.5pc in April, and then to 8.2pc in May.</p>\\n<p>According to Profit\\'s own analysis, there are approximately 27 other countries that have a higher inflation rate than <location idsrc=\"xmltag.org\" value=\"LC/pk\">Pakistan</location>.</p>\\n<p>Currently, the highest inflation in the world is in <location idsrc=\"xmltag.org\" value=\"LC/ve\">Venezuela</location> with 2431pc in <chron>March 2020</chron>.</p>\\n<p>The average inflation rate around the world is 21.25pc. However, this figure includes not only <location idsrc=\"xmltag.org\" value=\"LC/ve\">Venezuela\\'s</location> inflation rate, but also <location idsrc=\"xmltag.org\" value=\"LC/zw\">Zimbabwe\\'s</location> high inflation rate, at 766pc in <chron>April 2020</chron>. If these two outliers are removed, the average global rate falls to 4.01pc.</p>\\n'"
      ]
     },
     "execution_count": 618,
     "metadata": {},
     "output_type": "execute_result"
    }
   ],
   "source": [
    "h"
   ]
  },
  {
   "cell_type": "code",
   "execution_count": null,
   "metadata": {},
   "outputs": [],
   "source": []
  }
 ],
 "metadata": {
  "kernelspec": {
   "display_name": "discovery",
   "language": "python",
   "name": "discovery"
  },
  "language_info": {
   "codemirror_mode": {
    "name": "ipython",
    "version": 3
   },
   "file_extension": ".py",
   "mimetype": "text/x-python",
   "name": "python",
   "nbconvert_exporter": "python",
   "pygments_lexer": "ipython3",
   "version": "3.6.9"
  }
 },
 "nbformat": 4,
 "nbformat_minor": 2
}
