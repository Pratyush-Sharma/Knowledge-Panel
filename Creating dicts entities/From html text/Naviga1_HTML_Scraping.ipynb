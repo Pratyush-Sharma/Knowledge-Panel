{
 "cells": [
  {
   "cell_type": "markdown",
   "metadata": {},
   "source": [
    "# Importing"
   ]
  },
  {
   "cell_type": "code",
   "execution_count": 21,
   "metadata": {},
   "outputs": [],
   "source": [
    "import requests\n",
    "import json\n",
    "import os\n",
    "import modules.config as config\n",
    "from time import sleep\n",
    "from requests.auth import HTTPBasicAuth\n",
    "from ibm_watson import DiscoveryV1\n",
    "from pprint import pprint\n",
    "import modules.discovery_helper as dh_help\n",
    "import modules.common_helper as cm_help\n",
    "import sys\n",
    "import pandas as pd\n",
    "import modules.config as config\n",
    "import math\n",
    "import re\n",
    "import hashlib\n",
    "import unicodedata\n",
    "from bs4 import BeautifulSoup \n",
    "from ibm_cloud_sdk_core.authenticators import IAMAuthenticator"
   ]
  },
  {
   "cell_type": "markdown",
   "metadata": {},
   "source": [
    "# Creating instance\n"
   ]
  },
  {
   "cell_type": "code",
   "execution_count": 22,
   "metadata": {
    "collapsed": true
   },
   "outputs": [
    {
     "name": "stdout",
     "output_type": "stream",
     "text": [
      "Test\n"
     ]
    }
   ],
   "source": [
    "all_params = cm_help.get_params()\n",
    "COLLECTION_NAME = config.DISCOVERY_COLLECTION_NAME\n",
    "print(COLLECTION_NAME)"
   ]
  },
  {
   "cell_type": "code",
   "execution_count": 23,
   "metadata": {
    "collapsed": true
   },
   "outputs": [
    {
     "data": {
      "text/plain": [
       "{'default': 'a1',\n",
       " 'r3': {'version': '2019-04-30',\n",
       "  'apikey': 'e60nrAsq6WIQmWfuzv9_8by2yCXinHK_FOe3u9MSI1ml',\n",
       "  'url': 'https://api.us-east.discovery.watson.cloud.ibm.com/instances/f2df1dc1-c923-49c1-80f3-7e23fc0441e8'},\n",
       " 'a1': {'version': '2019-04-30',\n",
       "  'apikey': 'h1IoNg4AIKbGtBs8n8QGf4dZ5tZwMpeVERQUrC1Q2-DF',\n",
       "  'url': 'https://api.jp-tok.discovery.watson.cloud.ibm.com/instances/2330122b-7269-496b-ba7e-029f641470a1'},\n",
       " 'version1': '2018-12-03',\n",
       " 'apikey1': 'LTk2AGh0Mjsu3G9bGGSkU92xeCBAYdfa4lN4fjaA-CR4',\n",
       " 'url1': 'https://gateway.watsonplatform.net/discovery/api'}"
      ]
     },
     "execution_count": 23,
     "metadata": {},
     "output_type": "execute_result"
    }
   ],
   "source": [
    "all_params['discovery']"
   ]
  },
  {
   "cell_type": "code",
   "execution_count": 24,
   "metadata": {},
   "outputs": [],
   "source": [
    "def discovery_init(COLLECTION_NAME=config.DISCOVERY_COLLECTION_NAME,default=all_params['discovery']['default']):\n",
    "    response = {}\n",
    "    \n",
    "    discovery_param = all_params['discovery']\n",
    "    # default = \n",
    "    authenticator = IAMAuthenticator(apikey=discovery_param[default]['apikey'])\n",
    "    endurl = \"https://gateway.watsonplatform.net/discovery/api\"\n",
    "    discovery = DiscoveryV1(\n",
    "        version=discovery_param[default]['version'],\n",
    "        authenticator = authenticator)\n",
    "    iam_apikey=discovery_param[default]['apikey'],\n",
    "    url=discovery_param[default]['url']    \n",
    "    if default ==\"r3\":\n",
    "        discovery.set_service_url(discovery_param[default]['url'])\n",
    "\n",
    "    environments = discovery.list_environments().get_result()\n",
    "    # print(json.dumps(environments, indent=2))\n",
    "    print(\"Discovery instance loaded \"+default)\n",
    "    js = json.dumps(environments)\n",
    "    jres = json.loads(js)\n",
    "    # print(jres['environments'][1]['environment_id'])\n",
    "    env_id = jres['environments'][1]['environment_id']\n",
    "    collections = discovery.list_collections(env_id).get_result()\n",
    "    cols = json.dumps(collections, indent=2)\n",
    "    colres = json.loads(cols)\n",
    "\n",
    "    #print(colres['collections'])\n",
    "    for item in colres['collections']:\n",
    "        if item['name']== COLLECTION_NAME:\n",
    "            print('COLLECTION ID:', item['collection_id'], 'COLLECTION NAME:', item['name'])\n",
    "            col_id = item['collection_id']\n",
    "    response['env_id'] = env_id\n",
    "    response['col_id'] = col_id\n",
    "    response['discovery'] = discovery\n",
    "    return response"
   ]
  },
  {
   "cell_type": "code",
   "execution_count": 25,
   "metadata": {},
   "outputs": [
    {
     "name": "stdout",
     "output_type": "stream",
     "text": [
      "Discovery instance loaded r3\n",
      "COLLECTION ID: ec586f27-f848-40b7-99af-dab80a43b248 COLLECTION NAME: Naviga1\n"
     ]
    }
   ],
   "source": [
    "discovery_config = discovery_init(COLLECTION_NAME='Naviga1',default=\"r3\")\n",
    "#COLLECTION_NAME = 'Naviga1'\n",
    "#discovery_config = dh_help.discovery_init(COLLECTION_NAME=COLLECTION_NAME,default=\"r3\")"
   ]
  },
  {
   "cell_type": "markdown",
   "metadata": {},
   "source": [
    "# NULL query"
   ]
  },
  {
   "cell_type": "code",
   "execution_count": 27,
   "metadata": {},
   "outputs": [
    {
     "name": "stdout",
     "output_type": "stream",
     "text": [
      "offset in query = 0\n"
     ]
    }
   ],
   "source": [
    "offset = 0\n",
    "count = 10\n",
    "reqparams = {'offset':offset,'count':count}\n",
    "discovery_data = dh_help.getDiscoveryData(discovery_config,reqparams)"
   ]
  },
  {
   "cell_type": "markdown",
   "metadata": {},
   "source": [
    "# Getting html text"
   ]
  },
  {
   "cell_type": "code",
   "execution_count": 31,
   "metadata": {},
   "outputs": [
    {
     "name": "stdout",
     "output_type": "stream",
     "text": [
      "offset in query = 0\n",
      "len 10\n",
      "\n",
      "<p>2020 has been bizarre - you don't need me to tell you that.</p>\n",
      "<p>Basketball has not been excluded from the oddities of a year that began with the death of NBA legend <person>Kobe Bryant</person>, followed by a finals push by <person>LeBron James</person> and the Lakers that was abruptly halted, culminating with \"The Last Dance\" documentary that detailed the greatness of <person>Michael Jordan</person> and the <org idsrc=\"xmltag.org\" value=\"ACORN:6001131364\">Chicago Bulls'</org> dynasty of the 1990s.</p>\n",
      "\n",
      "<p>That's just what's happened through the first five months.</p>\n",
      "\n",
      "<p>The discussion of who the greatest NBA player of all time is or who belongs on the <location>Mount Rushmore</location> of the sport became a reawakened topic after <org>ESPN's</org> 10-part series about the Bulls' sixth title in an eight year span, that concluded with the final two episodes on Sunday. It might be fair to say, with little distraction by the lack of live sports, that the greatest to grace the hardwood is an interesting and often controversial discussion worth discussing at a time like this.</p>\n",
      "\n",
      "<p>Everything must be taken in context when grading such a stacked group of players. Training and building bulky basketball bodies was something you didn't see in the 90s, so LeBron's physical stature leads you to believe he would have dominated in past eras. Yet, the physicality of the game, like the case was with the \"Bad Boy\" Pistons is something James never encountered due to increased protection of players by the league. Another parallel could be drawn in terms of the heroics of Celtics' great, <person>Bill Russel</person>. Russel won 11 championships in 13 years which in and of itself is unmatched, but it should be noted that fewer teams in the eastern conference stood between Russel and a title, making the path to a championship far less convoluted. <person>Robert Horry</person> acquired seven titles with the Rockets, Lakers, and Spurs, yet everyone can agree that he isn't anywhere near the top-50 players in NBA history.</p>\n",
      "\n",
      "<p>And of course, you can't forget the casts that legends have had around them considering several greats are judged on the surface and not by the team they played on. Several NBA legends had the benefit of hall-of-fame caliber players in the lineup with them. <person>Michael Jordan</person> had <person>Scottie Pippen</person>, <person>Magic Johnson</person> and <person>Kareem Abdul-Jabbar</person> had each other, and the <org idsrc=\"xmltag.org\" value=\"ACORN:6001131381\">Boston Celtics</org> have perennially had multiple hall-of-famers on their roster during their formidable years.</p>\n",
      "\n",
      "<p>A wide range of criteria must be included when building a list of basketball's best. Championships, statistics, accolades, awards, and metrics all shed light on a player's worth. No two people can agree on which characteristic is most important, so it is only fair to allow each attribute to play an equal role in deciding whether or not James' diverse skill set, Johnson's unique size at the point guard position, or Jordan's play at both ends of the court and relentless work ethic is more superior.</p>\n",
      "\n",
      "<p>As I've compiled my personal list, I've chosen to include everything under the sun, including the opinions of coaches and basketball minds that I respect, and their knowledge of the game. With that in mind, these are my 10 greatest NBA players of all time, along with a handful of area high school basketball dignitaries' opinions on the matter.</p>\n",
      "\n",
      "<p>No. 10 <person>Oscar Robertson</person></p>\n",
      "\n",
      "<p><person>Oscar Robertson</person> was a diverse point guard during an era where the position was expected to be a distributor and not necessarily a scorer. The \"Big O\" took things a step further, ranking as one of the best rebounding guards of all time. His 181 triple-doubles ranks first in history, with the next closest total coming from <person>Russel Westbrook</person> with 146. Robertson finished his career with one NBA title, an MVP award, and had nine All-NBA first-team honors.</p>\n",
      "\n",
      "<p>No. 9 <person>Hakeem Olajuwon</person></p>\n",
      "\n",
      "<p>Known as \"The Dream\" during his years with the <org idsrc=\"xmltag.org\" value=\"ACORN:6001131373\">Houston Rockets</org> in the 80s and 90s, <person>Hakeem Olajuwon</person> might very well have been the second-best player of an era dominated by <person>Michael Jordan</person>.</p>\n",
      "\n",
      "<p>Olajuwon brought a skill set to the center position not seen before him, changing how the position was played after. Where most players of his size were shooting the patented hook shot, Olajuwon used a bevy of moves in the post with varying finishes. The Rockets won two titles with Olajuwon, with one of those coming during the Nigerian's MVP season in 1994.</p>\n",
      "\n",
      "<p>No. 8 <person>Larry Bird</person></p>\n",
      "\n",
      "<p>Along with his Lakers rival <person>Magic Johnson</person>, Bird helped salvage the NBA during a time that the league was falling out of favor in popularity among fans. <person>Larry Legend</person> won three titles to match his three MVP awards during his 13-year career. Birdshot 50% from the field overall for his career which helped him become a two-time member of the 50&#150;40&#150;90 club, which requires a player to achieve all three criteria of 50% field goal percentage, 40% three-point field goal percentage and 90% free throw percentage by the end of the regular season.</p>\n",
      "\n",
      "<p>No. 7 <person>Shaquille O'Neal</person></p>\n",
      "\n",
      "<p>Quite possibly the most dominant force in NBA history, <person>Shaquille O'Neal</person> can lay claim to being one of the few players to knock <person>Michael Jordan</person> out of the playoffs as he did with the <org idsrc=\"xmltag.org\" value=\"ACORN:6001131404\">Orlando Magic</org> in 1995. O'Neal's career took off with <location idsrc=\"xmltag.org\" value=\"LU/us.ca.losang\">Los Angeles</location> where he won three NBA championships, snagging Finals MVP honors during each. O'Neal added a final championship to his resume as a member of the <org idsrc=\"xmltag.org\" value=\"ACORN:6001131396\">Miami Heat</org> in 2006. One of the more colorful players in history, Shaq earned All-NBA First Team honors on eight occasions.</p>\n",
      "\n",
      "<p>No. 6 <person>Magic Johnson</person></p>\n",
      "\n",
      "<p><person>Ervin \"Magic\" Johnson</person> played the point guard position unlike anyone else in history, with size at the position that is a rarity to this day. Johnson ranks third all-time in triple-doubles with 138. Johnson is one half of the greatest individual rivalry in NBA history, along with <person>Larry Bird</person>. Magic had all the accolades during the 1980s to be considered the best of the decade, winning five titles, three Finals MVPs, and three regular-season MVP awards. Johnson finished his career with an impressive stat line of 19.5 ppg. 7.2 rpg, and 11.2 apg over 13 seasons with the Lakers.</p>\n",
      "\n",
      "<p>No. 5 <person>Kobe Bryant</person></p>\n",
      "\n",
      "<p>Bryant, who's life was tragically cut short in January of this year, is easily the second greatest shooting guard in the history of the game. Bryant became one of the most prolific scorers in NBA history during a career that spanned three different decades. The Black Mamba was one of the great champions of the game, winning five NBA titles over a 10-year span. He ranks fourth all-time in scoring, ranks 13th all-time in points per game with 25.68, and has the second most All-NBA first team selections with 11.</p>\n",
      "\n",
      "<p>No. 4 <person>Wilt Chamberlain</person></p>\n",
      "\n",
      "<p><person>Wilt Chamberlain's</person> career stats look like something out of a video game to put it frankly. The Stilt is most famous for his 100 point game in 1962, but his career included several other mind-boggling numbers. He is one of two players in history to average 30 points per game for their career, and has the most impressive stat line for a single season when he averaged 50.4 ppg, 25.7 rpg during the 1961-62 campaign. Chamberlain had seven seasons where he averaged 33 points or more, which is four more times than <person>Michael Jordan</person> reached the feat during his career.</p>\n",
      "\n",
      "<p>No. 3 <person>LeBron James</person></p>\n",
      "\n",
      "<p><person>LeBon James</person> is the most unique talent the game has ever seen, and his ranking could change depending on how the remainder of his career plays out. James has the most consecutive NBA Finals appearances of any non-Celtics player with eight. The King has 17 seasons under his belt, and it appears his prime isn't close to ending any time soon. He has averaged 27.1 ppg, 7.4 rpg, and 7.4 apg while playing for three different organizations. He has the most All-NBA fist team selections with 12, has three regular-season MVP awards, and is second all-time in player efficiency rating, and third all time in win shares.</p>\n",
      "\n",
      "<p>No. 2 <person>Kareem Abdul Jabar</person></p>\n",
      "\n",
      "<p><person>Kareem Abdul Jabar</person> has one of the most decorated careers of any player, and that is without including the three titles he won under <person>John Wooden</person> at <org idsrc=\"xmltag.org\" value=\"ACORN:2463358293\">UCLA</org>. Known as <person>Lew Alcindor</person> prior to 1968, The Lakers great amassed six NBA championships, six regular-season MVP awards, and made 10 All-NBA first teams during his illustrious career. His 38,387 career points is the highest total in league history, he ranks fourth all-time with 17440 boards, and has the highest win shares total of any player.</p>\n",
      "\n",
      "<p>No. 1 <person>Michael Jordan</person></p>\n",
      "\n",
      "<p><person>Michael Jordan</person> became a larger than life figure during a career that included two three-peat championship runs with the <org idsrc=\"xmltag.org\" value=\"ACORN:6001131364\">Chicago Bulls</org> during the 1990's. MJ's titles and statistics would be enough to make him the game's best, but his pop culture status brought him to almost mythological heights. Jordan is one of two players to average 30 ppg for a career, and even at age 40 while playing on a dreadful <org idsrc=\"xmltag.org\" value=\"ACORN:6001131366\">Washington Wizards</org> team his final season, Jordan average 20 ppg. His competitive fire is unmatched in basketball, and could very well be the case across the entire sports landscape. His Airness is the greatest clutch player of all time, and his numbers during key moments back it up. Jordan's career field goal percentage when taking the last shot is virtually the same as his overall career shooting percentage of 50%. Jordan's game had little weaknesses, and if you had to pick where he lacked the most, it was likely his three-point shooting. Still, Jordan shot 33% from range for his career, which was still above the league average almost every year he was in the league. Whether it was what he did for the Bulls, the Dream Team, or basketball as a whole, Jordan's name reverberates through the history of sports like <person>Babe Ruth</person> or Muhammad Ali.</p>\n",
      "\n"
     ]
    }
   ],
   "source": [
    "offset = 0\n",
    "count = 10\n",
    "reqparams = {'offset':offset,'count':count}\n",
    "discovery_data = dh_help.getDiscoveryData(discovery_config,reqparams)\n",
    "print(\"len \"+str(len(discovery_data['results'])))\n",
    "print(discovery_data['results'][0]['html'])"
   ]
  },
  {
   "cell_type": "markdown",
   "metadata": {},
   "source": [
    "# REGEX"
   ]
  },
  {
   "cell_type": "code",
   "execution_count": 32,
   "metadata": {},
   "outputs": [],
   "source": [
    "batRegex = re.compile(r'([a-zA-Z]{2}\\s<[a-zA-Z]*[^>]*>(.+?)</[a-zA-Z]*>)')\n",
    "m1=batRegex.search(source)"
   ]
  },
  {
   "cell_type": "code",
   "execution_count": 34,
   "metadata": {},
   "outputs": [
    {
     "name": "stdout",
     "output_type": "stream",
     "text": [
      "[('or <person>Lisa Holt</person>', 'Lisa Holt'), ('of <org>Main Street Barber Shop</org>', 'Main Street Barber Shop'), ('in <location idsrc=\"xmltag.org\" value=\"LU/us.nm.clovis\">Clovis</location>', 'Clovis'), ('he <org idsrc=\"xmltag.org\" value=\"ACORN:0532342767\">New Mexico Department of Workforce Solutions</org>', 'New Mexico Department of Workforce Solutions'), ('an <money>$2,000</money>', '$2,000'), ('he <org>Santa Fe Reporter</org>', 'Santa Fe Reporter'), ('ry <person>Bill McCamley</person>', 'Bill McCamley'), ('id <location idsrc=\"xmltag.org\" value=\"LS/us.nm\">New Mexico</location>', 'New Mexico'), ('ts <chron>April 22</chron>', 'April 22'), ('he <org idsrc=\"xmltag.org\" value=\"ACORN:1576954704\">U.S. Department of Labor</org>', 'U.S. Department of Labor')]\n"
     ]
    }
   ],
   "source": [
    "print (re.findall(batRegex,source))"
   ]
  },
  {
   "cell_type": "code",
   "execution_count": 160,
   "metadata": {},
   "outputs": [],
   "source": [
    "lists = re.findall(batRegex,source)"
   ]
  },
  {
   "cell_type": "code",
   "execution_count": 161,
   "metadata": {},
   "outputs": [],
   "source": [
    "len_ = len(lists)"
   ]
  },
  {
   "cell_type": "code",
   "execution_count": 162,
   "metadata": {},
   "outputs": [],
   "source": [
    "for i in range(len_):\n",
    "    lists[i] = list(lists[i])"
   ]
  },
  {
   "cell_type": "code",
   "execution_count": 163,
   "metadata": {},
   "outputs": [
    {
     "data": {
      "text/plain": [
       "[['or <person>Lisa Holt</person>', 'Lisa Holt'],\n",
       " ['of <org>Main Street Barber Shop</org>', 'Main Street Barber Shop'],\n",
       " ['in <location idsrc=\"xmltag.org\" value=\"LU/us.nm.clovis\">Clovis</location>',\n",
       "  'Clovis'],\n",
       " ['he <org idsrc=\"xmltag.org\" value=\"ACORN:0532342767\">New Mexico Department of Workforce Solutions</org>',\n",
       "  'New Mexico Department of Workforce Solutions'],\n",
       " ['an <money>$2,000</money>', '$2,000'],\n",
       " ['he <org>Santa Fe Reporter</org>', 'Santa Fe Reporter'],\n",
       " ['ry <person>Bill McCamley</person>', 'Bill McCamley'],\n",
       " ['id <location idsrc=\"xmltag.org\" value=\"LS/us.nm\">New Mexico</location>',\n",
       "  'New Mexico'],\n",
       " ['ts <chron>April 22</chron>', 'April 22'],\n",
       " ['he <org idsrc=\"xmltag.org\" value=\"ACORN:1576954704\">U.S. Department of Labor</org>',\n",
       "  'U.S. Department of Labor']]"
      ]
     },
     "execution_count": 163,
     "metadata": {},
     "output_type": "execute_result"
    }
   ],
   "source": [
    "lists"
   ]
  },
  {
   "cell_type": "code",
   "execution_count": 164,
   "metadata": {},
   "outputs": [],
   "source": [
    "regex = re.compile(r'\\svalue=\"(.*?)\"')\n",
    "subst = ''\n",
    "for i in range(len_):\n",
    "    bregex = re.findall(regex,lists[i][0])\n",
    "    if(len(bregex)!=0):\n",
    "        lists[i][0] = lists[i][0].replace(bregex[0], subst)\n",
    "\n",
    "regex = re.compile(r'\\sidsrc=\"(.*?)\"')\n",
    "for i in range(len_):\n",
    "    bregex = re.findall(regex,lists[i][0])\n",
    "    if(len(bregex)!=0):\n",
    "        lists[i][0] = lists[i][0].replace(bregex[0], subst)\n",
    "    "
   ]
  },
  {
   "cell_type": "code",
   "execution_count": 165,
   "metadata": {},
   "outputs": [
    {
     "data": {
      "text/plain": [
       "[['or <person>Lisa Holt</person>', 'Lisa Holt'],\n",
       " ['of <org>Main Street Barber Shop</org>', 'Main Street Barber Shop'],\n",
       " ['in <location idsrc=\"\" value=\"\">Clovis</location>', 'Clovis'],\n",
       " ['he <org idsrc=\"\" value=\"\">New Mexico Department of Workforce Solutions</org>',\n",
       "  'New Mexico Department of Workforce Solutions'],\n",
       " ['an <money>$2,000</money>', '$2,000'],\n",
       " ['he <org>Santa Fe Reporter</org>', 'Santa Fe Reporter'],\n",
       " ['ry <person>Bill McCamley</person>', 'Bill McCamley'],\n",
       " ['id <location idsrc=\"\" value=\"\">New Mexico</location>', 'New Mexico'],\n",
       " ['ts <chron>April 22</chron>', 'April 22'],\n",
       " ['he <org idsrc=\"\" value=\"\">U.S. Department of Labor</org>',\n",
       "  'U.S. Department of Labor']]"
      ]
     },
     "execution_count": 165,
     "metadata": {},
     "output_type": "execute_result"
    }
   ],
   "source": [
    "lists"
   ]
  },
  {
   "cell_type": "code",
   "execution_count": 166,
   "metadata": {},
   "outputs": [],
   "source": [
    "res = {}\n",
    "for i in range(len_):\n",
    "    lists[i][0]=lists[i][0].split('/')\n",
    "    lists[i][0][1]=lists[i][0][1].split('>')\n",
    "    keyword = lists[i][0][1][0]\n",
    "    value = lists[i][1]\n",
    "    \n",
    "    if keyword in res:\n",
    "        res[keyword].append(value)       \n",
    "    else:\n",
    "        res[keyword] = [value]"
   ]
  },
  {
   "cell_type": "code",
   "execution_count": 167,
   "metadata": {},
   "outputs": [
    {
     "data": {
      "text/plain": [
       "{'person': ['Lisa Holt', 'Bill McCamley'],\n",
       " 'org': ['Main Street Barber Shop',\n",
       "  'New Mexico Department of Workforce Solutions',\n",
       "  'Santa Fe Reporter',\n",
       "  'U.S. Department of Labor'],\n",
       " 'location': ['Clovis', 'New Mexico'],\n",
       " 'money': ['$2,000'],\n",
       " 'chron': ['April 22']}"
      ]
     },
     "execution_count": 167,
     "metadata": {},
     "output_type": "execute_result"
    }
   ],
   "source": [
    "res"
   ]
  },
  {
   "cell_type": "markdown",
   "metadata": {},
   "source": [
    "# Error handling"
   ]
  },
  {
   "cell_type": "code",
   "execution_count": null,
   "metadata": {},
   "outputs": [],
   "source": [
    "discovery_data = dh_help.discovery_init(COLLECTION_NAME='Naviga1')"
   ]
  },
  {
   "cell_type": "code",
   "execution_count": null,
   "metadata": {},
   "outputs": [],
   "source": [
    "import json\n",
    "import os\n",
    "import sys\n",
    "sys.path.append(\"../\")\n",
    "sys.path.append(\"../../\")\n",
    "sys.path.append(\"../modules/\")\n",
    "import modules.common_helper as cm_help\n",
    "from ibm_watson import DiscoveryV1\n",
    "import modules.config as config\n",
    "import modules.discovery_helper as dh\n",
    "import os\n",
    "import time\n",
    "from pprint import pprint\n",
    "from ibm_cloud_sdk_core.authenticators import IAMAuthenticator"
   ]
  },
  {
   "cell_type": "code",
   "execution_count": null,
   "metadata": {},
   "outputs": [],
   "source": [
    "all_params = cm_help.get_params()\n",
    "COLLECTION_NAME = config.DISCOVERY_COLLECTION_NAME\n",
    "print(COLLECTION_NAME)"
   ]
  },
  {
   "cell_type": "code",
   "execution_count": null,
   "metadata": {},
   "outputs": [],
   "source": [
    "all_params['discovery']"
   ]
  },
  {
   "cell_type": "code",
   "execution_count": null,
   "metadata": {},
   "outputs": [],
   "source": [
    "def discovery_init(COLLECTION_NAME=config.DISCOVERY_COLLECTION_NAME,default=all_params['discovery']['default']):\n",
    "    response = {}\n",
    "    \n",
    "    discovery_param = all_params['discovery']\n",
    "    # default = \n",
    "    authenticator = IAMAuthenticator(apikey=discovery_param[default]['apikey'])\n",
    "    endurl = \"https://gateway.watsonplatform.net/discovery/api\"\n",
    "    discovery = DiscoveryV1(\n",
    "        version=discovery_param[default]['version'],\n",
    "        authenticator = authenticator)\n",
    "    iam_apikey=discovery_param[default]['apikey'],\n",
    "    url=discovery_param[default]['url']    \n",
    "    if default ==\"r3\":\n",
    "        discovery.set_service_url(discovery_param[default]['url'])\n",
    "\n",
    "    environments = discovery.list_environments().get_result()\n",
    "    # print(json.dumps(environments, indent=2))\n",
    "    print(\"Discovery instance loaded \"+default)\n",
    "    js = json.dumps(environments)\n",
    "    jres = json.loads(js)\n",
    "    # print(jres['environments'][1]['environment_id'])\n",
    "    env_id = jres['environments'][1]['environment_id']\n",
    "    collections = discovery.list_collections(env_id).get_result()\n",
    "    cols = json.dumps(collections, indent=2)\n",
    "    colres = json.loads(cols)\n",
    "\n",
    "    #print(colres['collections'])\n",
    "    for item in colres['collections']:\n",
    "        if item['name']== COLLECTION_NAME:\n",
    "            print('COLLECTION ID:', item['collection_id'], 'COLLECTION NAME:', item['name'])\n",
    "            col_id = item['collection_id']\n",
    "    response['env_id'] = env_id\n",
    "    response['col_id'] = col_id\n",
    "    response['discovery'] = discovery\n",
    "    return response"
   ]
  },
  {
   "cell_type": "code",
   "execution_count": null,
   "metadata": {},
   "outputs": [],
   "source": [
    "discovery_data = discovery_init(COLLECTION_NAME='Naviga1',default=\"r3\")"
   ]
  },
  {
   "cell_type": "code",
   "execution_count": null,
   "metadata": {},
   "outputs": [],
   "source": [
    "dict_ = []\n",
    "result = discovery_data['results']\n",
    "\n",
    "for obj in result:\n",
    "    temp={}\n",
    "    temp['id'] = obj['id']\n",
    "\n",
    "    # dict for 0th doc\n",
    "    res = {}\n",
    "    for tag in soup.findAll('p'):\n",
    "        #tag.find(x for x in ent_types)\n",
    "        for ent in ent_types:\n",
    "            try:\n",
    "                tag.find(ent)\n",
    "                res[ent].append(tag.find(ent).text)\n",
    "            except Exception as e:\n",
    "                pass\n",
    "    # for extra tags not in ent_types\n",
    "    for tag in soup.findAll('chron'):\n",
    "        res['chron'].append(tag.text)\n",
    "    \n",
    "    temp = {**temp,**res}\n",
    "    dict_.append(temp)"
   ]
  },
  {
   "cell_type": "code",
   "execution_count": null,
   "metadata": {},
   "outputs": [],
   "source": []
  },
  {
   "cell_type": "code",
   "execution_count": null,
   "metadata": {},
   "outputs": [],
   "source": []
  },
  {
   "cell_type": "code",
   "execution_count": null,
   "metadata": {},
   "outputs": [],
   "source": []
  },
  {
   "cell_type": "code",
   "execution_count": null,
   "metadata": {},
   "outputs": [],
   "source": []
  }
 ],
 "metadata": {
  "kernelspec": {
   "display_name": "discovery",
   "language": "python",
   "name": "discovery"
  },
  "language_info": {
   "codemirror_mode": {
    "name": "ipython",
    "version": 3
   },
   "file_extension": ".py",
   "mimetype": "text/x-python",
   "name": "python",
   "nbconvert_exporter": "python",
   "pygments_lexer": "ipython3",
   "version": "3.6.9"
  }
 },
 "nbformat": 4,
 "nbformat_minor": 2
}
