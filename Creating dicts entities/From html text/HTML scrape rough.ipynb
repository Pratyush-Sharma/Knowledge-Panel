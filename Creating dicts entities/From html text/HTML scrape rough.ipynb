{
 "cells": [
  {
   "cell_type": "code",
   "execution_count": 66,
   "metadata": {},
   "outputs": [],
   "source": [
    "from bs4 import BeautifulSoup\n",
    "import csv\n",
    "import re"
   ]
  },
  {
   "cell_type": "code",
   "execution_count": 67,
   "metadata": {},
   "outputs": [],
   "source": [
    "html_text =\"\"\"<h2>some other text</h2>\n",
    "<p>text you want to find with keyword</p>\n",
    "<h1>foo bar foo bar</h1>\n",
    "hi <h2>text you want to find with keyword</h2>\n",
    "<a href=\"someurl\">No idea what is going on</a>\n",
    "hi <div class=\"gg\"> text you want to find with keyword</div>\"\"\""
   ]
  },
  {
   "cell_type": "code",
   "execution_count": null,
   "metadata": {},
   "outputs": [],
   "source": [
    "soup = BeautifulSoup(html_text)\n"
   ]
  },
  {
   "cell_type": "code",
   "execution_count": null,
   "metadata": {},
   "outputs": [],
   "source": [
    "for elem in soup(text=re.compile(r'\\b<h2>\\b | \\bp\\b | \\bhhhh\\b | \\bone_more_maybe\\b')):\n",
    "    print(elem.parent)"
   ]
  },
  {
   "cell_type": "code",
   "execution_count": null,
   "metadata": {},
   "outputs": [],
   "source": [
    "batRegex = re.compile(r'(<[a-z]*>)')\n",
    "m1=batRegex.search(html_text)"
   ]
  },
  {
   "cell_type": "code",
   "execution_count": null,
   "metadata": {},
   "outputs": [],
   "source": [
    "m1.group(1)"
   ]
  },
  {
   "cell_type": "code",
   "execution_count": null,
   "metadata": {},
   "outputs": [],
   "source": [
    "print (re.findall(r'(<[a-z]*>)',html_text))"
   ]
  },
  {
   "cell_type": "code",
   "execution_count": 74,
   "metadata": {},
   "outputs": [],
   "source": [
    "batRegex = re.compile(r'([a-zA-Z]{2}\\s<[a-zA-Z]*[^>]*>(.+?)</[a-zA-Z]*>)') #\\s finds space and newline tooo\n",
    "m1=batRegex.search(html_text)"
   ]
  },
  {
   "cell_type": "code",
   "execution_count": 75,
   "metadata": {},
   "outputs": [
    {
     "data": {
      "text/plain": [
       "<_sre.SRE_Match object; span=(186, 246), match='hi <div class=\"gg\"> text you want to find with ke>"
      ]
     },
     "execution_count": 75,
     "metadata": {},
     "output_type": "execute_result"
    }
   ],
   "source": [
    "m1"
   ]
  },
  {
   "cell_type": "code",
   "execution_count": 76,
   "metadata": {},
   "outputs": [
    {
     "name": "stdout",
     "output_type": "stream",
     "text": [
      "[('hi <div class=\"gg\"> text you want to find with keyword</div>', ' text you want to find with keyword')]\n"
     ]
    }
   ],
   "source": [
    "print (re.findall(batRegex,html_text))"
   ]
  },
  {
   "cell_type": "code",
   "execution_count": 48,
   "metadata": {},
   "outputs": [],
   "source": [
    "l1 = re.findall(batRegex,html_text)\n",
    "l1[0] = list(l1[0])"
   ]
  },
  {
   "cell_type": "code",
   "execution_count": 53,
   "metadata": {},
   "outputs": [
    {
     "data": {
      "text/plain": [
       "[[['hi <div class=\"gg\"> text you want to find with keyword<', 'div>'],\n",
       "  ' text you want to find with keyword']]"
      ]
     },
     "execution_count": 53,
     "metadata": {},
     "output_type": "execute_result"
    }
   ],
   "source": [
    "l1"
   ]
  },
  {
   "cell_type": "code",
   "execution_count": 52,
   "metadata": {},
   "outputs": [],
   "source": [
    "l1[0][0]=l1[0][0].split('/')\n"
   ]
  },
  {
   "cell_type": "code",
   "execution_count": 59,
   "metadata": {},
   "outputs": [],
   "source": [
    "l1[0][0][1]=l1[0][0][1].split('>')"
   ]
  },
  {
   "cell_type": "code",
   "execution_count": 62,
   "metadata": {},
   "outputs": [],
   "source": [
    "keyword = l1[0][0][1][0]"
   ]
  },
  {
   "cell_type": "code",
   "execution_count": 63,
   "metadata": {},
   "outputs": [
    {
     "data": {
      "text/plain": [
       "'div'"
      ]
     },
     "execution_count": 63,
     "metadata": {},
     "output_type": "execute_result"
    }
   ],
   "source": [
    "keyword"
   ]
  },
  {
   "cell_type": "code",
   "execution_count": 64,
   "metadata": {},
   "outputs": [
    {
     "data": {
      "text/plain": [
       "[[['hi <div class=\"gg\"> text you want to find with keyword<', ['div', '']],\n",
       "  ' text you want to find with keyword']]"
      ]
     },
     "execution_count": 64,
     "metadata": {},
     "output_type": "execute_result"
    }
   ],
   "source": [
    "l1"
   ]
  },
  {
   "cell_type": "code",
   "execution_count": 65,
   "metadata": {},
   "outputs": [
    {
     "data": {
      "text/plain": [
       "' text you want to find with keyword'"
      ]
     },
     "execution_count": 65,
     "metadata": {},
     "output_type": "execute_result"
    }
   ],
   "source": [
    "l1[0][1]"
   ]
  },
  {
   "cell_type": "markdown",
   "metadata": {},
   "source": [
    "# Naviga\n"
   ]
  },
  {
   "cell_type": "code",
   "execution_count": null,
   "metadata": {},
   "outputs": [],
   "source": [
    "lists[2][0]\n",
    "#lists[2][0].split('/')\n",
    "#lists[2][0][1].split('>')\n",
    "regex = re.compile(r'\\svalue=\"(.*?)\"')\n",
    "bregex = re.findall(regex,lists[1][0])\n",
    "bregex\n",
    "subst = ''\n",
    "stri =  lists[2][0]\n",
    "result = stri.replace(bregex[0], subst);\n",
    "result\n",
    "    #if(len(res[keyword])==0):\n",
    "        #res[keyword] = value\n",
    "    #else:\n",
    "        #res[keyword].append(value)"
   ]
  },
  {
   "cell_type": "markdown",
   "metadata": {},
   "source": [
    "# Getting entity types in enriched text"
   ]
  },
  {
   "cell_type": "code",
   "execution_count": null,
   "metadata": {},
   "outputs": [],
   "source": [
    "offset = 0\n",
    "count = 10\n",
    "reqparams = {'offset':offset,'count':count}\n",
    "reqparams['aggr'] = 'term(enriched_text.entities.type,count:30)'\n",
    "discovery_data = dh_help.getDiscoveryData(discovery_config,reqparams)\n",
    "print(\"len of number of docs \"+str(len(discovery_data['results'])))\n",
    "pprint(\"len of entity types \"+str(len(discovery_data['aggregations'][0]['results'])))\n",
    "\n",
    "ent_len = len(discovery_data['aggregations'][0]['results'])\n",
    "\n",
    "ent_types = []\n",
    "\n",
    "for i in range(ent_len):\n",
    "    pprint(discovery_data['aggregations'][0]['results'][i]['key'])\n",
    "    ent_types.append(discovery_data['aggregations'][0]['results'][i]['key'])"
   ]
  },
  {
   "cell_type": "code",
   "execution_count": null,
   "metadata": {},
   "outputs": [],
   "source": [
    "ent_types"
   ]
  },
  {
   "cell_type": "markdown",
   "metadata": {},
   "source": [
    "# Creating soup instance"
   ]
  },
  {
   "cell_type": "code",
   "execution_count": null,
   "metadata": {},
   "outputs": [],
   "source": [
    "source = discovery_data['results'][0]['html']\n",
    "soup = BeautifulSoup(source, 'lxml')"
   ]
  },
  {
   "cell_type": "markdown",
   "metadata": {},
   "source": [
    "# Scraping"
   ]
  },
  {
   "cell_type": "code",
   "execution_count": null,
   "metadata": {},
   "outputs": [],
   "source": [
    "res = {}\n",
    "# dict for 0th doc\n",
    "res = {}\n",
    "for tag in soup.findAll('p'):\n",
    "    #tag.find(x for x in ent_types)\n",
    "    for ent in ent_types:\n",
    "        try:\n",
    "            tag.find(ent)\n",
    "            res[ent].append(tag.find(ent).text)\n",
    "        except Exception as e:\n",
    "            pass"
   ]
  },
  {
   "cell_type": "code",
   "execution_count": null,
   "metadata": {},
   "outputs": [],
   "source": [
    "# for extra tags not in ent_types\n",
    "for tag in soup.findAll('chron'):\n",
    "    res['chron'].append(tag.text)"
   ]
  },
  {
   "cell_type": "markdown",
   "metadata": {},
   "source": [
    "# looping"
   ]
  },
  {
   "cell_type": "code",
   "execution_count": null,
   "metadata": {},
   "outputs": [],
   "source": [
    "result = []\n",
    "offset = 0\n",
    "count = 3000\n",
    "reqparams = {'offset':offset,'count':count}\n",
    "discovery_data = dh_help.getDiscoveryData(discovery_config,reqparams)\n",
    "\n",
    "for i in range(3000):\n",
    "    res={}\n",
    "    doc = discovery_data[\"results\"][i]\n",
    "    res[\"id\"]=doc[\"id\"]\n",
    "\n",
    "    source = discovery_data[\"results\"][i]['html']\n",
    "    batRegex = re.compile(r'([a-zA-Z0-9]{2}\\s<[a-zA-Z]*[^>]*>(.+?)</[a-zA-Z]*>)')\n",
    "\n",
    "    lists = re.findall(batRegex,source)\n",
    "    len_ = len(lists)\n",
    "    for i in range(len_):\n",
    "        lists[i] = list(lists[i])\n",
    "\n",
    "    regex = re.compile(r'\\svalue=\"(.*?)\"')\n",
    "    subst = ''\n",
    "    for i in range(len_):\n",
    "        bregex = re.findall(regex,lists[i][0])\n",
    "        if(len(bregex)!=0):\n",
    "            lists[i][0] = lists[i][0].replace(bregex[0], subst)\n",
    "\n",
    "    regex = re.compile(r'\\sidsrc=\"(.*?)\"')\n",
    "    for i in range(len_):\n",
    "        bregex = re.findall(regex,lists[i][0])\n",
    "        if(len(bregex)!=0):\n",
    "            lists[i][0] = lists[i][0].replace(bregex[0], subst)\n",
    "\n",
    "    #res = {}\n",
    "    for i in range(len_):\n",
    "        lists[i][0]=lists[i][0].split('/')\n",
    "        lists[i][0][1]=lists[i][0][1].split('>')\n",
    "        keyword = lists[i][0][1][0]\n",
    "        value = lists[i][1]\n",
    "\n",
    "        if keyword in res:\n",
    "            if value not in res[keyword]:\n",
    "                res[keyword].append(value)       \n",
    "        else:\n",
    "            res[keyword] = [value]\n",
    "\n",
    "    result.append(res)"
   ]
  },
  {
   "cell_type": "code",
   "execution_count": null,
   "metadata": {},
   "outputs": [],
   "source": []
  },
  {
   "cell_type": "code",
   "execution_count": null,
   "metadata": {},
   "outputs": [],
   "source": []
  }
 ],
 "metadata": {
  "kernelspec": {
   "display_name": "discovery",
   "language": "python",
   "name": "discovery"
  },
  "language_info": {
   "codemirror_mode": {
    "name": "ipython",
    "version": 3
   },
   "file_extension": ".py",
   "mimetype": "text/x-python",
   "name": "python",
   "nbconvert_exporter": "python",
   "pygments_lexer": "ipython3",
   "version": "3.6.9"
  }
 },
 "nbformat": 4,
 "nbformat_minor": 2
}
