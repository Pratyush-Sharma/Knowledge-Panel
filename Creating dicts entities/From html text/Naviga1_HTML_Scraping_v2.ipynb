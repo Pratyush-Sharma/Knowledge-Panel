{
 "cells": [
  {
   "cell_type": "markdown",
   "metadata": {},
   "source": [
    "# Importing"
   ]
  },
  {
   "cell_type": "code",
   "execution_count": 119,
   "metadata": {},
   "outputs": [],
   "source": [
    "import requests\n",
    "import json\n",
    "import os\n",
    "import modules.config as config\n",
    "from time import sleep\n",
    "from requests.auth import HTTPBasicAuth\n",
    "from ibm_watson import DiscoveryV1\n",
    "from pprint import pprint\n",
    "import modules.discovery_helper as dh_help\n",
    "import modules.common_helper as cm_help\n",
    "import sys\n",
    "import pandas as pd\n",
    "import modules.config as config\n",
    "import math\n",
    "import re\n",
    "import hashlib\n",
    "import unicodedata\n",
    "from bs4 import BeautifulSoup \n",
    "from ibm_cloud_sdk_core.authenticators import IAMAuthenticator"
   ]
  },
  {
   "cell_type": "markdown",
   "metadata": {},
   "source": [
    "# Creating instance\n"
   ]
  },
  {
   "cell_type": "code",
   "execution_count": 120,
   "metadata": {},
   "outputs": [
    {
     "name": "stdout",
     "output_type": "stream",
     "text": [
      "Test\n"
     ]
    }
   ],
   "source": [
    "all_params = cm_help.get_params()\n",
    "COLLECTION_NAME = config.DISCOVERY_COLLECTION_NAME\n",
    "print(COLLECTION_NAME)"
   ]
  },
  {
   "cell_type": "code",
   "execution_count": 121,
   "metadata": {},
   "outputs": [
    {
     "data": {
      "text/plain": [
       "{'default': 'a1',\n",
       " 'r3': {'version': '2019-04-30',\n",
       "  'apikey': 'e60nrAsq6WIQmWfuzv9_8by2yCXinHK_FOe3u9MSI1ml',\n",
       "  'url': 'https://api.us-east.discovery.watson.cloud.ibm.com/instances/f2df1dc1-c923-49c1-80f3-7e23fc0441e8'},\n",
       " 'a1': {'version': '2019-04-30',\n",
       "  'apikey': 'h1IoNg4AIKbGtBs8n8QGf4dZ5tZwMpeVERQUrC1Q2-DF',\n",
       "  'url': 'https://api.jp-tok.discovery.watson.cloud.ibm.com/instances/2330122b-7269-496b-ba7e-029f641470a1'},\n",
       " 'version1': '2018-12-03',\n",
       " 'apikey1': 'LTk2AGh0Mjsu3G9bGGSkU92xeCBAYdfa4lN4fjaA-CR4',\n",
       " 'url1': 'https://gateway.watsonplatform.net/discovery/api'}"
      ]
     },
     "execution_count": 121,
     "metadata": {},
     "output_type": "execute_result"
    }
   ],
   "source": [
    "all_params['discovery']"
   ]
  },
  {
   "cell_type": "code",
   "execution_count": 122,
   "metadata": {},
   "outputs": [],
   "source": [
    "def discovery_init(COLLECTION_NAME=config.DISCOVERY_COLLECTION_NAME,default=all_params['discovery']['default']):\n",
    "    response = {}\n",
    "    \n",
    "    discovery_param = all_params['discovery']\n",
    "    # default = \n",
    "    authenticator = IAMAuthenticator(apikey=discovery_param[default]['apikey'])\n",
    "    endurl = \"https://gateway.watsonplatform.net/discovery/api\"\n",
    "    discovery = DiscoveryV1(\n",
    "        version=discovery_param[default]['version'],\n",
    "        authenticator = authenticator)\n",
    "    iam_apikey=discovery_param[default]['apikey'],\n",
    "    url=discovery_param[default]['url']    \n",
    "    if default ==\"r3\":\n",
    "        discovery.set_service_url(discovery_param[default]['url'])\n",
    "\n",
    "    environments = discovery.list_environments().get_result()\n",
    "    # print(json.dumps(environments, indent=2))\n",
    "    print(\"Discovery instance loaded \"+default)\n",
    "    js = json.dumps(environments)\n",
    "    jres = json.loads(js)\n",
    "    # print(jres['environments'][1]['environment_id'])\n",
    "    env_id = jres['environments'][1]['environment_id']\n",
    "    collections = discovery.list_collections(env_id).get_result()\n",
    "    cols = json.dumps(collections, indent=2)\n",
    "    colres = json.loads(cols)\n",
    "\n",
    "    #print(colres['collections'])\n",
    "    for item in colres['collections']:\n",
    "        if item['name']== COLLECTION_NAME:\n",
    "            print('COLLECTION ID:', item['collection_id'], 'COLLECTION NAME:', item['name'])\n",
    "            col_id = item['collection_id']\n",
    "    response['env_id'] = env_id\n",
    "    response['col_id'] = col_id\n",
    "    response['discovery'] = discovery\n",
    "    return response"
   ]
  },
  {
   "cell_type": "code",
   "execution_count": 123,
   "metadata": {},
   "outputs": [
    {
     "name": "stdout",
     "output_type": "stream",
     "text": [
      "Discovery instance loaded r3\n",
      "COLLECTION ID: ec586f27-f848-40b7-99af-dab80a43b248 COLLECTION NAME: Naviga1\n"
     ]
    }
   ],
   "source": [
    "discovery_config = discovery_init(COLLECTION_NAME='Naviga1',default=\"r3\")\n",
    "#COLLECTION_NAME = 'Naviga1'\n",
    "#discovery_config = dh_help.discovery_init(COLLECTION_NAME=COLLECTION_NAME,default=\"r3\")"
   ]
  },
  {
   "cell_type": "markdown",
   "metadata": {},
   "source": [
    "# NULL query"
   ]
  },
  {
   "cell_type": "code",
   "execution_count": 11,
   "metadata": {},
   "outputs": [
    {
     "name": "stdout",
     "output_type": "stream",
     "text": [
      "offset in query = 0\n"
     ]
    }
   ],
   "source": [
    "offset = 0\n",
    "count = 10\n",
    "reqparams = {'offset':offset,'count':count}\n",
    "discovery_data = dh_help.getDiscoveryData(discovery_config,reqparams)"
   ]
  },
  {
   "cell_type": "markdown",
   "metadata": {},
   "source": [
    "# Getting html text"
   ]
  },
  {
   "cell_type": "code",
   "execution_count": 125,
   "metadata": {
    "scrolled": true
   },
   "outputs": [
    {
     "name": "stdout",
     "output_type": "stream",
     "text": [
      "offset in query = 0\n",
      "len 20\n",
      "63f3d564-14f3-4909-af49-10efdeb0cb20\n",
      "\n",
      "<p><location idsrc=\"xmltag.org\" value=\"LU/us.ny.buffal\">BUFFALO, N.Y.</location> (WIVB) - <chron>Tuesday, June 2</chron> , <chron>7:56 p.m.</chron></p>\n",
      "<p>A <location idsrc=\"xmltag.org\" value=\"LU/us.ny.buffal\">Buffalo</location> woman has been charged in connection with the incident that injured three law enforcement officers Monday night.</p>\n",
      "\n",
      "<p>State police arrested 30-year-old <person>Deyanna Davis</person> after she was released from <org idsrc=\"xmltag.org\" value=\"ACORN:2148143717\">Erie County Medical Center</org>.</p>\n",
      "\n",
      "<p>Davis was driving the car that went through a line of officers at a protest on <location>Bailey Avenue</location> hitting three officers, seriously injuring one.</p>\n",
      "\n",
      "<p>Davis is facing multiple felony charges including aggravated assault on a police officer and criminal possession of a weapon.</p>\n",
      "\n",
      "<p><location idsrc=\"xmltag.org\" value=\"LU/us.ny.buffal\">Buffalo</location> woman charged in connection to incident that injured three members of law enforcement Monday night. <a href=\"http://pic.twitter.com/vBhRDNynGl\">pic.twitter.com/vBhRDNynGl</a></p>\n",
      "\n",
      "<p>- NewYorkStatePolice (@nyspolice) <chron>June 2, 2020</chron></p>\n",
      "\n",
      "<p><chron>Tuesday, June 2</chron>, <chron>1:13 p.m.</chron></p>\n",
      "\n",
      "<p>In a tweet, <org>New York State Police</org> say the two troopers struck by a vehicle during the protest on <location>Bailey Ave.</location> are <person>Ronald Ensminger Jr</person>. and <person>Randall Shenefiel</person>.</p>\n",
      "\n",
      "<p>Police say, Ensminger Jr., the more seriously injured, is a 19-year-veteran of the <org>New York State Police</org> while Shenefiel is a 17-year-veteran.</p>\n",
      "\n",
      "<p><org>State Police</org> continue to investigate the incident.</p>\n",
      "\n",
      "<p><org>State Police</org> are releasing the names of the two members struck by a vehicle in <location idsrc=\"xmltag.org\" value=\"LU/us.ny.buffal\">Buffalo</location> Monday. The more seriously injured, Trooper <person>Ronald Ensminger Jr</person>. is a 19-year-veteran of the NYSP. Trooper <person>Randall Shenefiel</person>, is a 17 -year-veteran of the NYSP. The investigation is ongoing.</p>\n",
      "\n",
      "<p>- NewYorkStatePolice (@nyspolice) <chron>June 2, 2020</chron></p>\n",
      "\n",
      "<p><chron>Tuesday, June 2</chron>, <chron>12:54 p.m.</chron></p>\n",
      "\n",
      "<p>25-year-old <person>Semaj Pigram</person> and 28-year-old <person>Walter Stewart Jr</person>., both of <location idsrc=\"xmltag.org\" value=\"LU/us.ny.buffal\">Buffalo</location>, were arraigned on one count of criminal possession of a weapon and one count of criminal possession of stolen property.</p>\n",
      "\n",
      "<p><location idsrc=\"xmltag.org\" value=\"LU/us.ny.erie\">Erie County</location> District Attorney <person>John Flynn</person> says investigators allegedly recovered a loaded handgun from inside the vehicle that drove through a blockade of law enforcement on <location>Baliey Avenue</location> and <person>Decker Street Monday</person> night.</p>\n",
      "\n",
      "<p>Officials tell News 4 the weapon was reported stolen from <location idsrc=\"xmltag.org\" value=\"LU/us.ny.weseca\">West Seneca</location> in January.</p>\n",
      "\n",
      "<p>The female driver of the vehicle remains hospitalized at ECMC.</p>\n",
      "\n",
      "<p>A City Judge set bail for Pigram at <money>$100,000</money> and <money>$175,000</money> for Stewart, who was wanted in unrelated, pending felony cases.</p>\n",
      "\n",
      "<p>A felony hearing is scheduled for Pigram and Stewart on <chron>June 22</chron>, at <chron>9:30 a.m.</chron></p>\n",
      "\n",
      "<p>Both face a maximum of 15 years in prison if convicted on all charges.</p>\n",
      "\n",
      "<p>ORIGINAL: A <location idsrc=\"xmltag.org\" value=\"LU/us.ny.buffal\">Buffalo</location> police officer and a <location idsrc=\"xmltag.org\" value=\"LS/us.ny\">New York State</location> Trooper were struck by an SUV, and another Trooper was run over.</p>\n",
      "\n",
      "<p>Around <chron>10 p.m. Monday night</chron>, the vehicle drove through a line of officers at a protest on <location>Bailey Avenue</location>.</p>\n",
      "\n",
      "<p>Police say they were trying to clear about 30 people from <location>Bailey Ave.</location> when the SUV rolled through.</p>\n",
      "\n",
      "<p>The <location idsrc=\"xmltag.org\" value=\"LU/us.ny.buffal\">Buffalo</location> officer and the Trooper who were struck by the vehicle were taken to <org idsrc=\"xmltag.org\" value=\"ACORN:2148143717\">Erie County Medical Center</org> (ECMC) and treated for minor injuries. The Trooper was released from the hospital after suffering a hand/wrist injury.</p>\n",
      "\n",
      "<p>The Trooper who was run over was also taken to ECMC for a broken leg and shattered pelvis.</p>\n",
      "\n",
      "<p>Police say the SUV was tracked by a helicopter to <location>Route 33</location>, where it was pulled over.</p>\n",
      "\n",
      "<p>While taking the driver into custody, officers noticed a gunshot wound. Police later revealed that the driver had been grazed by a Trooper's bullet.</p>\n",
      "\n",
      "<p>A female passenger had been shot twice, but it's unclear if the bullets that struck her came from a police officer's gun. She's recovering at ECMC.</p>\n",
      "\n",
      "<p>The second passenger, a man, was not injured. He and the driver were both charged with possessing stolen property and a stolen firearm. Additional charges may be filed.</p>\n",
      "\n",
      "<p>#UPDATE: Commissioner Lockwood on this video, which shows our photographer interviewing a man with his back turned, and hands up. \"That we will have to look at&#133;to figure out why we rushed him.\" <a href=\"http://pic.twitter.com/YQWiJim85f\">pic.twitter.com/YQWiJim85f</a></p>\n",
      "\n",
      "<p>- <person>Dave Greber</person> (@DaveGreber4) <chron>June 2, 2020</chron></p>\n",
      "\n"
     ]
    }
   ],
   "source": [
    "offset = 0\n",
    "count = 20\n",
    "reqparams = {'offset':offset,'count':count}\n",
    "discovery_data = dh_help.getDiscoveryData(discovery_config,reqparams)\n",
    "print(\"len \"+str(len(discovery_data['results'])))\n",
    "print(discovery_data['results'][10]['id'])\n",
    "print(discovery_data['results'][10]['html'])"
   ]
  },
  {
   "cell_type": "markdown",
   "metadata": {},
   "source": [
    "# REGEX"
   ]
  },
  {
   "cell_type": "code",
   "execution_count": 166,
   "metadata": {},
   "outputs": [],
   "source": [
    "source =discovery_data['results'][10]['html']"
   ]
  },
  {
   "cell_type": "code",
   "execution_count": 100,
   "metadata": {},
   "outputs": [],
   "source": [
    "batRegex = re.compile(r'([a-zA-Z]{2}\\s<[a-zA-Z]*[^>]*>(.+?)</[a-zA-Z]*>)')\n",
    "m1=batRegex.search(source)"
   ]
  },
  {
   "cell_type": "code",
   "execution_count": 101,
   "metadata": {},
   "outputs": [
    {
     "name": "stdout",
     "output_type": "stream",
     "text": [
      "[('on <chron>Wednesday, June 3</chron>', 'Wednesday, June 3'), ('to <org>Sweetwater County Public Health</org>', 'Sweetwater County Public Health'), ('th <org>Sweetwater County Public Health</org>', 'Sweetwater County Public Health'), ('to <org>Sweetwater County Public Health</org>', 'Sweetwater County Public Health'), (\"ct <org>Memorial Hospital of Sweetwater County's</org>\", \"Memorial Hospital of Sweetwater County's\"), ('nd <org>Castle Rock Medical Center</org>', 'Castle Rock Medical Center'), ('at <a href=\"http://sweetwater311.org\">sweetwater311.org</a>', 'sweetwater311.org'), ('nd <a href=\"http://cdc.gov\">cdc.gov</a>', 'cdc.gov')]\n"
     ]
    }
   ],
   "source": [
    "print (re.findall(batRegex,source))"
   ]
  },
  {
   "cell_type": "code",
   "execution_count": 102,
   "metadata": {},
   "outputs": [],
   "source": [
    "lists = re.findall(batRegex,source)"
   ]
  },
  {
   "cell_type": "code",
   "execution_count": 103,
   "metadata": {},
   "outputs": [],
   "source": [
    "len_ = len(lists)"
   ]
  },
  {
   "cell_type": "code",
   "execution_count": 104,
   "metadata": {},
   "outputs": [],
   "source": [
    "for i in range(len_):\n",
    "    lists[i] = list(lists[i])"
   ]
  },
  {
   "cell_type": "code",
   "execution_count": 105,
   "metadata": {},
   "outputs": [
    {
     "data": {
      "text/plain": [
       "[['on <chron>Wednesday, June 3</chron>', 'Wednesday, June 3'],\n",
       " ['to <org>Sweetwater County Public Health</org>',\n",
       "  'Sweetwater County Public Health'],\n",
       " ['th <org>Sweetwater County Public Health</org>',\n",
       "  'Sweetwater County Public Health'],\n",
       " ['to <org>Sweetwater County Public Health</org>',\n",
       "  'Sweetwater County Public Health'],\n",
       " [\"ct <org>Memorial Hospital of Sweetwater County's</org>\",\n",
       "  \"Memorial Hospital of Sweetwater County's\"],\n",
       " ['nd <org>Castle Rock Medical Center</org>', 'Castle Rock Medical Center'],\n",
       " ['at <a href=\"http://sweetwater311.org\">sweetwater311.org</a>',\n",
       "  'sweetwater311.org'],\n",
       " ['nd <a href=\"http://cdc.gov\">cdc.gov</a>', 'cdc.gov']]"
      ]
     },
     "execution_count": 105,
     "metadata": {},
     "output_type": "execute_result"
    }
   ],
   "source": [
    "lists"
   ]
  },
  {
   "cell_type": "code",
   "execution_count": 167,
   "metadata": {},
   "outputs": [],
   "source": [
    "batRegex = re.compile(r'(.<[a-zA-Z]*[^>]*>(.+?)</[a-zA-Z]*>)')\n",
    "m1=batRegex.search(source)"
   ]
  },
  {
   "cell_type": "code",
   "execution_count": 168,
   "metadata": {},
   "outputs": [
    {
     "name": "stdout",
     "output_type": "stream",
     "text": [
      "[('><location idsrc=\"xmltag.org\" value=\"LU/us.ny.buffal\">BUFFALO, N.Y.</location>', 'BUFFALO, N.Y.'), (' <chron>Tuesday, June 2</chron>', 'Tuesday, June 2'), (' <chron>7:56 p.m.</chron>', '7:56 p.m.'), (' <location idsrc=\"xmltag.org\" value=\"LU/us.ny.buffal\">Buffalo</location>', 'Buffalo'), (' <person>Deyanna Davis</person>', 'Deyanna Davis'), (' <org idsrc=\"xmltag.org\" value=\"ACORN:2148143717\">Erie County Medical Center</org>', 'Erie County Medical Center'), (' <location>Bailey Avenue</location>', 'Bailey Avenue'), ('><location idsrc=\"xmltag.org\" value=\"LU/us.ny.buffal\">Buffalo</location>', 'Buffalo'), (' <a href=\"http://pic.twitter.com/vBhRDNynGl\">pic.twitter.com/vBhRDNynGl</a>', 'pic.twitter.com/vBhRDNynGl'), (' <chron>June 2, 2020</chron>', 'June 2, 2020'), ('><chron>Tuesday, June 2</chron>', 'Tuesday, June 2'), (' <chron>1:13 p.m.</chron>', '1:13 p.m.'), (' <org>New York State Police</org>', 'New York State Police'), (' <location>Bailey Ave.</location>', 'Bailey Ave.'), (' <person>Ronald Ensminger Jr</person>', 'Ronald Ensminger Jr'), (' <person>Randall Shenefiel</person>', 'Randall Shenefiel'), (' <org>New York State Police</org>', 'New York State Police'), ('><org>State Police</org>', 'State Police'), ('><org>State Police</org>', 'State Police'), (' <location idsrc=\"xmltag.org\" value=\"LU/us.ny.buffal\">Buffalo</location>', 'Buffalo'), (' <person>Ronald Ensminger Jr</person>', 'Ronald Ensminger Jr'), (' <person>Randall Shenefiel</person>', 'Randall Shenefiel'), (' <chron>June 2, 2020</chron>', 'June 2, 2020'), ('><chron>Tuesday, June 2</chron>', 'Tuesday, June 2'), (' <chron>12:54 p.m.</chron>', '12:54 p.m.'), (' <person>Semaj Pigram</person>', 'Semaj Pigram'), (' <person>Walter Stewart Jr</person>', 'Walter Stewart Jr'), (' <location idsrc=\"xmltag.org\" value=\"LU/us.ny.buffal\">Buffalo</location>', 'Buffalo'), ('><location idsrc=\"xmltag.org\" value=\"LU/us.ny.erie\">Erie County</location>', 'Erie County'), (' <person>John Flynn</person>', 'John Flynn'), (' <location>Baliey Avenue</location>', 'Baliey Avenue'), (' <person>Decker Street Monday</person>', 'Decker Street Monday'), (' <location idsrc=\"xmltag.org\" value=\"LU/us.ny.weseca\">West Seneca</location>', 'West Seneca'), (' <money>$100,000</money>', '$100,000'), (' <money>$175,000</money>', '$175,000'), (' <chron>June 22</chron>', 'June 22'), (' <chron>9:30 a.m.</chron>', '9:30 a.m.'), (' <location idsrc=\"xmltag.org\" value=\"LU/us.ny.buffal\">Buffalo</location>', 'Buffalo'), (' <location idsrc=\"xmltag.org\" value=\"LS/us.ny\">New York State</location>', 'New York State'), (' <chron>10 p.m. Monday night</chron>', '10 p.m. Monday night'), (' <location>Bailey Avenue</location>', 'Bailey Avenue'), (' <location>Bailey Ave.</location>', 'Bailey Ave.'), (' <location idsrc=\"xmltag.org\" value=\"LU/us.ny.buffal\">Buffalo</location>', 'Buffalo'), (' <org idsrc=\"xmltag.org\" value=\"ACORN:2148143717\">Erie County Medical Center</org>', 'Erie County Medical Center'), (' <location>Route 33</location>', 'Route 33'), (' <a href=\"http://pic.twitter.com/YQWiJim85f\">pic.twitter.com/YQWiJim85f</a>', 'pic.twitter.com/YQWiJim85f'), (' <person>Dave Greber</person>', 'Dave Greber'), (' <chron>June 2, 2020</chron>', 'June 2, 2020')]\n"
     ]
    }
   ],
   "source": [
    "print (re.findall(batRegex,source))"
   ]
  },
  {
   "cell_type": "code",
   "execution_count": 169,
   "metadata": {},
   "outputs": [],
   "source": [
    "lists = re.findall(batRegex,source)"
   ]
  },
  {
   "cell_type": "code",
   "execution_count": 170,
   "metadata": {},
   "outputs": [],
   "source": [
    "len_ = len(lists)\n",
    "for i in range(len_):\n",
    "    lists[i] = list(lists[i])"
   ]
  },
  {
   "cell_type": "code",
   "execution_count": 172,
   "metadata": {},
   "outputs": [
    {
     "data": {
      "text/plain": [
       "[['><location idsrc=\"xmltag.org\" value=\"LU/us.ny.buffal\">BUFFALO, N.Y.</location>',\n",
       "  'BUFFALO, N.Y.'],\n",
       " [' <chron>Tuesday, June 2</chron>', 'Tuesday, June 2'],\n",
       " [' <chron>7:56 p.m.</chron>', '7:56 p.m.'],\n",
       " [' <location idsrc=\"xmltag.org\" value=\"LU/us.ny.buffal\">Buffalo</location>',\n",
       "  'Buffalo'],\n",
       " [' <person>Deyanna Davis</person>', 'Deyanna Davis'],\n",
       " [' <org idsrc=\"xmltag.org\" value=\"ACORN:2148143717\">Erie County Medical Center</org>',\n",
       "  'Erie County Medical Center'],\n",
       " [' <location>Bailey Avenue</location>', 'Bailey Avenue'],\n",
       " ['><location idsrc=\"xmltag.org\" value=\"LU/us.ny.buffal\">Buffalo</location>',\n",
       "  'Buffalo'],\n",
       " [' <a href=\"http://pic.twitter.com/vBhRDNynGl\">pic.twitter.com/vBhRDNynGl</a>',\n",
       "  'pic.twitter.com/vBhRDNynGl'],\n",
       " [' <chron>June 2, 2020</chron>', 'June 2, 2020'],\n",
       " ['><chron>Tuesday, June 2</chron>', 'Tuesday, June 2'],\n",
       " [' <chron>1:13 p.m.</chron>', '1:13 p.m.'],\n",
       " [' <org>New York State Police</org>', 'New York State Police'],\n",
       " [' <location>Bailey Ave.</location>', 'Bailey Ave.'],\n",
       " [' <person>Ronald Ensminger Jr</person>', 'Ronald Ensminger Jr'],\n",
       " [' <person>Randall Shenefiel</person>', 'Randall Shenefiel'],\n",
       " [' <org>New York State Police</org>', 'New York State Police'],\n",
       " ['><org>State Police</org>', 'State Police'],\n",
       " ['><org>State Police</org>', 'State Police'],\n",
       " [' <location idsrc=\"xmltag.org\" value=\"LU/us.ny.buffal\">Buffalo</location>',\n",
       "  'Buffalo'],\n",
       " [' <person>Ronald Ensminger Jr</person>', 'Ronald Ensminger Jr'],\n",
       " [' <person>Randall Shenefiel</person>', 'Randall Shenefiel'],\n",
       " [' <chron>June 2, 2020</chron>', 'June 2, 2020'],\n",
       " ['><chron>Tuesday, June 2</chron>', 'Tuesday, June 2'],\n",
       " [' <chron>12:54 p.m.</chron>', '12:54 p.m.'],\n",
       " [' <person>Semaj Pigram</person>', 'Semaj Pigram'],\n",
       " [' <person>Walter Stewart Jr</person>', 'Walter Stewart Jr'],\n",
       " [' <location idsrc=\"xmltag.org\" value=\"LU/us.ny.buffal\">Buffalo</location>',\n",
       "  'Buffalo'],\n",
       " ['><location idsrc=\"xmltag.org\" value=\"LU/us.ny.erie\">Erie County</location>',\n",
       "  'Erie County'],\n",
       " [' <person>John Flynn</person>', 'John Flynn'],\n",
       " [' <location>Baliey Avenue</location>', 'Baliey Avenue'],\n",
       " [' <person>Decker Street Monday</person>', 'Decker Street Monday'],\n",
       " [' <location idsrc=\"xmltag.org\" value=\"LU/us.ny.weseca\">West Seneca</location>',\n",
       "  'West Seneca'],\n",
       " [' <money>$100,000</money>', '$100,000'],\n",
       " [' <money>$175,000</money>', '$175,000'],\n",
       " [' <chron>June 22</chron>', 'June 22'],\n",
       " [' <chron>9:30 a.m.</chron>', '9:30 a.m.'],\n",
       " [' <location idsrc=\"xmltag.org\" value=\"LU/us.ny.buffal\">Buffalo</location>',\n",
       "  'Buffalo'],\n",
       " [' <location idsrc=\"xmltag.org\" value=\"LS/us.ny\">New York State</location>',\n",
       "  'New York State'],\n",
       " [' <chron>10 p.m. Monday night</chron>', '10 p.m. Monday night'],\n",
       " [' <location>Bailey Avenue</location>', 'Bailey Avenue'],\n",
       " [' <location>Bailey Ave.</location>', 'Bailey Ave.'],\n",
       " [' <location idsrc=\"xmltag.org\" value=\"LU/us.ny.buffal\">Buffalo</location>',\n",
       "  'Buffalo'],\n",
       " [' <org idsrc=\"xmltag.org\" value=\"ACORN:2148143717\">Erie County Medical Center</org>',\n",
       "  'Erie County Medical Center'],\n",
       " [' <location>Route 33</location>', 'Route 33'],\n",
       " [' <a href=\"http://pic.twitter.com/YQWiJim85f\">pic.twitter.com/YQWiJim85f</a>',\n",
       "  'pic.twitter.com/YQWiJim85f'],\n",
       " [' <person>Dave Greber</person>', 'Dave Greber'],\n",
       " [' <chron>June 2, 2020</chron>', 'June 2, 2020']]"
      ]
     },
     "execution_count": 172,
     "metadata": {},
     "output_type": "execute_result"
    }
   ],
   "source": [
    "lists"
   ]
  },
  {
   "cell_type": "code",
   "execution_count": 173,
   "metadata": {},
   "outputs": [],
   "source": [
    "regex = re.compile(r'\\svalue=\"(.*?)\"')\n",
    "subst = ''\n",
    "for i in range(len_):\n",
    "    bregex = re.findall(regex,lists[i][0])\n",
    "    if(len(bregex)!=0):\n",
    "        lists[i][0] = lists[i][0].replace(bregex[0], subst)\n",
    "\n",
    "regex = re.compile(r'\\sidsrc=\"(.*?)\"')\n",
    "for i in range(len_):\n",
    "    bregex = re.findall(regex,lists[i][0])\n",
    "    if(len(bregex)!=0):\n",
    "        lists[i][0] = lists[i][0].replace(bregex[0], subst)\n",
    "\n",
    "regex = re.compile(r'\\shref=\"(.*?)\"')\n",
    "for i in range(len_):\n",
    "    bregex = re.findall(regex,lists[i][0])\n",
    "    if(len(bregex)!=0):\n",
    "        lists[i][0] = lists[i][0].replace(bregex[0], subst)\n",
    "    "
   ]
  },
  {
   "cell_type": "code",
   "execution_count": 174,
   "metadata": {},
   "outputs": [
    {
     "data": {
      "text/plain": [
       "[['><location idsrc=\"\" value=\"\">BUFFALO, N.Y.</location>', 'BUFFALO, N.Y.'],\n",
       " [' <chron>Tuesday, June 2</chron>', 'Tuesday, June 2'],\n",
       " [' <chron>7:56 p.m.</chron>', '7:56 p.m.'],\n",
       " [' <location idsrc=\"\" value=\"\">Buffalo</location>', 'Buffalo'],\n",
       " [' <person>Deyanna Davis</person>', 'Deyanna Davis'],\n",
       " [' <org idsrc=\"\" value=\"\">Erie County Medical Center</org>',\n",
       "  'Erie County Medical Center'],\n",
       " [' <location>Bailey Avenue</location>', 'Bailey Avenue'],\n",
       " ['><location idsrc=\"\" value=\"\">Buffalo</location>', 'Buffalo'],\n",
       " [' <a href=\"\">pic.twitter.com/vBhRDNynGl</a>', 'pic.twitter.com/vBhRDNynGl'],\n",
       " [' <chron>June 2, 2020</chron>', 'June 2, 2020'],\n",
       " ['><chron>Tuesday, June 2</chron>', 'Tuesday, June 2'],\n",
       " [' <chron>1:13 p.m.</chron>', '1:13 p.m.'],\n",
       " [' <org>New York State Police</org>', 'New York State Police'],\n",
       " [' <location>Bailey Ave.</location>', 'Bailey Ave.'],\n",
       " [' <person>Ronald Ensminger Jr</person>', 'Ronald Ensminger Jr'],\n",
       " [' <person>Randall Shenefiel</person>', 'Randall Shenefiel'],\n",
       " [' <org>New York State Police</org>', 'New York State Police'],\n",
       " ['><org>State Police</org>', 'State Police'],\n",
       " ['><org>State Police</org>', 'State Police'],\n",
       " [' <location idsrc=\"\" value=\"\">Buffalo</location>', 'Buffalo'],\n",
       " [' <person>Ronald Ensminger Jr</person>', 'Ronald Ensminger Jr'],\n",
       " [' <person>Randall Shenefiel</person>', 'Randall Shenefiel'],\n",
       " [' <chron>June 2, 2020</chron>', 'June 2, 2020'],\n",
       " ['><chron>Tuesday, June 2</chron>', 'Tuesday, June 2'],\n",
       " [' <chron>12:54 p.m.</chron>', '12:54 p.m.'],\n",
       " [' <person>Semaj Pigram</person>', 'Semaj Pigram'],\n",
       " [' <person>Walter Stewart Jr</person>', 'Walter Stewart Jr'],\n",
       " [' <location idsrc=\"\" value=\"\">Buffalo</location>', 'Buffalo'],\n",
       " ['><location idsrc=\"\" value=\"\">Erie County</location>', 'Erie County'],\n",
       " [' <person>John Flynn</person>', 'John Flynn'],\n",
       " [' <location>Baliey Avenue</location>', 'Baliey Avenue'],\n",
       " [' <person>Decker Street Monday</person>', 'Decker Street Monday'],\n",
       " [' <location idsrc=\"\" value=\"\">West Seneca</location>', 'West Seneca'],\n",
       " [' <money>$100,000</money>', '$100,000'],\n",
       " [' <money>$175,000</money>', '$175,000'],\n",
       " [' <chron>June 22</chron>', 'June 22'],\n",
       " [' <chron>9:30 a.m.</chron>', '9:30 a.m.'],\n",
       " [' <location idsrc=\"\" value=\"\">Buffalo</location>', 'Buffalo'],\n",
       " [' <location idsrc=\"\" value=\"\">New York State</location>', 'New York State'],\n",
       " [' <chron>10 p.m. Monday night</chron>', '10 p.m. Monday night'],\n",
       " [' <location>Bailey Avenue</location>', 'Bailey Avenue'],\n",
       " [' <location>Bailey Ave.</location>', 'Bailey Ave.'],\n",
       " [' <location idsrc=\"\" value=\"\">Buffalo</location>', 'Buffalo'],\n",
       " [' <org idsrc=\"\" value=\"\">Erie County Medical Center</org>',\n",
       "  'Erie County Medical Center'],\n",
       " [' <location>Route 33</location>', 'Route 33'],\n",
       " [' <a href=\"\">pic.twitter.com/YQWiJim85f</a>', 'pic.twitter.com/YQWiJim85f'],\n",
       " [' <person>Dave Greber</person>', 'Dave Greber'],\n",
       " [' <chron>June 2, 2020</chron>', 'June 2, 2020']]"
      ]
     },
     "execution_count": 174,
     "metadata": {},
     "output_type": "execute_result"
    }
   ],
   "source": [
    "lists"
   ]
  },
  {
   "cell_type": "code",
   "execution_count": 165,
   "metadata": {},
   "outputs": [
    {
     "data": {
      "text/plain": [
       "[' <a href=\"\">pic.twitter.com/vBhRDNynGl<', 'a>']"
      ]
     },
     "execution_count": 165,
     "metadata": {},
     "output_type": "execute_result"
    }
   ],
   "source": [
    "lists[8][0].rsplit('/',1)"
   ]
  },
  {
   "cell_type": "code",
   "execution_count": null,
   "metadata": {},
   "outputs": [],
   "source": []
  },
  {
   "cell_type": "code",
   "execution_count": 175,
   "metadata": {},
   "outputs": [],
   "source": [
    "res = {}\n",
    "for i in range(len_):\n",
    "    lists[i][0]=lists[i][0].rsplit('/',1)\n",
    "    lists[i][0][1]=lists[i][0][1].rsplit('>',1)\n",
    "    keyword = lists[i][0][1][0]\n",
    "    value = lists[i][1]\n",
    "    \n",
    "    if keyword in res:\n",
    "        if value not in res[keyword]:\n",
    "            res[keyword].append(value)       \n",
    "    else:\n",
    "        res[keyword] = [value]"
   ]
  },
  {
   "cell_type": "code",
   "execution_count": 176,
   "metadata": {},
   "outputs": [
    {
     "data": {
      "text/plain": [
       "{'location': ['BUFFALO, N.Y.',\n",
       "  'Buffalo',\n",
       "  'Bailey Avenue',\n",
       "  'Bailey Ave.',\n",
       "  'Erie County',\n",
       "  'Baliey Avenue',\n",
       "  'West Seneca',\n",
       "  'New York State',\n",
       "  'Route 33'],\n",
       " 'chron': ['Tuesday, June 2',\n",
       "  '7:56 p.m.',\n",
       "  'June 2, 2020',\n",
       "  '1:13 p.m.',\n",
       "  '12:54 p.m.',\n",
       "  'June 22',\n",
       "  '9:30 a.m.',\n",
       "  '10 p.m. Monday night'],\n",
       " 'person': ['Deyanna Davis',\n",
       "  'Ronald Ensminger Jr',\n",
       "  'Randall Shenefiel',\n",
       "  'Semaj Pigram',\n",
       "  'Walter Stewart Jr',\n",
       "  'John Flynn',\n",
       "  'Decker Street Monday',\n",
       "  'Dave Greber'],\n",
       " 'org': ['Erie County Medical Center',\n",
       "  'New York State Police',\n",
       "  'State Police'],\n",
       " 'a': ['pic.twitter.com/vBhRDNynGl', 'pic.twitter.com/YQWiJim85f'],\n",
       " 'money': ['$100,000', '$175,000']}"
      ]
     },
     "execution_count": 176,
     "metadata": {},
     "output_type": "execute_result"
    }
   ],
   "source": [
    "res"
   ]
  },
  {
   "cell_type": "markdown",
   "metadata": {},
   "source": [
    "# Error handling"
   ]
  },
  {
   "cell_type": "code",
   "execution_count": null,
   "metadata": {},
   "outputs": [],
   "source": [
    "discovery_data = dh_help.discovery_init(COLLECTION_NAME='Naviga1')"
   ]
  },
  {
   "cell_type": "code",
   "execution_count": null,
   "metadata": {},
   "outputs": [],
   "source": [
    "import json\n",
    "import os\n",
    "import sys\n",
    "sys.path.append(\"../\")\n",
    "sys.path.append(\"../../\")\n",
    "sys.path.append(\"../modules/\")\n",
    "import modules.common_helper as cm_help\n",
    "from ibm_watson import DiscoveryV1\n",
    "import modules.config as config\n",
    "import modules.discovery_helper as dh\n",
    "import os\n",
    "import time\n",
    "from pprint import pprint\n",
    "from ibm_cloud_sdk_core.authenticators import IAMAuthenticator"
   ]
  },
  {
   "cell_type": "code",
   "execution_count": null,
   "metadata": {},
   "outputs": [],
   "source": [
    "all_params = cm_help.get_params()\n",
    "COLLECTION_NAME = config.DISCOVERY_COLLECTION_NAME\n",
    "print(COLLECTION_NAME)"
   ]
  },
  {
   "cell_type": "code",
   "execution_count": null,
   "metadata": {},
   "outputs": [],
   "source": [
    "all_params['discovery']"
   ]
  },
  {
   "cell_type": "code",
   "execution_count": null,
   "metadata": {},
   "outputs": [],
   "source": [
    "def discovery_init(COLLECTION_NAME=config.DISCOVERY_COLLECTION_NAME,default=all_params['discovery']['default']):\n",
    "    response = {}\n",
    "    \n",
    "    discovery_param = all_params['discovery']\n",
    "    # default = \n",
    "    authenticator = IAMAuthenticator(apikey=discovery_param[default]['apikey'])\n",
    "    endurl = \"https://gateway.watsonplatform.net/discovery/api\"\n",
    "    discovery = DiscoveryV1(\n",
    "        version=discovery_param[default]['version'],\n",
    "        authenticator = authenticator)\n",
    "    iam_apikey=discovery_param[default]['apikey'],\n",
    "    url=discovery_param[default]['url']    \n",
    "    if default ==\"r3\":\n",
    "        discovery.set_service_url(discovery_param[default]['url'])\n",
    "\n",
    "    environments = discovery.list_environments().get_result()\n",
    "    # print(json.dumps(environments, indent=2))\n",
    "    print(\"Discovery instance loaded \"+default)\n",
    "    js = json.dumps(environments)\n",
    "    jres = json.loads(js)\n",
    "    # print(jres['environments'][1]['environment_id'])\n",
    "    env_id = jres['environments'][1]['environment_id']\n",
    "    collections = discovery.list_collections(env_id).get_result()\n",
    "    cols = json.dumps(collections, indent=2)\n",
    "    colres = json.loads(cols)\n",
    "\n",
    "    #print(colres['collections'])\n",
    "    for item in colres['collections']:\n",
    "        if item['name']== COLLECTION_NAME:\n",
    "            print('COLLECTION ID:', item['collection_id'], 'COLLECTION NAME:', item['name'])\n",
    "            col_id = item['collection_id']\n",
    "    response['env_id'] = env_id\n",
    "    response['col_id'] = col_id\n",
    "    response['discovery'] = discovery\n",
    "    return response"
   ]
  },
  {
   "cell_type": "code",
   "execution_count": null,
   "metadata": {},
   "outputs": [],
   "source": [
    "discovery_data = discovery_init(COLLECTION_NAME='Naviga1',default=\"r3\")"
   ]
  },
  {
   "cell_type": "code",
   "execution_count": null,
   "metadata": {},
   "outputs": [],
   "source": [
    "dict_ = []\n",
    "result = discovery_data['results']\n",
    "\n",
    "for obj in result:\n",
    "    temp={}\n",
    "    temp['id'] = obj['id']\n",
    "\n",
    "    # dict for 0th doc\n",
    "    res = {}\n",
    "    for tag in soup.findAll('p'):\n",
    "        #tag.find(x for x in ent_types)\n",
    "        for ent in ent_types:\n",
    "            try:\n",
    "                tag.find(ent)\n",
    "                res[ent].append(tag.find(ent).text)\n",
    "            except Exception as e:\n",
    "                pass\n",
    "    # for extra tags not in ent_types\n",
    "    for tag in soup.findAll('chron'):\n",
    "        res['chron'].append(tag.text)\n",
    "    \n",
    "    temp = {**temp,**res}\n",
    "    dict_.append(temp)"
   ]
  },
  {
   "cell_type": "code",
   "execution_count": null,
   "metadata": {},
   "outputs": [],
   "source": []
  },
  {
   "cell_type": "code",
   "execution_count": null,
   "metadata": {},
   "outputs": [],
   "source": []
  },
  {
   "cell_type": "code",
   "execution_count": null,
   "metadata": {},
   "outputs": [],
   "source": []
  },
  {
   "cell_type": "code",
   "execution_count": null,
   "metadata": {},
   "outputs": [],
   "source": []
  }
 ],
 "metadata": {
  "kernelspec": {
   "display_name": "discovery",
   "language": "python",
   "name": "discovery"
  },
  "language_info": {
   "codemirror_mode": {
    "name": "ipython",
    "version": 3
   },
   "file_extension": ".py",
   "mimetype": "text/x-python",
   "name": "python",
   "nbconvert_exporter": "python",
   "pygments_lexer": "ipython3",
   "version": "3.6.9"
  }
 },
 "nbformat": 4,
 "nbformat_minor": 2
}
