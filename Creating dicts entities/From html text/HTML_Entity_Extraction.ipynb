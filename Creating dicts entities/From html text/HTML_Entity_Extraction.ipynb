{
 "cells": [
  {
   "cell_type": "code",
   "execution_count": null,
   "metadata": {},
   "outputs": [],
   "source": [
    "__author__ = 'pratyush'\n",
    "import requests\n",
    "import json\n",
    "import os\n",
    "import modules.config as config\n",
    "from time import sleep\n",
    "from requests.auth import HTTPBasicAuth\n",
    "from ibm_watson import DiscoveryV1\n",
    "from pprint import pprint\n",
    "import modules.discovery_helper as dh_help\n",
    "import modules.common_helper as cm_help\n",
    "import sys\n",
    "import pandas as pd\n",
    "import modules.config as config\n",
    "import math\n",
    "import re\n",
    "import hashlib\n",
    "import unicodedata\n",
    "from bs4 import BeautifulSoup \n",
    "from ibm_cloud_sdk_core.authenticators import IAMAuthenticator"
   ]
  },
  {
   "cell_type": "code",
   "execution_count": null,
   "metadata": {},
   "outputs": [],
   "source": [
    "all_params = cm_help.get_params()"
   ]
  },
  {
   "cell_type": "code",
   "execution_count": null,
   "metadata": {},
   "outputs": [],
   "source": [
    "def discovery_init(COLLECTION_NAME=config.DISCOVERY_COLLECTION_NAME,default=all_params['discovery']['default']):\n",
    "    response = {}\n",
    "    \n",
    "    discovery_param = all_params['discovery']\n",
    "    # default = \n",
    "    authenticator = IAMAuthenticator(apikey=discovery_param[default]['apikey'])\n",
    "    endurl = \"https://gateway.watsonplatform.net/discovery/api\"\n",
    "    discovery = DiscoveryV1(\n",
    "        version=discovery_param[default]['version'],\n",
    "        authenticator = authenticator)\n",
    "    iam_apikey=discovery_param[default]['apikey'],\n",
    "    url=discovery_param[default]['url']    \n",
    "    if default ==\"r3\":\n",
    "        discovery.set_service_url(discovery_param[default]['url'])\n",
    "\n",
    "    environments = discovery.list_environments().get_result()\n",
    "    # print(json.dumps(environments, indent=2))\n",
    "    print(\"Discovery instance loaded \"+default)\n",
    "    js = json.dumps(environments)\n",
    "    jres = json.loads(js)\n",
    "    # print(jres['environments'][1]['environment_id'])\n",
    "    env_id = jres['environments'][1]['environment_id']\n",
    "    collections = discovery.list_collections(env_id).get_result()\n",
    "    cols = json.dumps(collections, indent=2)\n",
    "    colres = json.loads(cols)\n",
    "\n",
    "    #print(colres['collections'])\n",
    "    for item in colres['collections']:\n",
    "        if item['name']== COLLECTION_NAME:\n",
    "            print('COLLECTION ID:', item['collection_id'], 'COLLECTION NAME:', item['name'])\n",
    "            col_id = item['collection_id']\n",
    "    response['env_id'] = env_id\n",
    "    response['col_id'] = col_id\n",
    "    response['discovery'] = discovery\n",
    "    return response"
   ]
  },
  {
   "cell_type": "code",
   "execution_count": null,
   "metadata": {},
   "outputs": [],
   "source": [
    "discovery_config = discovery_init(COLLECTION_NAME='Naviga1',default=\"r3\")"
   ]
  },
  {
   "cell_type": "code",
   "execution_count": null,
   "metadata": {},
   "outputs": [],
   "source": [
    "offset = 0\n",
    "count = 3000\n",
    "reqparams = {'offset':offset,'count':count}\n",
    "discovery_data = dh_help.getDiscoveryData(discovery_config,reqparams)"
   ]
  },
  {
   "cell_type": "code",
   "execution_count": null,
   "metadata": {},
   "outputs": [],
   "source": [
    "result = []\n",
    "offset = 0\n",
    "\n",
    "while offset<=261000:\n",
    "    \n",
    "    count = 1000\n",
    "    reqparams = {'offset':offset,'count':count}\n",
    "    discovery_data = dh_help.getDiscoveryData(discovery_config,reqparams)\n",
    "    \n",
    "    offset+=1000\n",
    "    \n",
    "    for i in range(1000):\n",
    "        \n",
    "        res={}\n",
    "        \n",
    "        doc = discovery_data[\"results\"][i]\n",
    "        res[\"id\"]=doc[\"id\"]\n",
    "        \n",
    "        source = discovery_data[\"results\"][i]['html']\n",
    "        batRegex = re.compile(r'([a-zA-Z0-9]{2}\\s<[a-zA-Z]*[^>]*>(.+?)</[a-zA-Z]*>)')\n",
    "        \n",
    "        lists = re.findall(batRegex,source)\n",
    "        len_ = len(lists)\n",
    "        for i in range(len_):\n",
    "            lists[i] = list(lists[i])\n",
    "        \n",
    "        regex = re.compile(r'\\svalue=\"(.*?)\"')\n",
    "        subst = ''\n",
    "        for i in range(len_):\n",
    "            bregex = re.findall(regex,lists[i][0])\n",
    "            if(len(bregex)!=0):\n",
    "                lists[i][0] = lists[i][0].replace(bregex[0], subst)\n",
    "\n",
    "        regex = re.compile(r'\\sidsrc=\"(.*?)\"')\n",
    "        for i in range(len_):\n",
    "            bregex = re.findall(regex,lists[i][0])\n",
    "            if(len(bregex)!=0):\n",
    "                lists[i][0] = lists[i][0].replace(bregex[0], subst)\n",
    "        \n",
    "        for i in range(len_):\n",
    "            lists[i][0]=lists[i][0].split('/')\n",
    "            lists[i][0][1]=lists[i][0][1].split('>')\n",
    "            keyword = lists[i][0][1][0]\n",
    "            value = lists[i][1]\n",
    "    \n",
    "            if keyword in res:\n",
    "                if value not in res[keyword]:\n",
    "                    res[keyword].append(value)       \n",
    "            else:\n",
    "                res[keyword] = [value]\n",
    "        \n",
    "        result.append(res)"
   ]
  },
  {
   "cell_type": "code",
   "execution_count": null,
   "metadata": {},
   "outputs": [],
   "source": [
    "p=json.dumps(result,indent=4)\n",
    "print(p)"
   ]
  }
 ],
 "metadata": {
  "kernelspec": {
   "display_name": "discovery",
   "language": "python",
   "name": "discovery"
  },
  "language_info": {
   "codemirror_mode": {
    "name": "ipython",
    "version": 3
   },
   "file_extension": ".py",
   "mimetype": "text/x-python",
   "name": "python",
   "nbconvert_exporter": "python",
   "pygments_lexer": "ipython3",
   "version": "3.6.9"
  }
 },
 "nbformat": 4,
 "nbformat_minor": 2
}
