{
 "cells": [
  {
   "cell_type": "code",
   "execution_count": 1,
   "metadata": {},
   "outputs": [
    {
     "name": "stdout",
     "output_type": "stream",
     "text": [
      "Discovery instance loaded r3\n",
      "COLLECTION ID: ec586f27-f848-40b7-99af-dab80a43b248 COLLECTION NAME: Naviga1\n"
     ]
    }
   ],
   "source": [
    "__author__ = 'Pratyush'\n",
    "import json\n",
    "import numpy as np\n",
    "import pandas as pd\n",
    "from openpyxl import Workbook\n",
    "\n",
    "import requests\n",
    "import json\n",
    "import os\n",
    "import modules.config as config\n",
    "from time import sleep\n",
    "from requests.auth import HTTPBasicAuth\n",
    "from ibm_watson import DiscoveryV1\n",
    "from pprint import pprint\n",
    "import modules.discovery_helper as dh_help\n",
    "import modules.common_helper as cm_help\n",
    "import sys\n",
    "import pandas as pd\n",
    "import modules.config as config\n",
    "import math\n",
    "import re\n",
    "import hashlib\n",
    "import unicodedata\n",
    "from bs4 import BeautifulSoup \n",
    "from ibm_cloud_sdk_core.authenticators import IAMAuthenticator\n",
    "from IPython.core.display import display, HTML\n",
    "\n",
    "all_params = cm_help.get_params()\n",
    "\n",
    "def discovery_init(COLLECTION_NAME=config.DISCOVERY_COLLECTION_NAME,default=all_params['discovery']['default']):\n",
    "    response = {}\n",
    "    \n",
    "    discovery_param = all_params['discovery']\n",
    "    authenticator = IAMAuthenticator(apikey=discovery_param[default]['apikey'])\n",
    "    endurl = \"https://gateway.watsonplatform.net/discovery/api\"\n",
    "    discovery = DiscoveryV1(\n",
    "        version=discovery_param[default]['version'],\n",
    "        authenticator = authenticator)\n",
    "    iam_apikey=discovery_param[default]['apikey'],\n",
    "    url=discovery_param[default]['url']    \n",
    "    if default ==\"r3\":\n",
    "        discovery.set_service_url(discovery_param[default]['url'])\n",
    "\n",
    "    environments = discovery.list_environments().get_result()\n",
    "    print(\"Discovery instance loaded \"+default)\n",
    "    js = json.dumps(environments)\n",
    "    jres = json.loads(js)\n",
    "    env_id = jres['environments'][1]['environment_id']\n",
    "    collections = discovery.list_collections(env_id).get_result()\n",
    "    cols = json.dumps(collections, indent=2)\n",
    "    colres = json.loads(cols)\n",
    "\n",
    "    for item in colres['collections']:\n",
    "        if item['name']== COLLECTION_NAME:\n",
    "            print('COLLECTION ID:', item['collection_id'], 'COLLECTION NAME:', item['name'])\n",
    "            col_id = item['collection_id']\n",
    "    response['env_id'] = env_id\n",
    "    response['col_id'] = col_id\n",
    "    response['discovery'] = discovery\n",
    "    return response\n",
    "\n",
    "discovery_config = discovery_init(COLLECTION_NAME='Naviga1',default=\"r3\")"
   ]
  },
  {
   "cell_type": "code",
   "execution_count": 3,
   "metadata": {},
   "outputs": [
    {
     "name": "stdout",
     "output_type": "stream",
     "text": [
      "offset in query = 0\n"
     ]
    }
   ],
   "source": [
    "offset = 0\n",
    "count = 100 # 100 docs \n",
    "reqparams = {'offset':offset,'count':count}\n",
    "reqparams['q'] = 'Last Dance'\n",
    "discovery_data = dh_help.getDiscoveryData(discovery_config,reqparams)"
   ]
  },
  {
   "cell_type": "code",
   "execution_count": 4,
   "metadata": {},
   "outputs": [
    {
     "data": {
      "text/plain": [
       "100"
      ]
     },
     "execution_count": 4,
     "metadata": {},
     "output_type": "execute_result"
    }
   ],
   "source": [
    "len(discovery_data[\"results\"])"
   ]
  },
  {
   "cell_type": "code",
   "execution_count": 5,
   "metadata": {},
   "outputs": [
    {
     "data": {
      "text/plain": [
       "50"
      ]
     },
     "execution_count": 5,
     "metadata": {},
     "output_type": "execute_result"
    }
   ],
   "source": [
    "len(discovery_data[\"passages\"])"
   ]
  },
  {
   "cell_type": "code",
   "execution_count": 6,
   "metadata": {},
   "outputs": [
    {
     "data": {
      "text/plain": [
       "[{'document_id': '03a09a1c-cd3d-4561-9086-6933b7a19386',\n",
       "  'passage_score': 38.995676416151014,\n",
       "  'passage_text': \"AHS sal speech: If it's the last dance, dance backward, Class of 2020\",\n",
       "  'start_offset': 0,\n",
       "  'end_offset': 69,\n",
       "  'field': 'title'},\n",
       " {'document_id': '50602105-0b9c-42f9-9bd7-01641652a2ba',\n",
       "  'passage_score': 35.62804748510827,\n",
       "  'passage_text': \"Tune In Tonight: Little League reruns and more 'Last Dance'\",\n",
       "  'start_offset': 0,\n",
       "  'end_offset': 59,\n",
       "  'field': 'title'},\n",
       " {'document_id': '788ed57f-834f-4e5b-949f-7ccddf1d76b5',\n",
       "  'passage_score': 35.62804748510827,\n",
       "  'passage_text': \"Tune In Tonight: Little League reruns and more 'Last Dance'\",\n",
       "  'start_offset': 0,\n",
       "  'end_offset': 59,\n",
       "  'field': 'title'},\n",
       " {'document_id': '03a09a1c-cd3d-4561-9086-6933b7a19386',\n",
       "  'passage_score': 29.287775093359205,\n",
       "  'passage_text': \"Sidney Irwin is salutatorian of Abilene High School. 'If it's the last dance, dance backwards.'. When I first heard this quote, it sounded to me like one of those vague little sayings people write to sound poetic.\",\n",
       "  'start_offset': 0,\n",
       "  'end_offset': 213,\n",
       "  'field': 'description'},\n",
       " {'document_id': '03a09a1c-cd3d-4561-9086-6933b7a19386',\n",
       "  'passage_score': 28.668416025972313,\n",
       "  'passage_text': \"AMX:Story Lead=Sidney Irwin is salutatorian of Abilene High School. 'If it's the last dance, dance backwards.' When I first heard this quote, it sounded to me like one of those vague little sayings people write to sound poetic.\",\n",
       "  'start_offset': 833,\n",
       "  'end_offset': 1060,\n",
       "  'field': 'vendorData'},\n",
       " {'document_id': '50602105-0b9c-42f9-9bd7-01641652a2ba',\n",
       "  'passage_score': 28.374070489489245,\n",
       "  'passage_text': 'In other sports programming, ABC continues to re-air the acclaimed ESPN documentary series \"The Last Dance\". Natalie Portman and Jon Hamm star in the 2019 drama \"Lucy in the Sky\".',\n",
       "  'start_offset': 148,\n",
       "  'end_offset': 327,\n",
       "  'field': 'description'},\n",
       " {'document_id': '788ed57f-834f-4e5b-949f-7ccddf1d76b5',\n",
       "  'passage_score': 28.374070489489245,\n",
       "  'passage_text': 'In other sports programming, ABC continues to re-air the acclaimed ESPN documentary series \"The Last Dance\". Natalie Portman and Jon Hamm star in the 2019 drama \"Lucy in the Sky\".',\n",
       "  'start_offset': 148,\n",
       "  'end_offset': 327,\n",
       "  'field': 'description'},\n",
       " {'document_id': '675cac1e-3c73-4c1d-84b3-5a09eb2ce9d2',\n",
       "  'passage_score': 27.719065822231293,\n",
       "  'passage_text': 'She danced all four of her high-school years at Imagine Dance Studio, and she was a member of the CCHS dance team for two years. But she was never a member of the CCHS cheerleading squad. She last cheered at Jacksboro Middle School. Ayers will return to cheerleading ...',\n",
       "  'start_offset': 868,\n",
       "  'end_offset': 1138,\n",
       "  'field': 'vendorData'},\n",
       " {'document_id': '03a09a1c-cd3d-4561-9086-6933b7a19386',\n",
       "  'passage_score': 26.76367885964068,\n",
       "  'passage_text': \"</p>\\n\\n<p>So while we're celebrating, while we enjoy the last dances of our high school experience, let's dance backward for just a little bit and remember everything that makes us the Class of 2020.</p>\",\n",
       "  'start_offset': 2157,\n",
       "  'end_offset': 2359,\n",
       "  'field': 'html'},\n",
       " {'document_id': '50602105-0b9c-42f9-9bd7-01641652a2ba',\n",
       "  'passage_score': 26.75482892351974,\n",
       "  'passage_text': 'NEWSBANK:link=https://www.kenoshanews.com/tune-in-tonight-little-league-reruns-and-more-last-dance/article_d4fd4ed1-4cf3-5f2f-9265-7486e46afe2a.html',\n",
       "  'start_offset': 523,\n",
       "  'end_offset': 671,\n",
       "  'field': 'vendorData'},\n",
       " {'document_id': '788ed57f-834f-4e5b-949f-7ccddf1d76b5',\n",
       "  'passage_score': 26.75482892351974,\n",
       "  'passage_text': 'NEWSBANK:link=https://www.kenoshanews.com/tune-in-tonight-little-league-reruns-and-more-last-dance/article_d4fd4ed1-4cf3-5f2f-9265-7486e46afe2a.html',\n",
       "  'start_offset': 523,\n",
       "  'end_offset': 671,\n",
       "  'field': 'vendorData'},\n",
       " {'document_id': '03a09a1c-cd3d-4561-9086-6933b7a19386',\n",
       "  'passage_score': 25.71549781523592,\n",
       "  'passage_text': \"Sidney Irwin is salutatorian of Abilene High School.\\n\\n'If it's the last dance, dance backwards.'\\n\\nWhen I first heard this quote, it sounded to me like one of those vague little\\nsayings people write to sound poetic.\",\n",
       "  'start_offset': 0,\n",
       "  'end_offset': 214,\n",
       "  'field': 'text'},\n",
       " {'document_id': '03a09a1c-cd3d-4561-9086-6933b7a19386',\n",
       "  'passage_score': 25.715308377414306,\n",
       "  'passage_text': \"\\n<p><person>Sidney Irwin</person> is salutatorian of <org>Abilene High School</org>.</p>\\n<p>'If it's the last dance, dance backwards.'</p>\\n\\n<p>When I first heard this quote, it sounded to me like one of those vague little sayings people write to sound poetic\",\n",
       "  'start_offset': 0,\n",
       "  'end_offset': 258,\n",
       "  'field': 'html'},\n",
       " {'document_id': '83e8512b-6cc3-4382-9c6c-ec767ce9fa80',\n",
       "  'passage_score': 25.34400165610535,\n",
       "  'passage_text': 'Other artists, including Brooklyn-based rapper 2 Milly and \"The Fresh Prince\\nof Bel-Air\" star Alfonso Ribeiro, also have sued Epic Games over other dances\\ndepicted in the shooting game. Ribeiro dropped his lawsuit against Epic Games\\nlast year after the U.S. Copyright Office denied him a copyright for the\\n\"Carlton\" dance that his character performed on the 1990s sitcom.\\n\\n!',\n",
       "  'start_offset': 2054,\n",
       "  'end_offset': 2428,\n",
       "  'field': 'text'},\n",
       " {'document_id': 'b9fca563-48dc-4b48-ad84-ec2dccd33517',\n",
       "  'passage_score': 25.22263086345069,\n",
       "  'passage_text': \"But this is a necessary and inspiring step to bringing the nightlife\\nwe know and love back.\\n\\nWhile I am the last one to bust a move on the dance floor unless I have some\\nliquid courage, dancing and drinking go hand in hand with a night out. And if\\nyou don't have the ability to do what you want, then why go?\",\n",
       "  'start_offset': 905,\n",
       "  'end_offset': 1213,\n",
       "  'field': 'text'},\n",
       " {'document_id': 'c5a81bd7-6c88-48d4-a07a-ddfd3b324c57',\n",
       "  'passage_score': 25.22263086345069,\n",
       "  'passage_text': \"But this is a necessary and inspiring step to bringing the nightlife\\nwe know and love back.\\n\\nWhile I am the last one to bust a move on the dance floor unless I have some\\nliquid courage, dancing and drinking go hand in hand with a night out. And if\\nyou don't have the ability to do what you want, then why go?\",\n",
       "  'start_offset': 905,\n",
       "  'end_offset': 1213,\n",
       "  'field': 'text'},\n",
       " {'document_id': '675cac1e-3c73-4c1d-84b3-5a09eb2ce9d2',\n",
       "  'passage_score': 25.222445975199875,\n",
       "  'passage_text': '</p>\\n<p>She danced all four of her high-school years at <location>Imagine Dance Studio</location>, and she was a member of the CCHS dance team for two years.</p>\\n\\n<p>But she was never a member of the CCHS cheerleading squad.</p>\\n\\n<p>She last cheered at <org>Jacksboro Middle School</org>.',\n",
       "  'start_offset': 157,\n",
       "  'end_offset': 445,\n",
       "  'field': 'html'},\n",
       " {'document_id': '1216b753-4be7-4504-84fc-aaa55fef4303',\n",
       "  'passage_score': 25.193011032786522,\n",
       "  'passage_text': 'Under the lead of artistic director Melissa Gould, the contemporary jazz troupe New Vision Dance Co. is known for big and bold programming. Last year, the group— with a roster consisting of between 20 and 30 dancers— performed a...',\n",
       "  'start_offset': 139,\n",
       "  'end_offset': 370,\n",
       "  'field': 'description'},\n",
       " {'document_id': 'cf8ddf0e-0744-4752-89fb-96381e334e78',\n",
       "  'passage_score': 25.193011032786522,\n",
       "  'passage_text': 'The approvals for their performance to the tune of Ludacris\\' \"Get Back\" came from judges Derek Hough and Ne-Yo. Ne-yo compared the group\\'s style to another dance troop from the Philippines, VPeepz, which bagged the Junior Team Champion title last season.',\n",
       "  'start_offset': 113,\n",
       "  'end_offset': 367,\n",
       "  'field': 'description'},\n",
       " {'document_id': 'ef32d918-c5e5-49e8-8d52-18899e5d2acc',\n",
       "  'passage_score': 25.034863471749965,\n",
       "  'passage_text': 'AMX:Story Lead=Michael Jordan, excited at his alcution after the death of Kobe Bryant.AFP Michael Jordan confessed to his great water phobia in Playboy magazine in 1992. It put it his \"last dance\" in life at just 8 years old: \"I had gone swimming with a friend, we were playing in the waves when a giant wave came along, dragging it away.',\n",
       "  'start_offset': 842,\n",
       "  'end_offset': 1180,\n",
       "  'field': 'vendorData'},\n",
       " {'document_id': '0c5dbe96-947a-42eb-8bb8-0c5877d9f773',\n",
       "  'passage_score': 24.73090785808259,\n",
       "  'passage_text': 'Shannon Reising was ready for Phase II. In announcing the updated Phase II restrictions last week, North Carolina Gov. Roy Cooper said businesses such as dance studios, gyms, bars and entertainment venues might contribute to the spread of COVID-19, because in all of those places, groups of people can be in close contact for prolonged periods of time.',\n",
       "  'start_offset': 0,\n",
       "  'end_offset': 352,\n",
       "  'field': 'description'},\n",
       " {'document_id': '47d75f35-eb5b-4ff7-bee6-1f941face913',\n",
       "  'passage_score': 24.73090785808259,\n",
       "  'passage_text': 'Shannon Reising was ready for Phase II. In announcing the updated Phase II restrictions last week, North Carolina Gov. Roy Cooper said businesses such as dance studios, gyms, bars and entertainment venues might contribute to the spread of COVID-19, because in all of those places, groups of people can be in close contact for prolonged periods of time.',\n",
       "  'start_offset': 0,\n",
       "  'end_offset': 352,\n",
       "  'field': 'description'},\n",
       " {'document_id': '3405bf4c-4df9-45e0-81cd-18808f2b11b0',\n",
       "  'passage_score': 24.580617744143574,\n",
       "  'passage_text': 'An assistant professor of dance at UNC Charlotte, Williams is the 2019-20 recipient of the College of Arts+ Architecture faculty Board of Governors Teaching Award. She found out last month from College of Arts+ Architecture Dean Brook Muller that she had been chosen for the award.',\n",
       "  'start_offset': 0,\n",
       "  'end_offset': 281,\n",
       "  'field': 'description'},\n",
       " {'document_id': '50602105-0b9c-42f9-9bd7-01641652a2ba',\n",
       "  'passage_score': 24.407244182728117,\n",
       "  'passage_text': 'In other sports programming, ABC continues to re-air the acclaimed ESPN documentary series \"The Last Dance\" (7 and 8 p.m., ABC). OTHER HIGHLIGHTSThe voice of Steve Carell animates the 2013 sequel \"Despicable Me 2\" (7 p.m., ...',\n",
       "  'start_offset': 1073,\n",
       "  'end_offset': 1299,\n",
       "  'field': 'vendorData'},\n",
       " {'document_id': '788ed57f-834f-4e5b-949f-7ccddf1d76b5',\n",
       "  'passage_score': 24.407244182728117,\n",
       "  'passage_text': 'In other sports programming, ABC continues to re-air the acclaimed ESPN documentary series \"The Last Dance\" (7 and 8 p.m., ABC). OTHER HIGHLIGHTSThe voice of Steve Carell animates the 2013 sequel \"Despicable Me 2\" (7 p.m., ...',\n",
       "  'start_offset': 1073,\n",
       "  'end_offset': 1299,\n",
       "  'field': 'vendorData'},\n",
       " {'document_id': '03a09a1c-cd3d-4561-9086-6933b7a19386',\n",
       "  'passage_score': 24.293340454146698,\n",
       "  'passage_text': \"Because our history is who we are, it's what makes us distinct. History is\\npart of what makes us human.\\n\\nSo while we're celebrating, while we enjoy the last dances of our high school\\nexperience, let's dance backward for just a little bit and remember everything\\nthat makes us the Class of 2020.\",\n",
       "  'start_offset': 1946,\n",
       "  'end_offset': 2240,\n",
       "  'field': 'text'},\n",
       " {'document_id': 'ef32d918-c5e5-49e8-8d52-18899e5d2acc',\n",
       "  'passage_score': 23.172425803044028,\n",
       "  'passage_text': 'Michael Jordan, excited at his alcution after the death of Kobe Bryant. Michael Jordan confessed to his great water phobia in Playboy magazine in 1992. It put it his \"last dance\" in life at just 8 years old: \"I had gone swimming with a friend, we were playing in the waves when a giant wave came along, dragging it away.',\n",
       "  'start_offset': 0,\n",
       "  'end_offset': 320,\n",
       "  'field': 'description'},\n",
       " {'document_id': '6a0ab2df-9f20-4e00-9992-55c3d7320566',\n",
       "  'passage_score': 23.172425803044028,\n",
       "  'passage_text': 'Myles Garrett made fun of Browns teammate Odell Beckham Jr. early Monday morning by tweeting a video clip from ESPN’ s The Last Dance documentary series of former Chicago Bulls star Dennis Rodman and former Utah Jazz star Karl Malone slapping each other on the backside during the 1998 NBA Finals and writing,“ How@ obj thought spanking the cop was gonna go.”.',\n",
       "  'start_offset': 0,\n",
       "  'end_offset': 360,\n",
       "  'field': 'description'},\n",
       " {'document_id': 'cf8ddf0e-0744-4752-89fb-96381e334e78',\n",
       "  'passage_score': 22.833086033011938,\n",
       "  'passage_text': 'The approvals for their performance to the tune of Ludacris\\' \"Get Back\" came from judges Derek Hough and Ne-Yo. Ne-yo compared the group\\'s style to another dance troop from the Philippines, VPeepz, which bagged the Junior Team Champion title last season. \"I completely see where ...',\n",
       "  'start_offset': 998,\n",
       "  'end_offset': 1280,\n",
       "  'field': 'vendorData'},\n",
       " {'document_id': 'ef32d918-c5e5-49e8-8d52-18899e5d2acc',\n",
       "  'passage_score': 22.56538689001602,\n",
       "  'passage_text': '(https://e00-marca.uecdn.es/assets/multimedia/imagenes/2020/06/05/15913346789776.jpg)\\nMichael Jordan, excited at his alcution after the death of Kobe Bryant.AFP\\n\\nMichael Jordan confessed to his great water phobia in Playboy magazine in\\n1992. It put it his \"last dance\" in life at just 8 years old: \"I had gone\\nswimming',\n",
       "  'start_offset': 71,\n",
       "  'end_offset': 389,\n",
       "  'field': 'text'},\n",
       " {'document_id': '6a0ab2df-9f20-4e00-9992-55c3d7320566',\n",
       "  'passage_score': 22.56538689001602,\n",
       "  'passage_text': 'Well, that escalated quickly.\\n\\nMyles Garrett made fun of Browns teammate Odell Beckham Jr. early Monday\\nmorning by tweeting a video clip from ESPN\\'s The Last Dance documentary series\\nof former Chicago Bulls star Dennis Rodman and former Utah Jazz star Karl\\nMalone slapping each other on the backside during the 1998 NBA Finals and\\nwriting, \"How @obj thought spanking the cop was gonna go.\"',\n",
       "  'start_offset': 0,\n",
       "  'end_offset': 389,\n",
       "  'field': 'text'},\n",
       " {'document_id': '6a0ab2df-9f20-4e00-9992-55c3d7320566',\n",
       "  'passage_score': 22.565187646572376,\n",
       "  'passage_text': '</p><p><person>Myles Garrett</person> made fun of Browns teammate <person>Odell Beckham Jr</person>. early Monday morning by tweeting a video clip from ESPN&#8217;s The Last Dance documentary series of former Chicago Bulls star <person>Dennis Rodman</person> and former Utah Jazz star <person>Karl Malone</person> slapping each other on the backside during',\n",
       "  'start_offset': 35,\n",
       "  'end_offset': 391,\n",
       "  'field': 'html'},\n",
       " {'document_id': 'cf8ddf0e-0744-4752-89fb-96381e334e78',\n",
       "  'passage_score': 22.451491075630088,\n",
       "  'passage_text': \"PH dance group UPeepz proceeds to next 'World Of Dance' round.(Entertainment)\",\n",
       "  'start_offset': 0,\n",
       "  'end_offset': 77,\n",
       "  'field': 'title'},\n",
       " {'document_id': 'ef32d918-c5e5-49e8-8d52-18899e5d2acc',\n",
       "  'passage_score': 22.420124700082418,\n",
       "  'passage_text': 'The legendary ally of the <org idsrc=\"xmltag.org\" value=\"ACORN:6001131364\">Chicago Bulls</org>, back in the limelight for the documentary \"The Last Dance\", received the 1997 MARK legend.</p>\\n<figure><img class=\"full-image\" height=\"436\" src=\"https://e00-marca.uecdn.es/assets/multimedia/imagenes/2020/06/05/15913351212507.png\" width=\"660\" /></figure>\\n<p />',\n",
       "  'start_offset': 1180,\n",
       "  'end_offset': 1535,\n",
       "  'field': 'html'},\n",
       " {'document_id': '50602105-0b9c-42f9-9bd7-01641652a2ba',\n",
       "  'passage_score': 22.420124700082418,\n",
       "  'passage_text': '</chron>) and 2012 (<chron>8:30 p.m.</chron>).</p>\\n<p>In other sports programming, <org>ABC</org> continues to re-air the acclaimed <org>ESPN</org> documentary series \"The Last Dance\" (7 and <chron>8 p.m.</chron>, <org>ABC</org>).',\n",
       "  'start_offset': 170,\n",
       "  'end_offset': 400,\n",
       "  'field': 'html'},\n",
       " {'document_id': '788ed57f-834f-4e5b-949f-7ccddf1d76b5',\n",
       "  'passage_score': 22.420124700082418,\n",
       "  'passage_text': '</chron>) and 2012 (<chron>8:30 p.m.</chron>).</p>\\n<p>In other sports programming, <org>ABC</org> continues to re-air the acclaimed <org>ESPN</org> documentary series \"The Last Dance\" (7 and <chron>8 p.m.</chron>, <org>ABC</org>).',\n",
       "  'start_offset': 170,\n",
       "  'end_offset': 400,\n",
       "  'field': 'html'},\n",
       " {'document_id': '6a0ab2df-9f20-4e00-9992-55c3d7320566',\n",
       "  'passage_score': 22.309854793231064,\n",
       "  'passage_text': 'AMX:Story Lead=Well, that escalated quickly. Myles Garrett made fun of Browns teammate Odell Beckham Jr. early Monday morning by tweeting a video clip from ESPN’s The Last Dance documentary series',\n",
       "  'start_offset': 726,\n",
       "  'end_offset': 922,\n",
       "  'field': 'vendorData'},\n",
       " {'document_id': 'ef32d918-c5e5-49e8-8d52-18899e5d2acc',\n",
       "  'passage_score': 22.276914948330052,\n",
       "  'passage_text': 'to his great water phobia in <org>Playboy magazine</org> in 1992. It put it his \"last dance\" in life at just 8 years old: \"I had gone swimming with a friend, <strong>we were playing in the waves when a giant wave came along, dragging it away.',\n",
       "  'start_offset': 395,\n",
       "  'end_offset': 637,\n",
       "  'field': 'html'},\n",
       " {'document_id': '6a0ab2df-9f20-4e00-9992-55c3d7320566',\n",
       "  'passage_score': 22.276914948330052,\n",
       "  'passage_text': '.&#8221; </p><p>Garrett replied Monday evening with a photograph of Bulls icon <person>Michael Jordan</person> hugging <org idsrc=\"xmltag.org\" value=\"ACORN:6001131381\">Boston Celtics</org> legend <person>Larry Bird</person> in a scene from &#8220;The Last Dance.&#8221; Garrett tweeted the photo and three emoji faces laughing with tears. </p><p>So what\\'s the lesson here?',\n",
       "  'start_offset': 2032,\n",
       "  'end_offset': 2404,\n",
       "  'field': 'html'},\n",
       " {'document_id': '50602105-0b9c-42f9-9bd7-01641652a2ba',\n",
       "  'passage_score': 22.1357185542104,\n",
       "  'passage_text': 'In other sports programming, ABC continues to re-air the acclaimed ESPN\\ndocumentary series \"The Last Dance\" (7 and 8 p.m., ABC).\\n\\nOTHER HIGHLIGHTSThe voice of Steve Carell animates the 2013 sequel \"Despicable\\nMe 2\" (7 p.m., NBC).',\n",
       "  'start_offset': 173,\n",
       "  'end_offset': 402,\n",
       "  'field': 'text'},\n",
       " {'document_id': '788ed57f-834f-4e5b-949f-7ccddf1d76b5',\n",
       "  'passage_score': 22.1357185542104,\n",
       "  'passage_text': 'In other sports programming, ABC continues to re-air the acclaimed ESPN\\ndocumentary series \"The Last Dance\" (7 and 8 p.m., ABC).\\n\\nOTHER HIGHLIGHTSThe voice of Steve Carell animates the 2013 sequel \"Despicable\\nMe 2\" (7 p.m., NBC).',\n",
       "  'start_offset': 173,\n",
       "  'end_offset': 402,\n",
       "  'field': 'text'},\n",
       " {'document_id': '3aaec6f3-569c-42c1-8d3a-2e97618fa8da',\n",
       "  'passage_score': 21.3236690691416,\n",
       "  'passage_text': 'Ribeiro dropped his lawsuit against Epic Games\\nlast year after the U.S. Copyright Office denied him a copyright for the\\n\"Carlton\" dance that his character performed on the 1990s sitcom.\\n\\nNickens and Brantley appeared',\n",
       "  'start_offset': 1974,\n",
       "  'end_offset': 2190,\n",
       "  'field': 'text'},\n",
       " {'document_id': '5803d95e-3c3c-4fc9-8b09-3ce55516e7d6',\n",
       "  'passage_score': 21.3236690691416,\n",
       "  'passage_text': 'Ribeiro dropped his lawsuit against Epic Games\\nlast year after the U.S. Copyright Office denied him a copyright for the\\n\"Carlton\" dance that his character performed on the 1990s sitcom.\\n\\nNickens and Brantley appeared',\n",
       "  'start_offset': 1974,\n",
       "  'end_offset': 2190,\n",
       "  'field': 'text'},\n",
       " {'document_id': '1216b753-4be7-4504-84fc-aaa55fef4303',\n",
       "  'passage_score': 21.194084798625155,\n",
       "  'passage_text': 'Under the lead of artistic director Melissa Gould, the contemporary jazz\\ntroupe New Vision Dance Co. is known for big and bold programming. Last year,\\nthe group--with a roster consisting of between 20 and 30 dancers--performed a\\nfull-length homage to the music of Frank Sinatra, Dean Martin and Sammy Davis\\nJr. in \"Come Dance with Me: A Tribute to the Rat Pack.\"',\n",
       "  'start_offset': 554,\n",
       "  'end_offset': 916,\n",
       "  'field': 'text'},\n",
       " {'document_id': 'fd19a145-92f7-4b74-ac8b-a4586c680bfc',\n",
       "  'passage_score': 21.194084798625155,\n",
       "  'passage_text': 'Graduating in a pandemic\\n\\nThe last couple of months have been somewhat of a time of uncertainty. Will I\\nget a graduation? Will I get my senior year dance recital? Will I still be\\nattending college in person? My graduation will be online.',\n",
       "  'start_offset': 979,\n",
       "  'end_offset': 1216,\n",
       "  'field': 'text'},\n",
       " {'document_id': 'fff28438-92aa-4c19-8560-64e317904111',\n",
       "  'passage_score': 21.194084798625155,\n",
       "  'passage_text': 'Graduating in a pandemic\\n\\nThe last couple of months have been somewhat of a time of uncertainty. Will I\\nget a graduation? Will I get my senior year dance recital? Will I still be\\nattending college in person? My graduation will be online.',\n",
       "  'start_offset': 979,\n",
       "  'end_offset': 1216,\n",
       "  'field': 'text'},\n",
       " {'document_id': 'cf8ddf0e-0744-4752-89fb-96381e334e78',\n",
       "  'passage_score': 21.194084798625155,\n",
       "  'passage_text': 'The approvals for their performance to the tune of Ludacris\\' \"Get Back\" came\\nfrom judges Derek Hough and Ne-Yo.\\n\\nNe-yo compared the group\\'s style to another dance troop from the Philippines,\\nVPeepz, which bagged the Junior Team Champion title last season.\\n\\n\"I completely see where VPeepz gets it from.',\n",
       "  'start_offset': 114,\n",
       "  'end_offset': 415,\n",
       "  'field': 'text'},\n",
       " {'document_id': '3aaec6f3-569c-42c1-8d3a-2e97618fa8da',\n",
       "  'passage_score': 21.19389766323675,\n",
       "  'passage_text': '\">Bel-Air</location>\" star <person>Alfonso Ribeiro</person>, also have sued Epic Games over other dances depicted in the shooting game. Ribeiro dropped his lawsuit against Epic Games last year after the <org idsrc=\"xmltag.org\" value=\"ACORN:4293329859\">U.S.',\n",
       "  'start_offset': 2597,\n",
       "  'end_offset': 2853,\n",
       "  'field': 'html'},\n",
       " {'document_id': '5803d95e-3c3c-4fc9-8b09-3ce55516e7d6',\n",
       "  'passage_score': 21.19389766323675,\n",
       "  'passage_text': '\">Bel-Air</location>\" star <person>Alfonso Ribeiro</person>, also have sued Epic Games over other dances depicted in the shooting game. Ribeiro dropped his lawsuit against Epic Games last year after the <org idsrc=\"xmltag.org\" value=\"ACORN:4293329859\">U.S.',\n",
       "  'start_offset': 2597,\n",
       "  'end_offset': 2853,\n",
       "  'field': 'html'},\n",
       " {'document_id': 'fd19a145-92f7-4b74-ac8b-a4586c680bfc',\n",
       "  'passage_score': 21.19389766323675,\n",
       "  'passage_text': 'I also love assisting at the dance studio with the younger students, helping them learn dances for recitals and competitions and assisting in their regular classes.</p>\\n\\n<p>Graduating in a pandemic</p>\\n\\n<p>The last couple of months have been somewhat of a time of uncertainty.',\n",
       "  'start_offset': 940,\n",
       "  'end_offset': 1216,\n",
       "  'field': 'html'}]"
      ]
     },
     "execution_count": 6,
     "metadata": {},
     "output_type": "execute_result"
    }
   ],
   "source": [
    "discovery_data[\"passages\"]"
   ]
  },
  {
   "cell_type": "code",
   "execution_count": 110,
   "metadata": {},
   "outputs": [],
   "source": [
    "for i in range(100):\n",
    "    if(discovery_data[\"results\"][i][\"id\"] == discovery_data[\"passages\"][0][\"document_id\"]):\n",
    "        source = discovery_data[\"results\"][i][\"html\"]"
   ]
  },
  {
   "cell_type": "code",
   "execution_count": 111,
   "metadata": {},
   "outputs": [],
   "source": [
    "ps_text = discovery_data[\"passages\"][3][\"passage_text\"]"
   ]
  },
  {
   "cell_type": "code",
   "execution_count": 112,
   "metadata": {
    "collapsed": true
   },
   "outputs": [
    {
     "data": {
      "text/plain": [
       "\"Sidney Irwin is salutatorian of Abilene High School. 'If it's the last dance, dance backwards.'. When I first heard this quote, it sounded to me like one of those vague little sayings people write to sound poetic.\""
      ]
     },
     "execution_count": 112,
     "metadata": {},
     "output_type": "execute_result"
    }
   ],
   "source": [
    "ps_text"
   ]
  },
  {
   "cell_type": "code",
   "execution_count": 113,
   "metadata": {
    "collapsed": true
   },
   "outputs": [
    {
     "data": {
      "text/plain": [
       "\"\\n<p><person>Sidney Irwin</person> is salutatorian of <org>Abilene High School</org>.</p>\\n<p>'If it's the last dance, dance backwards.'</p>\\n\\n<p>When I first heard this quote, it sounded to me like one of those vague little sayings people write to sound poetic. But when I really thought about it, what it's trying to tell you, it's kind of beautifully true.</p>\\n\\n<p>In the 13 years that we have been going to school, we have gone through a lot of changes in our lives. We've made friends, lost friends, moved schools, joined clubs, aced projects and failed papers and learned more about ourselves along the way.</p>\\n\\n<p>We've felt joy and terror, sadness and hope, we've learned to love and learned to lose and sometimes lost ourselves in the in between.</p>\\n\\n<p>We've grown up.</p>\\n\\n<p>And every time we have these changes, the big ones or the small ones, we look around at all our friends and our first thoughts are not of the future, of what's up ahead, because we don't know what's coming.</p>\\n\\n<p>We can't predict what's going to happen next. I mean, look at right now. Who could have known we'd be having an online graduation in the middle of a worldwide pandemic?</p>\\n\\n<p>The future cannot be predicted, so our first thoughts aren't of the future. Our first thoughts when we look around are to look at where we've been. Look at what we've come from. To remember all the things that make you who you are.</p>\\n\\n<p>Our memories are what give things meaning. They are what makes a friend different from a stranger. It's how each person is unique. Nobody experiences the world like you do, nobody has done exactly what you've done. Our futures are direct reflections of our pasts. In order to change, you have to have something to change from.</p>\\n\\n<p>So as much as we'd sometimes like, we cannot ignore our pasts, we cannot forget all the things that have made us who we are today. It's the very reason why we have history classes, why there are thousands of people across the globe who spend their whole lives learning about what came before.</p>\\n\\n<p>Because our history is who we are, it's what makes us distinct. History is part of what makes us human.</p>\\n\\n<p>So while we're celebrating, while we enjoy the last dances of our high school experience, let's dance backward for just a little bit and remember everything that makes us the Class of 2020.</p>\\n\""
      ]
     },
     "execution_count": 113,
     "metadata": {},
     "output_type": "execute_result"
    }
   ],
   "source": [
    "source"
   ]
  },
  {
   "cell_type": "code",
   "execution_count": 180,
   "metadata": {},
   "outputs": [
    {
     "name": "stdout",
     "output_type": "stream",
     "text": [
      "offset in query = 0\n",
      "offset in query = 0\n",
      "offset in query = 0\n",
      "offset in query = 0\n",
      "offset in query = 0\n",
      "offset in query = 0\n",
      "offset in query = 0\n",
      "offset in query = 0\n",
      "offset in query = 0\n",
      "offset in query = 0\n",
      "offset in query = 0\n"
     ]
    }
   ],
   "source": [
    "offset = 0\n",
    "count = 100\n",
    "reqparams = {'offset':offset,'count':count}\n",
    "reqparams['q'] = 'Inflation'\n",
    "discovery_data_subCode = dh_help.getDiscoveryData(discovery_config,reqparams)\n",
    "\n",
    "doc_id=[]\n",
    "passage=[]\n",
    "for i in range(len(discovery_data_subCode[\"passages\"])):\n",
    "    doc_id.append(discovery_data_subCode[\"passages\"][i][\"document_id\"])\n",
    "    passage.append(discovery_data_subCode[\"passages\"][i][\"passage_text\"])\n",
    "\n",
    "HTM=[]\n",
    "for j in range(10):\n",
    "    reqparams = {'offset':offset,'count':count}\n",
    "    reqparams['filters']='id::'+doc_id[j]\n",
    "    discovery_data2 = dh_help.getDiscoveryData(discovery_config,reqparams)\n",
    "    HTM.append(discovery_data2[\"results\"][0][\"html\"])"
   ]
  },
  {
   "cell_type": "code",
   "execution_count": 3,
   "metadata": {},
   "outputs": [
    {
     "data": {
      "text/plain": [
       "50"
      ]
     },
     "execution_count": 3,
     "metadata": {},
     "output_type": "execute_result"
    }
   ],
   "source": [
    "len(doc_id)"
   ]
  },
  {
   "cell_type": "code",
   "execution_count": 181,
   "metadata": {
    "scrolled": true
   },
   "outputs": [
    {
     "data": {
      "text/plain": [
       "['PENN STATE/ACY ALTERNATIVE INFLATION INDEX REVEALS DECLINE IN INFLATION RATE [U.S. Fed News]',\n",
       " 'Inflation declines 5.35% in May',\n",
       " 'Inflation declines to 5.35pc in May',\n",
       " 'Inflation rate sustains downtrend: Diokno',\n",
       " 'WING INFLATABLES Wins $250,000 Federal Contract',\n",
       " \"The SBP tweeted: 'A chart from our Inflation Monitor has generated erroneous headlines. It compares Pakistan's inflation to a few developed and developing countries. While Pakistan did have a relatively elevated inflation rate so far in FY20, it ...\",\n",
       " 'Inflation slides to 2.1% in April.(Business News)',\n",
       " \"Does Pakistan have the world's highest inflation? No, says SBP\",\n",
       " 'May 2020 inflation rate clocked in at 0.07 percent: BPS',\n",
       " 'Good news: Inflation down, recovery up.(Opinions and Editorials)',\n",
       " 'Inflation fears rise in households: RBI poll [Mint (New Delhi)]',\n",
       " 'Camano Fire crews rescue man after inflatable canoe sinks in Port Susan Bay',\n",
       " 'Pandemic fallout to keep Philippine inflation in check, BSP says [Philippine Daily Inquirer]',\n",
       " 'The June 2020 release of the Penn State/ACY Inflation index suggests that the United States annual inflation rate continued to decelerate, dropping to 1.46% for April 2020 from the March rate of 2.53%.',\n",
       " 'Lee Kyung Ju Files Korean Patent Application for 2 Inflatable Warning Equipment for Protecting 2nd Additional Traffic Accident',\n",
       " 'Keep on reading: Pandemic fallout to keep Philippine inflation in check, BSP says',\n",
       " 'Headline inflation further slid last month as the coronavirus pandemic continued to drag down consumer demand. The rate of increase in consumer prices, or inflation, clocked in at 2.1 percent in April, slightly lower compared with 2.2 percent in the previous month.',\n",
       " 'Captive Technologies LLC Obtains Patent for Single Boundary Layer Optimized Recalled Airbag Inflator Container',\n",
       " \"The State Bank of Pakistan said that Pakistan's inflation for the year 2020 was not the highest in the world, in a series of tweets on Sunday. While Pakistan did have a relatively elevated inflation rate so far in FY20, it is not true that it was the highest in the world.'.\",\n",
       " 'AMX:Headline Signature=AIRBAG-BOUNDARY-CAPTIVE-INFLATOR-LAYER-RECALLED AMX:Special Code=MC/BASE',\n",
       " \"More Indians expect retail inflation to accelerate in the near future than they did in March, according to a survey of households by the Reserve Bank of India. The Households' Inflation Expectations Survey for May conducted among 5,761 households showed that 85.3% households expect inflation to accelerate in the next three months.\",\n",
       " 'For example, a container with at least two\\nsingle-layer sidewalls is provided that can hold multiple airbag inflators and\\nwithstand up to 4 moles of matter being deployed from an inflator having\\nammonium-nitrate-based propellant. The container can contain the inflator and\\nany shrapnel associated with the explosion while also venting gases expelled\\nas a result of the explosion.',\n",
       " 'AMX:Story Lead=Data showed that food inflation declined to 5.09 percentage point in May down from 5.91 percentage point in April The general point to point inflation rate declined to 5.35 percentage point in May from 5.96 percentage point in the previous month mainly because of significant fall in prices of food commodities alongside the non-food items.',\n",
       " 'AMX:Story Lead=By Chino Leyco Headline inflation further slid last month as the coronavirus pandemic continued to drag down consumer demand. The rate of increase in consumer prices, or inflation, clocked in at 2.1 percent in April, slightly lower compared with 2.2 percent in the previous month.',\n",
       " 'Reports from University of Washington Add New Data to Research in Physics (A potential mechanism for inflation from swampland conjectures): Physics',\n",
       " 'AMX:Story Lead=Keep on reading: Pandemic fallout to keep Philippine inflation in check, BSP says ]]>...',\n",
       " \". The Households' Inflation Expectations Survey for May conducted among 5,761 households showed that 85.3% households expect inflation to accelerate in the next three months. That compares with 83.3% in March. ...\",\n",
       " \"'Inflation continues on its downward path,' Diokno told journalists in a Viber message Thursday. He, however, did not elaborate. The Philippine Statistics Authority (PSA) is scheduled to report the May 2020 inflation figure on Friday. Last April, inflation ...\",\n",
       " 'AMX:Cluster Signature=0|AIRBAG-CLASSIF-DAVID-INFLAT-METHOD-PATE-PROPEL-SINGL AMX:Headline Signature=AIRBAG-BOUNDARY-CAPTIVE-INFLATOR-LAYER-RECALLED AMX:Special Code=MC/BASE',\n",
       " '., June 8 -- Pennsylvania State University issued the following news release: The June 2020 release of the Penn State/ACY Inflation index suggests that the United States annual inflation rate continued to decelerate, dropping to 1.46% for April 2020 from the March rate of 2.53%. The overall decline in inflation continues the trend observed last month of a general drop in ...',\n",
       " 'that inflation in the country is expected to be below the 2 percent level in the next two quarters of the year. \"We expect inflation to be less than 2 percent in the third and fourth quarter of the year because ...',\n",
       " 'AMSPIDER:Special Code=PS/web.site AMX:Credit=Philippine Daily Inquirer AMSPIDER:Special Code=PS/SPD_Philipp_Inq NEWSEDGE:Special Code=PS/.SPD_Philipp_Inq NEWSEDGE:AmxSource=SPD_Philipp_Inq AMSPIDER:Special Code=PS/spd.NjhlOGUy AMSPIDER:Story Link=https://business.inquirer.net/299137/pandemic-fallout-to-keep-philippine-inflation-in-check-bsp-says',\n",
       " \"Residents on shore called 911 at about 9:45 p.m. after hearing the man's screams for help near the Cavalero boat launch and County Club neighborhood, Camano Fire spokeswoman Bronlea Mishler said. The man and his dog were seen sinking in an inflatable...\",\n",
       " \"The Philippine Statistics Authority is scheduled to report the May 2020 inflation figure on Friday. The central bank's Department of Economic Research said higher domestic oil prices and the uptick in the prices of some...\",\n",
       " 'WING INFLATABLES, Arcata, California, won a federal contract award for $250,000 from the Defense Logistics Agency, Columbus, Ohio, for sheathsets. Contract Award Number: SPE7M320D60TR; DUNS: 809414048; NAICS Code: 336612 Boat Building; Product Service Code: 20 Ship and Marine Equipment; Solicitation Number: SPE7M320U1101.',\n",
       " 'AMX:Company Record=|||Wing Inflatables Inc.|extractor|DUNS:809414048;NECOID:1507870527;ACORN:1496870527;UDUNS:079082035;UACORN:2187656248|SIGNIFICANT||||XXXX|REFERENCE',\n",
       " 'The monthly consumer price index was released by the Bangladesh Bureau of Statistics today after the meeting of the Ecnec, reports BSS. Answering to a question, BBS Director General Tajul Islam said the inflation trend was a bit high in April, but it...',\n",
       " \"The Households' Inflation Expectations Survey for May conducted among 5,761 households showed that 85.3% households expect inflation to accelerate in the next three months. That compares with 83.3% in...\",\n",
       " \"While Pakistan did have a relatively elevated inflation rate so far in FY20, it is not true that it was the highest in the world.'. Since January, inflation in Pakistan has fallen sharply and much faster than in most other emerging...\",\n",
       " 'The rate of increase in consumer prices, or inflation, clocked in at 2.1 percent in April, slightly lower compared with 2.2 percent in the previous month.  \"Slowdown in the headline inflation in May, 2020, was mainly driven by the 5.6 percent annual drop...',\n",
       " '2 June 2020 The Central Statistics Agency recorded an inflation rate of 0.07 percent in May 2020 or lower from the corresponding period last year owing to decreased public demand during the Eid al-Fitr celebrations.  \"Inflation in May is very small, very far as compared to that during Eid al-Fitr last year when it touched 0.55 percent in June,\" BPS Head Suhariyanto...',\n",
       " 'According to news originating from the University of Washington by NewsRx correspondents, research stated,“ Inflation is the currently accepted paradigm for the beginnings of the Universe.”. The news reporters obtained a quote from the research from...',\n",
       " \"Camano Fire and Rescue crews rescued a man from Port Susan Bay when his inflatable canoe sank Sunday night. Residents on shore called 911 at about 9:45 p.m. after hearing the man's screams for help near the Cavalero boat launch and County Club neighborhood, Camano Fire spokeswoman Bronlea Mishler said.\",\n",
       " 'The cover is moveable between an open\\nposition and a closed position. Inflation of the inflatable envelope causes\\nthe cover to move from the closed position to the open position. A portion of\\nthe UAV may form the cover.\\n\\n\"The UAV may include an inflation inlet port in fluid communication with the\\ninflatable envelope.',\n",
       " 'NEWSBANK:link=https://www.goskagit.com/scnews/news/camano-fire-crews-rescue-man-after-inflatable-canoe-sinks-in-port-susan-bay/article_c22b929c-0d38-5ee5-b01f-ff25439de20d.html',\n",
       " 'AMX:Story Lead=WASHINGTON, June 5 -- WING INFLATABLES, Arcata, California, won a federal contract award for $250,000 from the Defense Logistics Agency, Columbus, Ohio, for sheathsets.Contract Award',\n",
       " 'At a time when there is so much bad news related to the COVID-19 pandemic here and around the world, it is good to hear from Bangko Sentral ng Pilipinas Governor Benjamin Diokno that inflation in the country is expected to be below the 2 percent level in the next two quarters of the year.  \"We expect inflation to be less than 2 percent in the third and fourth quarter of...',\n",
       " 'AMX:Story Lead=Seoul, June 4 -- Lee Kyung Ju has filed a patent application for 2 inflatable warning equipment for protecting 2nd additional traffic accident. The patent application number is KR20170064516 20170525.',\n",
       " 'It was reported by the Bangladesh Bureau of Statistics that the rate of inflation in the country fell by 0.61% in May, from 5.96% in April to 5.35%. Venezuela, Zimbabwe and Hungary- where, in July 1946, prices doubled every 15.3 hours- are some of the more noteworthy instances in recent history.',\n",
       " 'The general point to point inflation rate declined to 5.35 percentage point in May from 5.96 percentage point in the previous month mainly because of significant fall in prices of food commodities alongside the non-food items.']"
      ]
     },
     "execution_count": 181,
     "metadata": {},
     "output_type": "execute_result"
    }
   ],
   "source": [
    "# len(passage)\n",
    "passage"
   ]
  },
  {
   "cell_type": "code",
   "execution_count": 224,
   "metadata": {},
   "outputs": [],
   "source": [
    "h=HTM[0]\n",
    "p=passage[0]"
   ]
  },
  {
   "cell_type": "code",
   "execution_count": 225,
   "metadata": {},
   "outputs": [
    {
     "data": {
      "text/plain": [
       "'PENN STATE/ACY ALTERNATIVE INFLATION INDEX REVEALS DECLINE IN INFLATION RATE [U.S. Fed News]'"
      ]
     },
     "execution_count": 225,
     "metadata": {},
     "output_type": "execute_result"
    }
   ],
   "source": [
    "p"
   ]
  },
  {
   "cell_type": "code",
   "execution_count": 226,
   "metadata": {},
   "outputs": [
    {
     "data": {
      "text/html": [
       "\n",
       "<block>\n",
       "<p><location idsrc=\"xmltag.org\" value=\"LU/us.pa.uniark\">UNIVERSITY PARK, Pa.</location>, <chron>June 8</chron> -- <org idsrc=\"xmltag.org\" value=\"ACORN:2487365771\">Pennsylvania State University</org> issued the following news release:</p>\n",
       "<p>The <chron>June 2020</chron> release of the Penn State/ACY Inflation index suggests that <location idsrc=\"xmltag.org\" value=\"LC/us\">the United States</location> annual inflation rate continued to decelerate, dropping to 1.46% for <chron>April 2020</chron> from the March rate of 2.53%.</p>\n",
       "<p>The overall decline in inflation continues the trend observed last month of a general drop in energy and other prices. However, this month the Penn State/ACY Marginal Rent inflation rate also saw a decline to 6.06% for April, down from the March rate of 6.19%.</p>\n",
       "<p>The Penn State/ACY Core Personal Consumption Expenditure (PCE) Inflation Rate for April also declined from 2.19% to 1.56% and is now below the <org>Federal Reserve's</org> 2% target rate. In comparison, the <org>Bureau of Labor Statistics</org> (BLS) also reported that the April year-over-year change in the BLS Consumer Price Index declined to 0.38% and the <org>Bureau of Economic Analysis (BEA) Core PCE</org> inflation rate stood at 1.04%, both down considerably from the March rates.</p>\n",
       "<p>\"The COVID-19 pandemic continues to hammer the <location idsrc=\"xmltag.org\" value=\"LC/us\">U.S.</location> and global economies. The observed declines in inflation now reflect the effects of government-ordered shutdowns and social distancing measures that began in mid-March,\" said <person>Brent Ambrose</person>, Jason and Julie Borrelli Faculty Chair in Real Estate and director of the <org>Institute for Real Estate Studies</org> at Penn State.</p>\n",
       "<p>\"The downturn in the Penn State/ACY Marginal Rent series now reflects the declining multifamily transaction volume and anticipated falling rent collections in April. However, significant uncertainty continues to surround future rental rates as it is unclear how government policies designed to protect households from evictions and mortgage foreclosures will affect the ability of landlords to respond to market pressures.\" </p>\n",
       "<p>The Penn State/ACY Alternative Inflation Index is the result of collaboration among three researchers: Ambrose; <person>Jiro Yoshida</person>, associate professor of business at Smeal; and, <person>N. Edward Coulson</person>, professor of economics and director of the <org>Center for Real Estate</org> at the <org idsrc=\"xmltag.org\" value=\"ACORN:3605123327\">University of California Irvine's</org> <org>Paul Merage School of Business</org>.</p>\n",
       "<p>Based on Ambrose, Coulson, and Yoshida (2018), the rental inflation rate reported by the ACY Marginal Rent Index is much higher and more volatile than the BLS CPI Rent Index. With unemployment rising and economic activity stalling due to government mandated social distancing measures, significant uncertainty exists regarding future inflation. Additional uncertainty also comes as states begin to reopen economies. For any query with respect to this article or any other content requirement, please contact Editor at <a href=\"mailto:contentservices@htlive.com\">contentservices@htlive.com</a></p>\n",
       "</block>\n"
      ],
      "text/plain": [
       "<IPython.core.display.HTML object>"
      ]
     },
     "metadata": {},
     "output_type": "display_data"
    }
   ],
   "source": [
    "display(HTML(h))"
   ]
  },
  {
   "cell_type": "code",
   "execution_count": 222,
   "metadata": {},
   "outputs": [],
   "source": [
    "lists1 = p.split('. ')\n",
    "flag=0\n",
    "for j in range(len(lists1)):\n",
    "    lists2 = lists1[j].split()\n",
    "    for g in range(len(lists2)):\n",
    "        lists2[g] = re.sub('\\W+','', lists2[g])\n",
    "    for i in range(len(lists2)):\n",
    "        batRegex = re.compile(\"\\\\b\"+lists2[i]+\"\\\\b\")\n",
    "        places = [(m.start(0), m.end(0)) for m in re.finditer(batRegex, h)]\n",
    "        if len(places)==0:\n",
    "            batRegex = re.compile(\"\\\\b\"+lists2[i].lower()+\"\\\\b\")\n",
    "            places = [(m.start(0), m.end(0)) for m in re.finditer(batRegex, h)]\n",
    "        if (len(places)!=0):\n",
    "            if i == len(lists2)-1:\n",
    "                batRegex2 = re.compile(\"\\\\b\"+lists2[i]+\"\\\\b\")\n",
    "                places2 = [(m.start(0), m.end(0)) for m in re.finditer(batRegex2, h)]\n",
    "                if len(places2)!=0:\n",
    "                    for z in range(len(places2)):\n",
    "                        if (places2[z][0]-final_highlight>0 and places2[z][0]-final_highlight<50):\n",
    "                            part = h[places2[z][0]:places2[z][1]+1]\n",
    "#                             h = h.replace(part,\"<mark><b>\"+part+\"</b></mark>\".format(part),1)\n",
    "                            h = h[:places2[z][0]] + \"<mark><b>\"+part+\"</b></mark>\" + h[places2[z][1]+1:]\n",
    "                            break\n",
    "                \n",
    "                \n",
    "                \n",
    "            for k in lists2[i+1:]:\n",
    "                batRegex1 = re.compile(\"\\\\b\"+k+\"\\\\b\")\n",
    "                places1 = [(m.start(0), m.end(0)) for m in re.finditer(batRegex1, h)]\n",
    "                if len(places1)!=0:\n",
    "                    for x in range(len(places)):\n",
    "                        for y in range(len(places1)):\n",
    "                            if(places1[y][0]-places[x][1]<50 and places1[y][0]-places[x][1]>0):\n",
    "                                part = h[places[x][0]:places[x][1]+1]\n",
    "#                                 h = h.replace(part,\"<mark><b>\"+part+\"</b></mark>\".format(part),1)\n",
    "                                h = h[:places[x][0]] + \"<mark><b>\"+part+\"</b></mark>\" + h[places[x][1]+1:]\n",
    "                                if i == len(lists2)-2:\n",
    "                                    final_highlight = places[x][1]\n",
    "                                flag=1\n",
    "                                break\n",
    "                        if flag==1:\n",
    "                            break\n",
    "                if flag==1:\n",
    "                    break\n",
    "        flag=0\n",
    "                \n",
    "                            \n",
    "                        \n",
    "                        "
   ]
  },
  {
   "cell_type": "code",
   "execution_count": 223,
   "metadata": {},
   "outputs": [
    {
     "data": {
      "text/html": [
       "\n",
       "<p> The general point to point <mark><b>inflation </b></mark>rate declined <mark><b>to </b></mark>5.35 percentage point <mark><b>in </b></mark><mark><b>May </b></mark>from 5.96 percentage point in the previous month mainly because of significant fall in prices of food commodities alongside the non-food items.</p>\n",
       "<p>The monthly consumer price index (CPI) was released by the <org>Bangladesh Bureau of Statistics</org> (BBS) on Tuesday after the meeting of the ECNEC. Planning Minister MA Mannan briefed reporters about the outcome of the meeting and also about the inflation. He said that the inflation witnessed a downtrend during the general holidays since the supply chain was good as directed by the Prime Minister. \"The production of rice, vegetables and other agricultural produces was good,\" Mannan said adding that the goods transportation system was normal although the general holidays were in force due to the COVID-19.</p>\n",
       "<p>Answering to a question, BBS Director General <person>Tajul Islam</person> said the inflation trend was a bit high in April, but it came down later following improvement in the supply chain and normalcy in goods transportation.</p>\n",
       "<p>The BBS data showed that food inflation declined to 5.09 percentage point in May down from 5.91 percentage point in the previous month in April, while the non-food inflation rate came down to 5.75 percentage point last month from 6.04 percent in April.</p>\n",
       "<p>The prices of rice, pulses, egg, vegetables, spices including onion, ginger, garlic declined in May comparing to the previous month, said the BBS data. In the rural areas, the general point to inflation rate declined to 5.65 percentage point in May down from 6.08 percentage point in April. In the urban areas, the general point to point inflation rate also declined to 4.81 percentage point in May down from 5.73 percentage point in April.</p>\n"
      ],
      "text/plain": [
       "<IPython.core.display.HTML object>"
      ]
     },
     "metadata": {},
     "output_type": "display_data"
    }
   ],
   "source": [
    "display(HTML(h))"
   ]
  },
  {
   "cell_type": "code",
   "execution_count": 43,
   "metadata": {},
   "outputs": [
    {
     "name": "stdout",
     "output_type": "stream",
     "text": [
      "53\n",
      "done\n"
     ]
    }
   ],
   "source": [
    "lists1 = p.split('. ')\n",
    "for j in range(len(lists1)):\n",
    "    lists2 = lists1[j].split()\n",
    "    for i in range(len(lists2)):\n",
    "        if(len(lists2[i])>4):\n",
    "            a = h.find(lists2[i])\n",
    "            if(a==-1):\n",
    "                a = h.find(lists2[i].lower())\n",
    "            if(a!=-1):\n",
    "                part = h[a:a+len(lists2[i])]\n",
    "                for k in lists2 :                    \n",
    "                    if ((abs(h.find(k)-a)<50) and (k!=lists2[i])):\n",
    "                        h = h.replace(part,\"<mark><b>\"+part+\"</b></mark>\".format(part))\n",
    "                        print(\"done\")\n",
    "                        break"
   ]
  },
  {
   "cell_type": "code",
   "execution_count": null,
   "metadata": {},
   "outputs": [],
   "source": [
    "batRegex = re.compile(\"\\\\binflation\\\\b\")\n",
    "# lists = re.search(batRegex,h)\n",
    "# indicesTuple=[(mObj.start(1),mObj.end(1)-1) for mObj in re.finditer(batRegex,h)]\n",
    "listsss= re.finditer(batRegex, h)\n",
    "places = [(m.start(0), m.end(0)) for m in re.finditer(batRegex, h)]\n",
    "places"
   ]
  },
  {
   "cell_type": "code",
   "execution_count": 107,
   "metadata": {},
   "outputs": [
    {
     "data": {
      "text/html": [
       "\n",
       "<p>By <person>Chino Leyco</person></p>\n",
       "\n",
       "<p>Headline <mark><b>inflation </b></mark>further slid last month as the coronavirus\n",
       "pandemic continued <mark><b>to </b></mark>drag down consumer demand.</p>\n",
       "\n",
       "<p>The rate of increase in consumer prices, or inflation, clocked in\n",
       "at 2.1 percent in April, slightly lower compared with 2.2 percent in the\n",
       "previous month.</p>\n",
       "\n",
       "<p>\"Slowdown in the headline inflation in May, 2020, was mainly\n",
       "driven by the 5.6 percent annual drop in the transport index,\" the\n",
       "PSA said.</p>\n",
       "\n",
       "<p>The downtrend in the inflation rate was also due to slower price\n",
       "increases recorded in the food and non-aloholic beverages (2.9 percent),\n",
       "clothing and footwear (2.4 percent), furnishing, household equipment and\n",
       "routine maintenance of the house (4.1 percent), and recreation and\n",
       "culture (1.4 percent).</p>\n",
       "\n",
       "<p>The April inflation rate brought the country's first\n",
       "five-month average to 2.5 percent, well within the government's\n",
       "target of 2.0 percent to 4.0 percent.</p>\n",
       "\n",
       "<p>CAPTION(S):</p>\n",
       "\n",
       "<p>(Czar Dancel / <location idsrc=\"xmltag.org\" value=\"LU/ph..manila\">MANILA</location> BULLETIN FILE PHOTO)</p>\n"
      ],
      "text/plain": [
       "<IPython.core.display.HTML object>"
      ]
     },
     "metadata": {},
     "output_type": "display_data"
    }
   ],
   "source": [
    "display(HTML(h))"
   ]
  },
  {
   "cell_type": "code",
   "execution_count": 412,
   "metadata": {},
   "outputs": [],
   "source": [
    "for i in range(len(lists1)):\n",
    "    \n",
    "    lists2 = lists1[i].split()\n",
    "\n",
    "    for j in range(len(lists2)):\n",
    "        lists2[j] = re.sub('\\W+','', lists2[j])\n",
    "    \n",
    "#     first = lists2[0]\n",
    "#     last = lists2[-1]\n",
    "#     if(len(last)<3):\n",
    "#         if(len(lists2)>1):\n",
    "#             last=lists2[-2]\n",
    "    first = lists2[0]\n",
    "    last = lists2[-1]\n",
    "\n",
    "    z = len(lists2)\n",
    "    i=1\n",
    "    while(z>0):\n",
    "        last=lists2[-i]\n",
    "        if(len(last)<3):\n",
    "            i+=1\n",
    "            z-=1\n",
    "        else:\n",
    "            break\n",
    "    \n",
    "    a = h1.find(first)\n",
    "    b = h1.find(last)\n",
    "    part1 = h1[a:b+len(last)]\n",
    "    part2 = part1.split(\"\\n\")\n",
    "    s=\"\\n\"\n",
    "\n",
    "    for i in range(len(part2)):  \n",
    "\n",
    "        if first and last in part2[i]:\n",
    "\n",
    "            part2[i] = part2[i].replace(first, \"<mark><b>\"+ first +\"</mark></b>\".format(i))\n",
    "            part2[i] = part2[i].replace(last, \"<mark><b>\"+ last +\"</mark></b>\".format(i))\n",
    "\n",
    "    part1=s.join(part2)\n",
    "    h1 = h1.replace(h1[a:b+len(last)],part1)\n",
    "    batRegex = re.compile(r'(.</b>(.+?)<mark><b>)')  #(.+?)\n",
    "    l = re.findall(batRegex,h1)\n",
    "    for g in range(len(l)):\n",
    "        l[g] = list(l[g])\n",
    "    for g in range(len(l)):\n",
    "        if(len(l[g][1])>1):\n",
    "            h1 = h1.replace(l[g][0],\"></b><mark><b>\"+ l[g][1] +\"</mark></b><mark><b>\")\n"
   ]
  },
  {
   "cell_type": "code",
   "execution_count": 413,
   "metadata": {},
   "outputs": [
    {
     "data": {
      "text/html": [
       "\n",
       "<p> Data showed that food inflation declined to 5.09 percentage point in May down from 5.91 percentage point in April</p>\n",
       "<p>The general point to point inflation rate declined to 5.35 percentage point in May from 5.96 percentage point in the previous month mainly because of significant fall in prices of food commodities alongside the non-food items.</p>\n",
       "<p>The monthly consumer price index (CPI) was released by the <org>Bangladesh Bureau of Statistics</org> (BBS) today after the meeting of the Ecnec, reports BSS.</p>\n",
       "<p>Planning Minister MA Mannan briefed reporters about the outcome of the meeting and also about the inflation.</p>\n",
       "<p>He said that the inflation witnessed a downtrend during the general holidays since the supply chain was good as directed by the Prime Minister.</p>\n",
       "<p>'The production of rice, vegetables and other agricultural produces was good,' Mannan said adding that the goods transportation system was normal although the general holidays were in force due to the Covid-19.</p>\n",
       "<p>Answering to a question, BBS Director General <person>Tajul Islam</person> said the inflation trend was a bit high in April, but it came down later following improvement in the supply chain and normalcy in goods transportation.</p>\n",
       "<p>The BBS data showed that food inflation declined to 5.09 percentage point in May down from 5.91 percentage point in the previous month in April, while the non-food inflation rate came down to 5.75 percentage point last month from 6.04% in April.</p>\n",
       "<p>The prices of rice, pulses, egg, vegetables, spices including onion, ginger, garlic declined in May comparing to the previous month, said the BBS data.</p>\n",
       "<p>In the rural areas, the general point to inflation rate declined to 5.65 percentage point in May down from 6.08 percentage point in April.</p>\n",
       "<p>In the urban areas, the general point to point inflation rate also declined to 4.81 percentage point in May down from 5.73 percentage point in April.</p>\n"
      ],
      "text/plain": [
       "<IPython.core.display.HTML object>"
      ]
     },
     "metadata": {},
     "output_type": "display_data"
    }
   ],
   "source": [
    "display(HTML(h1))"
   ]
  },
  {
   "cell_type": "code",
   "execution_count": 397,
   "metadata": {},
   "outputs": [
    {
     "name": "stdout",
     "output_type": "stream",
     "text": [
      "While it\n"
     ]
    }
   ],
   "source": [
    "first = lists2[0]\n",
    "last = lists2[-1]\n",
    "\n",
    "z = len(lists2)\n",
    "i=1\n",
    "while(z>0):\n",
    "    last=lists2[-i]\n",
    "    if(len(last)<3):\n",
    "        i+=1\n",
    "        z-=1\n",
    "    else:\n",
    "        break\n",
    "\n",
    "print(first,last)"
   ]
  },
  {
   "cell_type": "code",
   "execution_count": 357,
   "metadata": {},
   "outputs": [],
   "source": [
    "stri = \"hello Hello\""
   ]
  },
  {
   "cell_type": "code",
   "execution_count": 359,
   "metadata": {},
   "outputs": [
    {
     "data": {
      "text/plain": [
       "6"
      ]
     },
     "execution_count": 359,
     "metadata": {},
     "output_type": "execute_result"
    }
   ],
   "source": [
    "stri.find(\"Hello\")"
   ]
  },
  {
   "cell_type": "code",
   "execution_count": 356,
   "metadata": {},
   "outputs": [
    {
     "name": "stdout",
     "output_type": "stream",
     "text": [
      "730 376\n"
     ]
    }
   ],
   "source": [
    "a = h1.find(first)\n",
    "b = h1.find(last) #[^a-z]\n"
   ]
  },
  {
   "cell_type": "code",
   "execution_count": 362,
   "metadata": {},
   "outputs": [
    {
     "data": {
      "text/plain": [
       "'itor has generated erron'"
      ]
     },
     "execution_count": 362,
     "metadata": {},
     "output_type": "execute_result"
    }
   ],
   "source": [
    "h1[376:400]"
   ]
  },
  {
   "cell_type": "code",
   "execution_count": null,
   "metadata": {},
   "outputs": [],
   "source": [
    "a = h1.find(first)\n",
    "b = h1.find(last)\n",
    "\n",
    "part1 = h1[a:b+len(last)]\n",
    "part2 = part1.split(\"\\n\")\n",
    "s=\"\\n\"\n",
    "\n",
    "for i in range(len(part2)):  \n",
    "\n",
    "    if first and last in part2[i]:\n",
    "\n",
    "        part2[i] = part2[i].replace(first, \"<mark><b>\"+ first +\"</mark></b>\".format(i))\n",
    "        part2[i] = part2[i].replace(last, \"<mark><b>\"+ last +\"</mark></b>\".format(i))\n",
    "\n",
    "part1=s.join(part2)\n",
    "h1 = h1.replace(h1[a:b+len(last)],part1)\n",
    "batRegex = re.compile(r'(.</b>(.+?)<mark><b>)')  #(.+?)\n",
    "l = re.findall(batRegex,h1)\n",
    "for g in range(len(l)):\n",
    "    l[g] = list(l[g])\n",
    "for g in range(len(l)):\n",
    "    if(len(l[g][1])>1):\n",
    "        h1 = h1.replace(l[g][0],\"></b><mark><b>\"+ l[g][1] +\"</mark></b><mark><b>\")"
   ]
  },
  {
   "cell_type": "code",
   "execution_count": 352,
   "metadata": {},
   "outputs": [
    {
     "data": {
      "text/html": [
       "\n",
       "<p> The <org idsrc=\"xmltag.org\" value=\"ACORN:0966177357\">State Bank of Pakistan</org> (SBP) said that <location idsrc=\"xmltag.org\" value=\"LC/pk\">Pakistan's</location> inflation for the year 2020 was not the highest in the world, in a series of tweets on Sunday.</p>\n",
       "<p><mark><b>The</mark></b><mark><b><mark><b></mark></b><mark><b> SBP tweeted: 'A chart from our Inflation Monitor has generated erroneous </mark></b><mark><b></mark></b></mark></b><mark><b>headlines</mark></b><mark><b><mark><b>. </mark></b></mark></b><mark><b>It</mark></b><mark><b><mark><b> compares <location idsrc=\"xmltag.org\" value=\"LC/pk\">Pakistan's</location> inflation to a few developed and developing </mark></b></mark></b><mark><b>countries</mark></b>. While <location idsrc=\"xmltag.org\" value=\"LC/pk\">Pakistan</location> did have a relatively elevated inflation rate so far in FY20, it is not true that it was the highest in the world.'</p>\n",
       "<p>'For instance, <location idsrc=\"xmltag.org\" value=\"LC/ar\">Argentina</location>, <location idsrc=\"xmltag.org\" value=\"LC/ir\">Iran</location>, <location idsrc=\"xmltag.org\" value=\"LC/ng\">Nigeria</location> and <location idsrc=\"xmltag.org\" value=\"LC/tr\">Turkey's</location> inflation has been higher. Since January, inflation in <location idsrc=\"xmltag.org\" value=\"LC/pk\">Pakistan</location> has fallen sharply and much faster than in most other emerging markets,' the SBP added.</p>\n",
       "<p>The clarifying tweets were in reference to the SBP's own Inflation Monitor for April report, which the central bank had released towards the end of May.</p>\n",
       "<p>On page 19 of the report, in a section titled '10. Inflation in Global Context', the authors of the report had stated: 'In global context, <location idsrc=\"xmltag.org\" value=\"LC/pk\">Pakistan</location> witnessed the highest inflation not only in comparison with the developed economies but also with emerging economies.'</p>\n",
       "<p>The text accompanied a chat which compared <location idsrc=\"xmltag.org\" value=\"LC/pk\">Pakistan's</location> inflation with a group of emerging and developing countries.</p>\n",
       "<p>The text and chart together had then led to a series of headlines by different media outlets, stating that <location idsrc=\"xmltag.org\" value=\"LC/pk\">Pakistan</location> had the highest inflation rate in the world, which is what prompted the SBP to tweet the clarification.</p>\n",
       "<p><location idsrc=\"xmltag.org\" value=\"LC/pk\">Pakistan's</location> Consumer Price Inflation (CPI) in January was recorded at 14.56pc, which was the highest it has been in more than a decade. However, the index started falling from February, when it had eased to 12.4pc. It further fell to 10.24pc in March, 8.5pc in April, and then to 8.2pc in May.</p>\n",
       "<p>According to Profit's own analysis, there are approximately 27 other countries that have a higher inflation rate than <location idsrc=\"xmltag.org\" value=\"LC/pk\">Pakistan</location>.</p>\n",
       "<p>Currently, the highest inflation in the world is in <location idsrc=\"xmltag.org\" value=\"LC/ve\">Venezuela</location> with 2431pc in <chron>March 2020</chron>.</p>\n",
       "<p>The average inflation rate around the world is 21.25pc. However, this figure includes not only <location idsrc=\"xmltag.org\" value=\"LC/ve\">Venezuela's</location> inflation rate, but also <location idsrc=\"xmltag.org\" value=\"LC/zw\">Zimbabwe's</location> high inflation rate, at 766pc in <chron>April 2020</chron>. If these two outliers are removed, the average global rate falls to 4.01pc.</p>\n"
      ],
      "text/plain": [
       "<IPython.core.display.HTML object>"
      ]
     },
     "metadata": {},
     "output_type": "display_data"
    }
   ],
   "source": [
    "display(HTML(h1))"
   ]
  },
  {
   "cell_type": "code",
   "execution_count": 300,
   "metadata": {},
   "outputs": [
    {
     "name": "stdout",
     "output_type": "stream",
     "text": [
      "('\\n'\n",
      " '<p> The <org idsrc=\"xmltag.org\" value=\"ACORN:0966177357\">State Bank of '\n",
      " 'Pakistan</org> (SBP) said that <location idsrc=\"xmltag.org\" '\n",
      " 'value=\"LC/pk\">Pakistan\\'s</location> inflation for the year 2020 was not the '\n",
      " 'highest in the world, in a series of tweets on Sunday.</p>\\n'\n",
      " \"<p><mark><b>The</mark></b><mark><b> SBP tweeted: 'A chart from our Inflation \"\n",
      " 'Monitor has generated erroneous </mark></b><mark><b>headlines</mark></b>. It '\n",
      " 'compares <location idsrc=\"xmltag.org\" value=\"LC/pk\">Pakistan\\'s</location> '\n",
      " 'inflation to a few developed and developing countries. While <location '\n",
      " 'idsrc=\"xmltag.org\" value=\"LC/pk\">Pakistan</location> did have a relatively '\n",
      " 'elevated inflation rate so far in FY20, it is not true that it was the '\n",
      " \"highest in the world.'</p>\\n\"\n",
      " '<p>\\'For instance, <location idsrc=\"xmltag.org\" '\n",
      " 'value=\"LC/ar\">Argentina</location>, <location idsrc=\"xmltag.org\" '\n",
      " 'value=\"LC/ir\">Iran</location>, <location idsrc=\"xmltag.org\" '\n",
      " 'value=\"LC/ng\">Nigeria</location> and <location idsrc=\"xmltag.org\" '\n",
      " 'value=\"LC/tr\">Turkey\\'s</location> inflation has been higher. Since January, '\n",
      " 'inflation in <location idsrc=\"xmltag.org\" value=\"LC/pk\">Pakistan</location> '\n",
      " \"has fallen sharply and much faster than in most other emerging markets,' the \"\n",
      " 'SBP added.</p>\\n'\n",
      " \"<p>The clarifying tweets were in reference to the SBP's own Inflation \"\n",
      " 'Monitor for April report, which the central bank had released towards the '\n",
      " 'end of May.</p>\\n'\n",
      " \"<p>On page 19 of the report, in a section titled '10. Inflation in Global \"\n",
      " \"Context', the authors of the report had stated: 'In global context, \"\n",
      " '<location idsrc=\"xmltag.org\" value=\"LC/pk\">Pakistan</location> witnessed the '\n",
      " 'highest inflation not only in comparison with the developed economies but '\n",
      " \"also with emerging economies.'</p>\\n\"\n",
      " '<p>The text accompanied a chat which compared <location idsrc=\"xmltag.org\" '\n",
      " 'value=\"LC/pk\">Pakistan\\'s</location> inflation with a group of emerging and '\n",
      " 'developing countries.</p>\\n'\n",
      " '<p>The text and chart together had then led to a series of headlines by '\n",
      " 'different media outlets, stating that <location idsrc=\"xmltag.org\" '\n",
      " 'value=\"LC/pk\">Pakistan</location> had the highest inflation rate in the '\n",
      " 'world, which is what prompted the SBP to tweet the clarification.</p>\\n'\n",
      " '<p><location idsrc=\"xmltag.org\" value=\"LC/pk\">Pakistan\\'s</location> '\n",
      " 'Consumer Price Inflation (CPI) in January was recorded at 14.56pc, which was '\n",
      " 'the highest it has been in more than a decade. However, the index started '\n",
      " 'falling from February, when it had eased to 12.4pc. It further fell to '\n",
      " '10.24pc in March, 8.5pc in April, and then to 8.2pc in May.</p>\\n'\n",
      " \"<p>According to Profit's own analysis, there are approximately 27 other \"\n",
      " 'countries that have a higher inflation rate than <location '\n",
      " 'idsrc=\"xmltag.org\" value=\"LC/pk\">Pakistan</location>.</p>\\n'\n",
      " '<p>Currently, the highest inflation in the world is in <location '\n",
      " 'idsrc=\"xmltag.org\" value=\"LC/ve\">Venezuela</location> with 2431pc in '\n",
      " '<chron>March 2020</chron>.</p>\\n'\n",
      " '<p>The average inflation rate around the world is 21.25pc. However, this '\n",
      " 'figure includes not only <location idsrc=\"xmltag.org\" '\n",
      " 'value=\"LC/ve\">Venezuela\\'s</location> inflation rate, but also <location '\n",
      " 'idsrc=\"xmltag.org\" value=\"LC/zw\">Zimbabwe\\'s</location> high inflation rate, '\n",
      " 'at 766pc in <chron>April 2020</chron>. If these two outliers are removed, '\n",
      " 'the average global rate falls to 4.01pc.</p>\\n')\n"
     ]
    }
   ],
   "source": [
    "pprint(h1)"
   ]
  },
  {
   "cell_type": "code",
   "execution_count": 136,
   "metadata": {},
   "outputs": [],
   "source": [
    "def finding_fragment(passage,html,empty=0):\n",
    "    str_=\" \"\n",
    "    i=0\n",
    "    a=passage.split()[empty:]\n",
    "    frag=a[0]\n",
    "    while (frag in html):\n",
    "        i+=1\n",
    "        frag=frag+\" \"+a[i]\n",
    "    str_=str_.join(frag.split()[:-1])\n",
    "    if len(str_)!=0:\n",
    "        html=html.replace(str_,\"<mark><b>\"+ str_ +\"</mark></b>\",1)\n",
    "    passage=passage.replace(str_,\"\")\n",
    "    return (passage,str_,html)"
   ]
  },
  {
   "cell_type": "code",
   "execution_count": 137,
   "metadata": {},
   "outputs": [],
   "source": [
    "empty=0"
   ]
  },
  {
   "cell_type": "code",
   "execution_count": 138,
   "metadata": {},
   "outputs": [],
   "source": [
    "while(len(p.split())>empty):\n",
    "    p,s,h=finding_fragment(p,h,empty=empty)\n",
    "    if len(s)==0:\n",
    "        empty+=1"
   ]
  },
  {
   "cell_type": "code",
   "execution_count": 139,
   "metadata": {},
   "outputs": [
    {
     "data": {
      "text/html": [
       "\n",
       "<p> The <org idsrc=\"xmltag.org\" value=\"ACORN:0966177357\">State Bank of <mark><b>Pakistan</mark></b></org> (SBP) said that <location idsrc=\"xmltag.org\" value=\"LC/pk\"><mark><b>Pakistan's</mark></b></location> inflation for the year 2020 was not the highest in the world, in a series of tweets on Sunday.</p>\n",
       "<p><mark><b>The SBP tweeted: 'A chart from our Inflation Monitor has generated erroneous headlines. It compares</mark></b> <location idsrc=\"xmltag.org\" value=\"LC/pk\">Pakistan's</location> <mark><b>inflation to a few developed and developing countries. While</mark></b> <location idsrc=\"xmltag.org\" value=\"LC/pk\">Pakistan</location> <mark><b>did have a relatively elevated inflation rate so far in FY20, it</mark></b> is not true that it was the highest in the world.'</p>\n",
       "<p>'For instance, <location idsrc=\"xmltag.org\" value=\"LC/ar\">Argentina</location>, <location idsrc=\"xmltag.org\" value=\"LC/ir\">Iran</location>, <location idsrc=\"xmltag.org\" value=\"LC/ng\">Nigeria</location> and <location idsrc=\"xmltag.org\" value=\"LC/tr\">Turkey's</location> inflation has been higher. Since January, inflation in <location idsrc=\"xmltag.org\" value=\"LC/pk\">Pakistan</location> has fallen sharply and much faster than in most other emerging markets,' the SBP added.</p>\n",
       "<p>The clarifying tweets were in reference to the SBP's own Inflation Monitor for April report, which the central bank had released towards the end of May.</p>\n",
       "<p>On page 19 of the report, in a section titled '10. Inflation in Global Context', the authors of the report had stated: 'In global context, <location idsrc=\"xmltag.org\" value=\"LC/pk\">Pakistan</location> witnessed the highest inflation not only in comparison with the developed economies but also with emerging economies.'</p>\n",
       "<p>The text accompanied a chat which compared <location idsrc=\"xmltag.org\" value=\"LC/pk\">Pakistan's</location> inflation with a group of emerging and developing countries.</p>\n",
       "<p>The text and chart together had then led to a series of headlines by different media outlets, stating that <location idsrc=\"xmltag.org\" value=\"LC/pk\">Pakistan</location> had the highest inflation rate in the world, which is what prompted the SBP to tweet the clarification.</p>\n",
       "<p><location idsrc=\"xmltag.org\" value=\"LC/pk\">Pakistan's</location> Consumer Price Inflation (CPI) in January was recorded at 14.56pc, which was the highest it has been in more than a decade. However, the index started falling from February, when it had eased to 12.4pc. It further fell to 10.24pc in March, 8.5pc in April, and then to 8.2pc in May.</p>\n",
       "<p>According to Profit's own analysis, there are approximately 27 other countries that have a higher inflation rate than <location idsrc=\"xmltag.org\" value=\"LC/pk\">Pakistan</location>.</p>\n",
       "<p>Currently, the highest inflation in the world is in <location idsrc=\"xmltag.org\" value=\"LC/ve\">Venezuela</location> with 2431pc in <chron>March 2020</chron>.</p>\n",
       "<p>The average inflation rate around the world is 21.25pc. However, this figure includes not only <location idsrc=\"xmltag.org\" value=\"LC/ve\">Venezuela's</location> inflation rate, but also <location idsrc=\"xmltag.org\" value=\"LC/zw\">Zimbabwe's</location> high inflation rate, at 766pc in <chron>April 2020</chron>. If these two outliers are removed, the average global rate falls to 4.01pc.</p>\n"
      ],
      "text/plain": [
       "<IPython.core.display.HTML object>"
      ]
     },
     "metadata": {},
     "output_type": "display_data"
    }
   ],
   "source": [
    "display(HTML(h))"
   ]
  },
  {
   "cell_type": "markdown",
   "metadata": {},
   "source": [
    "# With html2text"
   ]
  },
  {
   "cell_type": "code",
   "execution_count": 1,
   "metadata": {},
   "outputs": [],
   "source": [
    "import html2text"
   ]
  },
  {
   "cell_type": "code",
   "execution_count": 91,
   "metadata": {},
   "outputs": [],
   "source": [
    "h = html2text.HTML2Text()\n",
    "h.ignore_links = True\n",
    "h = h.handle(source)\n"
   ]
  },
  {
   "cell_type": "code",
   "execution_count": 92,
   "metadata": {
    "collapsed": true
   },
   "outputs": [
    {
     "data": {
      "text/plain": [
       "\"Sidney Irwin is salutatorian of Abilene High School.\\n\\n'If it's the last dance, dance backwards.'\\n\\nWhen I first heard this quote, it sounded to me like one of those vague little\\nsayings people write to sound poetic. But when I really thought about it, what\\nit's trying to tell you, it's kind of beautifully true.\\n\\nIn the 13 years that we have been going to school, we have gone through a lot\\nof changes in our lives. We've made friends, lost friends, moved schools,\\njoined clubs, aced projects and failed papers and learned more about ourselves\\nalong the way.\\n\\nWe've felt joy and terror, sadness and hope, we've learned to love and learned\\nto lose and sometimes lost ourselves in the in between.\\n\\nWe've grown up.\\n\\nAnd every time we have these changes, the big ones or the small ones, we look\\naround at all our friends and our first thoughts are not of the future, of\\nwhat's up ahead, because we don't know what's coming.\\n\\nWe can't predict what's going to happen next. I mean, look at right now. Who\\ncould have known we'd be having an online graduation in the middle of a\\nworldwide pandemic?\\n\\nThe future cannot be predicted, so our first thoughts aren't of the future.\\nOur first thoughts when we look around are to look at where we've been. Look\\nat what we've come from. To remember all the things that make you who you are.\\n\\nOur memories are what give things meaning. They are what makes a friend\\ndifferent from a stranger. It's how each person is unique. Nobody experiences\\nthe world like you do, nobody has done exactly what you've done. Our futures\\nare direct reflections of our pasts. In order to change, you have to have\\nsomething to change from.\\n\\nSo as much as we'd sometimes like, we cannot ignore our pasts, we cannot\\nforget all the things that have made us who we are today. It's the very reason\\nwhy we have history classes, why there are thousands of people across the\\nglobe who spend their whole lives learning about what came before.\\n\\nBecause our history is who we are, it's what makes us distinct. History is\\npart of what makes us human.\\n\\nSo while we're celebrating, while we enjoy the last dances of our high school\\nexperience, let's dance backward for just a little bit and remember everything\\nthat makes us the Class of 2020.\\n\\n\""
      ]
     },
     "execution_count": 92,
     "metadata": {},
     "output_type": "execute_result"
    }
   ],
   "source": [
    "h"
   ]
  },
  {
   "cell_type": "code",
   "execution_count": 93,
   "metadata": {},
   "outputs": [],
   "source": [
    "h = h.replace('\\n\\n',' ')\n"
   ]
  },
  {
   "cell_type": "code",
   "execution_count": 94,
   "metadata": {},
   "outputs": [
    {
     "data": {
      "text/plain": [
       "\"Sidney Irwin is salutatorian of Abilene High School. 'If it's the last dance, dance backwards.' When I first heard this quote, it sounded to me like one of those vague little\\nsayings people write to sound poetic. But when I really thought about it, what\\nit's trying to tell you, it's kind of beautifully true. In the 13 years that we have been going to school, we have gone through a lot\\nof changes in our lives. We've made friends, lost friends, moved schools,\\njoined clubs, aced projects and failed papers and learned more about ourselves\\nalong the way. We've felt joy and terror, sadness and hope, we've learned to love and learned\\nto lose and sometimes lost ourselves in the in between. We've grown up. And every time we have these changes, the big ones or the small ones, we look\\naround at all our friends and our first thoughts are not of the future, of\\nwhat's up ahead, because we don't know what's coming. We can't predict what's going to happen next. I mean, look at right now. Who\\ncould have known we'd be having an online graduation in the middle of a\\nworldwide pandemic? The future cannot be predicted, so our first thoughts aren't of the future.\\nOur first thoughts when we look around are to look at where we've been. Look\\nat what we've come from. To remember all the things that make you who you are. Our memories are what give things meaning. They are what makes a friend\\ndifferent from a stranger. It's how each person is unique. Nobody experiences\\nthe world like you do, nobody has done exactly what you've done. Our futures\\nare direct reflections of our pasts. In order to change, you have to have\\nsomething to change from. So as much as we'd sometimes like, we cannot ignore our pasts, we cannot\\nforget all the things that have made us who we are today. It's the very reason\\nwhy we have history classes, why there are thousands of people across the\\nglobe who spend their whole lives learning about what came before. Because our history is who we are, it's what makes us distinct. History is\\npart of what makes us human. So while we're celebrating, while we enjoy the last dances of our high school\\nexperience, let's dance backward for just a little bit and remember everything\\nthat makes us the Class of 2020. \""
      ]
     },
     "execution_count": 94,
     "metadata": {},
     "output_type": "execute_result"
    }
   ],
   "source": [
    "h"
   ]
  },
  {
   "cell_type": "code",
   "execution_count": 95,
   "metadata": {},
   "outputs": [
    {
     "data": {
      "text/plain": [
       "\"Sidney Irwin is salutatorian of Abilene High School. 'If it's the last dance, dance backwards.' When I first heard this quote, it sounded to me like one of those vague little sayings people write to sound poetic. But when I really thought about it, what it's trying to tell you, it's kind of beautifully true. In the 13 years that we have been going to school, we have gone through a lot of changes in our lives. We've made friends, lost friends, moved schools, joined clubs, aced projects and failed papers and learned more about ourselves along the way. We've felt joy and terror, sadness and hope, we've learned to love and learned to lose and sometimes lost ourselves in the in between. We've grown up. And every time we have these changes, the big ones or the small ones, we look around at all our friends and our first thoughts are not of the future, of what's up ahead, because we don't know what's coming. We can't predict what's going to happen next. I mean, look at right now. Who could have known we'd be having an online graduation in the middle of a worldwide pandemic? The future cannot be predicted, so our first thoughts aren't of the future. Our first thoughts when we look around are to look at where we've been. Look at what we've come from. To remember all the things that make you who you are. Our memories are what give things meaning. They are what makes a friend different from a stranger. It's how each person is unique. Nobody experiences the world like you do, nobody has done exactly what you've done. Our futures are direct reflections of our pasts. In order to change, you have to have something to change from. So as much as we'd sometimes like, we cannot ignore our pasts, we cannot forget all the things that have made us who we are today. It's the very reason why we have history classes, why there are thousands of people across the globe who spend their whole lives learning about what came before. Because our history is who we are, it's what makes us distinct. History is part of what makes us human. So while we're celebrating, while we enjoy the last dances of our high school experience, let's dance backward for just a little bit and remember everything that makes us the Class of 2020. \""
      ]
     },
     "execution_count": 95,
     "metadata": {},
     "output_type": "execute_result"
    }
   ],
   "source": [
    "h = h.replace('\\n',' ')\n",
    "h"
   ]
  },
  {
   "cell_type": "code",
   "execution_count": 96,
   "metadata": {},
   "outputs": [],
   "source": [
    "source = h"
   ]
  },
  {
   "cell_type": "code",
   "execution_count": 97,
   "metadata": {},
   "outputs": [
    {
     "data": {
      "text/plain": [
       "\"Sidney Irwin is salutatorian of Abilene High School. 'If it's the last dance, dance backwards.'. When I first heard this quote, it sounded to me like one of those vague little sayings people write to sound poetic.\""
      ]
     },
     "execution_count": 97,
     "metadata": {},
     "output_type": "execute_result"
    }
   ],
   "source": [
    "ps_text"
   ]
  },
  {
   "cell_type": "code",
   "execution_count": 69,
   "metadata": {},
   "outputs": [],
   "source": [
    "lists = ps_text.split(\" \")"
   ]
  },
  {
   "cell_type": "code",
   "execution_count": 52,
   "metadata": {},
   "outputs": [
    {
     "data": {
      "text/plain": [
       "['Sidney',\n",
       " 'Irwin',\n",
       " 'is',\n",
       " 'salutatorian',\n",
       " 'of',\n",
       " 'Abilene',\n",
       " 'High',\n",
       " 'School.',\n",
       " \"'If\",\n",
       " \"it's\",\n",
       " 'the',\n",
       " 'last',\n",
       " 'dance,',\n",
       " 'dance',\n",
       " \"backwards.'.\",\n",
       " 'When',\n",
       " 'I',\n",
       " 'first',\n",
       " 'heard',\n",
       " 'this',\n",
       " 'quote,',\n",
       " 'it',\n",
       " 'sounded',\n",
       " 'to',\n",
       " 'me',\n",
       " 'like',\n",
       " 'one',\n",
       " 'of',\n",
       " 'those',\n",
       " 'vague',\n",
       " 'little',\n",
       " 'sayings',\n",
       " 'people',\n",
       " 'write',\n",
       " 'to',\n",
       " 'sound',\n",
       " 'poetic.']"
      ]
     },
     "execution_count": 52,
     "metadata": {},
     "output_type": "execute_result"
    }
   ],
   "source": [
    "lists"
   ]
  },
  {
   "cell_type": "code",
   "execution_count": 53,
   "metadata": {},
   "outputs": [],
   "source": [
    "first = lists[0]\n",
    "last = lists[-1]"
   ]
  },
  {
   "cell_type": "code",
   "execution_count": 44,
   "metadata": {},
   "outputs": [],
   "source": [
    "import os"
   ]
  },
  {
   "cell_type": "code",
   "execution_count": null,
   "metadata": {},
   "outputs": [],
   "source": [
    "# 0 black\n",
    "# 1 red\n",
    "# 2 green\n",
    "# 3 yellow\n",
    "# 4 blue\n",
    "# 5 magenta\n",
    "# 6 cyan\n",
    "# 7 white\n",
    "# 9 default"
   ]
  },
  {
   "cell_type": "code",
   "execution_count": 50,
   "metadata": {
    "collapsed": true
   },
   "outputs": [
    {
     "name": "stdout",
     "output_type": "stream",
     "text": [
      "\n",
      "\u001b[43;34mSidney\u001b[m Irwin is salutatorian of Abilene High School. 'If it's the last dance, dance backwards.' When I first heard this quote, it sounded to me like one of those vague little sayings people write to sound poetic. But when I really thought about it, what it's trying to tell you, it's kind of beautifully true. In the 13 years that we have been going to school, we have gone through a lot of changes in our lives. We've made friends, lost friends, moved schools, joined clubs, aced projects and failed papers and learned more about ourselves along the way. We've felt joy and terror, sadness and hope, we've learned to love and learned to lose and sometimes lost ourselves in the in between. We've grown up. And every time we have these changes, the big ones or the small ones, we look around at all our friends and our first thoughts are not of the future, of what's up ahead, because we don't know what's coming. We can't predict what's going to happen next. I mean, look at right now. Who could have known we'd be having an online graduation in the middle of a worldwide pandemic? The future cannot be predicted, so our first thoughts aren't of the future. Our first thoughts when we look around are to look at where we've been. Look at what we've come from. To remember all the things that make you who you are. Our memories are what give things meaning. They are what makes a friend different from a stranger. It's how each person is unique. Nobody experiences the world like you do, nobody has done exactly what you've done. Our futures are direct reflections of our pasts. In order to change, you have to have something to change from. So as much as we'd sometimes like, we cannot ignore our pasts, we cannot forget all the things that have made us who we are today. It's the very reason why we have history classes, why there are thousands of people across the globe who spend their whole lives learning about what came before. Because our history is who we are, it's what makes us distinct. History is part of what makes us human. So while we're celebrating, while we enjoy the last dances of our high school experience, let's dance backward for just a little bit and remember everything that makes us the Class of 2020. \n"
     ]
    }
   ],
   "source": [
    "if \"Sidney\" in source:\n",
    "    print()\n",
    "    print(source.replace(\"Sidney\", '\\033[43;34m{}\\033[m'.format(\"Sidney\")))"
   ]
  },
  {
   "cell_type": "code",
   "execution_count": 57,
   "metadata": {
    "scrolled": true
   },
   "outputs": [
    {
     "name": "stdout",
     "output_type": "stream",
     "text": [
      "\u001b[43;34mSidney\u001b[m Irwin is salutatorian of Abilene High School. 'If it's the last dance, dance backwards.' When I first heard this quote, it sounded to me like one of those vague little sayings people write to sound \u001b[43;34mpoetic.\u001b[m But when I really thought about it, what it's trying to tell you, it's kind of beautifully true. In the 13 years that we have been going to school, we have gone through a lot of changes in our lives. We've made friends, lost friends, moved schools, joined clubs, aced projects and failed papers and learned more about ourselves along the way. We've felt joy and terror, sadness and hope, we've learned to love and learned to lose and sometimes lost ourselves in the in between. We've grown up. And every time we have these changes, the big ones or the small ones, we look around at all our friends and our first thoughts are not of the future, of what's up ahead, because we don't know what's coming. We can't predict what's going to happen next. I mean, look at right now. Who could have known we'd be having an online graduation in the middle of a worldwide pandemic? The future cannot be predicted, so our first thoughts aren't of the future. Our first thoughts when we look around are to look at where we've been. Look at what we've come from. To remember all the things that make you who you are. Our memories are what give things meaning. They are what makes a friend different from a stranger. It's how each person is unique. Nobody experiences the world like you do, nobody has done exactly what you've done. Our futures are direct reflections of our pasts. In order to change, you have to have something to change from. So as much as we'd sometimes like, we cannot ignore our pasts, we cannot forget all the things that have made us who we are today. It's the very reason why we have history classes, why there are thousands of people across the globe who spend their whole lives learning about what came before. Because our history is who we are, it's what makes us distinct. History is part of what makes us human. So while we're celebrating, while we enjoy the last dances of our high school experience, let's dance backward for just a little bit and remember everything that makes us the Class of 2020. \n"
     ]
    }
   ],
   "source": [
    "for i in [first,last]:\n",
    "    if i in source:\n",
    "        source = source.replace(i, '\\033[43;34m{}\\033[m'.format(i))\n",
    "print(source)"
   ]
  },
  {
   "cell_type": "code",
   "execution_count": 100,
   "metadata": {
    "collapsed": true
   },
   "outputs": [
    {
     "ename": "KeyboardInterrupt",
     "evalue": "",
     "output_type": "error",
     "traceback": [
      "\u001b[0;31m---------------------------------------------------------------------------\u001b[0m",
      "\u001b[0;31mKeyboardInterrupt\u001b[0m                         Traceback (most recent call last)",
      "\u001b[0;32m<ipython-input-100-089442b3c9bd>\u001b[0m in \u001b[0;36m<module>\u001b[0;34m\u001b[0m\n\u001b[1;32m      1\u001b[0m \u001b[0;32mfor\u001b[0m \u001b[0mps_text\u001b[0m \u001b[0;32min\u001b[0m \u001b[0msource\u001b[0m\u001b[0;34m:\u001b[0m\u001b[0;34m\u001b[0m\u001b[0;34m\u001b[0m\u001b[0m\n\u001b[1;32m      2\u001b[0m     \u001b[0;32mif\u001b[0m \u001b[0mps_text\u001b[0m \u001b[0;32min\u001b[0m \u001b[0msource\u001b[0m\u001b[0;34m:\u001b[0m\u001b[0;34m\u001b[0m\u001b[0;34m\u001b[0m\u001b[0m\n\u001b[0;32m----> 3\u001b[0;31m         \u001b[0msource\u001b[0m \u001b[0;34m=\u001b[0m \u001b[0msource\u001b[0m\u001b[0;34m.\u001b[0m\u001b[0mreplace\u001b[0m\u001b[0;34m(\u001b[0m\u001b[0mps_text\u001b[0m\u001b[0;34m,\u001b[0m \u001b[0;34m'\\033[43;34m{}\\033[m'\u001b[0m\u001b[0;34m.\u001b[0m\u001b[0mformat\u001b[0m\u001b[0;34m(\u001b[0m\u001b[0mps_text\u001b[0m\u001b[0;34m)\u001b[0m\u001b[0;34m)\u001b[0m\u001b[0;34m\u001b[0m\u001b[0;34m\u001b[0m\u001b[0m\n\u001b[0m\u001b[1;32m      4\u001b[0m \u001b[0mprint\u001b[0m\u001b[0;34m(\u001b[0m\u001b[0msource\u001b[0m\u001b[0;34m)\u001b[0m\u001b[0;34m\u001b[0m\u001b[0;34m\u001b[0m\u001b[0m\n",
      "\u001b[0;31mKeyboardInterrupt\u001b[0m: "
     ]
    }
   ],
   "source": [
    "for ps_text in source:\n",
    "    if ps_text in source:\n",
    "        source = source.replace(ps_text, '\\033[43;34m{}\\033[m'.format(ps_text))\n",
    "print(source)"
   ]
  },
  {
   "cell_type": "code",
   "execution_count": 99,
   "metadata": {},
   "outputs": [
    {
     "data": {
      "text/plain": [
       "\"Sidney Irwin is salutatorian of Abilene High School. 'If it's the last dance, dance backwards.'. When I first heard this quote, it sounded to me like one of those vague little sayings people write to sound poetic.\""
      ]
     },
     "execution_count": 99,
     "metadata": {},
     "output_type": "execute_result"
    }
   ],
   "source": [
    "ps_text"
   ]
  },
  {
   "cell_type": "code",
   "execution_count": 98,
   "metadata": {},
   "outputs": [
    {
     "data": {
      "text/plain": [
       "\"Sidney Irwin is salutatorian of Abilene High School. 'If it's the last dance, dance backwards.' When I first heard this quote, it sounded to me like one of those vague little sayings people write to sound poetic. But when I really thought about it, what it's trying to tell you, it's kind of beautifully true. In the 13 years that we have been going to school, we have gone through a lot of changes in our lives. We've made friends, lost friends, moved schools, joined clubs, aced projects and failed papers and learned more about ourselves along the way. We've felt joy and terror, sadness and hope, we've learned to love and learned to lose and sometimes lost ourselves in the in between. We've grown up. And every time we have these changes, the big ones or the small ones, we look around at all our friends and our first thoughts are not of the future, of what's up ahead, because we don't know what's coming. We can't predict what's going to happen next. I mean, look at right now. Who could have known we'd be having an online graduation in the middle of a worldwide pandemic? The future cannot be predicted, so our first thoughts aren't of the future. Our first thoughts when we look around are to look at where we've been. Look at what we've come from. To remember all the things that make you who you are. Our memories are what give things meaning. They are what makes a friend different from a stranger. It's how each person is unique. Nobody experiences the world like you do, nobody has done exactly what you've done. Our futures are direct reflections of our pasts. In order to change, you have to have something to change from. So as much as we'd sometimes like, we cannot ignore our pasts, we cannot forget all the things that have made us who we are today. It's the very reason why we have history classes, why there are thousands of people across the globe who spend their whole lives learning about what came before. Because our history is who we are, it's what makes us distinct. History is part of what makes us human. So while we're celebrating, while we enjoy the last dances of our high school experience, let's dance backward for just a little bit and remember everything that makes us the Class of 2020. \""
      ]
     },
     "execution_count": 98,
     "metadata": {},
     "output_type": "execute_result"
    }
   ],
   "source": [
    "source"
   ]
  },
  {
   "cell_type": "code",
   "execution_count": null,
   "metadata": {},
   "outputs": [],
   "source": []
  }
 ],
 "metadata": {
  "kernelspec": {
   "display_name": "discovery",
   "language": "python",
   "name": "discovery"
  },
  "language_info": {
   "codemirror_mode": {
    "name": "ipython",
    "version": 3
   },
   "file_extension": ".py",
   "mimetype": "text/x-python",
   "name": "python",
   "nbconvert_exporter": "python",
   "pygments_lexer": "ipython3",
   "version": "3.6.9"
  }
 },
 "nbformat": 4,
 "nbformat_minor": 2
}
