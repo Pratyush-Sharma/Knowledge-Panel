{
 "cells": [
  {
   "cell_type": "code",
   "execution_count": 3,
   "metadata": {},
   "outputs": [
    {
     "name": "stdout",
     "output_type": "stream",
     "text": [
      "Naviga1\n",
      "Discovery instance loaded naviga\n",
      "COLLECTION ID: ec586f27-f848-40b7-99af-dab80a43b248 COLLECTION NAME: Naviga1\n"
     ]
    }
   ],
   "source": [
    "import json\n",
    "import os\n",
    "import sys\n",
    "sys.path.append(\"../\")\n",
    "sys.path.append(\"../../\")\n",
    "sys.path.append(\"../modules/\")\n",
    "import modules.common_helper as cm_help\n",
    "from ibm_watson import DiscoveryV1\n",
    "import modules.config as config\n",
    "import modules.discovery_helper as dh\n",
    "import os\n",
    "import time\n",
    "from pprint import pprint\n",
    "from ibm_cloud_sdk_core.authenticators import IAMAuthenticator\n",
    "\n",
    "all_params = cm_help.get_params()\n",
    "COLLECTION_NAME = config.DISCOVERY_COLLECTION_NAME\n",
    "print(COLLECTION_NAME)\n",
    "\n",
    "def discovery_init(COLLECTION_NAME=config.DISCOVERY_COLLECTION_NAME,default=all_params['discovery']['default']):\n",
    "    response = {}\n",
    "    \n",
    "    discovery_param = all_params['discovery']\n",
    "    # default = \n",
    "    authenticator = IAMAuthenticator(apikey=discovery_param[default]['apikey'])\n",
    "    endurl = \"https://gateway.watsonplatform.net/discovery/api\"\n",
    "    discovery = DiscoveryV1(\n",
    "        version=discovery_param[default]['version'],\n",
    "        authenticator = authenticator)\n",
    "    iam_apikey=discovery_param[default]['apikey'],\n",
    "    url=discovery_param[default]['url']    \n",
    "    if default ==\"naviga\":\n",
    "        discovery.set_service_url(discovery_param[default]['url'])\n",
    "\n",
    "    environments = discovery.list_environments().get_result()\n",
    "    # print(json.dumps(environments, indent=2))\n",
    "    print(\"Discovery instance loaded \"+default)\n",
    "    js = json.dumps(environments)\n",
    "    jres = json.loads(js)\n",
    "    # print(jres['environments'][1]['environment_id'])\n",
    "    env_id = jres['environments'][1]['environment_id']\n",
    "    collections = discovery.list_collections(env_id).get_result()\n",
    "    cols = json.dumps(collections, indent=2)\n",
    "    colres = json.loads(cols)\n",
    "\n",
    "    #print(colres['collections'])\n",
    "    for item in colres['collections']:\n",
    "        if item['name']== COLLECTION_NAME:\n",
    "            print('COLLECTION ID:', item['collection_id'], 'COLLECTION NAME:', item['name'])\n",
    "            col_id = item['collection_id']\n",
    "    response['env_id'] = env_id\n",
    "    response['col_id'] = col_id\n",
    "    response['discovery'] = discovery\n",
    "    return response\n",
    "\n",
    "discovery_config = discovery_init(COLLECTION_NAME,default=\"naviga\")"
   ]
  },
  {
   "cell_type": "markdown",
   "metadata": {},
   "source": [
    "# Getting 50 Passages "
   ]
  },
  {
   "cell_type": "code",
   "execution_count": 1,
   "metadata": {},
   "outputs": [],
   "source": [
    "import pandas as pd\n",
    "from IPython.core.display import display, HTML"
   ]
  },
  {
   "cell_type": "code",
   "execution_count": 158,
   "metadata": {},
   "outputs": [
    {
     "name": "stdout",
     "output_type": "stream",
     "text": [
      "offset in query0\n",
      "offset in query0\n",
      "offset in query0\n",
      "offset in query0\n",
      "offset in query0\n",
      "offset in query0\n",
      "offset in query0\n",
      "offset in query0\n",
      "offset in query0\n",
      "offset in query0\n",
      "offset in query0\n"
     ]
    }
   ],
   "source": [
    "offset = 0\n",
    "count = 100\n",
    "reqparams = {'offset':offset,'count':count}\n",
    "reqparams['q'] = 'Inflation'\n",
    "discovery_data_subCode = dh.getDiscoveryData(discovery_config,reqparams)\n",
    "\n",
    "doc_id=[]\n",
    "passage=[]\n",
    "for i in range(len(discovery_data_subCode[\"passages\"])):\n",
    "    doc_id.append(discovery_data_subCode[\"passages\"][i][\"document_id\"])\n",
    "    passage.append(discovery_data_subCode[\"passages\"][i][\"passage_text\"])\n",
    "\n",
    "HTM_2=[]\n",
    "for j in range():\n",
    "    reqparams = {'offset':offset,'count':count}\n",
    "    reqparams['filters']='id::'+doc_id[j]\n",
    "    discovery_data2 = dh.getDiscoveryData(discovery_config,reqparams)\n",
    "    HTM_2.append(discovery_data2[\"results\"][0][\"html\"])"
   ]
  },
  {
   "cell_type": "code",
   "execution_count": 159,
   "metadata": {},
   "outputs": [
    {
     "name": "stdout",
     "output_type": "stream",
     "text": [
      "PENN STATE/ACY ALTERNATIVE INFLATION INDEX REVEALS DECLINE IN INFLATION RATE [U.S. Fed News]\n",
      "0\n",
      "--------------------------------------------------\n",
      "AMX:Story Lead=The State Bank of Pakistan (SBP) said that Pakistan's inflation for the year 2020 was not the highest in the world, in a series of tweets on Sunday. The SBP tweeted: 'A chart from our Inflation Monitor has generated erroneous headlines. It compares Pakistan's inflation to a few developed and developing countries. While Pakistan did have a relatively elevated inflation rate so far in FY20, it ...\n",
      "1\n",
      "--------------------------------------------------\n",
      "More Indians expect retail inflation to accelerate in the near future than they did in March, according to a survey of households by the Reserve Bank of India. The Households' Inflation Expectations Survey for May conducted among 5,761 households showed that 85.3% households expect inflation to accelerate in the next three months. That compares with 83.3% in...\n",
      "2\n",
      "--------------------------------------------------\n",
      "Headline inflation further slid last month as the coronavirus pandemic continued to drag down consumer demand. The rate of increase in consumer prices, or inflation, clocked in at 2.1 percent in April, slightly lower compared with 2.2 percent in the previous month.  \"Slowdown in the headline inflation in May, 2020, was mainly driven by the 5.6 percent annual drop...\n",
      "3\n",
      "--------------------------------------------------\n",
      "The State Bank of Pakistan said that Pakistan's inflation for the year 2020 was not the highest in the world, in a series of tweets on Sunday. While Pakistan did have a relatively elevated inflation rate so far in FY20, it is not true that it was the highest in the world.'. Since January, inflation in Pakistan has fallen sharply and much faster than in most other emerging...\n",
      "4\n",
      "--------------------------------------------------\n",
      "AMX:Story Lead=UNIVERSITY PARK, Pa., June 8 -- Pennsylvania State University issued the following news release: The June 2020 release of the Penn State/ACY Inflation index suggests that the United States annual inflation rate continued to decelerate, dropping to 1.46% for April 2020 from the March rate of 2.53%. The overall decline in inflation continues the trend observed last month of a general drop in ...\n",
      "5\n",
      "--------------------------------------------------\n",
      "AMX:Story Lead=New Delhi, June 5 -- More Indians expect retail inflation to accelerate in the near future than they did in March, according to a survey of households by the Reserve Bank of India. The Households' Inflation Expectations Survey for May conducted among 5,761 households showed that 85.3% households expect inflation to accelerate in the next three months. That compares with 83.3% in March. ...\n",
      "6\n",
      "--------------------------------------------------\n",
      "AMX:Story Lead=The rate of price increases in the Philippines continues to decelerate, Bangko Sentral ng Pilipinas (BSP) Governor Benjamin Diokno said. 'Inflation continues on its downward path,' Diokno told journalists in a Viber message Thursday. He, however, did not elaborate. The Philippine Statistics Authority (PSA) is scheduled to report the May 2020 inflation figure on Friday. Last April, inflation ...\n",
      "7\n",
      "--------------------------------------------------\n",
      "AMX:Story Lead=By Chino Leyco Headline inflation further slid last month as the coronavirus pandemic continued to drag down consumer demand. The rate of increase in consumer prices, or inflation, clocked in at 2.1 percent in April, slightly lower compared with 2.2 percent in the previous month. \"Slowdown in the headline inflation in May, 2020, was mainly driven by the 5.6 percent annual drop in the transport ...\n",
      "8\n",
      "--------------------------------------------------\n",
      "Inflation declines 5.35% in May\n",
      "9\n",
      "--------------------------------------------------\n",
      "Inflation declines to 5.35pc in May\n",
      "10\n",
      "--------------------------------------------------\n",
      "Inflation rate sustains downtrend: Diokno\n",
      "11\n",
      "--------------------------------------------------\n",
      "WING INFLATABLES Wins $250,000 Federal Contract\n",
      "12\n",
      "--------------------------------------------------\n",
      "Inflation slides to 2.1% in April.(Business News)\n",
      "13\n",
      "--------------------------------------------------\n",
      "Does Pakistan have the world's highest inflation? No, says SBP\n",
      "14\n",
      "--------------------------------------------------\n",
      "May 2020 inflation rate clocked in at 0.07 percent: BPS\n",
      "15\n",
      "--------------------------------------------------\n",
      "Good news: Inflation down, recovery up.(Opinions and Editorials)\n",
      "16\n",
      "--------------------------------------------------\n",
      "Inflation fears rise in households: RBI poll [Mint (New Delhi)]\n",
      "17\n",
      "--------------------------------------------------\n",
      "Camano Fire crews rescue man after inflatable canoe sinks in Port Susan Bay\n",
      "18\n",
      "--------------------------------------------------\n",
      "'For instance, Argentina, Iran, Nigeria and Turkey's inflation has been\n",
      "higher. Since January, inflation in Pakistan has fallen sharply and much\n",
      "faster than in most other emerging markets,' the SBP added.\n",
      "\n",
      "The clarifying tweets were in reference to the SBP's own Inflation Monitor for\n",
      "April report, which the central bank had released towards the end of May.\n",
      "\n",
      "On page 19 of the report, in a section titled '10. Inflation in Global\n",
      "Context', the authors of the report had stated: 'In global context, Pakistan\n",
      "witnessed the highest inflation not only in comparison with the developed\n",
      "economies but also with emerging economies.'\n",
      "19\n",
      "--------------------------------------------------\n",
      "Pandemic fallout to keep Philippine inflation in check, BSP says [Philippine Daily Inquirer]\n",
      "20\n",
      "--------------------------------------------------\n",
      "The June 2020 release of the Penn State/ACY Inflation index suggests that the United States annual inflation rate continued to decelerate, dropping to 1.46% for April 2020 from the March rate of 2.53%. In comparison, the Bureau of Labor Statistics also reported that the April year-over-year change in the BLS Consumer Price Index declined to 0.38% and the...\n",
      "21\n",
      "--------------------------------------------------\n",
      "Lee Kyung Ju Files Korean Patent Application for 2 Inflatable Warning Equipment for Protecting 2nd Additional Traffic Accident\n",
      "22\n",
      "--------------------------------------------------\n",
      "Captive Technologies LLC Obtains Patent for Single Boundary Layer Optimized Recalled Airbag Inflator Container\n",
      "23\n",
      "--------------------------------------------------\n",
      "Reports from University of Washington Add New Data to Research in Physics (A potential mechanism for inflation from swampland conjectures): Physics\n",
      "24\n",
      "--------------------------------------------------\n",
      "Camano Fire and Rescue crews rescued a man from Port Susan Bay when his inflatable canoe sank Sunday night. Residents on shore called 911 at about 9:45 p.m. after hearing the man's screams for help near the Cavalero boat launch and County Club neighborhood, Camano Fire spokeswoman Bronlea Mishler said. The man and his dog were seen sinking in an inflatable...\n",
      "25\n",
      "--------------------------------------------------\n",
      "2 June 2020 The Central Statistics Agency recorded an inflation rate of 0.07 percent in May 2020 or lower from the corresponding period last year owing to decreased public demand during the Eid al-Fitr celebrations.  \"Inflation in May is very small, very far as compared to that during Eid al-Fitr last year when it touched 0.55 percent in June,\" BPS Head Suhariyanto...\n",
      "26\n",
      "--------------------------------------------------\n",
      "Data showed that food inflation declined to 5.09 percentage point in May down from 5.91 percentage point in April. The monthly consumer price index was released by the Bangladesh Bureau of Statistics today after the meeting of the Ecnec, reports BSS. Answering to a question, BBS Director General Tajul Islam said the inflation trend was a bit high in April, but it...\n",
      "27\n",
      "--------------------------------------------------\n",
      "At a time when there is so much bad news related to the COVID-19 pandemic here and around the world, it is good to hear from Bangko Sentral ng Pilipinas Governor Benjamin Diokno that inflation in the country is expected to be below the 2 percent level in the next two quarters of the year.  \"We expect inflation to be less than 2 percent in the third and fourth quarter of...\n",
      "28\n",
      "--------------------------------------------------\n",
      "The State Bank of Pakistan (SBP) said that Pakistan's inflation for the year\n",
      "2020 was not the highest in the world, in a series of tweets on Sunday.\n",
      "\n",
      "The SBP tweeted: 'A chart from our Inflation Monitor has generated erroneous\n",
      "headlines. It compares Pakistan's inflation to a few developed and developing\n",
      "countries. While Pakistan did have a relatively elevated inflation rate so far\n",
      "in FY20, it is not true that it was the highest in the world.'\n",
      "\n",
      "'For instance, Argentina, Iran, Nigeria and Turkey's inflation has been\n",
      "higher.\n",
      "29\n",
      "--------------------------------------------------\n",
      "</p>\n",
      "<p>Reporters obtained the following quote from the background information supplied by the inventors: &#8220;One treatment for male erectile dysfunction is the implantation of a penile prosthesis that mechanically erects the penis. Some existing penile prostheses include inflatable cylinders or members that can be inflated or deflated using a pump mechanism. The pump mechanism pulls fluid from a fluid reservoir and then transfers the fluid to the inflatable members. According to some existing designs of inflatable penile prostheses\n",
      "30\n",
      "--------------------------------------------------\n",
      ".&#8221;</p>\n",
      "<p>In addition to obtaining background information on this patent application, NewsRx editors also obtained the inventors&#8217; summary information for this patent application: &#8220;According to an aspect, an inflatable penile prosthesis includes a fluid reservoir configured to hold fluid, an inflatable member, and a pump assembly configured to transfer the fluid between the fluid reservoir and the inflatable member. The pump assembly includes a valve body, a pump bulb, and a deflation mode actuator. The valve body includes a bi-directional valve configured to move from an inflation position to a deflation position in response to an activation of the deflation mode actuator. The bi-directional valve in the inflation position is configured to open a fluid passageway in the valve body to transfer fluid from the pump bulb to the inflatable member.\n",
      "31\n",
      "--------------------------------------------------\n",
      "Lucas@daxinqPhilippine Daily InquirerMANILA, Philippines -\n",
      "Prices of basic goods and services will likely remain benign over the near\n",
      "term as the local economy continues to struggle with weak demand due to the\n",
      "coronavirus pandemic, the central bank said on Friday.At the same time,\n",
      "however, Bangko Sentral ng Pilipinas Governor Benjamin Diokno cautioned that\n",
      "the volatile cost of fuel on the international market poses a near term risk\n",
      "for the inflation rate going forward.MENTThe central bank chief made this\n",
      "statement after the government announced the official inflation rate for May\n",
      "of 2.1 percent, which is the downtrend established in recent months.\"The\n",
      "latest inflation number is consistent with the prevailing assessment by BSP\n",
      "that inflation is expected to remain benign over the policy horizon due\n",
      "largely to the adverse impact of the pandemic on the domestic and global\n",
      "economy,\" Diokno\n",
      "32\n",
      "--------------------------------------------------\n",
      "New Delhi, June 5 \\-- More Indians expect retail inflation to accelerate in\n",
      "the near future than they did in March, according to a survey of households by\n",
      "the Reserve Bank of India.\n",
      "\n",
      "The Households' Inflation Expectations Survey for May conducted among 5,761\n",
      "households showed that 85.3% households expect inflation to accelerate in the\n",
      "next three months. That compares with 83.3% in March. However, fewer\n",
      "households, 85.6% of those surveyed, now expect inflation to quicken in the\n",
      "year ahead against 86.3% households in May last year.\n",
      "33\n",
      "--------------------------------------------------\n",
      "UNIVERSITY PARK, Pa., June 8 \\-- Pennsylvania State University issued the\n",
      "following news release:\n",
      "\n",
      "The June 2020 release of the Penn State/ACY Inflation index suggests that the\n",
      "United States annual inflation rate continued to decelerate, dropping to 1.46%\n",
      "for April 2020 from the March rate of 2.53%.\n",
      "\n",
      "The overall decline in inflation continues the trend observed last month of a\n",
      "general drop in energy and other prices. However, this month the Penn\n",
      "State/ACY Marginal Rent inflation rate also saw a decline to 6.06% for April,\n",
      "down from the March rate of 6.19%.\n",
      "34\n",
      "--------------------------------------------------\n",
      "</p>\n",
      "<p>&#8220;In at least one embodiment, the launch container further includes a cover moveably coupled to the housing. The cover is moveable between an open position and a closed position. Inflation of the inflatable envelope causes the cover to move from the closed position to the open position. A portion of the UAV may form the cover.</p>\n",
      "<p>&#8220;The UAV may include an inflation inlet port in fluid communication with the inflatable envelope. In at least one embodiment, the reactant is contained within a reactant container that is in fluid communication with the inflation inlet port through a detachable coupling.\n",
      "35\n",
      "--------------------------------------------------\n",
      "By Chino Leyco\n",
      "\n",
      "Headline inflation further slid last month as the coronavirus pandemic\n",
      "continued to drag down consumer demand.\n",
      "\n",
      "The rate of increase in consumer prices, or inflation, clocked in at 2.1\n",
      "percent in April, slightly lower compared with 2.2 percent in the previous\n",
      "month.\n",
      "\n",
      "\"Slowdown in the headline inflation in May, 2020, was mainly driven by the 5.6\n",
      "percent annual drop in the transport index,\" the PSA said.\n",
      "\n",
      "The downtrend in the inflation rate was also due to slower price increases\n",
      "recorded in the food and non-aloholic beverages (2.9 percent), clothing and\n",
      "footwear (2.4 percent), furnishing, household equipment and routine\n",
      "maintenance of the house (4.1 percent), and recreation and culture (1.4\n",
      "percent).\n",
      "36\n",
      "--------------------------------------------------\n",
      "Lucas@daxinqPhilippine Daily InquirerMANILA, <location idsrc=\"xmltag.org\" value=\"LC/ph\">Philippines</location> &#8211; Prices of basic goods and services will likely remain benign over the near term as the local economy continues to struggle with weak demand due to the coronavirus pandemic, the central bank said on Friday.At the same time, however, Bangko Sentral ng Pilipinas Governor <person>Benjamin Diokno</person> cautioned that the volatile cost of fuel on the international market poses a near term risk for the inflation rate going forward.MENTThe central bank chief made this statement after the government announced the official inflation rate for May of 2.1 percent, which is the downtrend established in recent months.&#8220;The latest inflation number is consistent with the prevailing assessment by BSP that inflation is expected to remain benign over the policy horizon due largely\n",
      "37\n",
      "--------------------------------------------------\n",
      "A length-adjustable catheter comprising: a shaft, the length of which can be varied over a length-adjustment range; a guide-wire port; an inflation port; a guide-wire lumen that extends from the guide-wire port, through a portion of the shaft, to an opening at a tip of the catheter; and an inflation lumen, the length of which varies as the length of the shaft varies, that extends from the inflation port, through a portion of the shaft, to an inflatable length-adjustable-catheter component.</p>\n",
      "<p>&#8220;2. The length-adjustable catheter of claim 1 wherein the shaft further comprises: the shaft tip; a first dual-lumen portion; a variable-length portion; and a second single-lumen portion.\n",
      "38\n",
      "--------------------------------------------------\n",
      "Keep on reading: Pandemic fallout to keep Philippine inflation in check, BSP says\n",
      "39\n",
      "--------------------------------------------------\n",
      "AMX:Story Lead=It was reported by the Bangladesh Bureau of Statistics (BBS) that the rate of inflation in the country fell by 0.61% in May, from 5.96% in April to 5.35% There are few things more troubling for a nation's economy than a runaway inflation rate. It can take a simple roll of toilet paper that normally costs Tk17 and skyrocket its price to Tk34 in the span of a single day - doubling its cost. ...\n",
      "40\n",
      "--------------------------------------------------\n",
      "AMX:Story Lead=At a time when there is so much bad news related to the COVID-19 pandemic here and around the world, it is good to hear from Bangko Sentral ng Pilipinas (BSP) Governor Benjamin Diokno that inflation in the country is expected to be below the 2 percent level in the next two quarters of the year. \"We expect inflation to be less than 2 percent in the third and fourth quarter of the year because ...\n",
      "41\n",
      "--------------------------------------------------\n",
      "AMX:Story Lead=Data showed that food inflation declined to 5.09 percentage point in May down from 5.91 percentage point in April The general point to point inflation rate declined to 5.35 percentage point in May from 5.96 percentage point in the previous month mainly because of significant fall in prices of food commodities alongside the non-food items. The monthly consumer price index (CPI) was released by ...\n",
      "42\n",
      "--------------------------------------------------\n",
      "AMX:Story Lead=2 June 2020 (Antara News) The Central Statistics Agency (BPS) recorded an inflation rate of 0.07 percent in May 2020 or lower from the corresponding period last year owing to decreased public demand during the Eid al-Fitr celebrations. \"Inflation in May is very small, very far as compared to that during Eid al-Fitr last year when it touched 0.55 percent in June,\" BPS Head Suhariyanto stated ...\n",
      "43\n",
      "--------------------------------------------------\n",
      "AMX:Headline Signature=AIRBAG-BOUNDARY-CAPTIVE-INFLATOR-LAYER-RECALLED AMX:Special Code=MC/BASE\n",
      "44\n",
      "--------------------------------------------------\n",
      "AMX:Story Lead=Camano Fire and Rescue crews rescued a man from Port Susan Bay when his inflatable canoe sank Sunday night. Residents on shore called 911 at about 9:45 p.m. after hearing the man's screams for help near the Cavalero boat launch and County Club neighborhood, Camano Fire spokeswoman Bronlea Mishler said. The man and his dog were seen sinking in an inflatable canoe. After it sank, the man grabbed ...\n",
      "45\n",
      "--------------------------------------------------\n",
      "2 June 2020 (Antara News) The Central Statistics Agency (BPS) recorded an\n",
      "inflation rate of 0.07 percent in May 2020 or lower from the corresponding\n",
      "period last year owing to decreased public demand during the Eid al-Fitr\n",
      "celebrations.\n",
      "\n",
      "\"Inflation in May is very small, very far as compared to that during Eid al-\n",
      "Fitr last year when it touched 0.55 percent in June,\" BPS Head Suhariyanto\n",
      "stated during a virtual press conference here on Tuesday.\n",
      "\n",
      "Thus, the January-May 2020 calendar year inflation rate reached 0.90 percent,\n",
      "while the year-on-year inflation touched 2.19 percent.\n",
      "46\n",
      "--------------------------------------------------\n",
      "WAVO:Publish Reason=ORIGINAL WAVO:alert=FALSE WAVO:headline_only=FALSE WAVO:temporary=FALSE AMX:Publish Reason=ORIGINAL AMX:Alert=FALSE AMX:Headline Only=FALSE AMX:Temporary=FALSE AMX:Special Code=PS/p.AMSPIDER AMX:Special Code=PS/s.NEWS____ AMX:ReadKey=9e1a6cacac98f6a92d36b3101086b0a939958184cb6719405be78fb96e256ebb354ca73ad8bfcae4c11baaa53b8b99720d22026cf2721e6f9a5b462d8719cb7ffd7edc0a7e71d365da16e897668b663040fc14392ede7cfc704ba60a68926f7f AMSPIDER:Special Code=PC/t.200605031640628 AMX:Story Lead=Keep on reading: Pandemic fallout to keep Philippine inflation in check, BSP says ]]>...\n",
      "47\n",
      "--------------------------------------------------\n",
      "AMX:Cluster Signature=0|AIRBAG-CLASSIF-DAVID-INFLAT-METHOD-PATE-PROPEL-SINGL AMX:Headline Signature=AIRBAG-BOUNDARY-CAPTIVE-INFLATOR-LAYER-RECALLED AMX:Special Code=MC/BASE\n",
      "48\n",
      "--------------------------------------------------\n",
      "AMSPIDER:Special Code=PS/web.site AMX:Credit=Philippine Daily Inquirer AMSPIDER:Special Code=PS/SPD_Philipp_Inq NEWSEDGE:Special Code=PS/.SPD_Philipp_Inq NEWSEDGE:AmxSource=SPD_Philipp_Inq AMSPIDER:Special Code=PS/spd.NjhlOGUy AMSPIDER:Story Link=https://business.inquirer.net/299137/pandemic-fallout-to-keep-philippine-inflation-in-check-bsp-says AMSPIDER:webpubdate=2020-06-05T07:16:28+00:00 AMSPIDER:Special Code=PT/st.Mobile AMX:Company Record=Manila|ABS|ISIN:PHY0006V1080|ABS-CBN Corporation.\n",
      "49\n",
      "--------------------------------------------------\n"
     ]
    }
   ],
   "source": [
    "for i in range(50):\n",
    "    print(passage[i])\n",
    "    print(i)\n",
    "    print(\"-\"*50)"
   ]
  },
  {
   "cell_type": "code",
   "execution_count": 187,
   "metadata": {},
   "outputs": [],
   "source": [
    "p=passage[2]\n",
    "h=HTM_2[2]"
   ]
  },
  {
   "cell_type": "code",
   "execution_count": 188,
   "metadata": {},
   "outputs": [
    {
     "data": {
      "text/plain": [
       "363"
      ]
     },
     "execution_count": 188,
     "metadata": {},
     "output_type": "execute_result"
    }
   ],
   "source": [
    "len(p)"
   ]
  },
  {
   "cell_type": "code",
   "execution_count": 189,
   "metadata": {},
   "outputs": [
    {
     "data": {
      "text/plain": [
       "\"More Indians expect retail inflation to accelerate in the near future than they did in March, according to a survey of households by the Reserve Bank of India. The Households' Inflation Expectations Survey for May conducted among 5,761 households showed that 85.3% households expect inflation to accelerate in the next three months. That compares with 83.3% in...\""
      ]
     },
     "execution_count": 189,
     "metadata": {},
     "output_type": "execute_result"
    }
   ],
   "source": [
    "p"
   ]
  },
  {
   "cell_type": "code",
   "execution_count": 190,
   "metadata": {},
   "outputs": [
    {
     "name": "stdout",
     "output_type": "stream",
     "text": [
      "More 83.3%\n"
     ]
    }
   ],
   "source": [
    "a=p.split()\n",
    "for i in range(len(a)):\n",
    "    if h.count(a[i])==1:\n",
    "        first=a[i]\n",
    "        break\n",
    "    \n",
    "for i in range(len(a)-1,1,-1):\n",
    "    if h.count(a[i])==1:\n",
    "        last=a[i]\n",
    "        break\n",
    "    \n",
    "    \n",
    "print(first,last)\n",
    "\n",
    "h=h.replace(first,\"<mark><b>\"+ first,1)\n",
    "h=h.replace(last,last +\" </b></mark>\",1)"
   ]
  },
  {
   "cell_type": "code",
   "execution_count": 191,
   "metadata": {},
   "outputs": [
    {
     "data": {
      "text/html": [
       "\n",
       "<block>\n",
       "<p><location idsrc=\"xmltag.org\" value=\"LU/in..newdel\">New Delhi</location>, <chron>June 5</chron> -- <mark><b>More Indians expect retail inflation to accelerate in the near future than they did in March, according to a survey of households by the <org idsrc=\"xmltag.org\" value=\"ACORN:3310162681\">Reserve Bank of India</org>.</p>\n",
       "<p><org>The Households' Inflation Expectations Survey</org> for May conducted among 5,761 households showed that 85.3% households expect inflation to accelerate in the next three months. That compares with 83.3% </b></mark> in March. However, fewer households, 85.6% of those surveyed, now expect inflation to quicken in the year ahead against 86.3% households in May last year.</p>\n",
       "<p>\"Three-month and one-year ahead median inflation expectations rose by 190 and 120 basis points, respectively, over the previous round,\" RBI said in the survey released on Thursday.</p>\n",
       "<p>Retail inflation, calculated on the basis of Consumer Price Index (CPI), was revised to 5.84% in March from a provisional 5.91%, continuing to remain above the central bank's medium-term goal of 4% for the sixth month in a row.</p>\n",
       "<p>The monetary policy committee (MPC) expects headline inflation to remain firm in the first half of the fiscal year 2020-21, but should ease in the second half, aided by favourable base effects. In the second half of the current fiscal, the MPC expects headline inflation to slow to less than 4%.</p>\n",
       "<p>The central bank's rate-setting committee believes that the supply shock to food prices in April may persist over the next few months, depending on the state of lockdown and the time taken to restore the supply chains once curbs are lifted.</p>\n",
       "<p>Among the pressure points, Das said, are elevated levels of pulses inflation and it warrants timely and swift supply-side interventions, including a reappraisal of import duties.</p>\n",
       "<p>Consumer sentiment, on the other hand, touched a historic low with the current situation index falling to 63.7% in May from 85.6% in March, according to RBI's consumer confidence survey.</p>\n",
       "<p>\"Consumer perception on the general economic situation, employment scenario and household income plunged deeper into contraction zone, while expectation on general economic situation and employment scenario for the year ahead were also pessimistic,\" the central bank said in the survey.</p>\n",
       "<p>While overall consumer spending remained afloat, mostly due to relative inelasticity in essential spending, consumers reported sharp cuts in discretionary spending. They do not expect much improvement in the coming year, it said.</p>\n",
       "<p>The central bank conducted the survey through telephonic interviews across 5,300 households in the 18 major cities of Ahmedabad, Bengaluru, <location idsrc=\"xmltag.org\" value=\"LU/in..bhopal\">Bhopal</location>, <location idsrc=\"xmltag.org\" value=\"LU/in..chnnai\">Chennai</location>, <location idsrc=\"xmltag.org\" value=\"LU/in..delhi\">Delhi</location>, Guwahati, <location idsrc=\"xmltag.org\" value=\"LU/in..hyderb\">Hyderabad</location>, <location idsrc=\"xmltag.org\" value=\"LU/in..jaipur\">Jaipur</location>, <location idsrc=\"xmltag.org\" value=\"LU/in..calcta\">Kolkata</location>, <location idsrc=\"xmltag.org\" value=\"LU/in..lucknow\">Lucknow</location>, <location idsrc=\"xmltag.org\" value=\"LU/in..bombay\">Mumbai</location>, <location idsrc=\"xmltag.org\" value=\"LU/in..patna\">Patna</location> and Thiruvananthapuram.</p>\n",
       "<p>These households were asked about general perceptions and expectations on the general economic situation, employment scenario, overall price situation and own income and spending.</p>\n",
       "<p><location idsrc=\"xmltag.org\" value=\"LC/in\">India's</location> economic growth slumped to 3.1% in the March quarter, the slowest pace in 11 years, even as fresh data suggested the economy may be headed for a major shock in the June quarter. Published by HT Digital Content Services with permission from MINT. For any query with respect to this article or any other content requirement, please contact Editor at <a href=\"mailto:contentservices@htlive.com\">contentservices@htlive.com</a></p>\n",
       "</block>\n"
      ],
      "text/plain": [
       "<IPython.core.display.HTML object>"
      ]
     },
     "metadata": {},
     "output_type": "display_data"
    }
   ],
   "source": [
    "display(HTML(h))"
   ]
  },
  {
   "cell_type": "code",
   "execution_count": 115,
   "metadata": {},
   "outputs": [],
   "source": [
    "empty=0\n",
    "while(len(p.split())>empty):\n",
    "    p,s,h=finding_fragment(p,h,empty=empty)\n",
    "    if len(s)==0:\n",
    "        empty+=1"
   ]
  },
  {
   "cell_type": "code",
   "execution_count": 116,
   "metadata": {},
   "outputs": [
    {
     "data": {
      "text/html": [
       "\n",
       "<p>In <mark><b>the mythology that holds sway over</mark></b> <person><mark><b>President Trump's</mark></b></person> <mark><b>political imagination, the massive crises rocking the country</mark></b> &#8212; <mark><b>pandemic, depression, the worst civil unrest in 50 years</mark></b> &#8212; <mark><b>are all being alchemized by Trump's magical reality-bending powers into political gold.</mark></b></p>\n",
       "\n",
       "         <p><mark><b>Trump has hoped to use these events to solidify his grip on his base, by vowing to protect Trump country from a disease ravaging</mark></b> urban America, by harnessing the supposed populist rage of Real American workers against Democratic elites locking down economies, and by repurposing \"law and order\" race-baiting to transform <person>Joe Biden</person> into an ally of crime and urban mayhem.</p>\n",
       "\n",
       "         <p>We know from Trump's sliding approval and Biden's growing lead that these efforts are failing. For now, anyway.</p>\n",
       "\n",
       "         <p>But a new analysis by <person>Nate Cohn</person> of the Upshot, and some new Post polling, shed fresh light on why they might be failing &#8212; and on what it means that Trump's alchemical powers are deserting him.</p>\n",
       "\n",
       "         <p><strong>Trump is slipping among whites</strong></p>\n",
       "\n",
       "         <p>Cohn's analysis finds that Trump's slippage is driven largely by his eroding support among white voters, particularly those said to be his base. Cohn averaged together recent high-quality polls and found that Biden's overall lead over Trump has expanded to 10 points, up from six points earlier this spring.</p>\n",
       "\n",
       "         <p>Specifically, Cohn found that in this average of polls, Trump's edge over Biden among non-college-educated white voters has slipped by 10 points. He now leads among them by 21 points, versus 31 points earlier this spring, the latter being about the same lead Trump commanded among them in 2016.</p>\n",
       "\n",
       "         <p>As Cohn notes, the shift among this demographic \"would be enough to assure <person>Mr. Biden</person> the presidency, given his considerable strength among white college graduates.\"</p>\n",
       "\n",
       "         <p>Indeed, as Cohn also points out, white college grads now back Biden by 20 points, up four points from two months ago and up eight points from 2016, when Trump won in part by <i>not</i>\n",
       " losing educated whites by the margins many of us wrongly expected.</p>\n",
       "\n",
       "         <p>Biden also continues to hold an average lead of seven points among <i>seniors</i>\n",
       ", Cohn finds, which is striking amid all this unrest and amid Trump's bluster about responding with \"STRENGTH!\"</p>\n",
       "\n",
       "         <p>None of this was supposed to be happening.</p>\n",
       "\n",
       "         <p><strong>A cultural shift in white America?</strong></p>\n",
       "\n",
       "         <p>One possible reason for all this can be found in the new <org>Post/Schar School</org> poll: There is a very large shift underway in how <i>white</i>\n",
       " voters view the issues underlying the protests.</p>\n",
       "\n",
       "         <p>Only 35 percent of Americans overall approve of Trump's handling of the protests, the Post poll finds. Meanwhile, 74 percent support the protests and 69 percent say the killing of <person>George Floyd</person> shows broader problems in how police treat black Americans.</p>\n",
       "\n",
       "         <p>But note these findings among <i>whites</i>\n",
       ": Only 39 percent of them approve of Trump's approach, while 57 percent disapprove; 69 percent of them support the protests; and 68 percent of them say Floyd's death reveals systemic police mistreatment of blacks.</p>\n",
       "\n",
       "         <p>In these cases, there's not a big difference along educational lines: Strikingly, a bare majority of non-college whites <i>disapproves</i>\n",
       " of Trump's handling of the protests. And large majorities of <i>both</i>\n",
       " non-college <i>and</i>\n",
       " college-educated whites support the protests and say Floyd's killing shows broader problems in the police treatment of black Americans.</p>\n",
       "\n",
       "         <p>Also striking: The 69 percent of Americans who believe the killing represents broader systemic problems represent a 26-point shift since 2014, when only 43 percent said the same on a comparable question.</p>\n",
       "\n",
       "         <p>Again, the story here is <i>white</i>\n",
       " voters. As <org>The Post's</org> write-up notes, on this question &#8230;</p>\n",
       "\n",
       "         <p>The biggest changes are among whites overall (a 33-point shift) and white women (38 points).</p>\n",
       "\n",
       "         <p>That's a huge shift among whites toward agreement with the core grievances of the protesters. And this is mirrored by other polling, which has found similarly large percentages of whites agreeing with those grievances.</p>\n",
       "\n",
       "         <p>It's also mirrored on the ground. As <person>Ryan Cooper</person> points out, across the country we've seen black protesters joined by whites, including poor and rural ones.</p>\n",
       "\n",
       "         <p>Now, we don't want to be too Pollyannish here: It remains to be seen what white Americans will be willing to support in terms of specific reforms and (as Cooper also notes) in terms of addressing the deeper economic inequalities along racial lines fueling underlying anger.</p>\n",
       "\n",
       "         <p>Still, it looks plausible that a broad cultural shift may be underway throughout white America on these issues. Biden could directly benefit from this if he is perceived as striking a much saner balance. He has condemned violence while calling for broad reforms to address grievances that large swaths of white America now see as legitimate and demanding of action.</p>\n",
       "\n",
       "         <p>Obviously we cannot know what sort of direct relationship all this has with Trump's slippage among white voters. But we can at least reasonably speculate that Trump's demagoguery has failed to shore up his support with them and that their rejection of his basic arguments helps explain why.</p>\n",
       "\n",
       "         <p>This, of course, is not a possibility that Trump is capable of entertaining. He has absolute, unshakable confidence in the potency of his magical reality-bending powers:</p>\n",
       "\n",
       "         <p>As Trump's floating of this despicable conspiracy theory shows, it is highly unlikely he can be persuaded to even ask himself whether his magical demagoguery might be failing him. So this derangement will continue.</p>\n",
       "\n",
       "         <p>But, with some signs showing the protests are settling into a calmer, more quietly resolute longer-term posture as grievances appear to be getting heard throughout society, this nonsense will likely make Trump continue to look more unhinged and out of touch. Including among white voters.</p>\n",
       "\n",
       "         <p><em>Read more:</em></p>\n",
       "\n",
       "         <p><person>Greg Sargent</person>: <person>Joe Biden</person> wants to defang a Trump attack. But Trump is already undercutting it himself.</p>\n",
       "\n",
       "         <p><person>Greg Sargent</person>: Trump just revealed a huge weakness. It may prove fatal.</p>\n",
       "\n",
       "         <p><person>Paul Waldman</person>: The only thing that can save Trump is a different reality</p>\n",
       "\n",
       "         <p><person>Catherine Rampell</person>: Trump is running on the economy without a plan to rebuild it</p>\n",
       "\n",
       "         <p><person>Dana Milbank</person>: Trump's <org idsrc=\"xmltag.org\" value=\"ACORN:3974939109\">Republican Party</org> displays its systemic racism</p>\n"
      ],
      "text/plain": [
       "<IPython.core.display.HTML object>"
      ]
     },
     "metadata": {},
     "output_type": "display_data"
    }
   ],
   "source": [
    "display(HTML(h))"
   ]
  },
  {
   "cell_type": "code",
   "execution_count": 31,
   "metadata": {},
   "outputs": [
    {
     "data": {
      "text/plain": [
       "'As the sounds of flashbangs could be heard in the background in the White\\nHouse Rose Garden, President Donald Trump called on all 50 states to dispatch\\nthe National Guard in response to protesters across the US.\\n\\nTrump said if states refuse to do so, that he would do it for them.\\n\\n\"If a city or state refuses to take the actions necessary to defend the life\\nand property of the residents, I will deploy the united states military, and\\nquickly solve the problem for them,\" Trump said.\\n\\nAs Trump delivered his address, police and US troops charged and fired\\ndispersant on nonviolent protesters outside of the White House.'"
      ]
     },
     "execution_count": 31,
     "metadata": {},
     "output_type": "execute_result"
    }
   ],
   "source": [
    "p"
   ]
  },
  {
   "cell_type": "code",
   "execution_count": 21,
   "metadata": {},
   "outputs": [
    {
     "data": {
      "text/plain": [
       "244"
      ]
     },
     "execution_count": 21,
     "metadata": {},
     "output_type": "execute_result"
    }
   ],
   "source": [
    "HTM_2[25].index()"
   ]
  },
  {
   "cell_type": "code",
   "execution_count": 26,
   "metadata": {},
   "outputs": [
    {
     "data": {
      "text/plain": [
       "['As',\n",
       " 'the',\n",
       " 'sounds',\n",
       " 'of',\n",
       " 'flashbangs',\n",
       " 'could',\n",
       " 'be',\n",
       " 'heard',\n",
       " 'in',\n",
       " 'the',\n",
       " 'background',\n",
       " 'in',\n",
       " 'the',\n",
       " 'White',\n",
       " 'House',\n",
       " 'Rose',\n",
       " 'Garden,',\n",
       " 'President',\n",
       " 'Donald',\n",
       " 'Trump',\n",
       " 'called',\n",
       " 'on',\n",
       " 'all',\n",
       " '50',\n",
       " 'states',\n",
       " 'to',\n",
       " 'dispatch',\n",
       " 'the',\n",
       " 'National',\n",
       " 'Guard',\n",
       " 'in',\n",
       " 'response',\n",
       " 'to',\n",
       " 'protesters',\n",
       " 'across',\n",
       " 'the',\n",
       " 'US.',\n",
       " 'Trump',\n",
       " 'said',\n",
       " 'if',\n",
       " 'states',\n",
       " 'refuse',\n",
       " 'to',\n",
       " 'do',\n",
       " 'so,',\n",
       " 'that',\n",
       " 'he',\n",
       " 'would',\n",
       " 'do',\n",
       " 'it',\n",
       " 'for',\n",
       " 'them.',\n",
       " '\"If',\n",
       " 'a',\n",
       " 'city',\n",
       " 'or',\n",
       " 'state',\n",
       " 'refuses',\n",
       " 'to',\n",
       " 'take',\n",
       " 'the',\n",
       " 'actions',\n",
       " 'necessary',\n",
       " 'to',\n",
       " 'defend',\n",
       " 'the',\n",
       " 'life',\n",
       " 'and',\n",
       " 'property',\n",
       " 'of',\n",
       " 'the',\n",
       " 'residents,',\n",
       " 'I',\n",
       " 'will',\n",
       " 'deploy',\n",
       " 'the',\n",
       " 'united',\n",
       " 'states',\n",
       " 'military,',\n",
       " 'and',\n",
       " 'quickly',\n",
       " 'solve',\n",
       " 'the',\n",
       " 'problem',\n",
       " 'for',\n",
       " 'them,\"',\n",
       " 'Trump',\n",
       " 'said.',\n",
       " 'As',\n",
       " 'Trump',\n",
       " 'delivered',\n",
       " 'his',\n",
       " 'address,',\n",
       " 'police',\n",
       " 'and',\n",
       " 'US',\n",
       " 'troops',\n",
       " 'charged',\n",
       " 'and',\n",
       " 'fired',\n",
       " 'dispersant',\n",
       " 'on',\n",
       " 'nonviolent',\n",
       " 'protesters',\n",
       " 'outside',\n",
       " 'of',\n",
       " 'the',\n",
       " 'White',\n",
       " 'House.']"
      ]
     },
     "execution_count": 26,
     "metadata": {},
     "output_type": "execute_result"
    }
   ],
   "source": [
    "p.split()"
   ]
  },
  {
   "cell_type": "code",
   "execution_count": 144,
   "metadata": {},
   "outputs": [
    {
     "data": {
      "text/plain": [
       "\"AMX:Story Lead=In the mythology that holds sway over President Trump's political imagination, the massive crises rocking the country — pandemic, depression, the worst civil unrest in 50 years — are all being alchemized by Trump's magical reality-bending powers into political gold. Trump has hoped to use these events to solidify his grip on his base, by vowing to protect Trump country from a disease ravaging ...\""
      ]
     },
     "execution_count": 144,
     "metadata": {},
     "output_type": "execute_result"
    }
   ],
   "source": [
    "p"
   ]
  },
  {
   "cell_type": "code",
   "execution_count": 155,
   "metadata": {},
   "outputs": [
    {
     "data": {
      "text/plain": [
       "'\\n<p>In the <mark><b>mythology that holds sway over <person>President Trump\\'s</person> political imagination, the massive crises rocking the country &#8212; pandemic, depression, the worst civil unrest in 50 years &#8212; are all being alchemized by Trump\\'s magical reality-bending powers into political gold.</p>\\n\\n         <p>Trump has hoped to use these events to solidify his grip on his base, by vowing to protect Trump country from a disease ravaging </b></mark> urban America, by harnessing the supposed populist rage of Real American workers against Democratic elites locking down economies, and by repurposing \"law and order\" race-baiting to transform <person>Joe Biden</person> into an ally of crime and urban mayhem.</p>\\n\\n         <p>We know from Trump\\'s sliding approval and Biden\\'s growing lead that these efforts are failing. For now, anyway.</p>\\n\\n         <p>But a new analysis by <person>Nate Cohn</person> of the Upshot, and some new Post polling, shed fresh light on why they might be failing &#8212; and on what it means that Trump\\'s alchemical powers are deserting him.</p>\\n\\n         <p><strong>Trump is slipping among whites</strong></p>\\n\\n         <p>Cohn\\'s analysis finds that Trump\\'s slippage is driven largely by his eroding support among white voters, particularly those said to be his base. Cohn averaged together recent high-quality polls and found that Biden\\'s overall lead over Trump has expanded to 10 points, up from six points earlier this spring.</p>\\n\\n         <p>Specifically, Cohn found that in this average of polls, Trump\\'s edge over Biden among non-college-educated white voters has slipped by 10 points. He now leads among them by 21 points, versus 31 points earlier this spring, the latter being about the same lead Trump commanded among them in 2016.</p>\\n\\n         <p>As Cohn notes, the shift among this demographic \"would be enough to assure <person>Mr. Biden</person> the presidency, given his considerable strength among white college graduates.\"</p>\\n\\n         <p>Indeed, as Cohn also points out, white college grads now back Biden by 20 points, up four points from two months ago and up eight points from 2016, when Trump won in part by <i>not</i>\\n losing educated whites by the margins many of us wrongly expected.</p>\\n\\n         <p>Biden also continues to hold an average lead of seven points among <i>seniors</i>\\n, Cohn finds, which is striking amid all this unrest and amid Trump\\'s bluster about responding with \"STRENGTH!\"</p>\\n\\n         <p>None of this was supposed to be happening.</p>\\n\\n         <p><strong>A cultural shift in white America?</strong></p>\\n\\n         <p>One possible reason for all this can be found in the new <org>Post/Schar School</org> poll: There is a very large shift underway in how <i>white</i>\\n voters view the issues underlying the protests.</p>\\n\\n         <p>Only 35 percent of Americans overall approve of Trump\\'s handling of the protests, the Post poll finds. Meanwhile, 74 percent support the protests and 69 percent say the killing of <person>George Floyd</person> shows broader problems in how police treat black Americans.</p>\\n\\n         <p>But note these findings among <i>whites</i>\\n: Only 39 percent of them approve of Trump\\'s approach, while 57 percent disapprove; 69 percent of them support the protests; and 68 percent of them say Floyd\\'s death reveals systemic police mistreatment of blacks.</p>\\n\\n         <p>In these cases, there\\'s not a big difference along educational lines: Strikingly, a bare majority of non-college whites <i>disapproves</i>\\n of Trump\\'s handling of the protests. And large majorities of <i>both</i>\\n non-college <i>and</i>\\n college-educated whites support the protests and say Floyd\\'s killing shows broader problems in the police treatment of black Americans.</p>\\n\\n         <p>Also striking: The 69 percent of Americans who believe the killing represents broader systemic problems represent a 26-point shift since 2014, when only 43 percent said the same on a comparable question.</p>\\n\\n         <p>Again, the story here is <i>white</i>\\n voters. As <org>The Post\\'s</org> write-up notes, on this question &#8230;</p>\\n\\n         <p>The biggest changes are among whites overall (a 33-point shift) and white women (38 points).</p>\\n\\n         <p>That\\'s a huge shift among whites toward agreement with the core grievances of the protesters. And this is mirrored by other polling, which has found similarly large percentages of whites agreeing with those grievances.</p>\\n\\n         <p>It\\'s also mirrored on the ground. As <person>Ryan Cooper</person> points out, across the country we\\'ve seen black protesters joined by whites, including poor and rural ones.</p>\\n\\n         <p>Now, we don\\'t want to be too Pollyannish here: It remains to be seen what white Americans will be willing to support in terms of specific reforms and (as Cooper also notes) in terms of addressing the deeper economic inequalities along racial lines fueling underlying anger.</p>\\n\\n         <p>Still, it looks plausible that a broad cultural shift may be underway throughout white America on these issues. Biden could directly benefit from this if he is perceived as striking a much saner balance. He has condemned violence while calling for broad reforms to address grievances that large swaths of white America now see as legitimate and demanding of action.</p>\\n\\n         <p>Obviously we cannot know what sort of direct relationship all this has with Trump\\'s slippage among white voters. But we can at least reasonably speculate that Trump\\'s demagoguery has failed to shore up his support with them and that their rejection of his basic arguments helps explain why.</p>\\n\\n         <p>This, of course, is not a possibility that Trump is capable of entertaining. He has absolute, unshakable confidence in the potency of his magical reality-bending powers:</p>\\n\\n         <p>As Trump\\'s floating of this despicable conspiracy theory shows, it is highly unlikely he can be persuaded to even ask himself whether his magical demagoguery might be failing him. So this derangement will continue.</p>\\n\\n         <p>But, with some signs showing the protests are settling into a calmer, more quietly resolute longer-term posture as grievances appear to be getting heard throughout society, this nonsense will likely make Trump continue to look more unhinged and out of touch. Including among white voters.</p>\\n\\n         <p><em>Read more:</em></p>\\n\\n         <p><person>Greg Sargent</person>: <person>Joe Biden</person> wants to defang a Trump attack. But Trump is already undercutting it himself.</p>\\n\\n         <p><person>Greg Sargent</person>: Trump just revealed a huge weakness. It may prove fatal.</p>\\n\\n         <p><person>Paul Waldman</person>: The only thing that can save Trump is a different reality</p>\\n\\n         <p><person>Catherine Rampell</person>: Trump is running on the economy without a plan to rebuild it</p>\\n\\n         <p><person>Dana Milbank</person>: Trump\\'s <org idsrc=\"xmltag.org\" value=\"ACORN:3974939109\">Republican Party</org> displays its systemic racism</p>\\n'"
      ]
     },
     "execution_count": 155,
     "metadata": {},
     "output_type": "execute_result"
    }
   ],
   "source": [
    "h"
   ]
  },
  {
   "cell_type": "code",
   "execution_count": null,
   "metadata": {},
   "outputs": [],
   "source": []
  }
 ],
 "metadata": {
  "kernelspec": {
   "display_name": "discovery",
   "language": "python",
   "name": "discovery"
  },
  "language_info": {
   "codemirror_mode": {
    "name": "ipython",
    "version": 3
   },
   "file_extension": ".py",
   "mimetype": "text/x-python",
   "name": "python",
   "nbconvert_exporter": "python",
   "pygments_lexer": "ipython3",
   "version": "3.6.9"
  }
 },
 "nbformat": 4,
 "nbformat_minor": 2
}
