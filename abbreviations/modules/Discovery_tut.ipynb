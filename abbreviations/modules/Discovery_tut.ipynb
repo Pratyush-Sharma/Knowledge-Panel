{
 "cells": [
  {
   "cell_type": "code",
   "execution_count": 56,
   "metadata": {},
   "outputs": [
    {
     "name": "stdout",
     "output_type": "stream",
     "text": [
      "{\n",
      "  \"environments\": [\n",
      "    {\n",
      "      \"environment_id\": \"system\",\n",
      "      \"name\": \"Watson System Environment\",\n",
      "      \"description\": \"Shared system data sources\",\n",
      "      \"read_only\": true\n",
      "    },\n",
      "    {\n",
      "      \"environment_id\": \"f565a713-194c-4fc3-a605-fde42cfed874\",\n",
      "      \"name\": \"byod\",\n",
      "      \"description\": \"\",\n",
      "      \"created\": \"2020-05-20T16:24:56.512Z\",\n",
      "      \"updated\": \"2020-05-20T16:24:56.512Z\",\n",
      "      \"read_only\": false\n",
      "    }\n",
      "  ]\n",
      "}\n"
     ]
    }
   ],
   "source": [
    "import json\n",
    "from ibm_watson import DiscoveryV1\n",
    "from ibm_cloud_sdk_core.authenticators import IAMAuthenticator\n",
    "\n",
    "authenticator = IAMAuthenticator('h1IoNg4AIKbGtBs8n8QGf4dZ5tZwMpeVERQUrC1Q2-DF')\n",
    "discovery = DiscoveryV1(\n",
    "    version='2019-04-30',\n",
    "    authenticator=authenticator\n",
    ")\n",
    "\n",
    "discovery.set_service_url('https://api.jp-tok.discovery.watson.cloud.ibm.com/instances/2330122b-7269-496b-ba7e-029f641470a1')\n",
    "\n",
    "environments = discovery.list_environments().get_result()\n",
    "print(json.dumps(environments, indent=2))\n",
    "\n",
    "system_environments = [x for x in environments['environments'] if x['name'] == 'Watson System Environment']\n",
    "system_environment_id = system_environments[0]['environment_id']\n",
    "\n",
    "collections = discovery.list_collections(system_environment_id).get_result()\n",
    "system_collections = [x for x in collections['collections']]\n",
    "jres = (json.dumps(system_collections, indent=2))"
   ]
  },
  {
   "cell_type": "code",
   "execution_count": 73,
   "metadata": {},
   "outputs": [],
   "source": [
    "import modules.config as config"
   ]
  },
  {
   "cell_type": "code",
   "execution_count": 70,
   "metadata": {},
   "outputs": [],
   "source": [
    "import sys"
   ]
  },
  {
   "cell_type": "code",
   "execution_count": 71,
   "metadata": {},
   "outputs": [],
   "source": [
    "sys.path.append(\"../\")\n",
    "sys.path.append(\"../../\")\n",
    "sys.path.append(\"../modules/\")\n"
   ]
  },
  {
   "cell_type": "code",
   "execution_count": 72,
   "metadata": {},
   "outputs": [
    {
     "data": {
      "text/plain": [
       "'C:\\\\Users\\\\Jayesh\\\\Desktop/Accrete_tasks/discovery-master-modules'"
      ]
     },
     "execution_count": 72,
     "metadata": {},
     "output_type": "execute_result"
    }
   ],
   "source": [
    "config.BASE_PATH"
   ]
  },
  {
   "cell_type": "code",
   "execution_count": 24,
   "metadata": {},
   "outputs": [],
   "source": [
    "import json\n",
    "import sys\n",
    "sys.path.append(\"../\")\n",
    "sys.path.append(\"../../\")\n",
    "sys.path.append(\"../modules/\")\n",
    "import modules.common_helper as cm_help\n",
    "from ibm_watson import DiscoveryV1\n",
    "import modules.config as config\n",
    "\n",
    "import os\n",
    "import time\n",
    "from pprint import pprint\n",
    "from ibm_cloud_sdk_core.authenticators import IAMAuthenticator\n",
    "\n",
    "all_params = cm_help.get_params()"
   ]
  },
  {
   "cell_type": "code",
   "execution_count": 25,
   "metadata": {},
   "outputs": [
    {
     "data": {
      "text/plain": [
       "{'discovery': {'default': 'a1',\n",
       "  'r3': {'version': 'YOUR-VERSION', 'apikey': 'YOUR-API', 'url': 'YOUR-URL'},\n",
       "  'a1': {'version': '2019-04-30',\n",
       "   'apikey': 'h1IoNg4AIKbGtBs8n8QGf4dZ5tZwMpeVERQUrC1Q2-DF',\n",
       "   'url': 'https://api.jp-tok.discovery.watson.cloud.ibm.com/instances/2330122b-7269-496b-ba7e-029f641470a1'},\n",
       "  'version1': '2018-12-03',\n",
       "  'apikey1': 'LTk2AGh0Mjsu3G9bGGSkU92xeCBAYdfa4lN4fjaA-CR4',\n",
       "  'url1': 'https://gateway.watsonplatform.net/discovery/api'}}"
      ]
     },
     "execution_count": 25,
     "metadata": {},
     "output_type": "execute_result"
    }
   ],
   "source": [
    "all_params"
   ]
  },
  {
   "cell_type": "code",
   "execution_count": 67,
   "metadata": {},
   "outputs": [],
   "source": [
    "def discovery_init(COLLECTION_NAME=config.DISCOVERY_COLLECTION_NAME,default=all_params['discovery']['default']):\n",
    "    response = {}\n",
    "    \n",
    "    discovery_param = all_params['discovery']\n",
    "    # default = \n",
    "    authenticator = IAMAuthenticator(apikey=discovery_param[default]['apikey'])\n",
    "    endurl = \"https://gateway.watsonplatform.net/discovery/api\"\n",
    "    discovery = DiscoveryV1(\n",
    "        version=discovery_param[default]['version'],\n",
    "        authenticator = authenticator\n",
    "        # iam_apikey=discovery_param[default]['apikey'],\n",
    "        # url=discovery_param[default]['url']    \n",
    "    )\n",
    "    if default !=\"a12\":\n",
    "        discovery.set_service_url(discovery_param[default]['url'])\n",
    "\n",
    "    environments = discovery.list_environments().get_result()\n",
    "#     print(json.dumps(environments, indent=2))\n",
    "    print(\"Discovery instance loaded \"+default)\n",
    "    js = json.dumps(environments)\n",
    "    jres = json.loads(js)\n",
    "    print(jres['environments'][1]['environment_id'])\n",
    "    env_id = jres['environments'][1]['environment_id']\n",
    "    collections = discovery.list_collections(env_id).get_result()\n",
    "    cols = json.dumps(collections, indent=2)\n",
    "    colres = json.loads(cols)\n",
    "    print('\\n\\n\\n\\n\\n\\n')\n",
    "    print(colres['collections'])\n",
    "    print('\\n\\n\\n\\n\\n\\n')\n",
    "    for item in colres['collections']:\n",
    "        if item['name']== COLLECTION_NAME:\n",
    "            print('COLLECTION ID:', item['collection_id'], 'COLLECTION NAME:', item['name'])\n",
    "            col_id = item['collection_id']\n",
    "    response['env_id'] = env_id\n",
    "#     response['col_id'] = col_id\n",
    "    response['discovery'] = discovery\n",
    "    return response"
   ]
  },
  {
   "cell_type": "code",
   "execution_count": 110,
   "metadata": {},
   "outputs": [
    {
     "name": "stdout",
     "output_type": "stream",
     "text": [
      "Discovery instance loaded a1\n",
      "f565a713-194c-4fc3-a605-fde42cfed874\n",
      "\n",
      "\n",
      "\n",
      "\n",
      "\n",
      "\n",
      "\n",
      "[{'collection_id': '0ee15f74-a6b0-4b9f-8de3-57f1e7490ec7', 'name': 'Test', 'configuration_id': '8def44fe-0edd-49f6-a2d6-b0eb385653af', 'language': 'en', 'status': 'active', 'description': None, 'created': '2020-05-20T16:26:30.358Z', 'updated': '2020-05-20T16:26:30.358Z'}]\n",
      "\n",
      "\n",
      "\n",
      "\n",
      "\n",
      "\n",
      "\n"
     ]
    },
    {
     "data": {
      "text/plain": [
       "{'env_id': 'f565a713-194c-4fc3-a605-fde42cfed874',\n",
       " 'discovery': <ibm_watson.discovery_v1.DiscoveryV1 at 0x2369d5a64a8>}"
      ]
     },
     "execution_count": 110,
     "metadata": {},
     "output_type": "execute_result"
    }
   ],
   "source": [
    "discovery_init()"
   ]
  },
  {
   "cell_type": "code",
   "execution_count": 111,
   "metadata": {},
   "outputs": [
    {
     "data": {
      "text/plain": [
       "'Earning Calls - Snippet1'"
      ]
     },
     "execution_count": 111,
     "metadata": {},
     "output_type": "execute_result"
    }
   ],
   "source": [
    "config.DISCOVERY_COLLECTION_NAME"
   ]
  },
  {
   "cell_type": "code",
   "execution_count": 107,
   "metadata": {},
   "outputs": [],
   "source": [
    "def processDirectory(DIRECTORY_NAME,otherparams):\n",
    "    for i in range(20):\n",
    "        pprint(\"attempt no \"+str(i))\n",
    "\n",
    "        for root, dirs, filenames in os.walk(DIRECTORY_NAME):\n",
    "            print('\\nProcessing dir ' + root + ' with ' + str(len(filenames)) + ' files\\n')\n",
    "            if len(filenames) >0:\n",
    "                # pprint(str(len(filenames)))\n",
    "                request_params = otherparams\n",
    "                request_params['filenames'] = filenames\n",
    "                request_params['root'] = root\n",
    "                uploadFiles(request_params)\n",
    "            time.sleep(150)\n"
   ]
  },
  {
   "cell_type": "code",
   "execution_count": 1,
   "metadata": {},
   "outputs": [],
   "source": [
    "otherparams={}"
   ]
  },
  {
   "cell_type": "code",
   "execution_count": 109,
   "metadata": {},
   "outputs": [
    {
     "name": "stdout",
     "output_type": "stream",
     "text": [
      "'attempt no 0'\n",
      "\n",
      "Processing dir corpus with 85 files\n",
      "\n",
      "1- China_s Innovation System.pdf did not upload, exception'discovery'\n",
      "10- Arming China.pdf did not upload, exception'discovery'\n",
      "100- Mandiant APT1.pdf did not upload, exception'discovery'\n",
      "101- The Evolving Israel-China Relationship.pdf did not upload, exception'discovery'\n",
      "102- Technology Foresight in China.pdf did not upload, exception'discovery'\n",
      "103- China-India-Japan-Indo-Pacific.pdf did not upload, exception'discovery'\n",
      "104- China_s Manufacturing Locus in 2025.pdf did not upload, exception'discovery'\n",
      "105- China s Innovation Trajectories.pdf did not upload, exception'discovery'\n",
      "106- Competing with China.pdf did not upload, exception'discovery'\n",
      "107- Globalisation and Chinese Grand Strategy.pdf did not upload, exception'discovery'\n",
      "13- Swords to Ploughshares- Full.pdf did not upload, exception'discovery'\n",
      "14. Evolution of China.pdf did not upload, exception'discovery'\n",
      "15- Evolution of System Characteristics.pdf did not upload, exception'discovery'\n",
      "16- New Direction for China Defense.pdf did not upload, exception'discovery'\n",
      "17- The Chinese Defense Economy.pdf did not upload, exception'discovery'\n",
      "18- Fat Tech Dragon.pdf did not upload, exception'discovery'\n",
      "19- Evolving Role of the State.pdf did not upload, exception'discovery'\n",
      "2- Planning for Innovation - Understanding China_s Development- pg 15-67.pdf did not upload, exception'discovery'\n",
      "20- Arms Procurement Decisions.pdf did not upload, exception'discovery'\n",
      "21- Long Slow Death.pdf did not upload, exception'discovery'\n",
      "22- japan-s-high-technology-trade-with-china-and-its-export-control.pdf did not upload, exception'discovery'\n",
      "23- Strategic_Asia.pdf did not upload, exception'discovery'\n",
      "24- The Innovation System.pdf did not upload, exception'discovery'\n",
      "25- Comparison of National Innovation.pdf did not upload, exception'discovery'\n",
      "26- Innovation Policies.pdf did not upload, exception'discovery'\n",
      "27- Comparing Defense Industry.pdf did not upload, exception'discovery'\n",
      "28- Moscow Defense Brief.pdf did not upload, exception'discovery'\n",
      "29- Russia and China in the 21st Century.pdf did not upload, exception'discovery'\n",
      "3- Innovation in China.pdf did not upload, exception'discovery'\n",
      "32- Russia-China Military-Technical.pdf did not upload, exception'discovery'\n",
      "33- Russia Debate on Military.pdf did not upload, exception'discovery'\n",
      "36- Israel-China Relationship and the Phalcon Controversy.pdf did not upload, exception'discovery'\n",
      "37- Between Beijing and Washington.pdf did not upload, exception'discovery'\n",
      "38- US Israel and Problematic Triangle.pdf did not upload, exception'discovery'\n",
      "39- Why Tech Transfer is Key to Stronger China-Israel Ties.pdf did not upload, exception'discovery'\n",
      "4- Reforming China_s Defense Industry.pdf did not upload, exception'discovery'\n",
      "40- The Economic Dimensions.pdf did not upload, exception'discovery'\n",
      "41- Israel-China Ties at 25.pdf did not upload, exception'discovery'\n",
      "43- At What Cost Israel-China Ties_ Middle East Quarterly.pdf did not upload, exception'discovery'\n",
      "44- Israel_china_arms_trade_unfreezing.pdf did not upload, exception'discovery'\n",
      "46- Washington Obstructing Israel.pdf did not upload, exception'discovery'\n",
      "47- China Expands Strategic Presence in Israel.pdf did not upload, exception'discovery'\n",
      "48- Israel China and the US Patriot Controversy.pdf did not upload, exception'discovery'\n",
      "49- US Dual Use Export.pdf did not upload, exception'discovery'\n",
      "5- Report_38_Defence-industries-in-Russia-and-China- Full.pdf did not upload, exception'discovery'\n",
      "53- Military Technology Adaption- OSD FOIA Reading Room.pdf did not upload, exception'discovery'\n",
      "55- Assessing the Undersea Balance.pdf did not upload, exception'discovery'\n",
      "57- What Does China Want.pdf did not upload, exception'discovery'\n",
      "58- The Sixteen Fears.pdf did not upload, exception'discovery'\n",
      "59- Lt General Qi Jianguo Article.pdf did not upload, exception'discovery'\n",
      "6- Pointe+Bello_Military+Civil+Fusion+Report- Full.pdf did not upload, exception'discovery'\n",
      "60- How a Big U.S. Chip Maker Gave China the Keys to the Kingdom.pdf did not upload, exception'discovery'\n",
      "62- Finite State Supply Chain Assessment.pdf did not upload, exception'discovery'\n",
      "63- Evolving Made in China 2025.pdf did not upload, exception'discovery'\n",
      "64- Strategic Latency Report.pdf did not upload, exception'discovery'\n",
      "65- Chairman Xi Remakes the PLA.pdf did not upload, exception'discovery'\n",
      "66- Strategic Latency Managing Disruptive Technologies.pdf did not upload, exception'discovery'\n",
      "69- Beijing Jeep Case Study.pdf did not upload, exception'discovery'\n",
      "69- Between State and Market.pdf did not upload, exception'discovery'\n",
      "7- Forging Chinas Military Might- Full.pdf did not upload, exception'discovery'\n",
      "70- China in Global Technology Governance- full.pdf did not upload, exception'discovery'\n",
      "71- China_s Technonationalism.pdf did not upload, exception'discovery'\n",
      "73- China Forced Technology Transfer.pdf did not upload, exception'discovery'\n",
      "74- The Innovative Imperative.pdf did not upload, exception'discovery'\n",
      "77-  Leaders Laggards and Followers- intro section.pdf did not upload, exception'discovery'\n",
      "77-  Leaders Laggards and Followers- section 1.pdf did not upload, exception'discovery'\n",
      "77-  Leaders Laggards and Followers- section 2.pdf did not upload, exception'discovery'\n",
      "8- SYM-AM-17-087-020_Cheung- Full.pdf did not upload, exception'discovery'\n",
      "81- Picking Flowers Making Honey.pdf did not upload, exception'discovery'\n",
      "82- Pursuit of Dual Use Technologies.pdf did not upload, exception'discovery'\n",
      "83- The Rise of China as a Cubersecurity Industrial Power.pdf did not upload, exception'discovery'\n",
      "84- Made in China 2025.pdf did not upload, exception'discovery'\n",
      "85- Rethinking-US-Economic-Strategy-Towards-China.pdf did not upload, exception'discovery'\n",
      "88- the End of a Military Industrial Triangle.pdf did not upload, exception'discovery'\n",
      "89- Israel-China Relations Enter a New Stage.pdf did not upload, exception'discovery'\n",
      "9- Actors Coalitions- pgs 433-475.pdf did not upload, exception'discovery'\n",
      "90- What_s Behind Israel_s Growing Ties with China.pdf did not upload, exception'discovery'\n",
      "91- Israel and China Take a Leap Forward.pdf did not upload, exception'discovery'\n",
      "92- Israel_s Military Transfers to China.pdf did not upload, exception'discovery'\n",
      "93- Pivot Hedger or Partner.pdf did not upload, exception'discovery'\n",
      "94- Singapore_s Survival.pdf did not upload, exception'discovery'\n",
      "96- Varieties of State Capitalism Across the Taiwan Strait.pdf did not upload, exception'discovery'\n",
      "97- US Dual Track Policy.pdf did not upload, exception'discovery'\n",
      "98- The Taiwan Question.pdf did not upload, exception'discovery'\n",
      "99- The Elephant observing the Dragon.pdf did not upload, exception'discovery'\n"
     ]
    },
    {
     "ename": "FileNotFoundError",
     "evalue": "[Errno 2] No such file or directory: 'logs/discoveryuploadfailed.json'",
     "output_type": "error",
     "traceback": [
      "\u001b[1;31m---------------------------------------------------------------------------\u001b[0m",
      "\u001b[1;31mFileNotFoundError\u001b[0m                         Traceback (most recent call last)",
      "\u001b[1;32m<ipython-input-109-fa19509700ac>\u001b[0m in \u001b[0;36m<module>\u001b[1;34m\u001b[0m\n\u001b[1;32m----> 1\u001b[1;33m \u001b[0mprocessDirectory\u001b[0m\u001b[1;33m(\u001b[0m\u001b[1;34m'corpus'\u001b[0m\u001b[1;33m,\u001b[0m\u001b[0motherparams\u001b[0m\u001b[1;33m)\u001b[0m\u001b[1;33m\u001b[0m\u001b[1;33m\u001b[0m\u001b[0m\n\u001b[0m",
      "\u001b[1;32m<ipython-input-107-c79c76b51311>\u001b[0m in \u001b[0;36mprocessDirectory\u001b[1;34m(DIRECTORY_NAME, otherparams)\u001b[0m\n\u001b[0;32m     10\u001b[0m                 \u001b[0mrequest_params\u001b[0m\u001b[1;33m[\u001b[0m\u001b[1;34m'filenames'\u001b[0m\u001b[1;33m]\u001b[0m \u001b[1;33m=\u001b[0m \u001b[0mfilenames\u001b[0m\u001b[1;33m\u001b[0m\u001b[1;33m\u001b[0m\u001b[0m\n\u001b[0;32m     11\u001b[0m                 \u001b[0mrequest_params\u001b[0m\u001b[1;33m[\u001b[0m\u001b[1;34m'root'\u001b[0m\u001b[1;33m]\u001b[0m \u001b[1;33m=\u001b[0m \u001b[0mroot\u001b[0m\u001b[1;33m\u001b[0m\u001b[1;33m\u001b[0m\u001b[0m\n\u001b[1;32m---> 12\u001b[1;33m                 \u001b[0muploadFiles\u001b[0m\u001b[1;33m(\u001b[0m\u001b[0mrequest_params\u001b[0m\u001b[1;33m)\u001b[0m\u001b[1;33m\u001b[0m\u001b[1;33m\u001b[0m\u001b[0m\n\u001b[0m\u001b[0;32m     13\u001b[0m             \u001b[0mtime\u001b[0m\u001b[1;33m.\u001b[0m\u001b[0msleep\u001b[0m\u001b[1;33m(\u001b[0m\u001b[1;36m150\u001b[0m\u001b[1;33m)\u001b[0m\u001b[1;33m\u001b[0m\u001b[1;33m\u001b[0m\u001b[0m\n",
      "\u001b[1;32m<ipython-input-105-5b4b14f3833f>\u001b[0m in \u001b[0;36muploadFiles\u001b[1;34m(params)\u001b[0m\n\u001b[0;32m     43\u001b[0m             \u001b[0mos\u001b[0m\u001b[1;33m.\u001b[0m\u001b[0mremove\u001b[0m\u001b[1;33m(\u001b[0m\u001b[0mf_path\u001b[0m\u001b[1;33m)\u001b[0m\u001b[1;33m\u001b[0m\u001b[1;33m\u001b[0m\u001b[0m\n\u001b[0;32m     44\u001b[0m     \u001b[1;32mif\u001b[0m \u001b[0mlen\u001b[0m\u001b[1;33m(\u001b[0m\u001b[0mfailed_docs\u001b[0m\u001b[1;33m)\u001b[0m\u001b[1;33m>\u001b[0m\u001b[1;36m0\u001b[0m\u001b[1;33m:\u001b[0m\u001b[1;33m\u001b[0m\u001b[1;33m\u001b[0m\u001b[0m\n\u001b[1;32m---> 45\u001b[1;33m         \u001b[0mcm_help\u001b[0m\u001b[1;33m.\u001b[0m\u001b[0msaveMDLogs\u001b[0m\u001b[1;33m(\u001b[0m\u001b[0mfailed_docs\u001b[0m\u001b[1;33m,\u001b[0m\u001b[1;34m\"discoveryuploadfailed.json\"\u001b[0m\u001b[1;33m)\u001b[0m\u001b[1;33m\u001b[0m\u001b[1;33m\u001b[0m\u001b[0m\n\u001b[0m\u001b[0;32m     46\u001b[0m     \u001b[1;32mreturn\u001b[0m \u001b[1;32mTrue\u001b[0m\u001b[1;33m\u001b[0m\u001b[1;33m\u001b[0m\u001b[0m\n",
      "\u001b[1;32m~\\Desktop\\Accrete_tasks\\discovery-master-modules\\modules\\common_helper.py\u001b[0m in \u001b[0;36msaveMDLogs\u001b[1;34m(tempData, path, OtherParams)\u001b[0m\n\u001b[0;32m     34\u001b[0m     \u001b[0mfilename\u001b[0m \u001b[1;33m=\u001b[0m \u001b[1;34m\"logs/\"\u001b[0m\u001b[1;33m+\u001b[0m\u001b[0mpath\u001b[0m\u001b[1;33m\u001b[0m\u001b[1;33m\u001b[0m\u001b[0m\n\u001b[0;32m     35\u001b[0m     \u001b[1;32mif\u001b[0m \u001b[1;32mnot\u001b[0m \u001b[0mos\u001b[0m\u001b[1;33m.\u001b[0m\u001b[0mpath\u001b[0m\u001b[1;33m.\u001b[0m\u001b[0mexists\u001b[0m\u001b[1;33m(\u001b[0m\u001b[0mfilename\u001b[0m\u001b[1;33m)\u001b[0m\u001b[1;33m:\u001b[0m\u001b[1;33m\u001b[0m\u001b[1;33m\u001b[0m\u001b[0m\n\u001b[1;32m---> 36\u001b[1;33m         \u001b[0mopen\u001b[0m\u001b[1;33m(\u001b[0m\u001b[0mfilename\u001b[0m\u001b[1;33m,\u001b[0m \u001b[1;34m'w+'\u001b[0m\u001b[1;33m)\u001b[0m\u001b[1;33m.\u001b[0m\u001b[0mclose\u001b[0m\u001b[1;33m(\u001b[0m\u001b[1;33m)\u001b[0m\u001b[1;33m\u001b[0m\u001b[1;33m\u001b[0m\u001b[0m\n\u001b[0m\u001b[0;32m     37\u001b[0m     \u001b[1;32mwith\u001b[0m \u001b[0mopen\u001b[0m\u001b[1;33m(\u001b[0m\u001b[0mfilename\u001b[0m\u001b[1;33m,\u001b[0m \u001b[1;34m'a'\u001b[0m\u001b[1;33m)\u001b[0m \u001b[1;32mas\u001b[0m \u001b[0mfileOut\u001b[0m\u001b[1;33m:\u001b[0m\u001b[1;33m\u001b[0m\u001b[1;33m\u001b[0m\u001b[0m\n\u001b[0;32m     38\u001b[0m         \u001b[0mjson\u001b[0m\u001b[1;33m.\u001b[0m\u001b[0mdump\u001b[0m\u001b[1;33m(\u001b[0m\u001b[0mtempData\u001b[0m\u001b[1;33m,\u001b[0m \u001b[0mfileOut\u001b[0m\u001b[1;33m,\u001b[0m \u001b[0mindent\u001b[0m\u001b[1;33m=\u001b[0m\u001b[1;36m3\u001b[0m\u001b[1;33m)\u001b[0m\u001b[1;33m\u001b[0m\u001b[1;33m\u001b[0m\u001b[0m\n",
      "\u001b[1;31mFileNotFoundError\u001b[0m: [Errno 2] No such file or directory: 'logs/discoveryuploadfailed.json'"
     ]
    }
   ],
   "source": [
    "processDirectory('corpus',otherparams)"
   ]
  },
  {
   "cell_type": "code",
   "execution_count": 105,
   "metadata": {},
   "outputs": [],
   "source": [
    "def uploadFiles(params):\n",
    "    failed_docs = {}\n",
    "    id_name_map = {}\n",
    "\n",
    "    for f in params['filenames']:\n",
    "        if f.endswith('.txt') or f.endswith('.xlsx') or f.endswith('.partial') or f.endswith('.xls'):\n",
    "           continue\n",
    "        f_path = params['root'] + os.sep + f\n",
    "        file_processed_or_failed = False\n",
    "        f_mode = 'r'\n",
    "        if f_path.endswith('.doc') or f_path.endswith('.docx'):\n",
    "            file_type = 'application/msword'\n",
    "        elif f_path.endswith('.pdf'):\n",
    "            file_type = 'application/pdf'\n",
    "            f_mode = 'rb'\n",
    "        else:\n",
    "            file_type = 'application/json'\n",
    "        while not file_processed_or_failed:\n",
    "            re = None\n",
    "            try:\n",
    "                with open(f_path, f_mode) as file_data:\n",
    "                    re = params['discovery'].add_document(params['env_id'], params['col_id'], file=file_data, file_content_type=file_type).get_result()\n",
    "                    if f_path.endswith('.json'):\n",
    "                        print('RESPONSE:', json.dumps(re,indent=2))\n",
    "                    if re is not None:\n",
    "                        file_processed_or_failed = True\n",
    "                        doc_id = re['document_id']\n",
    "                        id_name_map[doc_id] = [f_path]\n",
    "                    else:\n",
    "                        file_processed_or_failed = True\n",
    "                        print(f + \" did not upload\")\n",
    "                        failed_docs[f_path] = \"got a 'None' type response from WDS api\"\n",
    "            except Exception as e:\n",
    "                if \"The service is busy processing\" in str(e):\n",
    "                    sleep(5)\n",
    "                    print('.'),\n",
    "                    continue\n",
    "\n",
    "                file_processed_or_failed = True\n",
    "                print(f + \" did not upload, exception\" + str(e))\n",
    "                failed_docs[f_path] = \"'add_document' WDS api request threw exception: \" + str(e)\n",
    "        if f_path not in failed_docs.keys():\n",
    "            os.remove(f_path)\n",
    "    if len(failed_docs)>0:\n",
    "        cm_help.saveMDLogs(failed_docs,\"discoveryuploadfailed.json\")\n",
    "    return True"
   ]
  },
  {
   "cell_type": "code",
   "execution_count": 116,
   "metadata": {},
   "outputs": [],
   "source": [
    "import os"
   ]
  },
  {
   "cell_type": "code",
   "execution_count": 117,
   "metadata": {},
   "outputs": [
    {
     "data": {
      "text/plain": [
       "'C:\\\\Users\\\\Jayesh\\\\Desktop\\\\Accrete_tasks\\\\discovery-master-modules\\\\modules'"
      ]
     },
     "execution_count": 117,
     "metadata": {},
     "output_type": "execute_result"
    }
   ],
   "source": [
    "pwd"
   ]
  },
  {
   "cell_type": "code",
   "execution_count": 118,
   "metadata": {},
   "outputs": [
    {
     "ename": "AttributeError",
     "evalue": "module 'sys' has no attribute 'home'",
     "output_type": "error",
     "traceback": [
      "\u001b[1;31m---------------------------------------------------------------------------\u001b[0m",
      "\u001b[1;31mAttributeError\u001b[0m                            Traceback (most recent call last)",
      "\u001b[1;32m<ipython-input-118-02045a52f4e8>\u001b[0m in \u001b[0;36m<module>\u001b[1;34m\u001b[0m\n\u001b[0;32m      1\u001b[0m \u001b[1;32mimport\u001b[0m \u001b[0msys\u001b[0m\u001b[1;33m\u001b[0m\u001b[1;33m\u001b[0m\u001b[0m\n\u001b[1;32m----> 2\u001b[1;33m \u001b[0msys\u001b[0m\u001b[1;33m.\u001b[0m\u001b[0mhome\u001b[0m\u001b[1;33m(\u001b[0m\u001b[1;33m)\u001b[0m\u001b[1;33m\u001b[0m\u001b[1;33m\u001b[0m\u001b[0m\n\u001b[0m",
      "\u001b[1;31mAttributeError\u001b[0m: module 'sys' has no attribute 'home'"
     ]
    }
   ],
   "source": [
    "import sys\n",
    "sys.home()"
   ]
  },
  {
   "cell_type": "code",
   "execution_count": 119,
   "metadata": {},
   "outputs": [],
   "source": [
    "from pathlib import Path\n",
    "home = str(Path.home())"
   ]
  },
  {
   "cell_type": "code",
   "execution_count": 120,
   "metadata": {},
   "outputs": [
    {
     "data": {
      "text/plain": [
       "'C:\\\\Users\\\\Jayesh'"
      ]
     },
     "execution_count": 120,
     "metadata": {},
     "output_type": "execute_result"
    }
   ],
   "source": [
    "home"
   ]
  },
  {
   "cell_type": "code",
   "execution_count": null,
   "metadata": {},
   "outputs": [],
   "source": []
  }
 ],
 "metadata": {
  "kernelspec": {
   "display_name": "Python 3",
   "language": "python",
   "name": "python3"
  },
  "language_info": {
   "codemirror_mode": {
    "name": "ipython",
    "version": 3
   },
   "file_extension": ".py",
   "mimetype": "text/x-python",
   "name": "python",
   "nbconvert_exporter": "python",
   "pygments_lexer": "ipython3",
   "version": "3.7.3"
  }
 },
 "nbformat": 4,
 "nbformat_minor": 2
}
